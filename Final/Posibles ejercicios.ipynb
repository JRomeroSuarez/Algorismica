{
 "cells": [
  {
   "cell_type": "code",
   "execution_count": 10,
   "metadata": {
    "collapsed": true
   },
   "outputs": [],
   "source": [
    "def mcd(a,b):\n",
    "    while a:\n",
    "        a,b = b%a,a\n",
    "    return b\n"
   ]
  },
  {
   "cell_type": "code",
   "execution_count": 16,
   "metadata": {
    "collapsed": true
   },
   "outputs": [],
   "source": [
    "def mcm(a,b):\n",
    "    num1 = max(a,b)\n",
    "    num2 = min(a,b)\n",
    "    mcm = (num1 // mcd(num1,num2)) * num2\n",
    "    return mcm"
   ]
  },
  {
   "cell_type": "code",
   "execution_count": 17,
   "metadata": {},
   "outputs": [
    {
     "name": "stdout",
     "output_type": "stream",
     "text": [
      "2\n",
      "-------\n"
     ]
    },
    {
     "data": {
      "text/plain": [
       "20"
      ]
     },
     "execution_count": 17,
     "metadata": {},
     "output_type": "execute_result"
    }
   ],
   "source": [
    "print(mcd(2,4))\n",
    "print(\"-------\")\n",
    "mcm(4,5)"
   ]
  },
  {
   "cell_type": "markdown",
   "metadata": {},
   "source": [
    "## NUMERO PERFECTE\n"
   ]
  },
  {
   "cell_type": "markdown",
   "metadata": {},
   "source": [
    "Comprovar que un número és __perfecte__:<br>\n",
    "Diem que un número és perfecte si és la suma dels seus divisors __positius__ i __menors a ell mateix___.<br><br>\n",
    "Exemples:<br><br>\n",
    "<center>$6 = 1 + 2 + 3\\ \\ \\ \\  \\Rightarrow\\ \\ \\ \\ $és perfecte </center>\n",
    "<center>$28 = 1 + 2 + 4 + 7 + 14\\ \\ \\ \\  \\Rightarrow\\ \\ \\ \\ $és perfecte </center>\n",
    "<center>$8 \\neq 1 + 2 + 4 = 7\\ \\ \\ \\  \\Rightarrow\\ \\ \\ \\ $__NO__ és perfecte </center>"
   ]
  },
  {
   "cell_type": "code",
   "execution_count": 1,
   "metadata": {},
   "outputs": [
    {
     "data": {
      "text/plain": [
       "True"
      ]
     },
     "execution_count": 1,
     "metadata": {},
     "output_type": "execute_result"
    }
   ],
   "source": [
    "def perfecte(num):\n",
    "    suma = 0\n",
    "    for i in range(1, num //2 + 1):\n",
    "        if num % i == 0:\n",
    "            suma +=i\n",
    "    return suma == num\n",
    "perfecte(28)"
   ]
  },
  {
   "cell_type": "markdown",
   "metadata": {},
   "source": [
    "## NUMERO AMBICIOS"
   ]
  },
  {
   "cell_type": "markdown",
   "metadata": {},
   "source": [
    "Un nombre és ambiciós si la suma dels seus divisors (recursivament) és un nombre perfecte<br><br>\n",
    "Exemple:\n",
    "<center>95 és un nombre ambiciós ja que els seus divisors són: 1, 5, 19 que sumen 25</center>\n",
    "<center>Ara, els divisors de 25 són 1 i 5 que sumen 6 que és un nombre perfecte</center>"
   ]
  },
  {
   "cell_type": "code",
   "execution_count": 66,
   "metadata": {},
   "outputs": [
    {
     "name": "stdout",
     "output_type": "stream",
     "text": [
      "True\n"
     ]
    }
   ],
   "source": [
    "def ambicios(num):\n",
    "    while not perfecte(num):\n",
    "        suma = 0 \n",
    "        for i in range(1,num//2 +1):\n",
    "            if num % i == 0:\n",
    "                suma +=i\n",
    "        num = suma\n",
    "    print(perfecte(num) and num!=0)\n",
    "ambicios(25)"
   ]
  },
  {
   "cell_type": "markdown",
   "metadata": {},
   "source": [
    "## NUMEROS AMICS"
   ]
  },
  {
   "cell_type": "markdown",
   "metadata": {},
   "source": [
    "Ara volem trobar parelles de nombres __amics__:<br>\n",
    "Dos nombres són amics si els divisors d'un sumen l'altre nombre i viceversa<br><br>\n",
    "Exemple:\n",
    "<center>Els divisors de 220 són 1, 2, 4, 5, 10, 11, 20, 22, 44, 55 i 110, que sumen 284</center><br>\n",
    "<center>Els divisors de 284 són 1, 2, 4, 71 i 142, que sumen 220</center><br>\n",
    "<center>Per tant __220__ i __284__ són amics</center>"
   ]
  },
  {
   "cell_type": "code",
   "execution_count": 2,
   "metadata": {},
   "outputs": [
    {
     "name": "stdout",
     "output_type": "stream",
     "text": [
      "True\n",
      "False\n",
      "True\n"
     ]
    }
   ],
   "source": [
    "def amics(num1,num2):\n",
    "    suma1 = 0\n",
    "    for i in range(1,num1 // 2 + 1):\n",
    "        if num1 % i == 0:\n",
    "            suma1 += i\n",
    "    \n",
    "    suma2 = 0\n",
    "    for j in range(1, num2//2 + 1):\n",
    "        if num2 % j == 0:\n",
    "            suma2 += j\n",
    "    print (suma1 == num2 and suma2 == num1)\n",
    "\n",
    "amics(220,284)          # True\n",
    "amics(200,230)          # False\n",
    "amics(9363584, 9437056)"
   ]
  },
  {
   "cell_type": "markdown",
   "metadata": {},
   "source": [
    "## NUMERO FELIÇ"
   ]
  },
  {
   "cell_type": "markdown",
   "metadata": {},
   "source": [
    "Un número, _x_, es diu __feliç__ si la suma dels quadrats dels seus dígits (fins que només quedi una xifra), és 1<br>\n",
    "Exemple: <br>\n",
    "<center>203: $2^2+0^2+3^2 = 13$</center> <center>13: $1^2 +3^2 = 10$</center> <center>10: $1^2 +0^2 = 1$ </center>\n",
    "<br>Així doncs 203 és un nombre feliç. (En particular, també ho són el 13 i el 10)<br><br>\n",
    "Seguint el mateix esquema que l'exercici anterior:"
   ]
  },
  {
   "cell_type": "code",
   "execution_count": 1,
   "metadata": {},
   "outputs": [
    {
     "name": "stdout",
     "output_type": "stream",
     "text": [
      "True\n",
      "False\n",
      "True\n"
     ]
    }
   ],
   "source": [
    "def feliç(num):\n",
    "    ini = num\n",
    "    while len(str(num))!=1:\n",
    "        suma = 0\n",
    "        for elm in str(num):              \n",
    "            suma+=int(elm)**2            \n",
    "        num = suma\n",
    "    return num==1\n",
    "    \n",
    "print(feliç(921))\n",
    "print(feliç(717))\n",
    "print(feliç(2039))"
   ]
  },
  {
   "cell_type": "markdown",
   "metadata": {},
   "source": [
    "## SUMATORI DE PARELLES \n"
   ]
  },
  {
   "cell_type": "code",
   "execution_count": 2,
   "metadata": {},
   "outputs": [
    {
     "name": "stdout",
     "output_type": "stream",
     "text": [
      "parelles trobada als indexs 0 , 4 ( 3 + 7 )\n",
      "parelles trobada als indexs 3 , 5 ( 2 + 8 )\n"
     ]
    }
   ],
   "source": [
    "def parellesSuma(llista,valorSuma):\n",
    "    for i in range(0, len(llista)-1):\n",
    "        for j in range(i+1, len(llista)):\n",
    "            if llista[i]+llista[j] == valorSuma:\n",
    "                print(\"parelles trobada als indexs\", i , \",\", j, \"(\",llista[i], \"+\",llista[j],\")\")\n",
    "parellesSuma([3, 1, 5, 2, 7, 8], 10)"
   ]
  },
  {
   "cell_type": "code",
   "execution_count": 11,
   "metadata": {},
   "outputs": [
    {
     "name": "stdout",
     "output_type": "stream",
     "text": [
      "Parelles trobada (2 + 8)\n",
      "Parelles trobada (3 + 7)\n"
     ]
    }
   ],
   "source": [
    "def parellesSuma2(llista,valorSuma):\n",
    "    llista.sort()\n",
    "    low = 0\n",
    "    high = len(llista)-1\n",
    "    while (low< high):\n",
    "        if (llista[low] + llista[high] == valorSuma):\n",
    "            print(f\"Parelles trobada ({llista[low]} + {llista[high]})\")\n",
    "        if (llista[low] + llista[high] < valorSuma):\n",
    "            low +=1\n",
    "        else:\n",
    "            high -=1\n",
    "parellesSuma2([3, 1, 5, 2, 7, 8], 10)"
   ]
  },
  {
   "cell_type": "markdown",
   "metadata": {},
   "source": [
    "## FACTOR PRIMER MÉS GRAN"
   ]
  },
  {
   "cell_type": "code",
   "execution_count": 4,
   "metadata": {},
   "outputs": [
    {
     "data": {
      "text/plain": [
       "3"
      ]
     },
     "execution_count": 4,
     "metadata": {},
     "output_type": "execute_result"
    }
   ],
   "source": [
    "def fpmg(n):\n",
    "    divisor = 2\n",
    "    while n>1 :\n",
    "        if not n % divisor:\n",
    "            n/= divisor\n",
    "            divisor -= 1\n",
    "        divisor += 1\n",
    "    return divisor\n",
    "fpmg(6)"
   ]
  },
  {
   "cell_type": "markdown",
   "metadata": {},
   "source": [
    "## POTENCIA"
   ]
  },
  {
   "cell_type": "code",
   "execution_count": 1,
   "metadata": {},
   "outputs": [
    {
     "data": {
      "text/plain": [
       "8"
      ]
     },
     "execution_count": 1,
     "metadata": {},
     "output_type": "execute_result"
    }
   ],
   "source": [
    "def potencia(x,y):\n",
    "    potencia = 1\n",
    "    for i in range(0,y):\n",
    "        potencia *= x\n",
    "    return potencia\n",
    "potencia(2,3)"
   ]
  },
  {
   "cell_type": "markdown",
   "metadata": {},
   "source": [
    "## MAXIM MINIM"
   ]
  },
  {
   "cell_type": "code",
   "execution_count": 14,
   "metadata": {},
   "outputs": [
    {
     "data": {
      "text/plain": [
       "(1, 8)"
      ]
     },
     "execution_count": 14,
     "metadata": {},
     "output_type": "execute_result"
    }
   ],
   "source": [
    "def minMax(llista):\n",
    "    min = max = llista[0]\n",
    "    for i in range(0,len(llista)):\n",
    "        if llista[i]< min:\n",
    "            min = llista[i]\n",
    "        if llista[i]> max:\n",
    "            max = llista[i]\n",
    "    return min, max\n",
    "\n",
    "minMax([3, 1, 5, 2, 7, 8])"
   ]
  },
  {
   "cell_type": "markdown",
   "metadata": {},
   "source": [
    "## SUMA DELS DIGITS D'UNA POTENCIA\n"
   ]
  },
  {
   "cell_type": "code",
   "execution_count": 4,
   "metadata": {},
   "outputs": [
    {
     "data": {
      "text/plain": [
       "7"
      ]
     },
     "execution_count": 4,
     "metadata": {},
     "output_type": "execute_result"
    }
   ],
   "source": [
    "def sumDigits(n):\n",
    "    m = str (2**n)\n",
    "\n",
    "    answer = 0\n",
    "    for i in range(0,len(m)):\n",
    "        answer += int(m[i])\n",
    "    return answer\n",
    "sumDigits(4)"
   ]
  },
  {
   "cell_type": "markdown",
   "metadata": {},
   "source": [
    "## Determinar si un nombre es potencia de 2 "
   ]
  },
  {
   "cell_type": "code",
   "execution_count": 2,
   "metadata": {},
   "outputs": [
    {
     "data": {
      "text/plain": [
       "True"
      ]
     },
     "execution_count": 2,
     "metadata": {},
     "output_type": "execute_result"
    }
   ],
   "source": [
    "def potencia(n):\n",
    "    if n<= 0:\n",
    "        return False\n",
    "    return (n & (n-1)) == 0\n",
    "potencia(16)"
   ]
  },
  {
   "cell_type": "markdown",
   "metadata": {},
   "source": [
    "## QUANTITAT D'1s A UNA LLISTA BINARIA \n",
    "### Esta ordenada"
   ]
  },
  {
   "cell_type": "code",
   "execution_count": 4,
   "metadata": {},
   "outputs": [
    {
     "data": {
      "text/plain": [
       "5"
      ]
     },
     "execution_count": 4,
     "metadata": {},
     "output_type": "execute_result"
    }
   ],
   "source": [
    "def Nombre1(llista):\n",
    "    if len(llista) == 0 or llista[-1] == 0:\n",
    "        return 0\n",
    "    if llista[0] == 1:\n",
    "        return len(llista)\n",
    "    mid = len(llista) // 2\n",
    "    return Nombre1(llista[:mid]) + Nombre1(llista[mid:])\n",
    "    \n",
    "    \n",
    "    \n",
    "Nombre1([0,0,1,1,1,1,1])"
   ]
  },
  {
   "cell_type": "markdown",
   "metadata": {},
   "source": [
    "## ELEMENT PIC\n"
   ]
  },
  {
   "cell_type": "markdown",
   "metadata": {},
   "source": [
    "Donada una llista d’enters, trobar **un** dels elements *pic* amb la menor complexitat possible. Un enter serà un element *pic* si els seus veïns immediats són menors que ell. "
   ]
  },
  {
   "cell_type": "code",
   "execution_count": 48,
   "metadata": {},
   "outputs": [
    {
     "data": {
      "text/plain": [
       "10"
      ]
     },
     "execution_count": 48,
     "metadata": {},
     "output_type": "execute_result"
    }
   ],
   "source": [
    "def elementPic(llista):\n",
    "    if len(llista) == 0:\n",
    "        return -1\n",
    "    elif len(llista) == 1:\n",
    "        return llista[0]\n",
    "    elif len(llista) == 2:\n",
    "        if llista[0] > llista[1]:\n",
    "            return llista[0]\n",
    "        else:\n",
    "            return llista[1]\n",
    "        \n",
    "    mid = len(llista) //2\n",
    "    \n",
    "    if llista[mid] > llista[mid-1]:\n",
    "        if llista[mid] > llista[mid+1]:\n",
    "            return llista[mid]\n",
    "        else:\n",
    "            \n",
    "            return elementPic(llista[mid:]) # busca por izquierda\n",
    "            \n",
    "    else:\n",
    "        return elementPic(llista[:mid])\n",
    "    \n",
    "        \n",
    "\n",
    "elementPic([8,9,10,2,5,6])"
   ]
  },
  {
   "cell_type": "markdown",
   "metadata": {},
   "source": [
    "## MOURE ZEROS AL FINAL"
   ]
  },
  {
   "cell_type": "code",
   "execution_count": 51,
   "metadata": {},
   "outputs": [
    {
     "data": {
      "text/plain": [
       "[3, 1, 5, 2, 7, 8, 0, 0, 0, 0, 0]"
      ]
     },
     "execution_count": 51,
     "metadata": {},
     "output_type": "execute_result"
    }
   ],
   "source": [
    "def moureZerosFinal(llista):\n",
    "    j = 0\n",
    "    for i in range(0,len(llista)):\n",
    "        if llista[i] != 0:\n",
    "            llista[i],llista[j] = llista[j], llista[i]\n",
    "            j+=1\n",
    "    return llista\n",
    "moureZerosFinal([0,3,0,1,0,5,0,0,2,7,8])"
   ]
  },
  {
   "cell_type": "markdown",
   "metadata": {},
   "source": [
    "#### Moure zeros al principi"
   ]
  },
  {
   "cell_type": "code",
   "execution_count": 53,
   "metadata": {},
   "outputs": [
    {
     "data": {
      "text/plain": [
       "[0, 0, 0, 0, 0, 3, 1, 5, 2, 7, 8]"
      ]
     },
     "execution_count": 53,
     "metadata": {},
     "output_type": "execute_result"
    }
   ],
   "source": [
    "def moureZerosInici(llista):\n",
    "    j = len(llista)-1\n",
    "    for i in range(len(llista)-1, -1, -1 ):\n",
    "        if llista[i] != 0:\n",
    "            llista[i],llista[j] = llista[j], llista[i]\n",
    "            j -=1\n",
    "    return llista\n",
    "moureZerosInici([0,3,0,1,0,5,0,0,2,7,8])"
   ]
  },
  {
   "cell_type": "markdown",
   "metadata": {},
   "source": [
    "## OCURRENCIES"
   ]
  },
  {
   "cell_type": "markdown",
   "metadata": {},
   "source": [
    "### Trobar la priemra i darrerar ocurrencia d'un nombre donat en una llista ordenada"
   ]
  },
  {
   "cell_type": "code",
   "execution_count": 55,
   "metadata": {},
   "outputs": [
    {
     "name": "stdout",
     "output_type": "stream",
     "text": [
      "La primera ocurrència es troba a l'índex 4\n",
      "La darrera ocurrència es troba a l'índex 4\n"
     ]
    }
   ],
   "source": [
    "def recBinSearch(x, nums, low, high):\n",
    "    \"\"\"\n",
    "    Algorisme bàsic de cerca binària recursiva\n",
    "    :param x el nombre a trobar\n",
    "    :param nums la llista de nums a trobar\n",
    "    :param low l'índex més baix de la subllista on estem cercant ara\n",
    "    :param high l'índex més alt de la subllista on estem cercant ara\n",
    "    :return posició de x a nums o -1 si no s'ha trobar\n",
    "    \"\"\"\n",
    "    if low > high:\n",
    "        return -1\n",
    "    mid = (low + high) // 2\n",
    "    items = nums[mid]\n",
    "    if items == x:\n",
    "        return mid\n",
    "    elif x < items:\n",
    "        return recBinSearch(x, nums, low, mid-1)\n",
    "    else:\n",
    "        return recBinSearch(x, nums, mid+1, high)\n",
    "\n",
    "\n",
    "def Ocurrencies(llista, nombre):\n",
    "    cercaBinaria = recBinSearch(nombre, llista, 0, len(llista))\n",
    "    if cercaBinaria == -1:\n",
    "        print(\"El nombre no es troba dins la llista\")\n",
    "    else:\n",
    "        indexInicial = cercaBinaria\n",
    "        while indexInicial > 0 and llista[indexInicial] == nombre:\n",
    "            indexInicial -=1\n",
    "        indexFinal = cercaBinaria\n",
    "        while indexFinal < len(llista) and llista[indexFinal] == nombre:\n",
    "            indexFinal += 1\n",
    "            # recorregut seqüèncial per trobar la darrera aparició\n",
    "        if indexInicial==indexFinal-1: indexInicial=-1\n",
    "        print(\"La primera ocurrència es troba a l'índex\", indexInicial+1)\n",
    "        print(\"La darrera ocurrència es troba a l'índex\", indexFinal-1)\n",
    "\n",
    "Ocurrencies([3,5,5,5,6,8,8,9,9,9],6)"
   ]
  },
  {
   "cell_type": "markdown",
   "metadata": {
    "collapsed": true
   },
   "source": [
    "## LEVENSTHEIN "
   ]
  },
  {
   "cell_type": "code",
   "execution_count": 5,
   "metadata": {},
   "outputs": [
    {
     "data": {
      "text/plain": [
       "[['AGATACATTAGACAATAGAGATGTGGTC', 32, 11],\n",
       " ['GTCAGTCTGGCCTTGCCATTGGTGCCACCA', 352, 11],\n",
       " ['TACCGAGAAGCTGGATTACAGCATGTACCATCAT', 212, 14],\n",
       " 2.8014053423663086]"
      ]
     },
     "execution_count": 5,
     "metadata": {},
     "output_type": "execute_result"
    }
   ],
   "source": [
    "import time\n",
    "\n",
    "def dna(llistaP,fitxer):\n",
    "    t1 = time.clock() # inicialitzar temps\n",
    "    \n",
    "    dlt, insr, subs = 2,2,1 #Costos de eliminar, inserir i substituir\n",
    "    \n",
    "    indp = 0 #index patro\n",
    "    \n",
    "    linia = [0] * (len(llistaP)+1) # llista on guardarem els resultats\n",
    "    distancia = [0]\n",
    "    \n",
    "    f = open(fitxer, \"r\") #carreguem el fitxer\n",
    "    text1 = f.readlines()\n",
    "    f.close\n",
    "    \n",
    "    for patro in llistaP: #bucle per cada patro\n",
    "        indp +=1 # sumem 1 al index del patro\n",
    "        patro_length = len(patro) + 1 # Calculem la llargada del patro\n",
    "        distancia.append(patro_length) #Proposem una distancia maxima\n",
    "        ind = 0 #index de linia\n",
    "        \n",
    "        for line in text1: # per a cada linia \n",
    "            ind += 1 #Sumem un al index de la linia\n",
    "            text = line[0:-2] #eliminem els caracters sobrants\n",
    "            text_length = len(text)+1 \n",
    "            \n",
    "            #apliquem levensthein\n",
    "            \n",
    "            #iniciem la matriu\n",
    "            distance_matrix = [[0]* text_length for x in range(patro_length)]\n",
    "            for i in range(patro_length):\n",
    "                distance_matrix[i][0] = i\n",
    "            #avancem calculant distancies\n",
    "            for i in range(1, patro_length):\n",
    "                for j in range(1, text_length):\n",
    "                    deletion = distance_matrix[i-1][j] + dlt\n",
    "                    insertion = distance_matrix[i-1][j] + insr\n",
    "                    substitution = distance_matrix[i-1][j-1]\n",
    "                    if patro[i-1] != text[j-1]:\n",
    "                        substitution += subs\n",
    "                    distance_matrix[i][j] = min(insertion,deletion,substitution)\n",
    "            distancia2 = min(distance_matrix[patro_length-1])\n",
    "            \n",
    "            if distancia2 < distancia[indp]:\n",
    "                distancia[indp] = distancia2\n",
    "                linia[indp] = ind\n",
    "    t2 = time.clock()\n",
    "    temps = t2-t1\n",
    "    return ([['AGATACATTAGACAATAGAGATGTGGTC',linia[1],distancia[1]],\n",
    "            ['GTCAGTCTGGCCTTGCCATTGGTGCCACCA',linia[2],distancia[2]],\n",
    "            ['TACCGAGAAGCTGGATTACAGCATGTACCATCAT',linia[3],distancia[3]],\n",
    "            temps])\n",
    "\n",
    "\n",
    "\n",
    "dna(['AGATACATTAGACAATAGAGATGTGGTC','GTCAGTCTGGCCTTGCCATTGGTGCCACCA','TACCGAGAAGCTGGATTACAGCATGTACCATCAT'], \"HUMAN-DNA.txt\")"
   ]
  },
  {
   "cell_type": "code",
   "execution_count": null,
   "metadata": {
    "collapsed": true
   },
   "outputs": [],
   "source": [
    " "
   ]
  }
 ],
 "metadata": {
  "kernelspec": {
   "display_name": "Python 3",
   "language": "python",
   "name": "python3"
  },
  "language_info": {
   "codemirror_mode": {
    "name": "ipython",
    "version": 3
   },
   "file_extension": ".py",
   "mimetype": "text/x-python",
   "name": "python",
   "nbconvert_exporter": "python",
   "pygments_lexer": "ipython3",
   "version": "3.6.3"
  }
 },
 "nbformat": 4,
 "nbformat_minor": 2
}
