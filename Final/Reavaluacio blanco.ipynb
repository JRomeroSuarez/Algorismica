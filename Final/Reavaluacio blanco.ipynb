{
 "cells": [
  {
   "cell_type": "markdown",
   "metadata": {},
   "source": [
    "# Examen Reavaluació\n",
    "\n",
    "## Teoria"
   ]
  },
  {
   "cell_type": "markdown",
   "metadata": {},
   "source": [
    "**Pregunta 1:** Quina complexitat té aquest algorisme (per nombres $x$, $y$ grans)?\n",
    "\n",
    "```python\n",
    "def alg(x,y):\n",
    "    import math\n",
    "    if y == 0:\n",
    "        return 0\n",
    "    z = alg(x,math.floor(y/2))\n",
    "    if y%2 == 0:\n",
    "        return 2*z\n",
    "    else:\n",
    "        return x+2*z\n",
    "```"
   ]
  },
  {
   "cell_type": "code",
   "execution_count": null,
   "metadata": {
    "collapsed": true
   },
   "outputs": [],
   "source": []
  },
  {
   "cell_type": "markdown",
   "metadata": {},
   "source": [
    "**Pregunta 2:** Com podem saber si un nombre és potència de 2 amb només 2 operacions i sense usar logaritmes?"
   ]
  },
  {
   "cell_type": "code",
   "execution_count": null,
   "metadata": {
    "collapsed": true
   },
   "outputs": [],
   "source": []
  },
  {
   "cell_type": "markdown",
   "metadata": {},
   "source": [
    "**Pregunta 3:**  Escriu (usant *comprehensions*) les instruccions que crearan les següents llistes:\n",
    "    \n",
    "- valors $x$ parells, ($5 \\leq x \\leq 12$).\n",
    "- valors $x$ múltiples de 5, ($x \\leq 100$)\n",
    "- valors $x$, ($100 \\leq x \\leq 1000$), múltiples de 10, en ordre invers. És a dir 1000, 990, 980..."
   ]
  },
  {
   "cell_type": "code",
   "execution_count": 20,
   "metadata": {},
   "outputs": [
    {
     "name": "stdout",
     "output_type": "stream",
     "text": [
      "\n",
      " [] \n",
      " [] \n",
      " []\n"
     ]
    }
   ],
   "source": [
    "parells = []\n",
    "multiples = []\n",
    "valors = []\n",
    "print('\\n', parells, '\\n', multiples, '\\n', valors)"
   ]
  },
  {
   "cell_type": "markdown",
   "metadata": {},
   "source": [
    "**Pregunta 4:** Quin cost té trobar el màxim comú divisor de 2 nombres?"
   ]
  },
  {
   "cell_type": "code",
   "execution_count": null,
   "metadata": {
    "collapsed": true
   },
   "outputs": [],
   "source": []
  },
  {
   "cell_type": "markdown",
   "metadata": {},
   "source": [
    "**Pregunta 5:** Quin ordre de complexitat segons la notació $O()$ tenen els algorismes que fan el següent nombre d'operacions?\n",
    "\n",
    "+ $n*log(n) + 2^n$\n",
    "+ $3 n^2 + log (n^{30})$\n",
    "+ $5^n + n^5$\n",
    "+ $a^b$ mod $N$ (on $a$ i $b$ són nombres molt grans i $N$ és un nombre petit)"
   ]
  },
  {
   "cell_type": "code",
   "execution_count": null,
   "metadata": {
    "collapsed": true
   },
   "outputs": [],
   "source": []
  },
  {
   "cell_type": "markdown",
   "metadata": {},
   "source": [
    "**Pregunta 6:** Tenim una llista ordenada de 30 elements. Usem cerca binària. Busquem un element X que no és a la llista. Amb quants elements de la llista compararem X?"
   ]
  },
  {
   "cell_type": "code",
   "execution_count": null,
   "metadata": {
    "collapsed": true
   },
   "outputs": [],
   "source": []
  },
  {
   "cell_type": "markdown",
   "metadata": {},
   "source": [
    "**Pregunta 7:** Què vol dir la \"distància d'edició\" entre un text S i un text T?"
   ]
  },
  {
   "cell_type": "code",
   "execution_count": null,
   "metadata": {
    "collapsed": true
   },
   "outputs": [],
   "source": []
  },
  {
   "cell_type": "markdown",
   "metadata": {},
   "source": [
    "**Pregunta 8:** En el context d'un algorisme genètic explica com i perquè creuaries aquests dos individus:\n",
    "    38  43"
   ]
  },
  {
   "cell_type": "code",
   "execution_count": null,
   "metadata": {
    "collapsed": true
   },
   "outputs": [],
   "source": []
  },
  {
   "cell_type": "markdown",
   "metadata": {},
   "source": [
    "**Pregunta 9:** Què significa que un problema sigui NP-hard?"
   ]
  },
  {
   "cell_type": "code",
   "execution_count": null,
   "metadata": {
    "collapsed": true
   },
   "outputs": [],
   "source": []
  },
  {
   "cell_type": "markdown",
   "metadata": {},
   "source": [
    "**Pregunta 10:** Calcula la complexitat segons el Teorema Màster dels següents algorismes:\n",
    "+ $T(n) = 2T(n/2) + n^2$    \n",
    "+ $T(n) = 2T(n/2) + n$\n",
    "+ $T(n) = 8T(n/2) + n^2$"
   ]
  },
  {
   "cell_type": "code",
   "execution_count": null,
   "metadata": {
    "collapsed": true
   },
   "outputs": [],
   "source": []
  },
  {
   "cell_type": "markdown",
   "metadata": {},
   "source": [
    "## Problemes"
   ]
  },
  {
   "cell_type": "markdown",
   "metadata": {},
   "source": [
    "**Problema 1**: La darrera lletra del NIF es calcula a partir delsnombres del DNI. Per fer-ho, s'ha de dividir el nombre per 23 i quedar-se amb la resta, que és un nombre entre 0 i 22. LLavors s'aplica la següent taula per transformar aquest nombre en una lletra:\n",
    "\n",
    "|Resta | Lletra | Resta | Lletra |\n",
    "|------|--------|-------|--------|\n",
    "|   0  |   T    |  12   |   N    |\n",
    "|   1  |   R    |  13   |   J    |\n",
    "|   2  |   W    |  14   |   Z    |\n",
    "|   3  |   A    |  15   |   S    |\n",
    "|   4  |   G    |  16   |   Q    |\n",
    "|   5  |   M    |  17   |   V    |\n",
    "|   6  |   Y    |  18   |   H    |\n",
    "|   7  |   F    |  19   |   L    |\n",
    "|   8  |   P    |  20   |   C    |\n",
    "|   9  |   D    |  21   |   K    |\n",
    "|   10 |   X    |  22   |   E    |\n",
    "|   11 |   B    |  -    |   -    |\n",
    "   \n",
    "Escriu una funció, dni, que a partir del número de DNI retorni la lletra corresponent.\n",
    "Comprova que el DNI tingui el nombre de xifres que ha de tenir! Has de fer servir un diccionari."
   ]
  },
  {
   "cell_type": "code",
   "execution_count": null,
   "metadata": {
    "collapsed": true
   },
   "outputs": [],
   "source": [
    "#Solució \n",
    "# Solució\n",
    "def dni(numero):\n",
    "    pass\n",
    "\n",
    "assert dni(39186275)=='W'"
   ]
  },
  {
   "cell_type": "markdown",
   "metadata": {},
   "source": [
    "**Problema 2** Donada una llista de nombres enters (possiblement desordenats) la funció ha de retornar la mateixa llista amb els nombres negatius al capdavant i els positius al darrera (sense importar l’ordre entre ells). Calcula la complexitat de la teva implementació.\n",
    "\n",
    "*Indicacions: Aquest algorisme es pot resoldre de la forma demanada amb una estratègia semblant a la partició del quicksort.*"
   ]
  },
  {
   "cell_type": "code",
   "execution_count": 1,
   "metadata": {
    "collapsed": true
   },
   "outputs": [],
   "source": [
    "#Solució\n",
    "def negatius (llista):\n",
    "    pass\n",
    "\n",
    "assert negatius([1,-2,3,-4,-3,5,-6]) == [-6, -2, -3, -4, 3, 5, 1]\n",
    "assert negatius([9,1,3,4,3,5,6]) == [9, 1, 3, 4, 3, 5, 6]"
   ]
  }
 ],
 "metadata": {
  "kernelspec": {
   "display_name": "Python 3",
   "language": "python",
   "name": "python3"
  },
  "language_info": {
   "codemirror_mode": {
    "name": "ipython",
    "version": 3
   },
   "file_extension": ".py",
   "mimetype": "text/x-python",
   "name": "python",
   "nbconvert_exporter": "python",
   "pygments_lexer": "ipython3",
   "version": "3.6.3"
  }
 },
 "nbformat": 4,
 "nbformat_minor": 2
}
