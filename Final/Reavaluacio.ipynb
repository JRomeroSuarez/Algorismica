{
 "cells": [
  {
   "cell_type": "markdown",
   "metadata": {},
   "source": [
    "# Examen Reavaluació\n",
    "\n",
    "## Teoria"
   ]
  },
  {
   "cell_type": "markdown",
   "metadata": {},
   "source": [
    "**Pregunta 1:** Quina complexitat té aquest algorisme (per nombres $x$, $y$ grans)?\n",
    "\n",
    "```python\n",
    "def alg(x,y):\n",
    "    import math\n",
    "    if y == 0:\n",
    "        return 0\n",
    "    z = alg(x,math.floor(y/2))\n",
    "    if y%2 == 0:\n",
    "        return 2*z\n",
    "    else:\n",
    "        return x+2*z\n",
    "```"
   ]
  },
  {
   "cell_type": "markdown",
   "metadata": {
    "collapsed": true
   },
   "source": [
    "O(nlogn)"
   ]
  },
  {
   "cell_type": "markdown",
   "metadata": {},
   "source": [
    "**Pregunta 2:** Com podem saber si un nombre és potència de 2 amb només 2 operacions i sense usar logaritmes?"
   ]
  },
  {
   "cell_type": "code",
   "execution_count": 1,
   "metadata": {},
   "outputs": [
    {
     "data": {
      "text/plain": [
       "True"
      ]
     },
     "execution_count": 1,
     "metadata": {},
     "output_type": "execute_result"
    }
   ],
   "source": [
    "def potencia(n):\n",
    "    if n<=0:\n",
    "        return False\n",
    "    return (n & (n-1)) == 0\n",
    "potencia(1024)"
   ]
  },
  {
   "cell_type": "markdown",
   "metadata": {},
   "source": [
    "**Pregunta 3:**  Escriu (usant *comprehensions*) les instruccions que crearan les següents llistes:\n",
    "    \n",
    "- valors $x$ parells, ($5 \\leq x \\leq 12$).\n",
    "- valors $x$ múltiples de 5, ($x \\leq 100$)\n",
    "- valors $x$, ($100 \\leq x \\leq 1000$), múltiples de 10, en ordre invers. És a dir 1000, 990, 980..."
   ]
  },
  {
   "cell_type": "code",
   "execution_count": 54,
   "metadata": {},
   "outputs": [
    {
     "name": "stdout",
     "output_type": "stream",
     "text": [
      "\n",
      " [6, 8, 10, 12] \n",
      " [0, 5, 10, 15, 20, 25, 30, 35, 40, 45, 50, 55, 60, 65, 70, 75, 80, 85, 90, 95, 100] \n",
      " [1000, 990, 980, 970, 960, 950, 940, 930, 920, 910, 900, 890, 880, 870, 860, 850, 840, 830, 820, 810, 800, 790, 780, 770, 760, 750, 740, 730, 720, 710, 700, 690, 680, 670, 660, 650, 640, 630, 620, 610, 600, 590, 580, 570, 560, 550, 540, 530, 520, 510, 500, 490, 480, 470, 460, 450, 440, 430, 420, 410, 400, 390, 380, 370, 360, 350, 340, 330, 320, 310, 300, 290, 280, 270, 260, 250, 240, 230, 220, 210, 200, 190, 180, 170, 160, 150, 140, 130, 120, 110, 100]\n"
     ]
    }
   ],
   "source": [
    "parells = [i for i in range(5,13) if i%2 ==0]\n",
    "multiples = [i for i in range(0,101) if i % 5 == 0]\n",
    "valors = [i for i in range(1001,99,-1) if i % 10 == 0]\n",
    "print('\\n', parells, '\\n', multiples, '\\n', valors)"
   ]
  },
  {
   "cell_type": "markdown",
   "metadata": {},
   "source": [
    "**Pregunta 4:** Quin cost té trobar el màxim comú divisor de 2 nombres?"
   ]
  },
  {
   "cell_type": "code",
   "execution_count": 55,
   "metadata": {},
   "outputs": [
    {
     "data": {
      "text/plain": [
       "4"
      ]
     },
     "execution_count": 55,
     "metadata": {},
     "output_type": "execute_result"
    }
   ],
   "source": [
    "def mcd(a,b):\n",
    "    while a:\n",
    "        a,b = b%a,a\n",
    "    return b\n",
    "mcd(12,4)\n",
    "#En aquest cas el cost es n"
   ]
  },
  {
   "cell_type": "markdown",
   "metadata": {},
   "source": [
    "**Pregunta 5:** Quin ordre de complexitat segons la notació $O()$ tenen els algorismes que fan el següent nombre d'operacions?\n",
    "\n",
    "+ $n*log(n) + 2^n$\n",
    "+ $3 n^2 + log (n^{30})$\n",
    "+ $5^n + n^5$\n",
    "+ $a^b$ mod $N$ (on $a$ i $b$ són nombres molt grans i $N$ és un nombre petit)"
   ]
  },
  {
   "cell_type": "markdown",
   "metadata": {
    "collapsed": true
   },
   "source": [
    "+ $O(2^n)$\n",
    "+ $O(n^2)$\n",
    "+ $O(5^{n})$\n",
    "+ $O(n^e)$ "
   ]
  },
  {
   "cell_type": "markdown",
   "metadata": {},
   "source": [
    "**Pregunta 6:** Tenim una llista ordenada de 30 elements. Usem cerca binària. Busquem un element X que no és a la llista. Amb quants elements de la llista compararem X?"
   ]
  },
  {
   "cell_type": "markdown",
   "metadata": {
    "collapsed": true
   },
   "source": [
    "Comparariem amb la longitud de la llista, ja que es compararia amb cada un dels elements de la llista."
   ]
  },
  {
   "cell_type": "markdown",
   "metadata": {},
   "source": [
    "**Pregunta 7:** Què vol dir la \"distància d'edició\" entre un text S i un text T?"
   ]
  },
  {
   "cell_type": "markdown",
   "metadata": {
    "collapsed": true
   },
   "source": [
    "Les lletres o simbols que s'han de cambiar d'un text a un altre perque siguin el mateix. Una manera de trobar aquesta distancia d'edició es a partir de l'algorisme de Levensthein. \n",
    "Un exemple seria gumbo i gambol on la distancia d'edicio seria 2, el canvi de la U per la A i afegir la L.\n"
   ]
  },
  {
   "cell_type": "markdown",
   "metadata": {},
   "source": [
    "**Pregunta 8:** En el context d'un algorisme genètic explica com i perquè creuaries aquests dos individus:\n",
    "    38  43"
   ]
  },
  {
   "cell_type": "markdown",
   "metadata": {
    "collapsed": true
   },
   "source": [
    "A l'hora d'aplicar algorismes genetics per duu a terme l'encreuament de dos especies(en aquest cas els numeros) s'hauria de dividir la distancia dels numeros(3-8,4-3) i encreuarlos per la seguent generació.(34,83)"
   ]
  },
  {
   "cell_type": "markdown",
   "metadata": {},
   "source": [
    "**Pregunta 9:** Què significa que un problema sigui NP-hard?"
   ]
  },
  {
   "cell_type": "markdown",
   "metadata": {
    "collapsed": true
   },
   "source": [
    "Es un problema que no te un algorisme que el pugui resoldre en temps polinomic. Dos exemples de problemes NP-Hard serien el viatjant de comerç i el problema de la motxilla, que encara no s'han trobat algorismes per resoldre'ls."
   ]
  },
  {
   "cell_type": "markdown",
   "metadata": {},
   "source": [
    "**Pregunta 10:** Calcula la complexitat segons el Teorema Màster dels següents algorismes:\n",
    "+ $T(n) = 2T(n/2) + n^2$    \n",
    "+ $T(n) = 2T(n/2) + n$\n",
    "+ $T(n) = 8T(n/2) + n^2$"
   ]
  },
  {
   "cell_type": "markdown",
   "metadata": {
    "collapsed": true
   },
   "source": [
    "+ $O(n^2)$\n",
    "+ $O(n^1 * logn)$\n",
    "+ $O(n^{ log(2)8})$"
   ]
  },
  {
   "cell_type": "markdown",
   "metadata": {},
   "source": [
    "## Problemes"
   ]
  },
  {
   "cell_type": "markdown",
   "metadata": {},
   "source": [
    "**Problema 1**: La darrera lletra del NIF es calcula a partir dels nombres del DNI. Per fer-ho, s'ha de dividir el nombre per 23 i quedar-se amb la resta, que és un nombre entre 0 i 22. LLavors s'aplica la següent taula per transformar aquest nombre en una lletra:\n",
    "\n",
    "|Resta | Lletra | Resta | Lletra |\n",
    "|------|--------|-------|--------|\n",
    "|   0  |   T    |  12   |   N    |\n",
    "|   1  |   R    |  13   |   J    |\n",
    "|   2  |   W    |  14   |   Z    |\n",
    "|   3  |   A    |  15   |   S    |\n",
    "|   4  |   G    |  16   |   Q    |\n",
    "|   5  |   M    |  17   |   V    |\n",
    "|   6  |   Y    |  18   |   H    |\n",
    "|   7  |   F    |  19   |   L    |\n",
    "|   8  |   P    |  20   |   C    |\n",
    "|   9  |   D    |  21   |   K    |\n",
    "|   10 |   X    |  22   |   E    |\n",
    "|   11 |   B    |  -    |   -    |\n",
    "   \n",
    "Escriu una funció, dni, que a partir del número de DNI retorni la lletra corresponent.\n",
    "Comprova que el DNI tingui el nombre de xifres que ha de tenir! Has de fer servir un diccionari."
   ]
  },
  {
   "cell_type": "code",
   "execution_count": 128,
   "metadata": {},
   "outputs": [
    {
     "ename": "AssertionError",
     "evalue": "",
     "output_type": "error",
     "traceback": [
      "\u001b[1;31m---------------------------------------------------------------------------\u001b[0m",
      "\u001b[1;31mAssertionError\u001b[0m                            Traceback (most recent call last)",
      "\u001b[1;32m<ipython-input-128-cd73afe7dfb1>\u001b[0m in \u001b[0;36m<module>\u001b[1;34m()\u001b[0m\n\u001b[0;32m     11\u001b[0m             \u001b[1;32mif\u001b[0m \u001b[0mresta\u001b[0m \u001b[1;33m==\u001b[0m \u001b[0mdiccionari\u001b[0m\u001b[1;33m[\u001b[0m\u001b[0mkey\u001b[0m\u001b[1;33m]\u001b[0m\u001b[1;33m:\u001b[0m\u001b[1;33m\u001b[0m\u001b[0m\n\u001b[0;32m     12\u001b[0m                 \u001b[1;32mreturn\u001b[0m \u001b[0mdiccionari\u001b[0m\u001b[1;33m[\u001b[0m\u001b[0mvalue\u001b[0m\u001b[1;33m]\u001b[0m\u001b[1;33m\u001b[0m\u001b[0m\n\u001b[1;32m---> 13\u001b[1;33m \u001b[1;32massert\u001b[0m \u001b[0mdni\u001b[0m\u001b[1;33m(\u001b[0m\u001b[1;36m39186275\u001b[0m\u001b[1;33m)\u001b[0m\u001b[1;33m==\u001b[0m\u001b[1;34m'W'\u001b[0m\u001b[1;33m\u001b[0m\u001b[0m\n\u001b[0m",
      "\u001b[1;31mAssertionError\u001b[0m: "
     ]
    }
   ],
   "source": [
    "#Solució \n",
    "# Solució\n",
    "def dni(numero):\n",
    "    diccionari = {'0':\"T\",'1':\"R\",'2':\"W\",'3':\"A\",'4':\"G\",'5':\"M\",'6':\"Y\",'7':\"F\",'8':\"P\",'9':\"D\",'10':\"X\",'11':\"B\",'12':\"N\",'13':\"J\",'14':\"Z\",'15':\"S\",'16':\"Q\",'17':\"V\",'18':\"H\",'19':\"L\",'20':\"C\",'21':\"K\",'22':\"E\"}\n",
    "    resta = 0\n",
    "    resta = numero %23\n",
    "    if resta >23:\n",
    "        return(\"no es pot calcular la ultima lletra del NIF\")\n",
    "    if resta <=22:\n",
    "        for key,value in diccionari.items():\n",
    "            if resta == diccionari[key]:\n",
    "                return diccionari[value]\n",
    "assert dni(39186275)=='W'"
   ]
  },
  {
   "cell_type": "markdown",
   "metadata": {},
   "source": [
    "**Problema 2** Donada una llista de nombres enters (possiblement desordenats) la funció ha de retornar la mateixa llista amb els nombres negatius al capdavant i els positius al darrera (sense importar l’ordre entre ells). Calcula la complexitat de la teva implementació.\n",
    "\n",
    "*Indicacions: Aquest algorisme es pot resoldre de la forma demanada amb una estratègia semblant a la partició del quicksort.*"
   ]
  },
  {
   "cell_type": "code",
   "execution_count": 114,
   "metadata": {
    "collapsed": true
   },
   "outputs": [],
   "source": [
    "#Solució\n",
    "def negatius (llista):\n",
    "    j = len(llista)-1\n",
    "    for i in range(len(llista)-1,-1,-1):\n",
    "        if llista[i] >= 0:\n",
    "            llista[i],llista[j] = llista[j], llista[i]\n",
    "            j-=1\n",
    "    return llista\n",
    "\n",
    "assert negatius([1,-2,3,-4,-3,5,-6]) == [-3, -2, -6, -4, 1, 3, 5]\n",
    "assert negatius([9,1,3,4,3,5,6]) == [9, 1, 3, 4, 3, 5, 6]"
   ]
  }
 ],
 "metadata": {
  "kernelspec": {
   "display_name": "Python 3",
   "language": "python",
   "name": "python3"
  },
  "language_info": {
   "codemirror_mode": {
    "name": "ipython",
    "version": 3
   },
   "file_extension": ".py",
   "mimetype": "text/x-python",
   "name": "python",
   "nbconvert_exporter": "python",
   "pygments_lexer": "ipython3",
   "version": "3.6.3"
  }
 },
 "nbformat": 4,
 "nbformat_minor": 2
}
