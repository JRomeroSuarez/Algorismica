{
 "cells": [
  {
   "cell_type": "markdown",
   "metadata": {},
   "source": [
    "# Examen Reavaluació\n",
    "\n",
    "## Teoria"
   ]
  },
  {
   "cell_type": "markdown",
   "metadata": {},
   "source": [
    "**Pregunta 1:** Quina complexitat té aquest algorisme (per nombres $x$, $y$ grans)?\n",
    "\n",
    "```python\n",
    "def alg(x,y):\n",
    "    import math\n",
    "    if y == 0:\n",
    "        return 0\n",
    "    z = alg(x,math.floor(y/2))\n",
    "    if y%2 == 0:\n",
    "        return 2*z\n",
    "    else:\n",
    "        return x+2*z\n",
    "```"
   ]
  },
  {
   "cell_type": "code",
   "execution_count": null,
   "metadata": {
    "collapsed": true
   },
   "outputs": [],
   "source": [
    "O(n^2)"
   ]
  },
  {
   "cell_type": "markdown",
   "metadata": {},
   "source": [
    "**Pregunta 2:** Com podem saber si un nombre és potència de 2 amb només 2 operacions i sense usar logaritmes?"
   ]
  },
  {
   "cell_type": "code",
   "execution_count": null,
   "metadata": {
    "collapsed": true
   },
   "outputs": [],
   "source": []
  },
  {
   "cell_type": "markdown",
   "metadata": {},
   "source": [
    "**Pregunta 3:**  Escriu (usant *comprehensions*) les instruccions que crearan les següents llistes:\n",
    "    \n",
    "- valors $x$ parells, ($5 \\leq x \\leq 12$).\n",
    "- valors $x$ múltiples de 5, ($x \\leq 100$)\n",
    "- valors $x$, ($100 \\leq x \\leq 1000$), múltiples de 10, en ordre invers. És a dir 1000, 990, 980..."
   ]
  },
  {
   "cell_type": "code",
   "execution_count": 48,
   "metadata": {},
   "outputs": [
    {
     "name": "stdout",
     "output_type": "stream",
     "text": [
      "\n",
      " [6, 8, 10, 12] \n",
      " [5, 10, 15, 20, 25, 30, 35, 40, 45, 50, 55, 60, 65, 70, 75, 80, 85, 90, 95, 100] \n",
      " [1000, 990, 980, 970, 960, 950, 940, 930, 920, 910, 900, 890, 880, 870, 860, 850, 840, 830, 820, 810, 800, 790, 780, 770, 760, 750, 740, 730, 720, 710, 700, 690, 680, 670, 660, 650, 640, 630, 620, 610, 600, 590, 580, 570, 560, 550, 540, 530, 520, 510, 500, 490, 480, 470, 460, 450, 440, 430, 420, 410, 400, 390, 380, 370, 360, 350, 340, 330, 320, 310, 300, 290, 280, 270, 260, 250, 240, 230, 220, 210, 200, 190, 180, 170, 160, 150, 140, 130, 120, 110, 100]\n"
     ]
    }
   ],
   "source": [
    "parells = [x  for x in range (6,13,2)]\n",
    "multiples = [x*5  for x in range (1,21)]\n",
    "valors = [x*10  for x in range (100,9,-1)]\n",
    "print('\\n', parells, '\\n', multiples, '\\n', valors)"
   ]
  },
  {
   "cell_type": "markdown",
   "metadata": {},
   "source": [
    "**Pregunta 4:** Quin cost té trobar el màxim comú divisor de 2 nombres?"
   ]
  },
  {
   "cell_type": "code",
   "execution_count": null,
   "metadata": {
    "collapsed": true
   },
   "outputs": [],
   "source": [
    "n^2"
   ]
  },
  {
   "cell_type": "markdown",
   "metadata": {},
   "source": [
    "**Pregunta 5:** Quin ordre de complexitat segons la notació $O()$ tenen els algorismes que fan el següent nombre d'operacions?\n",
    "\n",
    "+ $n*log(n) + 2^n$\n",
    "+ $3 n^2 + log (n^{30})$\n",
    "+ $5^n + n^5$\n",
    "+ $a^b$ mod $N$ (on $a$ i $b$ són nombres molt grans i $N$ és un nombre petit)"
   ]
  },
  {
   "cell_type": "code",
   "execution_count": null,
   "metadata": {
    "collapsed": true
   },
   "outputs": [],
   "source": [
    "-O(2^n)\n",
    "-O(3n^2)\n",
    "-O(5^n)\n",
    "-"
   ]
  },
  {
   "cell_type": "markdown",
   "metadata": {},
   "source": [
    "**Pregunta 6:** Tenim una llista ordenada de 30 elements. Usem cerca binària. Busquem un element X que no és a la llista. Amb quants elements de la llista compararem X?"
   ]
  },
  {
   "cell_type": "code",
   "execution_count": null,
   "metadata": {
    "collapsed": true
   },
   "outputs": [],
   "source": [
    "Con todos los elementos de la lista NO. podriamos ir descartando sabiendo si x empieza por 1 o 0 i o acaba por 1 o 0 eso por ejemplo nos descartaria muchos elementos de la lista"
   ]
  },
  {
   "cell_type": "markdown",
   "metadata": {},
   "source": [
    "**Pregunta 7:** Què vol dir la \"distància d'edició\" entre un text S i un text T?"
   ]
  },
  {
   "cell_type": "code",
   "execution_count": null,
   "metadata": {
    "collapsed": true
   },
   "outputs": [],
   "source": []
  },
  {
   "cell_type": "markdown",
   "metadata": {},
   "source": [
    "**Pregunta 8:** En el context d'un algorisme genètic explica com i perquè creuaries aquests dos individus:\n",
    "    38  43"
   ]
  },
  {
   "cell_type": "code",
   "execution_count": null,
   "metadata": {
    "collapsed": true
   },
   "outputs": [],
   "source": [
    "el creuaria de manera aleatoria  i amb mutacions (no sempre tenen que donar algun canvi ja que el adn esta degenerat\n",
    "significa que els aminoacids no sempre canvien per una mutacio en cas que parlem duna mutacio de acids nucleics). \n",
    "Com indica  la teoria del neodarwinisme han dhaver mutacions per a que es produeixi algun canvi \n",
    "pot ser bo o dolent (ayudi a lindividu a sobreviure, doni igual el canvi o li fiqui encara més problemes \n",
    "per a sobreviure) sense  aquest canvi encara que el nou individu fos meitat del pare meitat de la mare de \n",
    "forma aleatoria no hi haurien canvis per tant tampoc selecció natural(sobrevivuen els més aptes) ni evolucio. "
   ]
  },
  {
   "cell_type": "markdown",
   "metadata": {},
   "source": [
    "**Pregunta 9:** Què significa que un problema sigui NP-hard?"
   ]
  },
  {
   "cell_type": "code",
   "execution_count": null,
   "metadata": {
    "collapsed": true
   },
   "outputs": [],
   "source": [
    "son algorismes poc eficients com per exemple trobar el millor (més eficient/curt) per un venedor que va a mes d'un lloc."
   ]
  },
  {
   "cell_type": "markdown",
   "metadata": {},
   "source": [
    "**Pregunta 10:** Calcula la complexitat segons el Teorema Màster dels següents algorismes:\n",
    "+ $T(n) = 2T(n/2) + n^2$    \n",
    "+ $T(n) = 2T(n/2) + n$\n",
    "+ $T(n) = 8T(n/2) + n^2$"
   ]
  },
  {
   "cell_type": "code",
   "execution_count": null,
   "metadata": {
    "collapsed": true
   },
   "outputs": [],
   "source": [
    "-O(n*log 2(2))\n",
    "-O(n^2*log(n))\n",
    "-O(n^3)"
   ]
  },
  {
   "cell_type": "markdown",
   "metadata": {},
   "source": [
    "## Problemes"
   ]
  },
  {
   "cell_type": "markdown",
   "metadata": {},
   "source": [
    "**Problema 1**: La darrera lletra del NIF es calcula a partir delsnombres del DNI. Per fer-ho, s'ha de dividir el nombre per 23 i quedar-se amb la resta, que és un nombre entre 0 i 22. LLavors s'aplica la següent taula per transformar aquest nombre en una lletra:\n",
    "\n",
    "|Resta | Lletra | Resta | Lletra |\n",
    "|------|--------|-------|--------|\n",
    "|   0  |   T    |  12   |   N    |\n",
    "|   1  |   R    |  13   |   J    |\n",
    "|   2  |   W    |  14   |   Z    |\n",
    "|   3  |   A    |  15   |   S    |\n",
    "|   4  |   G    |  16   |   Q    |\n",
    "|   5  |   M    |  17   |   V    |\n",
    "|   6  |   Y    |  18   |   H    |\n",
    "|   7  |   F    |  19   |   L    |\n",
    "|   8  |   P    |  20   |   C    |\n",
    "|   9  |   D    |  21   |   K    |\n",
    "|   10 |   X    |  22   |   E    |\n",
    "|   11 |   B    |  -    |   -    |\n",
    "   \n",
    "Escriu una funció, dni, que a partir del número de DNI retorni la lletra corresponent.\n",
    "Comprova que el DNI tingui el nombre de xifres que ha de tenir! Has de fer servir un diccionari."
   ]
  },
  {
   "cell_type": "code",
   "execution_count": 2,
   "metadata": {},
   "outputs": [
    {
     "ename": "SyntaxError",
     "evalue": "invalid syntax (<ipython-input-2-65faeaa7809c>, line 8)",
     "output_type": "error",
     "traceback": [
      "\u001b[1;36m  File \u001b[1;32m\"<ipython-input-2-65faeaa7809c>\"\u001b[1;36m, line \u001b[1;32m8\u001b[0m\n\u001b[1;33m    assert dni(39186275Y)=='W'\u001b[0m\n\u001b[1;37m                       ^\u001b[0m\n\u001b[1;31mSyntaxError\u001b[0m\u001b[1;31m:\u001b[0m invalid syntax\n"
     ]
    }
   ],
   "source": [
    "#Solució \n",
    "# Solució\n",
    "def dni(numero):\n",
    "    lletracorrespondiente={0:'T',1:'R',2:'W',3:'A',4:'G',5:'M',6:'Y',7:'F',8:'P',9:'D',10:'X',11:'B',12:'N',13:'J',14:'Z',15:'S',16:'Q',17:'V',18:'H',19:'L',20:'C',21:'K',22:'E'}\n",
    "    num=numero%23\n",
    "    resposta=lletracorrespondiente[num]\n",
    "    return resposta\n",
    "assert dni(39186275)=='W'"
   ]
  },
  {
   "cell_type": "markdown",
   "metadata": {},
   "source": [
    "**Problema 2** Donada una llista de nombres enters (possiblement desordenats) la funció ha de retornar la mateixa llista amb els nombres negatius al capdavant i els positius al darrera (sense importar l’ordre entre ells). Calcula la complexitat de la teva implementació.\n",
    "\n",
    "*Indicacions: Aquest algorisme es pot resoldre de la forma demanada amb una estratègia semblant a la partició del quicksort.*"
   ]
  },
  {
   "cell_type": "code",
   "execution_count": 1,
   "metadata": {
    "scrolled": true
   },
   "outputs": [
    {
     "ename": "IndexError",
     "evalue": "list index out of range",
     "output_type": "error",
     "traceback": [
      "\u001b[1;31m---------------------------------------------------------------------------\u001b[0m",
      "\u001b[1;31mIndexError\u001b[0m                                Traceback (most recent call last)",
      "\u001b[1;32m<ipython-input-1-0093faa5c77e>\u001b[0m in \u001b[0;36m<module>\u001b[1;34m()\u001b[0m\n\u001b[0;32m     35\u001b[0m     \u001b[1;32mreturn\u001b[0m \u001b[0mresposta\u001b[0m\u001b[1;33m\u001b[0m\u001b[0m\n\u001b[0;32m     36\u001b[0m \u001b[1;33m\u001b[0m\u001b[0m\n\u001b[1;32m---> 37\u001b[1;33m \u001b[1;32massert\u001b[0m \u001b[0mnegatius\u001b[0m\u001b[1;33m(\u001b[0m\u001b[1;33m[\u001b[0m\u001b[1;36m1\u001b[0m\u001b[1;33m,\u001b[0m\u001b[1;33m-\u001b[0m\u001b[1;36m2\u001b[0m\u001b[1;33m,\u001b[0m\u001b[1;36m3\u001b[0m\u001b[1;33m,\u001b[0m\u001b[1;33m-\u001b[0m\u001b[1;36m4\u001b[0m\u001b[1;33m,\u001b[0m\u001b[1;33m-\u001b[0m\u001b[1;36m3\u001b[0m\u001b[1;33m,\u001b[0m\u001b[1;36m5\u001b[0m\u001b[1;33m,\u001b[0m\u001b[1;33m-\u001b[0m\u001b[1;36m6\u001b[0m\u001b[1;33m]\u001b[0m\u001b[1;33m)\u001b[0m \u001b[1;33m==\u001b[0m \u001b[1;33m[\u001b[0m\u001b[1;33m-\u001b[0m\u001b[1;36m6\u001b[0m\u001b[1;33m,\u001b[0m \u001b[1;33m-\u001b[0m\u001b[1;36m2\u001b[0m\u001b[1;33m,\u001b[0m \u001b[1;33m-\u001b[0m\u001b[1;36m3\u001b[0m\u001b[1;33m,\u001b[0m \u001b[1;33m-\u001b[0m\u001b[1;36m4\u001b[0m\u001b[1;33m,\u001b[0m \u001b[1;36m3\u001b[0m\u001b[1;33m,\u001b[0m \u001b[1;36m5\u001b[0m\u001b[1;33m,\u001b[0m \u001b[1;36m1\u001b[0m\u001b[1;33m]\u001b[0m\u001b[1;33m\u001b[0m\u001b[0m\n\u001b[0m\u001b[0;32m     38\u001b[0m \u001b[1;32massert\u001b[0m \u001b[0mnegatius\u001b[0m\u001b[1;33m(\u001b[0m\u001b[1;33m[\u001b[0m\u001b[1;36m9\u001b[0m\u001b[1;33m,\u001b[0m\u001b[1;36m1\u001b[0m\u001b[1;33m,\u001b[0m\u001b[1;36m3\u001b[0m\u001b[1;33m,\u001b[0m\u001b[1;36m4\u001b[0m\u001b[1;33m,\u001b[0m\u001b[1;36m3\u001b[0m\u001b[1;33m,\u001b[0m\u001b[1;36m5\u001b[0m\u001b[1;33m,\u001b[0m\u001b[1;36m6\u001b[0m\u001b[1;33m]\u001b[0m\u001b[1;33m)\u001b[0m \u001b[1;33m==\u001b[0m \u001b[1;33m[\u001b[0m\u001b[1;36m9\u001b[0m\u001b[1;33m,\u001b[0m \u001b[1;36m1\u001b[0m\u001b[1;33m,\u001b[0m \u001b[1;36m3\u001b[0m\u001b[1;33m,\u001b[0m \u001b[1;36m4\u001b[0m\u001b[1;33m,\u001b[0m \u001b[1;36m3\u001b[0m\u001b[1;33m,\u001b[0m \u001b[1;36m5\u001b[0m\u001b[1;33m,\u001b[0m \u001b[1;36m6\u001b[0m\u001b[1;33m]\u001b[0m\u001b[1;33m\u001b[0m\u001b[0m\n",
      "\u001b[1;32m<ipython-input-1-0093faa5c77e>\u001b[0m in \u001b[0;36mnegatius\u001b[1;34m(llista)\u001b[0m\n\u001b[0;32m     13\u001b[0m                             \u001b[1;32mwhile\u001b[0m \u001b[1;32mnot\u001b[0m \u001b[1;33m(\u001b[0m\u001b[0mllista\u001b[0m\u001b[1;33m[\u001b[0m\u001b[0mn\u001b[0m\u001b[1;33m]\u001b[0m\u001b[1;33m<\u001b[0m\u001b[1;36m0\u001b[0m\u001b[1;33m)\u001b[0m\u001b[1;33m:\u001b[0m\u001b[1;33m\u001b[0m\u001b[0m\n\u001b[0;32m     14\u001b[0m                                 \u001b[1;32mfor\u001b[0m \u001b[0mj\u001b[0m \u001b[1;32min\u001b[0m \u001b[0mrange\u001b[0m \u001b[1;33m(\u001b[0m\u001b[0mlen\u001b[0m\u001b[1;33m(\u001b[0m\u001b[0mllista\u001b[0m\u001b[1;33m)\u001b[0m\u001b[1;33m,\u001b[0m\u001b[1;36m0\u001b[0m\u001b[1;33m,\u001b[0m\u001b[1;33m-\u001b[0m\u001b[1;36m1\u001b[0m\u001b[1;33m)\u001b[0m\u001b[1;33m:\u001b[0m\u001b[1;33m\u001b[0m\u001b[0m\n\u001b[1;32m---> 15\u001b[1;33m                                     \u001b[1;32mwhile\u001b[0m \u001b[0mllista\u001b[0m\u001b[1;33m[\u001b[0m\u001b[0mj\u001b[0m\u001b[1;33m]\u001b[0m\u001b[1;33m<\u001b[0m\u001b[1;36m0\u001b[0m\u001b[1;33m:\u001b[0m\u001b[1;33m\u001b[0m\u001b[0m\n\u001b[0m\u001b[0;32m     16\u001b[0m                                         \u001b[0mllista\u001b[0m\u001b[1;33m[\u001b[0m\u001b[0mj\u001b[0m\u001b[1;33m]\u001b[0m\u001b[1;33m,\u001b[0m\u001b[0mllista\u001b[0m\u001b[1;33m[\u001b[0m\u001b[0mg\u001b[0m\u001b[1;33m]\u001b[0m\u001b[1;33m=\u001b[0m\u001b[0mllista\u001b[0m\u001b[1;33m[\u001b[0m\u001b[0mg\u001b[0m\u001b[1;33m]\u001b[0m\u001b[1;33m,\u001b[0m\u001b[0mllista\u001b[0m\u001b[1;33m[\u001b[0m\u001b[0mj\u001b[0m\u001b[1;33m]\u001b[0m\u001b[1;33m\u001b[0m\u001b[0m\n\u001b[0;32m     17\u001b[0m                                         \u001b[1;32mfor\u001b[0m \u001b[0mi\u001b[0m \u001b[1;32min\u001b[0m \u001b[0mrange\u001b[0m\u001b[1;33m(\u001b[0m\u001b[0mlen\u001b[0m\u001b[1;33m(\u001b[0m\u001b[0mllista\u001b[0m\u001b[1;33m)\u001b[0m\u001b[1;33m)\u001b[0m\u001b[1;33m:\u001b[0m\u001b[1;33m\u001b[0m\u001b[0m\n",
      "\u001b[1;31mIndexError\u001b[0m: list index out of range"
     ]
    }
   ],
   "source": [
    "#Solució\n",
    "def negatius (llista):\n",
    "    resposta=0\n",
    "    negatius=0\n",
    "    for f in range(len(llista)):\n",
    "        if llista[f]<0: #si hay un num negativo\n",
    "            for g in range(len(llista)):\n",
    "                for m in range(len(llista)):\n",
    "                    while llista[m]<0:\n",
    "                        negatius=negatius + 1\n",
    "                        m+=1\n",
    "                        for n in range (negatius+1):\n",
    "                            while not (llista[n]<0):\n",
    "                                for j in range (len(llista),0,-1):\n",
    "                                    while llista[j]<0:\n",
    "                                        llista[j],llista[g]=llista[g],llista[j]\n",
    "                                        for i in range(len(llista)):\n",
    "                                            while llista[i]<0:\n",
    "                                                llista[i],llista[g]=llista[g],llista[i]\n",
    "                                                i+=1\n",
    "                                                g+=1\n",
    "                                                resposta=llista\n",
    "                                            g=g+1\n",
    "                                            j+=1\n",
    "                                            \n",
    "                                n+=1\n",
    "    \n",
    " \n",
    "    \n",
    "               \n",
    "        elif len(llista)==0:\n",
    "            print(\"la llista esta buida\")\n",
    "        else:\n",
    "            resposta=llista #si no hay numeros negatiovos devuelve la lista\n",
    "    return resposta  \n",
    "\n",
    "assert negatius([1,-2,3,-4,-3,5,-6]) == [-6, -2, -3, -4, 3, 5, 1]\n",
    "assert negatius([9,1,3,4,3,5,6]) == [9, 1, 3, 4, 3, 5, 6]"
   ]
  },
  {
   "cell_type": "code",
   "execution_count": null,
   "metadata": {
    "collapsed": true
   },
   "outputs": [],
   "source": [
    "#Solució\n",
    "def negatius (llista):\n",
    "    resposta=0\n",
    "    negatius=0\n",
    "    for j in range(len(llista)):\n",
    "        if llista[j]<0: #si hay un num negativo\n",
    "            if len(llista)%2==1:# si la lista tiene un num impar de componentes\n",
    "              \n",
    "                for i in range(len(llista)):#recorrido de la lista 0,1,2,3...\n",
    "                    for n in range (len(llista)/2+0.5):# llamemoslo primera mitad=recorrido hasta la mita de la lista como es impar hasta el elemento 3 contando desde 0\n",
    "                        for m in range (len(llista),len(llista)/2-0.5,-1):#llamemoslo segunda mitad=recorrido de la mitad de la lista hasta el fina es decir desde el elemento 4 hasta el 6 \n",
    "                            while llista[m]<0:#mientras encuentre un numero negativa en la segunda mitad\n",
    "                                llista[i],llista[m]=llista[m],llista[i]#el numero encontrado pasa al primer elemento de la nueva lista i el que se encontraba en primer lugar va a la posicion donde estaba el num negativo\n",
    "                                i+=1#lo mismo (necesito 2 i++ porque hay 2 while )\n",
    "                                while llista[n]<0:#mientras encuentre un numero negativa en la primera mitad\n",
    "                                    llista[i],llista[n]=llista[n],llista[i]# se hace lo mismo que he explicado antes lo pongo dentro del otro while para que coja uno de cada lista para ordenar \n",
    "                                    i+=1# i pasara de ser 0 a ser uno i asi sucesivamente\n",
    "                                    n+=1# lo mismo que antes\n",
    "                                    resposta=llista\n",
    "                                m=m+1#lo mismo que antes\n",
    "                             \n",
    "            elif len(llista)%2==0:# si la lista tiene un num par de componentes es igual que anteriormente \n",
    "                for i in range(len(llista)):\n",
    "                    for n in range (len(llista)/2):\n",
    "                        for m in range (len(llista),len(llista)/2):\n",
    "                            while llista[m]<0:\n",
    "                                llista[i],llista[m]=llista[m],llista[i]\n",
    "                                while llista[n]<0:\n",
    "                                    llista[i],llista[m]=llista[m],llista[i]\n",
    "                                    i+=1\n",
    "                                    n+=1\n",
    "                                    resposta=llista\n",
    "                                m=m+1\n",
    "                                i+=1\n",
    "            elif len(llista)==0:\n",
    "                print(\"la llista esta buida\")\n",
    "        else:\n",
    "            resposta=llista #si no hay numeros negatiovos devuelve la lista\n",
    "    return resposta  \n",
    "\n",
    "assert negatius([1,-2,3,-4,-3,5,-6]) == [-6, -2, -3, -4, 3, 5, 1]\n",
    "assert negatius([9,1,3,4,3,5,6]) == [9, 1, 3, 4, 3, 5, 6]"
   ]
  },
  {
   "cell_type": "code",
   "execution_count": null,
   "metadata": {
    "collapsed": true
   },
   "outputs": [],
   "source": []
  }
 ],
 "metadata": {
  "kernelspec": {
   "display_name": "Python 3",
   "language": "python",
   "name": "python3"
  },
  "language_info": {
   "codemirror_mode": {
    "name": "ipython",
    "version": 3
   },
   "file_extension": ".py",
   "mimetype": "text/x-python",
   "name": "python",
   "nbconvert_exporter": "python",
   "pygments_lexer": "ipython3",
   "version": "3.6.1"
  }
 },
 "nbformat": 4,
 "nbformat_minor": 2
}
