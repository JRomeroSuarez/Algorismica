{
 "cells": [
  {
   "cell_type": "markdown",
   "metadata": {},
   "source": [
    "# Sessió 3: Algorismes Numèrics\n",
    "\n",
    "Indicacions:\n",
    "+ Cada exercici s'ha de poder respondre executant una única funció (tot i que aquesta funció pot cridar altres funcions si és necessari)."
   ]
  },
  {
   "cell_type": "markdown",
   "metadata": {},
   "source": [
    "### Multiples de 3 i 5\n",
    "\n",
    "Els nombre naturals menors que 10 que són múltiples de 3 o 5 són 3,5,6, i 9. La suma d'aquests múltiples és 23. Calcula la suma de tots els naturals que són múltiples de 3 o 5 i que són menors que 1000.\n",
    "\n",
    "Indicacions:\n",
    "+ Usar comprensions de llistes."
   ]
  },
  {
   "cell_type": "code",
   "execution_count": 3,
   "metadata": {},
   "outputs": [
    {
     "data": {
      "text/plain": [
       "233168"
      ]
     },
     "execution_count": 3,
     "metadata": {},
     "output_type": "execute_result"
    }
   ],
   "source": [
    "def multiples():\n",
    "    \"\"\"\n",
    "    Multiples de 3 i 5\n",
    "    \"\"\"\n",
    "    answer = [i for i in range(1, 1000) if i % 3 == 0 or i % 5 == 0]\n",
    "    return (sum(answer))\n",
    "\n",
    "multiples()"
   ]
  },
  {
   "cell_type": "markdown",
   "metadata": {},
   "source": [
    "### Suma dels termes parells de Fibonacci\n",
    "\n",
    "Calcula la suma dels termes parells de la funció de Fibonacci menors de quatre milions. Quant triga? "
   ]
  },
  {
   "cell_type": "code",
   "execution_count": 4,
   "metadata": {},
   "outputs": [
    {
     "name": "stdout",
     "output_type": "stream",
     "text": [
      "3.23 µs ± 102 ns per loop (mean ± std. dev. of 7 runs, 100000 loops each)\n",
      "4613732\n"
     ]
    }
   ],
   "source": [
    "def fib1(n):\n",
    "    \"\"\"\n",
    "    Suma dels termes parells de Fibonacci\n",
    "    \"\"\"\n",
    "    suma, a, b = 0, 1, 2  \n",
    "    while b < n:      \n",
    "        if b%2 == 0:        \n",
    "            suma += b     \n",
    "        a, b = b, a + b     \n",
    "    return(suma)\n",
    " \n",
    "%timeit fib1(4000000)\n",
    "print(fib1(4000000))"
   ]
  },
  {
   "cell_type": "markdown",
   "metadata": {},
   "source": [
    "### Factor primer més gran\n",
    "\n",
    "Els factors primers de 13195 són 5, 7, 13 i 29. 29 és per tant el seu factor primer més gran. Quin és el factor primer més gran de 600851475143?"
   ]
  },
  {
   "cell_type": "code",
   "execution_count": null,
   "metadata": {
    "collapsed": true
   },
   "outputs": [],
   "source": [
    "def fpmg(n):\n",
    "    \"\"\"\n",
    "    Factor primer més gran\n",
    "    \"\"\"\n",
    "    divisor = 2\n",
    "    while n > 1:\n",
    "        if not n % divisor:\n",
    "            n /= divisor\n",
    "            divisor -= 1\n",
    "        divisor += 1\n",
    "    return divisor\n",
    "\n",
    "assert fpmg(600851475143) == 6857"
   ]
  },
  {
   "cell_type": "markdown",
   "metadata": {},
   "source": [
    "### Múltiple més petit (recursiva)\n",
    "\n",
    "2520 és el nombre més petit que es pot dividir de forma exacta (sense decimals) per cada un dels nombres entre 1 i 10. Quin és el nombre més petit que es pot dividir per cada un dels nombres de 1 a 20?\n",
    "\n",
    "Indicacions:\n",
    "+  Escriu una funció a part, `divisible`,  per comprovar que un nombre pot ser dividit de forma exacta."
   ]
  },
  {
   "cell_type": "code",
   "execution_count": 1,
   "metadata": {},
   "outputs": [
    {
     "data": {
      "text/plain": [
       "232792560"
      ]
     },
     "execution_count": 1,
     "metadata": {},
     "output_type": "execute_result"
    }
   ],
   "source": [
    "def divisible(number, x):\n",
    "    \"\"\"\n",
    "    Test de divisibilitat\n",
    "    \"\"\"\n",
    "    for i in reversed(range(2,x+1)):\n",
    "        if number%i !=0:\n",
    "            return False\n",
    "        else:\n",
    "            return True\n",
    "        \n",
    "    \n",
    "    \n",
    "def divisiblePer(x):                      \n",
    "    if x<1:\n",
    "        return False\n",
    "    elif x == 1:\n",
    "        return 1\n",
    "    else:\n",
    "        step = divisiblePer(x-1)\n",
    "        number = 0\n",
    "        found = False\n",
    "        while not found:\n",
    "            number += step\n",
    "            found = divisible(number,x)\n",
    "        return number\n",
    "\n",
    "divisiblePer(20)\n",
    "\n"
   ]
  },
  {
   "cell_type": "markdown",
   "metadata": {},
   "source": [
    "### Sumatori parcial\n",
    "\n",
    "Donada una llista d’enters, trobar el sumatori parcial (d'enters consecutius a la llista) de valor màxim.\n",
    "\n",
    "Indicacions:\n",
    "+ Aquest algorisme es pot implementar de tres maneres. De moment implementeu només la primera:\n",
    "    + Força bruta $(O(n*n))$\n",
    "    + Divide & conquer $(O(n log n))$\n",
    "    + Kadane's algorithm $(O(n))$"
   ]
  },
  {
   "cell_type": "code",
   "execution_count": null,
   "metadata": {
    "collapsed": true
   },
   "outputs": [],
   "source": [
    "def mssl(l):\n",
    "    sumatoris = [0]\n",
    "    temp = 0\n",
    "    if l ==[]:\n",
    "        return 0 \n",
    "\n",
    "assert mssl([]) == 0\n",
    "assert mssl([-1]) == 0\n",
    "assert mssl([1, 2, 3]) == 6\n",
    "assert mssl([2, -5, 3]) == 3\n",
    "assert mssl([-5, 1, 4, -2, 2, -1, 2, -3, 1, -3, 4]) == 6"
   ]
  },
  {
   "cell_type": "markdown",
   "metadata": {},
   "source": [
    "+ Quant triga en calcular la suma per un vector aleatori $x$ com aquest?"
   ]
  },
  {
   "cell_type": "code",
   "execution_count": null,
   "metadata": {
    "collapsed": true
   },
   "outputs": [],
   "source": [
    "from random import randint\n",
    "x=[randint(-100,100) for p in range(1000000)]"
   ]
  },
  {
   "cell_type": "markdown",
   "metadata": {},
   "source": [
    "### Binari\n",
    "\n",
    "Donat un número $N$, crea tots els nombres binaris entre 1 i $N$, ambdós inclosos.\n",
    "\n",
    "Indicacions:\n",
    "+ Dóna el resultat usant 16 bits."
   ]
  },
  {
   "cell_type": "code",
   "execution_count": 12,
   "metadata": {},
   "outputs": [
    {
     "data": {
      "text/plain": [
       "'0000000000000101'"
      ]
     },
     "execution_count": 12,
     "metadata": {},
     "output_type": "execute_result"
    }
   ],
   "source": [
    "def generaBinari(N):\n",
    "    \"\"\"\n",
    "    Aquesta funció genera els nombres binaris\n",
    "    entre 1 i N\n",
    "    :param N el valor més gran pels binaris\n",
    "    \"\"\"\n",
    "    binari = ''\n",
    "    while N / 2 !=0:\n",
    "        binari = str(N%2) + binari\n",
    "        N = N//2\n",
    "    binari =str(N) + binari\n",
    "    while len(binari) <16:\n",
    "        binari = \"0\"+binari\n",
    "    return binari\n",
    "\n",
    "generaBinari(5)"
   ]
  },
  {
   "cell_type": "markdown",
   "metadata": {},
   "source": [
    "### Implementació eficient de la potència\n",
    "\n",
    "Donats dos enters $x$ i $y$, amb $y>=0$, calcular de manera eficient al valor de la potència $x$ elevat a $y$.\n",
    "\n",
    "Indicacions:\n",
    "+ Recordes com funcionen els exponents?. Si no ho recordes, t'aconsellem aquest repàs sobre les propietats dels exponents a [Khan Academy](https://es.khanacademy.org/math/pre-algebra/pre-algebra-exponents-radicals/pre-algebra-exponent-properties/a/exponent-properties-review). Quines propietats són aplicables al problema?\n",
    "+ Aplica recursivitat."
   ]
  },
  {
   "cell_type": "code",
   "execution_count": 2,
   "metadata": {
    "collapsed": true
   },
   "outputs": [],
   "source": [
    "#solucio força bruta\n",
    "\"\"\"\n",
    "Aquesta funció calcula la potència de x elevada a y\n",
    ":param x,y dos enters no negatius\n",
    ":return potencia, el resultat de la potència\n",
    "\"\"\"\n",
    "\n",
    "\n",
    "def potencia(x, y):\n",
    "    potencia = 1\n",
    "    for i in range(0,y):\n",
    "        potencia = potencia *x\n",
    "    return potencia\n",
    "\n",
    "assert potencia(-2,10) == 1024\n",
    "assert potencia(-3,4) == 81\n",
    "assert potencia(5,0) == 1\n",
    "assert potencia(-2,3) == -8"
   ]
  },
  {
   "cell_type": "code",
   "execution_count": 3,
   "metadata": {
    "collapsed": true
   },
   "outputs": [],
   "source": [
    "#solucio recursiva\n",
    "\n",
    "\"\"\"\n",
    "Aquesta funció calcula de forma eficient la potència de x elevada a y\n",
    "gràcies a que potencia(x,y)=potencia(x,y/2)*potencia(x,y/2) [*x si y és senar]\n",
    ":param x,y dos enters no negatius\n",
    ":return potencia, el resultat de la potència\n",
    "\"\"\"\n",
    "\n",
    "# solució optimitzada\n",
    "def potenciarec(x, y):\n",
    "    if y == 0:\n",
    "        return 1\n",
    "    if y == 1:\n",
    "        return x\n",
    "    potencia = potenciarec(x,y//2)\n",
    "    if (y % 2 == 0):\n",
    "        return potencia * potencia \n",
    "    else:\n",
    "        return potencia * potencia * x\n",
    "\n",
    "assert potencia(-2,10) == 1024\n",
    "assert potencia(-3,4) == 81\n",
    "assert potencia(5,0) == 1\n",
    "assert potencia(-2,3) == -8"
   ]
  },
  {
   "cell_type": "markdown",
   "metadata": {},
   "source": [
    "### Suma de parelles\n",
    "\n",
    "Donada una llista d’enters i un valor de suma, trobar totes les parelles de nombres a la llista que sumin aquest valor."
   ]
  },
  {
   "cell_type": "code",
   "execution_count": 5,
   "metadata": {},
   "outputs": [
    {
     "data": {
      "text/plain": [
       "['3+7', '5+5', '2+8']"
      ]
     },
     "execution_count": 5,
     "metadata": {},
     "output_type": "execute_result"
    }
   ],
   "source": [
    "def parellesSuma2(llista, valorSuma):\n",
    "    parelles =[]\n",
    "    strTemp =\"\"\n",
    "    for x in range(0, len(llista)):\n",
    "        for y in range(x+1,len(llista)):\n",
    "            if llista[x] + llista[y] == valorSuma:\n",
    "                strTemp =str(llista[x])+\"+\"+str(llista[y])\n",
    "                parelles.append(strTemp)\n",
    "                strTemp = \"\"\n",
    "    return parelles\n",
    "                \n",
    "            \n",
    "parellesSuma2([3,5,5,2,7,8],10)"
   ]
  },
  {
   "cell_type": "markdown",
   "metadata": {},
   "source": [
    "### Màxim i mínim\n",
    "\n",
    "Donada una llista d’enters, trobar el valor mínim i el valor màxim amb un algorisme $O(N)$ intentant minimitzar el nombre de comparacions."
   ]
  },
  {
   "cell_type": "code",
   "execution_count": 13,
   "metadata": {},
   "outputs": [],
   "source": [
    "# Solució força bruta\n",
    "\"\"\"\n",
    "Aquesta funció, donada una llista d’enters,\n",
    "troba el valor mínim i el valor màxim.\n",
    ":param llista, la llista d'enters\n",
    ":return min, max els valors mínim i màxim dins la llista\n",
    "\"\"\"\n",
    "\n",
    "\n",
    "def minMax(llista):\n",
    "    min = max = llista[0]\n",
    "    for i in range(0,len(llista)):\n",
    "        if llista[i] < min:\n",
    "            min = llista[i]\n",
    "        if llista[i] > max:\n",
    "            max = llista[i]\n",
    "    return min,max\n",
    "\n"
   ]
  },
  {
   "cell_type": "markdown",
   "metadata": {},
   "source": [
    "### Sumes i quadrats\n",
    "\n",
    "La *suma dels quadrats* dels primer 10 nombres naturals és $1^2 + 2^2 + ... + 10^2 = 385$.\n",
    "\n",
    "El *quadrat de la suma* dels primer 10 nombres naturals és $(1 + 2 + ... + 10)^2 = 55^2 = 3025$.\n",
    "\n",
    "Per tant, la diferència entre la suma d'aquests quadrats i el quadrat de la suma és $3025 − 385 = 2640$.\n",
    "\n",
    "Troba aquesta diferència pel cas dels 100 primers nombres naturals."
   ]
  },
  {
   "cell_type": "code",
   "execution_count": null,
   "metadata": {
    "collapsed": true
   },
   "outputs": [],
   "source": [
    "def sumQuadrats(n):\n",
    "    suma = 1\n",
    "    quadrats = 1\n",
    "    for x in range(2, n+1):\n",
    "        quadrats = quadrats +x\n",
    "        suma = suma + x*x\n",
    "    quadrats = quadrats * quadrats\n",
    "    return quadrats-suma\n",
    "        \n",
    "\n",
    "sumQuadrats(100)"
   ]
  },
  {
   "cell_type": "markdown",
   "metadata": {},
   "source": [
    "### El primer nombre 10001.\n",
    "\n",
    "Si llistem els primers 6 nombres primers: 2, 3, 5, 7, 11, and 13, podem veure que el 6è primer és el 13. Quin és el primer que ocupa la posició 10001?"
   ]
  },
  {
   "cell_type": "code",
   "execution_count": 13,
   "metadata": {},
   "outputs": [
    {
     "data": {
      "text/plain": [
       "1229"
      ]
     },
     "execution_count": 13,
     "metadata": {},
     "output_type": "execute_result"
    }
   ],
   "source": [
    "def prime(n):\n",
    "    llistaNoPrimers = list()\n",
    "    for i in range(2, int(n**0.5)):\n",
    "        for j in range(i*i,n+1,i):\n",
    "            llistaNoPrimers.append(j)\n",
    "    llistaPrimers = (n-1) - len(set(llistaNoPrimers))\n",
    "    return llistaPrimers\n",
    "\n",
    "prime(10001)"
   ]
  },
  {
   "cell_type": "markdown",
   "metadata": {},
   "source": [
    "### Suma dels dígits d'una potència\n",
    "\n",
    "Quant sumen els dígits de $2^{1000}$?"
   ]
  },
  {
   "cell_type": "code",
   "execution_count": null,
   "metadata": {
    "collapsed": true
   },
   "outputs": [],
   "source": [
    "def sumDigits(n):\n",
    "    import math\n",
    "    potenciarec = 0\n",
    "    a = str(math.pow(2,n))\n",
    "    valor = 0\n",
    "    for i in range(0,len(a)):\n",
    "        valor += int(a[i])\n",
    "    return valor\n",
    "\n",
    "\n",
    "sumDigits(1000)"
   ]
  },
  {
   "cell_type": "markdown",
   "metadata": {},
   "source": [
    "### Potència de 2\n",
    "\n",
    "Determinar si un nombre és potència de 2.\n",
    "\n",
    "Indicacions: \n",
    "+ Si ens fixem en la representació binària d'un nombre és fàcil veure que les potències de 2 només tenen un bit a 1. \n",
    "+ A nivell de bits, donada una potència de 2 (p.e. 010000), el nombre anterior té una forma complementaria en el bits menys significatius (001111). \n",
    "+ Recordeu que Python té operadors que actuen directament sobre els bits d'una variable."
   ]
  },
  {
   "cell_type": "code",
   "execution_count": 15,
   "metadata": {},
   "outputs": [],
   "source": [
    "def potencia(n):\n",
    "    if n <= 0:\n",
    "        return False\n",
    "    return (n & (n-1)) == 0\n",
    "\n",
    "assert potencia(1024) == True\n",
    "assert potencia(2**2345) == True\n",
    "assert potencia(2**2345+1) == False"
   ]
  },
  {
   "cell_type": "code",
   "execution_count": null,
   "metadata": {
    "collapsed": true
   },
   "outputs": [],
   "source": []
  }
 ],
 "metadata": {
  "kernelspec": {
   "display_name": "Python 3",
   "language": "python",
   "name": "python3"
  },
  "language_info": {
   "codemirror_mode": {
    "name": "ipython",
    "version": 3
   },
   "file_extension": ".py",
   "mimetype": "text/x-python",
   "name": "python",
   "nbconvert_exporter": "python",
   "pygments_lexer": "ipython3",
   "version": "3.6.3"
  }
 },
 "nbformat": 4,
 "nbformat_minor": 2
}
