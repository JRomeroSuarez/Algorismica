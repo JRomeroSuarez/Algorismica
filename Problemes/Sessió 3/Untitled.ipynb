{
 "cells": [
  {
   "cell_type": "code",
   "execution_count": null,
   "metadata": {
    "collapsed": true
   },
   "outputs": [],
   "source": [
    "def exponent(a,n):\n",
    "    import math\n",
    "    if n ==1:\n",
    "        return a\n",
    "    else:\n",
    "        return exponent(a, math.floor(n/2.0))*exponent(a,math.ceil(n/2.0))"
   ]
  },
  {
   "cell_type": "code",
   "execution_count": null,
   "metadata": {},
   "outputs": [],
   "source": [
    "exponent(2,5)"
   ]
  },
  {
   "cell_type": "code",
   "execution_count": null,
   "metadata": {},
   "outputs": [],
   "source": [
    "def reverse(a):\n",
    "    if a == \"\":return a\n",
    "    return reverse (a[1:])+a[0]\n",
    "reverse(\"Hola\")"
   ]
  },
  {
   "cell_type": "code",
   "execution_count": null,
   "metadata": {},
   "outputs": [],
   "source": [
    "def main():\n",
    "    print(\"Aquest programa implemeta un comportament caotic\")\n",
    "    x = input(\"Entra un nombre entre 0 i 1\")\n",
    "    x = float(x)\n",
    "    for i in range(10):\n",
    "        x = 3.9*x*(1-x)\n",
    "        print(x)\n",
    "main()\n"
   ]
  },
  {
   "cell_type": "code",
   "execution_count": null,
   "metadata": {},
   "outputs": [],
   "source": [
    "def main():\n",
    "    \"Calcul de la mitjana de dos examens\"\n",
    "    nota1, nota2 = eval(input(\"introdueix la nota dels dos examens separats per una coma\"))\n",
    "    mitja = (nota1+nota2)/2.0\n",
    "    return mitja\n",
    "main()"
   ]
  },
  {
   "cell_type": "code",
   "execution_count": null,
   "metadata": {},
   "outputs": [],
   "source": [
    "fact = 1\n",
    "for factor in [6,5,4,3,2,1]:\n",
    "    fact = factor*fact\n",
    "print(fact)"
   ]
  },
  {
   "cell_type": "code",
   "execution_count": null,
   "metadata": {},
   "outputs": [],
   "source": [
    "def factorial(num):\n",
    "    factorial = 1\n",
    "    if num<0:\n",
    "        print(\"introdueix num positiu\")\n",
    "    elif num == 0:\n",
    "        print(\"El factor de 0 es 1\")\n",
    "    else:\n",
    "        for i in range(1,num+1):\n",
    "            factorial = factorial *i\n",
    "    print(\"el factorial de\",num,\"es\",factorial)\n",
    "\n",
    "        "
   ]
  },
  {
   "cell_type": "code",
   "execution_count": null,
   "metadata": {},
   "outputs": [],
   "source": [
    "factorial(10)"
   ]
  },
  {
   "cell_type": "code",
   "execution_count": null,
   "metadata": {
    "collapsed": true
   },
   "outputs": [],
   "source": [
    "def mes():\n",
    "    mesos = \"GenFebMarAbrMaiJunJulAgoSetOctNovDes\"\n",
    "    n = eval(input(\"Quin mes vols?\"))\n",
    "    pos = (n-1)*3\n",
    "    m = mesos[pos:pos+3]\n",
    "    print(\"L'abreviació es: \",m)"
   ]
  },
  {
   "cell_type": "code",
   "execution_count": null,
   "metadata": {},
   "outputs": [],
   "source": [
    "mes()"
   ]
  },
  {
   "cell_type": "code",
   "execution_count": null,
   "metadata": {},
   "outputs": [],
   "source": [
    "def square(x):\n",
    "    return x*x\n",
    "def sumDiff(x,y):\n",
    "    sum = x+y\n",
    "    diff = x-y\n",
    "    return sum,diff\n",
    "num1,num2 = eval(input(\"introduiu dos nombres separats per comes\"))\n",
    "s,d = sumDiff(num1,num2)\n",
    "print(\"la suma es: \",s,\"i la diferencia es:\", d)"
   ]
  },
  {
   "cell_type": "code",
   "execution_count": null,
   "metadata": {},
   "outputs": [],
   "source": [
    "square(2)\n",
    "sumDiff(5,6)"
   ]
  },
  {
   "cell_type": "code",
   "execution_count": null,
   "metadata": {
    "collapsed": true
   },
   "outputs": [],
   "source": [
    "def main():\n",
    "    sum = 0\n",
    "    count = 0\n",
    "    x = eval(input(\"Entra un nombre, negatiu per parar\"))\n",
    "    while x>0:\n",
    "        sum = sum+x\n",
    "        count = count +1\n",
    "        x = eval(input(\"Entra un nombre, negatiu per parara\"))\n",
    "    print(\"la mitja de totes les operacions es: \", sum/count)"
   ]
  },
  {
   "cell_type": "code",
   "execution_count": null,
   "metadata": {},
   "outputs": [],
   "source": [
    "main()"
   ]
  },
  {
   "cell_type": "code",
   "execution_count": null,
   "metadata": {},
   "outputs": [],
   "source": [
    "def main():\n",
    "    sum = 0\n",
    "    count = 0\n",
    "    xStr = input(\"Entra un nombre, espai per parar\")\n",
    "    while xStr != \"\":\n",
    "        x = eval(xStr)\n",
    "        sum = sum+x\n",
    "        count = count +1\n",
    "        xStr = input(\"introdueix un nombre\")\n",
    "    print (\"la mitja es: \", sum/count)"
   ]
  },
  {
   "cell_type": "code",
   "execution_count": null,
   "metadata": {},
   "outputs": [],
   "source": [
    "main()"
   ]
  },
  {
   "cell_type": "code",
   "execution_count": null,
   "metadata": {},
   "outputs": [],
   "source": [
    "def getNumbers():\n",
    "    nums = []\n",
    "    xStr= input(\"Enter a number(enter to quit)\")\n",
    "    while xStr != \"\":\n",
    "        x = eval(xStr)\n",
    "        nums.append(x)\n",
    "        xStr = input(\"Enter a number\")\n",
    "    nums.sort()\n",
    "    return nums"
   ]
  },
  {
   "cell_type": "code",
   "execution_count": null,
   "metadata": {},
   "outputs": [],
   "source": [
    "getNumbers()"
   ]
  },
  {
   "cell_type": "code",
   "execution_count": 6,
   "metadata": {},
   "outputs": [
    {
     "data": {
      "text/plain": [
       "2"
      ]
     },
     "execution_count": 6,
     "metadata": {},
     "output_type": "execute_result"
    }
   ],
   "source": [
    "def fib1(n):\n",
    "    if n == 0:return n\n",
    "    if n == 1:return n\n",
    "    return fib1(n-1) + fib1(n-2)\n",
    "\n",
    "fib1(3)"
   ]
  },
  {
   "cell_type": "code",
   "execution_count": null,
   "metadata": {
    "collapsed": true
   },
   "outputs": [],
   "source": [
    "def fib2(n):\n",
    "    if n == 0:\n",
    "        return 0 \n",
    "    ls = [0,1]\n",
    "    for i in range(2,n+1):\n",
    "        ls.append(ls[i-1]+ls[i-2])\n",
    "    return ls[n]\n"
   ]
  },
  {
   "cell_type": "code",
   "execution_count": null,
   "metadata": {
    "collapsed": true
   },
   "outputs": [],
   "source": []
  }
 ],
 "metadata": {
  "kernelspec": {
   "display_name": "Python 3",
   "language": "python",
   "name": "python3"
  },
  "language_info": {
   "codemirror_mode": {
    "name": "ipython",
    "version": 3
   },
   "file_extension": ".py",
   "mimetype": "text/x-python",
   "name": "python",
   "nbconvert_exporter": "python",
   "pygments_lexer": "ipython3",
   "version": "3.6.1"
  }
 },
 "nbformat": 4,
 "nbformat_minor": 2
}
