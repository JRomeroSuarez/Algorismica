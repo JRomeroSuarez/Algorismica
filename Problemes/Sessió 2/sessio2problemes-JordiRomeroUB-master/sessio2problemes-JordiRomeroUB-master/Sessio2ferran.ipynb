{
 "cells": [
  {
   "cell_type": "markdown",
   "metadata": {},
   "source": [
    "# Sessió 2: Python II\n",
    "\n",
    "Indicacions:\n",
    "+ Cada exercici s'ha de poder respondre executant una única funció (tot i que aquesta funció pot cridar altres funcions si és necessari)."
   ]
  },
  {
   "cell_type": "markdown",
   "metadata": {},
   "source": [
    "## Calculadora\n",
    "\n",
    "Creeu una funció anomenada `calculadora` que permeti fer operacions de suma, resta i multiplicació amb nombres naturals a partir d'una entrada que sigui `string`. L'usuari anirà entrant les operacions, i quan vulgui acabar farà `<Enter>`"
   ]
  },
  {
   "cell_type": "markdown",
   "metadata": {},
   "source": [
    "Exemple de funcionament:\n",
    "\n",
    "**Calculadora**\n",
    "\n",
    "     Entra operació: 4+5\n",
    "     9\n",
    "     Entra operació: 7-2\n",
    "     5\n",
    "     Entra operació: 1*4"
   ]
  },
  {
   "cell_type": "markdown",
   "metadata": {},
   "source": [
    "**Pregunta 1**: Quin tipus d'iteració cal per anar demanant dades a l'usuari? "
   ]
  },
  {
   "cell_type": "markdown",
   "metadata": {},
   "source": [
    "Input"
   ]
  },
  {
   "cell_type": "markdown",
   "metadata": {
    "collapsed": true
   },
   "source": [
    "**Pregunta 2**: Pensa en la descomposició de funcions. Creus que la funció `calculadora` es pot descomposar en altres? En quines?"
   ]
  },
  {
   "cell_type": "markdown",
   "metadata": {},
   "source": [
    "Si en 3 funcions basiques (suma,resta,multiplicacio)"
   ]
  },
  {
   "cell_type": "markdown",
   "metadata": {},
   "source": [
    "**Pregunta 3**: Escriu el codi de la funció."
   ]
  },
  {
   "cell_type": "code",
   "execution_count": 1,
   "metadata": {},
   "outputs": [
    {
     "name": "stdout",
     "output_type": "stream",
     "text": [
      "Entra operació: 4+5\n"
     ]
    },
    {
     "data": {
      "text/plain": [
       "9"
      ]
     },
     "execution_count": 1,
     "metadata": {},
     "output_type": "execute_result"
    }
   ],
   "source": [
    "# Escriu aquí el codi de la funció/les funcions, \n",
    "# seguint les directrius d'estil PEP8\n",
    "def multiplicació(operacio,ubicacio):\n",
    "    a=int(operacio[0:ubicacio])\n",
    "    b=int(operacio[ubicacio+1:len(operacio)])\n",
    "    resultat=a*b\n",
    "    return resultat\n",
    "\n",
    "def suma(operacio,ubicacio):\n",
    "    a=int(operacio[0:ubicacio])\n",
    "    b=int(operacio[ubicacio+1:len(operacio)])\n",
    "    resultat=a+b\n",
    "    return resultat\n",
    "\n",
    "def resta(operacio,ubicacio):\n",
    "    a=int(operacio[0:ubicacio])\n",
    "    b=int(operacio[ubicacio+1:len(operacio)])\n",
    "    resultat=a-b\n",
    "    return resultat\n",
    "\n",
    "def calculadora():\n",
    "    operacio = input(\"Entra operació: \")\n",
    "    ubicacio= 0\n",
    "    for a in range(0,len(operacio)-1):\n",
    "        if operacio[a] == \"*\":\n",
    "            ubicacio=a\n",
    "            return multiplicació(operacio, ubicacio)\n",
    "        elif operacio[a] == \"+\":\n",
    "            ubicacio=a\n",
    "            return suma(operacio, ubicacio)\n",
    "        elif operacio[a] == \"-\":\n",
    "            ubicacio=a\n",
    "            return resta(operacio, ubicacio)\n",
    "calculadora()\n",
    "    "
   ]
  },
  {
   "cell_type": "markdown",
   "metadata": {},
   "source": [
    "## Compressió de dades Run Length Encoding (RLE):\n",
    "\n",
    "Escriu una funció que donat un text de lletres ASCII el codifiqui segons l’algorisme Run Length Encoding (RLE).\n",
    "\n",
    "\n",
    "Run Length Encoding és un algorisme de compressió de dades sense pèrdua que es basa en codificar els valors repetits un sol cop juntament amb el seu recompte.\n",
    "\n",
    "\n",
    "Per exemple, imaginem una pantalla amb text negre sobre blanc. Una línia d’aquesta pantalla podria ser:\n",
    "\n",
    "`BBBBBBBNBBBBBBBBBBBBBNNNBBBBBBBBBBBBNBBBBBBBBB`\n",
    "\n",
    "Aquesta línia es podria indicar de manera comprimida amb RLE com a:\n",
    "\n",
    "`B7N1B13N3B12N1B9`\n",
    "\n",
    "De manera que es podria reinterpretar com 7 caràcters blancs, 1 de negre, 13 de blancs, 3 de negres, 12 de blancs, 1 de negre i 9 de blancs recuperant la línia original sense cap pèrdua."
   ]
  },
  {
   "cell_type": "markdown",
   "metadata": {},
   "source": [
    "**Pregunta 1**: Quina solució hauria de donar per als següents valors:\n",
    "\n",
    "- `ABBBBNNNEEEDDDZZAAAAA` \n",
    "- `BBBBBBBBBBBBBBBBBWWWWWWZAAA`"
   ]
  },
  {
   "cell_type": "markdown",
   "metadata": {},
   "source": [
    "- A1B$4N3E3D3Z2A5\n",
    "- B17W6Z1A3"
   ]
  },
  {
   "cell_type": "markdown",
   "metadata": {},
   "source": [
    "**Pregunta 2**: Quants caràcters s’escurça el text comprimit? Comenta el cas millor i el cas pitjor. "
   ]
  },
  {
   "cell_type": "markdown",
   "metadata": {},
   "source": [
    "- Millor: 1 sola lletra i un nombre superior a 2\n",
    "- Pitjor: moltes lletres d'una longitud 1"
   ]
  },
  {
   "cell_type": "markdown",
   "metadata": {},
   "source": [
    "**Pregunta 3**: Escriu el codi de la funció."
   ]
  },
  {
   "cell_type": "code",
   "execution_count": 5,
   "metadata": {
    "collapsed": true
   },
   "outputs": [],
   "source": [
    "# Escriu el codi de la funció/les funcions, \n",
    "# seguint les directrius d'estil PEP8\n",
    "def rle(valor):\n",
    "    abr=\"\"\n",
    "    a,b=0\n",
    "    for b in range(0,len(valor)):\n",
    "            if valor[b]!=valor[a]:\n",
    "                abr+=valor[a]\n",
    "                abr+=str(b-a)\n",
    "                a=b\n",
    "    abr+=valor[a]\n",
    "    abr+=str(len(valor)-a) \n",
    "\n",
    "    return abr\n"
   ]
  },
  {
   "cell_type": "code",
   "execution_count": 6,
   "metadata": {},
   "outputs": [
    {
     "data": {
      "text/plain": [
       "'B7N1B13N3B12N1B9'"
      ]
     },
     "execution_count": 6,
     "metadata": {},
     "output_type": "execute_result"
    }
   ],
   "source": [
    "# Test de la funció\n",
    "\n",
    "rle(\"BBBBBBBNBBBBBBBBBBBBBNNNBBBBBBBBBBBBNBBBBBBBBB\")\n",
    "\n",
    "# Hauria de retornar: B7N1B13N3B12N1B9"
   ]
  },
  {
   "cell_type": "markdown",
   "metadata": {},
   "source": [
    "**Pregunta 4**: Si el text és de llargada $N$, quantes operacions bàsiques cal fer per comprimir-lo?"
   ]
  },
  {
   "cell_type": "code",
   "execution_count": null,
   "metadata": {
    "collapsed": true
   },
   "outputs": [],
   "source": []
  },
  {
   "cell_type": "markdown",
   "metadata": {},
   "source": [
    "## Validar adreça IP\n",
    "\n",
    "Una adreça IPv4 vàlida ha de tenir la forma `XXX.XXX.XXX.XXX` en la que cada seqüència `XXX` pot prendre valors entre `0` i `255`."
   ]
  },
  {
   "cell_type": "markdown",
   "metadata": {},
   "source": [
    "**Pregunta 1**: Quina solució (`True` o `False`) hauria de donar per als següents valors: ¶\n",
    "    \n",
    "- `115.300.10.60`\n",
    "- `255.255.255.255`\n",
    "- `0000`\n",
    "- `1.0.0.0009`"
   ]
  },
  {
   "cell_type": "markdown",
   "metadata": {},
   "source": [
    "- False\n",
    "- True\n",
    "- False\n",
    "- True"
   ]
  },
  {
   "cell_type": "markdown",
   "metadata": {},
   "source": [
    "**Pregunta 2**: Escriu el codi de la funció."
   ]
  },
  {
   "cell_type": "code",
   "execution_count": 11,
   "metadata": {
    "collapsed": true
   },
   "outputs": [],
   "source": [
    "# Escriu el codi de la funció/les funcions, \n",
    "# seguint les directrius d'estil PEP8\n",
    "def validarIP(IP):\n",
    "    \"\"\"Separa el valor introduit a patir del punts, i comprova\n",
    "    que esta compsost per 4 grups de digits i que tots son inferiors\n",
    "    a 256\n",
    "    \"\"\"\n",
    "    llista = IP.split(\".\")\n",
    "    a=0\n",
    "    \n",
    "    if len(llista) != 4: \n",
    "        return False\n",
    "    else:\n",
    "        while a != 4:\n",
    "            if int(llista[a]) < 256:\n",
    "                a+=1\n",
    "            else:\n",
    "                return False\n",
    "    return True\n",
    " "
   ]
  },
  {
   "cell_type": "code",
   "execution_count": 13,
   "metadata": {},
   "outputs": [
    {
     "data": {
      "text/plain": [
       "True"
      ]
     },
     "execution_count": 13,
     "metadata": {},
     "output_type": "execute_result"
    }
   ],
   "source": [
    "# Test de la funció\n",
    "\n",
    "validarIP(\"115.300.10.60\")\n",
    "\n",
    "# Hauria de retornar: que és vàlida"
   ]
  },
  {
   "cell_type": "markdown",
   "metadata": {},
   "source": [
    "## Majúscules i minúscules\n",
    "\n",
    "Fer una funció `majMin` que, donada una lletra, si està en majúscula la converteixi a minúscula, si està en minúscula la converteixi a majúscula. A més ha de determinar la posició que ocupa a l’alfabet anglès."
   ]
  },
  {
   "cell_type": "markdown",
   "metadata": {},
   "source": [
    "** Pregunta 1**: Pensa en la descomposició de funcions. Creus que la funció es pot descomposar en altres? En quines?"
   ]
  },
  {
   "cell_type": "markdown",
   "metadata": {},
   "source": [
    "En dos: una que canvi maj/min i una que determini la posicio"
   ]
  },
  {
   "cell_type": "markdown",
   "metadata": {},
   "source": [
    "** Pregunta 2**: Escriu la funció."
   ]
  },
  {
   "cell_type": "code",
   "execution_count": 117,
   "metadata": {},
   "outputs": [
    {
     "data": {
      "text/plain": [
       "('z', 26)"
      ]
     },
     "execution_count": 117,
     "metadata": {},
     "output_type": "execute_result"
    }
   ],
   "source": [
    "# Escriu el codi de la funció/les funcions, \n",
    "# seguint les directrius d'estil PEP8\n",
    "def posicio(lletra):\n",
    "    lletra=lletra.lower()\n",
    "    for a in range(97,123):\n",
    "        if lletra == str(chr(a)):\n",
    "            return (a-96) \n",
    "\n",
    "def majMin(lletra):\n",
    "    if lletra.islower() == True:\n",
    "        lletra=lletra.upper()\n",
    "    else:\n",
    "        lletra=lletra.lower()\n",
    "    a=posicio(lletra)\n",
    "    return (lletra,a)\n",
    "majMin(\"Z\")"
   ]
  },
  {
   "cell_type": "markdown",
   "metadata": {},
   "source": [
    "**Optatiu**: Implementeu la funció anterior usant les funcions `esMaj`, `conversioMin` i `conversioMaj` (que harien d'implementar les funcions derivades del seu nom) a partir dels codis de les lletres i d'operacions `and` i `or` amb els codis binaris (mireu apunts sobre *booleans*)."
   ]
  },
  {
   "cell_type": "code",
   "execution_count": 114,
   "metadata": {},
   "outputs": [
    {
     "name": "stdout",
     "output_type": "stream",
     "text": [
      "97\n"
     ]
    },
    {
     "data": {
      "text/plain": [
       "97"
      ]
     },
     "execution_count": 114,
     "metadata": {},
     "output_type": "execute_result"
    }
   ],
   "source": [
    "# Escriu el codi de la funció/les funcions, \n",
    "# seguint les directrius d'estil PEP8"
   ]
  },
  {
   "cell_type": "markdown",
   "metadata": {},
   "source": [
    "<p style=\"text-align:right;font-size:0.9em\">\n",
    "&copy;Jordi Vitrià i Mireia Ribera\n",
    "</p>"
   ]
  }
 ],
 "metadata": {
  "kernelspec": {
   "display_name": "Python 3",
   "language": "python",
   "name": "python3"
  },
  "language_info": {
   "codemirror_mode": {
    "name": "ipython",
    "version": 3
   },
   "file_extension": ".py",
   "mimetype": "text/x-python",
   "name": "python",
   "nbconvert_exporter": "python",
   "pygments_lexer": "ipython3",
   "version": "3.6.1"
  }
 },
 "nbformat": 4,
 "nbformat_minor": 2
}
