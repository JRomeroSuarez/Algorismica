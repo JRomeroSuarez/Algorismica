{
 "cells": [
  {
   "cell_type": "code",
   "execution_count": null,
   "metadata": {},
   "outputs": [],
   "source": [
    "str =\"hola\"\n",
    "str2 = 'spam'\n",
    "print(str,str2)"
   ]
  },
  {
   "cell_type": "code",
   "execution_count": null,
   "metadata": {},
   "outputs": [],
   "source": [
    "type(str2)"
   ]
  },
  {
   "cell_type": "code",
   "execution_count": null,
   "metadata": {},
   "outputs": [],
   "source": [
    "nom = input(\"Quien es el teu nom?\")"
   ]
  },
  {
   "cell_type": "code",
   "execution_count": null,
   "metadata": {},
   "outputs": [],
   "source": [
    "edat = eval(input(\"Quien es la teva edat?\"))"
   ]
  },
  {
   "cell_type": "code",
   "execution_count": null,
   "metadata": {},
   "outputs": [],
   "source": [
    "x = 45\n",
    "res = eval(input(\"Quina expresió vols calcular? \"))"
   ]
  },
  {
   "cell_type": "code",
   "execution_count": null,
   "metadata": {},
   "outputs": [],
   "source": [
    "res"
   ]
  },
  {
   "cell_type": "code",
   "execution_count": null,
   "metadata": {
    "collapsed": true
   },
   "outputs": [],
   "source": [
    "s = \"Hello bob\"\n"
   ]
  },
  {
   "cell_type": "code",
   "execution_count": null,
   "metadata": {},
   "outputs": [],
   "source": [
    "x = 8\n",
    "print(s[2], s[0], s[x-2])"
   ]
  },
  {
   "cell_type": "code",
   "execution_count": null,
   "metadata": {},
   "outputs": [],
   "source": [
    "\"Bread \" + \"and \" + \"Breakfast\""
   ]
  },
  {
   "cell_type": "code",
   "execution_count": null,
   "metadata": {},
   "outputs": [],
   "source": [
    "\"Bread \" + \"& \"*3 + \"breakfast\""
   ]
  },
  {
   "cell_type": "code",
   "execution_count": null,
   "metadata": {
    "collapsed": true
   },
   "outputs": [],
   "source": [
    "def mes():\n",
    "    mesos = \"GenFebMarAbriMaiJunJulAgoSetOctNovDes\"\n",
    "    n = eval(input(\"Quin mes vols? \"))\n",
    "    pos = (n-1)*3\n",
    "    m = mesos[pos:pos+3]\n",
    "    print(\"L'abreviacio es :\", m)\n",
    "    "
   ]
  },
  {
   "cell_type": "code",
   "execution_count": null,
   "metadata": {},
   "outputs": [],
   "source": [
    "mes()"
   ]
  },
  {
   "cell_type": "code",
   "execution_count": null,
   "metadata": {},
   "outputs": [],
   "source": [
    "ord(\"a\")"
   ]
  },
  {
   "cell_type": "code",
   "execution_count": null,
   "metadata": {},
   "outputs": [],
   "source": [
    "def main():\n",
    "    message = input (\"Pleaste enter the message to encode: \")\n",
    "    print (\"\\nHere are the ASCII codes:\")\n",
    "    \n",
    "    for ch in message:\n",
    "        print (ord(ch), \" \", end= \"\")\n",
    "    print\n",
    "    \n",
    "main()"
   ]
  },
  {
   "cell_type": "code",
   "execution_count": null,
   "metadata": {},
   "outputs": [],
   "source": [
    "cadena = \"456.123.789\"\n",
    "llista = cadena.split(\".\")\n",
    "print(llista)"
   ]
  },
  {
   "cell_type": "code",
   "execution_count": null,
   "metadata": {},
   "outputs": [],
   "source": [
    "cadena = \"El gos, i el gat, menjaven plegats.\"\n",
    "llista = cadena.split(\".\")\n",
    "print (llista)"
   ]
  },
  {
   "cell_type": "code",
   "execution_count": null,
   "metadata": {},
   "outputs": [],
   "source": [
    "\"Hola %s %s, sembla que ha guanyat $%s\" %(\"Sr\", \"Fuster\", 110000)"
   ]
  },
  {
   "cell_type": "code",
   "execution_count": null,
   "metadata": {},
   "outputs": [],
   "source": [
    "def happy():\n",
    "    print (\"Happy birthday to you!\")\n",
    "\n",
    "def sing(person):\n",
    "    happy()\n",
    "    happy()\n",
    "    print(\"Happy birthday, dear\", person+\".\")\n",
    "    happy()\n",
    "    \n",
    "def main():\n",
    "    sing(\"Fred\")\n",
    "    print\n",
    "    sing(\"Lucy\")\n",
    "    print\n",
    "    sing(\"Elmer\")\n",
    "    \n",
    "main()"
   ]
  },
  {
   "cell_type": "code",
   "execution_count": null,
   "metadata": {},
   "outputs": [],
   "source": [
    "def main():\n",
    "    celsius = eval(input(\"What is the Celsius temperature?\"))\n",
    "    fahrenheit = 9.0/5.0 * celsius + 32\n",
    "    print (\"The temperature is\", fahrenheit, \"degrees fahrenheit\")\n",
    "    if fahrenheit >90:\n",
    "        print (\"It's really hot out here\")\n",
    "    elif fahrenheit <90:\n",
    "        print (\"brrrrr. Be sure to dress warmly!\")\n",
    "\n",
    "main()"
   ]
  },
  {
   "cell_type": "code",
   "execution_count": null,
   "metadata": {},
   "outputs": [],
   "source": [
    "def main():\n",
    "    n = eval(input(\"Cuantos numeros tienes: \"))\n",
    "    sum = 0\n",
    "    for i in range(n):\n",
    "        x = eval(input(\"Introduce los numeros: \"))\n",
    "        sum += x\n",
    "    print(\"La media de los numeros es: \", sum/n)\n",
    "main()"
   ]
  },
  {
   "cell_type": "code",
   "execution_count": 3,
   "metadata": {},
   "outputs": [
    {
     "name": "stdout",
     "output_type": "stream",
     "text": [
      "Introduce un numero: 8\n",
      "Tienes mas numeros(yes or no)?y\n",
      "Introduce un numero: 4\n",
      "Tienes mas numeros(yes or no)?y5\n",
      "Introduce un numero: 6\n",
      "Tienes mas numeros(yes or no)?n\n",
      "La media de todo es:  6.0\n"
     ]
    }
   ],
   "source": [
    "def main():\n",
    "    sum = 0.0\n",
    "    count = 0\n",
    "    moredata = \"yes\"\n",
    "    while moredata[0] == \"y\":\n",
    "        x = eval(input(\"Introduce un numero: \"))\n",
    "        sum = sum + x\n",
    "        count = count +1 \n",
    "        moredata = input (\"Tienes mas numeros(yes or no)?\")\n",
    "    print (\"La media de todo es: \", sum/count)\n",
    "\n",
    "main()"
   ]
  },
  {
   "cell_type": "code",
   "execution_count": 5,
   "metadata": {},
   "outputs": [
    {
     "name": "stdout",
     "output_type": "stream",
     "text": [
      "Introduce un numero(negativo lo para)4\n",
      "Introduce un numero(negativo lo quita)4\n",
      "Introduce un numero(negativo lo quita)5\n",
      "Introduce un numero(negativo lo quita)-3\n",
      "La media de todo es: 4.333333333333333\n"
     ]
    }
   ],
   "source": [
    "def main():\n",
    "    sum = 0\n",
    "    count = 0\n",
    "    x = eval(input(\"Introduce un numero(negativo lo para)\"))\n",
    "    while x>=0:\n",
    "        sum = sum + x\n",
    "        count = count +1\n",
    "        x = eval(input(\"Introduce un numero(negativo lo quita)\"))\n",
    "    print (\"La media de todo es:\", sum/count)\n",
    "main()"
   ]
  },
  {
   "cell_type": "code",
   "execution_count": null,
   "metadata": {
    "collapsed": true
   },
   "outputs": [],
   "source": []
  }
 ],
 "metadata": {
  "kernelspec": {
   "display_name": "Python 3",
   "language": "python",
   "name": "python3"
  },
  "language_info": {
   "codemirror_mode": {
    "name": "ipython",
    "version": 3
   },
   "file_extension": ".py",
   "mimetype": "text/x-python",
   "name": "python",
   "nbconvert_exporter": "python",
   "pygments_lexer": "ipython3",
   "version": "3.6.1"
  }
 },
 "nbformat": 4,
 "nbformat_minor": 2
}
