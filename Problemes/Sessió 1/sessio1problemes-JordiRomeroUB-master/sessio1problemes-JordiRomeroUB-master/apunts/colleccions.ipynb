{
 "cells": [
  {
   "cell_type": "markdown",
   "metadata": {},
   "source": [
    "<p style=\"text-align:right;font-size:0.9em\">\n",
    "Grau d'Enginyeria Informàtica. Algorísmica. Curs 2017-2018\n",
    "</p>"
   ]
  },
  {
   "cell_type": "markdown",
   "metadata": {},
   "source": [
    "<h1 style=\"height:3em;padding:0.5em 0;font:Garamond;font-size:1-5em;color:#F90;background-color:#005\">\n",
    "Apunts de Python: Col·leccions\n",
    "</h1>"
   ]
  },
  {
   "cell_type": "markdown",
   "metadata": {},
   "source": [
    "Documentació de Python relacionada:\n",
    "- Tutorial 5. Data structures https://docs.python.org/3/tutorial/datastructures.html\n",
    "- Sequence types: list, tuple, range: https://docs.python.org/3/library/stdtypes.html?#sequence-types-list-tuple-range\n",
    "- Mapping types - dict : https://docs.python.org/3/library/stdtypes.html?#mapping-types-dict\n",
    "- Time complexity: https://wiki.python.org/moin/TimeComplexity"
   ]
  },
  {
   "cell_type": "markdown",
   "metadata": {},
   "source": [
    "Les col.leccions són estructures de dades que guarden conjunts de valors. En aquesta assignatura es veuen principalment les llistes, les tuples i els diccionaris."
   ]
  },
  {
   "cell_type": "code",
   "execution_count": 3,
   "metadata": {},
   "outputs": [
    {
     "name": "stdout",
     "output_type": "stream",
     "text": [
      "['gat', 8, True, 0]\n",
      "adeu\n"
     ]
    }
   ],
   "source": [
    "# Exemple\n",
    "llista = [\"gat\", 8, True, 0b000]\n",
    "print(llista)\n",
    "diccionari = {1:\"hola\", 2:\"adeu\"}\n",
    "print(diccionari[2])"
   ]
  },
  {
   "cell_type": "markdown",
   "metadata": {},
   "source": [
    "Les llistes són conjunts ordenats d'elements. Una llista pot contenir elements de diferents tipus (no és **homogènia**) i els seus elements es poden canviar de manera directa (és **mutable**).\n",
    "\n",
    "Les tuples són molt semblants a les llistes però són immutables. Aquesta característica imposa certes restriccions en la programació però fa que el seu processament sigui molt més eficient i en molts casos redefinirem una llista com a tupla per guanyar eficiència. \n",
    "\n",
    "Els diccionaris són parelles de clau-valor que permeten recuperar un valor a partir de la seva clau de forma molt eficient. El diccionari, a l'igual que la llista es pot recorrer seqüencialment, però no té un ordre prefixat.\n",
    "\n",
    "Tant les llistes com els diccionaris actuen com a rang de valors."
   ]
  },
  {
   "cell_type": "markdown",
   "metadata": {},
   "source": [
    "<h2>Operacions amb col·leccions</h2>"
   ]
  },
  {
   "cell_type": "markdown",
   "metadata": {},
   "source": [
    "Cada col.lecció té una manera d'inicialitzar-la, de consultar valors, d'afegir-n'hi, d'esborrar-ne o de recorrer-la."
   ]
  },
  {
   "cell_type": "markdown",
   "metadata": {},
   "source": [
    "<h3>Col.lecció list</h3>"
   ]
  },
  {
   "cell_type": "code",
   "execution_count": 7,
   "metadata": {},
   "outputs": [
    {
     "name": "stdout",
     "output_type": "stream",
     "text": [
      "[]\n",
      "['cotxe', 4, True]\n",
      "[0, 0, 0, 0, 0, 0, 0, 0, 0, 0]\n",
      "[0, 4, 8, 12, 16, 20, 24, 28, 32, 36, 40]\n",
      "['cotxe', 4, True]\n"
     ]
    }
   ],
   "source": [
    "# Exemple, inicialització de la col.lecció list\n",
    "llista1 = []\n",
    "llista2 = [\"cotxe\", 4, True]\n",
    "llista3 = [0] * 10\n",
    "llista4 = [i*2 for i in range(21) if i%2==0]\n",
    "llista5 = llista2\n",
    "print(llista1)\n",
    "print(llista2)\n",
    "print(llista3)\n",
    "print(llista4)\n",
    "print(llista5)"
   ]
  },
  {
   "cell_type": "code",
   "execution_count": 2,
   "metadata": {},
   "outputs": [
    {
     "name": "stdout",
     "output_type": "stream",
     "text": [
      "gat\n",
      "True\n",
      "6\n"
     ]
    }
   ],
   "source": [
    "# Exemple, consultar valors a la col.lecció list\n",
    "llista = [\"gat\", 8, True, 0b010, 6]\n",
    "print(llista[0])\n",
    "print(llista[2])\n",
    "print(llista[-1])  # començo pel darrera"
   ]
  },
  {
   "cell_type": "code",
   "execution_count": 10,
   "metadata": {},
   "outputs": [
    {
     "name": "stdout",
     "output_type": "stream",
     "text": [
      "['gat', 8, True, 0]\n",
      "['gat', 8, True, 0, 'Un altre valor']\n",
      "['gat', 'gos', 8, True, 0, 'Un altre valor']\n"
     ]
    }
   ],
   "source": [
    "# Exemple, afegir elements a la col.lecció list\n",
    "llista = [\"gat\", 8, True, 0b000]\n",
    "print(llista)\n",
    "llista.append(\"Un altre valor\")\n",
    "print(llista)\n",
    "llista.insert(1,\"gos\")\n",
    "print(llista)"
   ]
  },
  {
   "cell_type": "markdown",
   "metadata": {},
   "source": [
    "Com que la llista serà la col.lecció més usada aquest any veurem també l'operació de concatenació i l'slicing, i altres operacions auxiliars que ens resultaran molt útils per a molts algorismes"
   ]
  },
  {
   "cell_type": "markdown",
   "metadata": {},
   "source": [
    "<h4>Concatenació de llistes</h4>"
   ]
  },
  {
   "cell_type": "code",
   "execution_count": 27,
   "metadata": {},
   "outputs": [
    {
     "name": "stdout",
     "output_type": "stream",
     "text": [
      "['a', 'b', 'c', 'x', 'y', 'z']\n",
      "['x', 'y', 'z', 'a', 'b', 'c']\n"
     ]
    }
   ],
   "source": [
    "#puc ajuntar dues llistes amb l'operador +\n",
    "llista1 = [\"a\", \"b\", \"c\"]\n",
    "llista2 = [\"x\", \"y\", \"z\"]\n",
    "llista3 = llista1 + llista2\n",
    "print(llista3)\n",
    "llista4 = llista2 + llista1\n",
    "print(llista4)"
   ]
  },
  {
   "cell_type": "markdown",
   "metadata": {},
   "source": [
    "<h4>Slicing: o partir la llista en trossos</h4>"
   ]
  },
  {
   "cell_type": "code",
   "execution_count": 17,
   "metadata": {},
   "outputs": [
    {
     "name": "stdout",
     "output_type": "stream",
     "text": [
      "['a', 'b', 'c']\n",
      "['c', 'd']\n",
      "['a', 'c', 'e']\n"
     ]
    }
   ],
   "source": [
    "# puc triar una part de la llista indicant el rang de valors que vull\n",
    "# el rang s'indica amb tres valors: start (primer índex que agafo), stop (darrer índex, no s'hi arriba),\n",
    "#                                   step (salt)\n",
    "llista = ['a', 'b', 'c', 'd', 'e', 'f']\n",
    "print(llista[0:3])  #agafo la subllista entre els índexs 1 i 2(al 3 no hi arribo)\n",
    "print(llista[2:4])  #entre els índexs 2 i 3\n",
    "print(llista[0:5:2]) #entre els índexs 0 i 4 saltant de 2 en 2"
   ]
  },
  {
   "cell_type": "code",
   "execution_count": 23,
   "metadata": {},
   "outputs": [
    {
     "name": "stdout",
     "output_type": "stream",
     "text": [
      "['f', 'e', 'd', 'c', 'b', 'a']\n"
     ]
    }
   ],
   "source": [
    "# amb un valor negatiu de l'step podem invertir la llista\n",
    "llista = ['a', 'b', 'c', 'd', 'e', 'f']\n",
    "print(llista[::-1])"
   ]
  },
  {
   "cell_type": "markdown",
   "metadata": {},
   "source": [
    "<h4>Altres operacions auxiliars a les llistes</h4>"
   ]
  },
  {
   "cell_type": "code",
   "execution_count": 4,
   "metadata": {},
   "outputs": [
    {
     "name": "stdout",
     "output_type": "stream",
     "text": [
      "['a', 'b', 'c', 'c', 'r', 'x', 'z']\n"
     ]
    }
   ],
   "source": [
    "llista = ['b', 'c', 'x', 'c', 'r', 'a', 'z']\n",
    "llista.sort()      # ordena la llista\n",
    "print(llista)"
   ]
  },
  {
   "cell_type": "code",
   "execution_count": 5,
   "metadata": {},
   "outputs": [
    {
     "name": "stdout",
     "output_type": "stream",
     "text": [
      "['z', 'a', 'r', 'c', 'x', 'c', 'b']\n"
     ]
    }
   ],
   "source": [
    "llista = ['b', 'c', 'x', 'c', 'r', 'a', 'z']\n",
    "llista.reverse()   # inverteix la llista\n",
    "print(llista)"
   ]
  },
  {
   "cell_type": "code",
   "execution_count": 6,
   "metadata": {},
   "outputs": [
    {
     "data": {
      "text/plain": [
       "2"
      ]
     },
     "execution_count": 6,
     "metadata": {},
     "output_type": "execute_result"
    }
   ],
   "source": [
    "llista.count('c')  # compta quantes vegades apareix l'element indicat"
   ]
  },
  {
   "cell_type": "code",
   "execution_count": 7,
   "metadata": {},
   "outputs": [
    {
     "data": {
      "text/plain": [
       "7"
      ]
     },
     "execution_count": 7,
     "metadata": {},
     "output_type": "execute_result"
    }
   ],
   "source": [
    "len(llista)        # compta quants elements té la llista"
   ]
  },
  {
   "cell_type": "code",
   "execution_count": 8,
   "metadata": {},
   "outputs": [
    {
     "data": {
      "text/plain": [
       "True"
      ]
     },
     "execution_count": 8,
     "metadata": {},
     "output_type": "execute_result"
    }
   ],
   "source": [
    "'b' in llista      # verifica si l'element és a la llista"
   ]
  },
  {
   "cell_type": "markdown",
   "metadata": {},
   "source": [
    "<h3>Col.lecció tupla</h3>"
   ]
  },
  {
   "cell_type": "code",
   "execution_count": 72,
   "metadata": {},
   "outputs": [
    {
     "name": "stdout",
     "output_type": "stream",
     "text": [
      "* Creació\n",
      "('a', 'b', 'c', 'd') ('a', 'b', 'c', 'd') ('a',)\n",
      "* Consulta\n",
      "a\n",
      "('b', 'c')\n",
      "* Conversió de llista a tupla\n",
      "[1, 2, 3]\n",
      "(1, 2, 3)\n",
      "* Conversió de tupla a llista\n",
      "(1, 2, 3)\n",
      "[1, 2, 3]\n"
     ]
    }
   ],
   "source": [
    "# Creació\n",
    "tupla1= 'a', 'b', 'c', 'd'\n",
    "tupla2= ('a', 'b', 'c', 'd')\n",
    "tupla3=('a', )\n",
    "print(\"* Creació\")\n",
    "print(tupla1,tupla2,tupla3)\n",
    "# Consulta\n",
    "print(\"* Consulta\")\n",
    "print(tupla1[0])\n",
    "print(tupla2[1:3])\n",
    "# La resta d'operacions són també similars a les llistes\n",
    "print(\"* Conversió de llista a tupla\")\n",
    "# per convertir una llista en una tupla usem \"tuple\"\n",
    "llista=[1,2,3]\n",
    "print(llista)\n",
    "t = tuple(llista)\n",
    "print(t)\n",
    "print(\"* Conversió de tupla a llista\")\n",
    "# per convertir una tupla en una llista usem \"list\"\n",
    "tupla=(1,2,3)\n",
    "print(tupla)\n",
    "l = list(tupla)\n",
    "print(l)"
   ]
  },
  {
   "cell_type": "code",
   "execution_count": 11,
   "metadata": {},
   "outputs": [
    {
     "ename": "TypeError",
     "evalue": "'tuple' object does not support item assignment",
     "output_type": "error",
     "traceback": [
      "\u001b[1;31m---------------------------------------------------------------------------\u001b[0m",
      "\u001b[1;31mTypeError\u001b[0m                                 Traceback (most recent call last)",
      "\u001b[1;32m<ipython-input-11-7bc5c0386b18>\u001b[0m in \u001b[0;36m<module>\u001b[1;34m()\u001b[0m\n\u001b[0;32m      1\u001b[0m \u001b[1;31m# Però atenció, no és possible fer:\u001b[0m\u001b[1;33m\u001b[0m\u001b[1;33m\u001b[0m\u001b[0m\n\u001b[0;32m      2\u001b[0m \u001b[0mtupla5\u001b[0m\u001b[1;33m=\u001b[0m\u001b[1;33m(\u001b[0m\u001b[1;36m1\u001b[0m\u001b[1;33m,\u001b[0m\u001b[1;36m2\u001b[0m\u001b[1;33m,\u001b[0m\u001b[1;36m3\u001b[0m\u001b[1;33m)\u001b[0m\u001b[1;33m\u001b[0m\u001b[0m\n\u001b[1;32m----> 3\u001b[1;33m \u001b[0mtupla5\u001b[0m\u001b[1;33m[\u001b[0m\u001b[1;36m1\u001b[0m\u001b[1;33m]\u001b[0m\u001b[1;33m=\u001b[0m\u001b[1;36m7\u001b[0m  \u001b[1;31m#les tuples són immutables\u001b[0m\u001b[1;33m\u001b[0m\u001b[0m\n\u001b[0m",
      "\u001b[1;31mTypeError\u001b[0m: 'tuple' object does not support item assignment"
     ]
    }
   ],
   "source": [
    "# Però atenció, no és possible fer:\n",
    "tupla5=(1,2,3)\n",
    "tupla5[1]=7  #les tuples són immutables\n"
   ]
  },
  {
   "cell_type": "markdown",
   "metadata": {},
   "source": [
    "<h3>Col.lecció diccionari</h3>"
   ]
  },
  {
   "cell_type": "code",
   "execution_count": 12,
   "metadata": {},
   "outputs": [
    {
     "name": "stdout",
     "output_type": "stream",
     "text": [
      "{}\n",
      "{'clau1': 1, 3: 4}\n"
     ]
    }
   ],
   "source": [
    "# Exemple, inicialització de la col.lecció diccionari\n",
    "dicc1={}\n",
    "dicc2={\"clau1\":1,3:4}  #inicialitzem amb dues parelles clau-valor clau1-1  i 3-4 (el 3 actua de clau)\n",
    "\n",
    "print(dicc1)\n",
    "print(dicc2)"
   ]
  },
  {
   "cell_type": "code",
   "execution_count": 13,
   "metadata": {},
   "outputs": [
    {
     "name": "stdout",
     "output_type": "stream",
     "text": [
      "1\n",
      "3\n",
      "dict_items([('clau1', 1), ('clau2', 2), ('clau3', 3)])\n",
      "dict_keys(['clau1', 'clau2', 'clau3'])\n",
      "dict_values([1, 2, 3])\n",
      "True\n"
     ]
    }
   ],
   "source": [
    "# Exemple, consultar valors a la col.lecció diccionari\n",
    "diccionari={\"clau1\":1,\"clau2\":2,\"clau3\":3}\n",
    "print(diccionari[\"clau1\"])\n",
    "print(diccionari[\"clau3\"])\n",
    "print(diccionari.items())     # totes les parelles clau-valor\n",
    "print(diccionari.keys())      # totes les claus\n",
    "print(diccionari.values())    # tots els valors\n",
    "print(\"clau2\" in diccionari)  #verifica si clau2 és una clau"
   ]
  },
  {
   "cell_type": "code",
   "execution_count": 55,
   "metadata": {},
   "outputs": [
    {
     "name": "stdout",
     "output_type": "stream",
     "text": [
      "{'clau1': 1, 'clau2': 2, 'clau3': 3}\n"
     ]
    }
   ],
   "source": [
    "# Partint d'aquest diccionari, veurem les operacions bàsiques\n",
    "diccionari={\"clau1\":1,\"clau2\":2,\"clau3\":3}\n",
    "print(diccionari)"
   ]
  },
  {
   "cell_type": "code",
   "execution_count": 56,
   "metadata": {},
   "outputs": [
    {
     "name": "stdout",
     "output_type": "stream",
     "text": [
      "{'clau1': 1, 'clau2': 2, 'clau3': 3, 'clau_nova': 9}\n"
     ]
    }
   ],
   "source": [
    "# Afegir\n",
    "diccionari[\"clau_nova\"] = 9  # afegim una parella clau-valor\n",
    "print(diccionari)"
   ]
  },
  {
   "cell_type": "code",
   "execution_count": 58,
   "metadata": {},
   "outputs": [
    {
     "name": "stdout",
     "output_type": "stream",
     "text": [
      "{'clau1': 1, 'clau2': 5, 'clau_nova': 9}\n"
     ]
    }
   ],
   "source": [
    "# Modificar\n",
    "diccionari[\"clau2\"]=5  # canviem el valor d'una clau existent\n",
    "print(diccionari)"
   ]
  },
  {
   "cell_type": "code",
   "execution_count": 57,
   "metadata": {},
   "outputs": [
    {
     "name": "stdout",
     "output_type": "stream",
     "text": [
      "{'clau1': 1, 'clau2': 2, 'clau_nova': 9}\n"
     ]
    }
   ],
   "source": [
    "# Esborrar\n",
    "del diccionari[\"clau3\"]  # esborrem una parella clau-valor existent\n",
    "print(diccionari)"
   ]
  },
  {
   "cell_type": "code",
   "execution_count": 59,
   "metadata": {},
   "outputs": [
    {
     "name": "stdout",
     "output_type": "stream",
     "text": [
      "{}\n"
     ]
    }
   ],
   "source": [
    "# Esborrar tots els valors\n",
    "diccionari.clear()  # esborrem tots els valors\n",
    "print(diccionari)"
   ]
  },
  {
   "cell_type": "markdown",
   "metadata": {},
   "source": [
    "<h2>Complexitat de les operacions</h2>"
   ]
  },
  {
   "cell_type": "markdown",
   "metadata": {},
   "source": [
    "El cost de moltes operacions en les col·leccions és n, essent n el nombre d'elements de la llista."
   ]
  },
  {
   "cell_type": "markdown",
   "metadata": {},
   "source": [
    "<h2>Col.lecció llista i tupla</h2>"
   ]
  },
  {
   "cell_type": "markdown",
   "metadata": {},
   "source": [
    "Cal tenir en compte que tot i que l'ordre de complexitat sigui equivalent en àmdues col.leccions, la complexitat real és molt menor en les tuples"
   ]
  },
  {
   "cell_type": "markdown",
   "metadata": {},
   "source": [
    "- O(n)     inicialització\n",
    "- O(n)     print\n",
    "- O(1)     consulta []\n",
    "- O(1)     .append\n",
    "- O(n)     .insert  # cal desplaçar tots els altres elements a la dreta\n",
    "- O(n+m)   concatenació amb +\n",
    "- O(n)     slicing\n",
    "- O(log n) .sort\n",
    "- O(n)     .reverse\n",
    "- O(n)     .count\n",
    "- O(1)     len\n",
    "- O(n)     x in llista"
   ]
  },
  {
   "cell_type": "markdown",
   "metadata": {},
   "source": [
    "<h2>Col.lecció diccionari</h2>"
   ]
  },
  {
   "cell_type": "markdown",
   "metadata": {},
   "source": [
    "- O(n)     inicialització\n",
    "- O(n)     print\n",
    "- O(1)     consulta [clau]\n",
    "- O(n)     .keys\n",
    "- O(n)     .values\n",
    "- O(1)     x in dicc\n",
    "- O(1)     afegir \n",
    "- O(1)     esborrar\n",
    "- O(1)     modificar\n",
    "- O(n)     buidar\n"
   ]
  },
  {
   "cell_type": "markdown",
   "metadata": {},
   "source": [
    "<p style=\"text-align:right;font-size:0.9em\">\n",
    "&copy;Jordi Vitrià i Mireia Ribera\n",
    "</p>"
   ]
  }
 ],
 "metadata": {
  "kernelspec": {
   "display_name": "Python 3",
   "language": "python",
   "name": "python3"
  },
  "language_info": {
   "codemirror_mode": {
    "name": "ipython",
    "version": 3
   },
   "file_extension": ".py",
   "mimetype": "text/x-python",
   "name": "python",
   "nbconvert_exporter": "python",
   "pygments_lexer": "ipython3",
   "version": "3.6.1"
  }
 },
 "nbformat": 4,
 "nbformat_minor": 2
}
