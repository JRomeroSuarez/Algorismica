{
 "cells": [
  {
   "cell_type": "markdown",
   "metadata": {},
   "source": [
    "# Notebook 5: Optimització i dividir i vèncer"
   ]
  },
  {
   "cell_type": "markdown",
   "metadata": {},
   "source": [
    "<div class=\"alert alert-error\"><strong><center>Aquesta pràctica és avaluable.</center></strong> \n",
    "<p>L'has de lliurar amb UN ÚNIC FITXER (Notebook5.ipynb),amb el  Notebook COMPLETAT AMB EL CONJUNT DE FUNCIONS QUE S’HAN D'IMPLEMENTAR a les cel·les que s'indica, i l'execució dels tests inclosos en l'enunciat.</p> \n",
    "<p>ATENCIÓ: No es poden usar funcions de Python implementades en llibreries externes que resolguin el *quid* de l'exercici.</p></div>"
   ]
  },
  {
   "cell_type": "markdown",
   "metadata": {},
   "source": [
    "## Documentació de suport a la pràctica\n",
    "\n",
    "- [Recursió](.\\conceptes\\recursio.ipynb)\n"
   ]
  },
  {
   "cell_type": "markdown",
   "metadata": {},
   "source": [
    "Els objectius d'aquesta pràctica són:\n",
    "\n",
    "- Aplicar algorismes de dividir i vèncer\n",
    "- Treballar tècniques d'optimització"
   ]
  },
  {
   "cell_type": "markdown",
   "metadata": {},
   "source": [
    "## Exercici 1\n",
    "\n",
    "+ Direm que una paraula segueix un patró quan si alineem les lletres de les dues paraules una a una, a cada lletra de la paraula li correspon sempre la mateixa lletra del patró i viceversa.\n",
    "+ Per exemple mapa segueix el patró polo perquè a la m li correspon sempre p, a la a li correspon sempre o i a la p li correspon sempre l; i viceversa a la p li correspon sempre m, a la o sempre a, i  a la l sempre p.\n",
    "+ En canvi sisi no segueix el patró perquè a la s un cop li correspon p i un altre li correspon l\n",
    "+ i tampoc pipa no segueix el patró perquè a la o de polo un cop li correspon i, i un altre li correspon a\n",
    "\n",
    "Donada una llista de paraules i un patró, trobar totes les paraules de la llista que segueixen aquell patró. "
   ]
  },
  {
   "cell_type": "code",
   "execution_count": 107,
   "metadata": {
    "scrolled": true
   },
   "outputs": [
    {
     "name": "stdout",
     "output_type": "stream",
     "text": [
      "{'r': 'g'} {'g': 'r'}\n",
      "{'r': 'g', 'a': 'a'} {'g': 'r', 'a': 'a'}\n"
     ]
    },
    {
     "ename": "AssertionError",
     "evalue": "",
     "output_type": "error",
     "traceback": [
      "\u001b[1;31m---------------------------------------------------------------------------\u001b[0m",
      "\u001b[1;31mAssertionError\u001b[0m                            Traceback (most recent call last)",
      "\u001b[1;32m<ipython-input-107-5cbe34d71737>\u001b[0m in \u001b[0;36m<module>\u001b[1;34m()\u001b[0m\n\u001b[0;32m     24\u001b[0m     \u001b[1;32mreturn\u001b[0m \u001b[0mllistaResultat\u001b[0m\u001b[1;33m\u001b[0m\u001b[0m\n\u001b[0;32m     25\u001b[0m \u001b[1;33m\u001b[0m\u001b[0m\n\u001b[1;32m---> 26\u001b[1;33m \u001b[1;32massert\u001b[0m\u001b[1;33m(\u001b[0m\u001b[0mtriaPatro\u001b[0m\u001b[1;33m(\u001b[0m\u001b[1;33m[\u001b[0m\u001b[1;34m'gag'\u001b[0m\u001b[1;33m,\u001b[0m\u001b[1;34m'sos'\u001b[0m\u001b[1;33m,\u001b[0m\u001b[1;34m'mim'\u001b[0m\u001b[1;33m,\u001b[0m\u001b[1;34m'gat'\u001b[0m\u001b[1;33m,\u001b[0m\u001b[1;34m'gos'\u001b[0m\u001b[1;33m]\u001b[0m\u001b[1;33m,\u001b[0m \u001b[1;34m'rap'\u001b[0m\u001b[1;33m)\u001b[0m\u001b[1;33m==\u001b[0m\u001b[1;33m[\u001b[0m\u001b[1;34m'gat'\u001b[0m\u001b[1;33m,\u001b[0m\u001b[1;34m'gos'\u001b[0m\u001b[1;33m]\u001b[0m\u001b[1;33m)\u001b[0m\u001b[1;33m\u001b[0m\u001b[0m\n\u001b[0m",
      "\u001b[1;31mAssertionError\u001b[0m: "
     ]
    }
   ],
   "source": [
    "# Substitueix la comanda pass per la teva solució\n",
    "def triaPatro(llista, patro):\n",
    "    \"\"\"\n",
    "Donada una llista de paraules  i un patró,\n",
    "aquesta funció retorna totes les paraules que segueixen el patró.\n",
    ":param llista, una llista de paraules\n",
    ":param patro, una paraula que marca el patró per escollir les paraules\n",
    ":return llistaresultat, una llista amb les paraules escollides\n",
    "\"\"\"\n",
    "    llistaResultat=[]\n",
    "    for i in llista:\n",
    "        if len(i) == len(patro):\n",
    "            dic1={}\n",
    "            dic2={}\n",
    "            for x,y in zip(i,patro): # separa la palabra por letra\n",
    "                if y not in dic1 and x not in dic2:\n",
    "                    dic1[y] = x\n",
    "                    dic2[x] = y\n",
    "                    print(dic1,dic2)\n",
    "                elif y not in dic1 or dic1[y] != x:\n",
    "\n",
    "                    return False\n",
    "            return llistaResultat.append(i)\n",
    "    return llistaResultat\n",
    "\n",
    "assert(triaPatro(['gag','sos','mim','gat','gos'], 'rap')==['gat','gos'])"
   ]
  },
  {
   "cell_type": "code",
   "execution_count": 88,
   "metadata": {},
   "outputs": [
    {
     "name": "stdout",
     "output_type": "stream",
     "text": [
      "{'r': 'g'} {'g': 'r'}\n",
      "{'r': 'g', 'a': 'o'} {'g': 'r', 'o': 'a'}\n",
      "{'r': 'g', 'a': 'o', 'p': 's'} {'g': 'r', 'o': 'a', 's': 'p'}\n"
     ]
    }
   ],
   "source": [
    "def triPatro(llista, patro):\n",
    "    llistaResultat =[]\n",
    "    for i in llista:\n",
    "        if len(i) == len(patro):\n",
    "            dic1={}\n",
    "            condicio = True\n",
    "            while(j<len(patro and condicio == True))\n",
    "    llistaResultat.append(s)\n",
    "isIsomorphic('gos','rap')"
   ]
  },
  {
   "cell_type": "markdown",
   "metadata": {},
   "source": [
    "#### Calcula la seva complexitat"
   ]
  },
  {
   "cell_type": "markdown",
   "metadata": {},
   "source": [
    "## Exercici 2\n",
    "\n",
    "+ Escriu una funció no recursiva anomenada xifresilletres tal que donada una llista amb cadenes formades per xifres i per lletres la funció retorni la mateixa llista amb les cadenes de xifres  al capdavant i les cadenes de lletres al darrera. "
   ]
  },
  {
   "cell_type": "markdown",
   "metadata": {},
   "source": [
    "### 2.1 \n",
    "Tenint en compte que les cadenes de text s'ordenen després de les de nombres, resol el problema per ordenació per selecció"
   ]
  },
  {
   "cell_type": "code",
   "execution_count": 106,
   "metadata": {
    "collapsed": true
   },
   "outputs": [],
   "source": [
    "def xifresilletresOrdSel(llista):\n",
    "    \"\"\"\n",
    "    Donada una llista, aquesta funció la retorna amb les xifres \n",
    "    al davant i les cadenes de lletres al darrera\n",
    "    :param llista: la llista original\n",
    "    :return llista: la llista reordenada\n",
    "    \"\"\"\n",
    "    n = len(llista) # es crea una variable per la longitud de la llista\n",
    "    for i in range(0,n-1): #s'itera al llarg de tota la llista menys l'ultim\n",
    "        k = i \n",
    "        t = llista[i] # li creas una variable al valor de la llista on estigui\n",
    "        for j in range(i,n): #s'itera al llarg del valor de i fins a la longitud de la llista\n",
    "            if llista[j]<t: #si el valor de la llista en el valor j es menor al valor de la llista de i\n",
    "                k = j #la j pasa a tenir el valor de k(antiga i)\n",
    "                t = llista[j] #el valor j de la llista  pasa a ser t\n",
    "        llista[k] = llista[i] # el valor de  i de la llista pasa a ser de la k de la llista\n",
    "        llista[i] = t # el valor j de la llista pasa a ser el valor i de la llista\n",
    "        \n",
    "        \n",
    "    return llista\n",
    "\n",
    "assert(xifresilletresOrdSel([\"345\",\"A\",\"555\",\"234\",\"aaaaaa\",\"666\"]\n",
    "                           )==['234', '345', '555', '666', 'A', 'aaaaaa'])\n"
   ]
  },
  {
   "cell_type": "markdown",
   "metadata": {},
   "source": [
    "Calcula la seva complexitat: La complexitat d'aquest algorisme requereix O(n2) comparacions e intercanvis per ordenar una sequencuia d'elements"
   ]
  },
  {
   "cell_type": "markdown",
   "metadata": {},
   "source": [
    "### 2.2 \n",
    "Resol el problema inspirant-te en la versió lineal de l'algorisme quicksort. Fixa't que en aquest cas no ens cal una ordenació completa, només cal moure els elements que estan fora de lloc."
   ]
  },
  {
   "cell_type": "code",
   "execution_count": 46,
   "metadata": {},
   "outputs": [
    {
     "ename": "AssertionError",
     "evalue": "",
     "output_type": "error",
     "traceback": [
      "\u001b[1;31m---------------------------------------------------------------------------\u001b[0m",
      "\u001b[1;31mAssertionError\u001b[0m                            Traceback (most recent call last)",
      "\u001b[1;32m<ipython-input-46-ec35708238e9>\u001b[0m in \u001b[0;36m<module>\u001b[1;34m()\u001b[0m\n\u001b[0;32m     27\u001b[0m         \u001b[1;32mreturn\u001b[0m \u001b[0mllista\u001b[0m\u001b[1;33m\u001b[0m\u001b[0m\n\u001b[0;32m     28\u001b[0m \u001b[1;33m\u001b[0m\u001b[0m\n\u001b[1;32m---> 29\u001b[1;33m \u001b[1;32massert\u001b[0m\u001b[1;33m(\u001b[0m\u001b[0mxifresilletres\u001b[0m\u001b[1;33m(\u001b[0m\u001b[1;33m[\u001b[0m\u001b[1;34m\"345\"\u001b[0m\u001b[1;33m,\u001b[0m\u001b[1;34m\"abc\"\u001b[0m\u001b[1;33m,\u001b[0m\u001b[1;34m\"234\"\u001b[0m\u001b[1;33m,\u001b[0m\u001b[1;34m\"HHH\"\u001b[0m\u001b[1;33m,\u001b[0m\u001b[1;34m\"789\"\u001b[0m\u001b[1;33m]\u001b[0m\u001b[1;33m)\u001b[0m\u001b[1;33m==\u001b[0m\u001b[1;33m[\u001b[0m\u001b[1;34m'345'\u001b[0m\u001b[1;33m,\u001b[0m \u001b[1;34m'789'\u001b[0m\u001b[1;33m,\u001b[0m \u001b[1;34m'234'\u001b[0m\u001b[1;33m,\u001b[0m \u001b[1;34m'HHH'\u001b[0m\u001b[1;33m,\u001b[0m \u001b[1;34m'abc'\u001b[0m\u001b[1;33m]\u001b[0m\u001b[1;33m)\u001b[0m\u001b[1;33m\u001b[0m\u001b[0m\n\u001b[0m",
      "\u001b[1;31mAssertionError\u001b[0m: "
     ]
    }
   ],
   "source": [
    "# Substitueix la comanda pass per la teva solució\n",
    "\n",
    "# Substitueix la comanda pass pel teu codi\n",
    "def xifresilletres(llista):\n",
    "    \"\"\"\n",
    "    Donada una llista, aquesta funció la retorna amb les xifres \n",
    "    al davant i les cadenes de lletres al darrera\n",
    "    :param llista: la llista original\n",
    "    :return llista: la llista reordenada\n",
    "    \"\"\"\n",
    "    #quicksort teoria\n",
    "    menys=[]\n",
    "    igual=[]\n",
    "    major=[]\n",
    "    \n",
    "    if len(llista)>1:\n",
    "        pivot=llista[0]\n",
    "        for i in llista:\n",
    "            if i< pivot:\n",
    "                menys.append(i)\n",
    "            if i == pivot:\n",
    "                igual.append(i)\n",
    "            if i > pivot:\n",
    "                major.append(i)\n",
    "        return xifresilletres(menys)+igual+xifresilletres(major)\n",
    "    else:\n",
    "        return llista\n",
    "\n",
    "assert(xifresilletres([\"345\",\"abc\",\"234\",\"HHH\",\"789\"])==['345', '789', '234', 'HHH', 'abc'])"
   ]
  },
  {
   "cell_type": "markdown",
   "metadata": {},
   "source": [
    "#### Calcula la seva complexitat\n",
    "Si totes les particions que es fan es fan al mig del vector tindrem O(n log n).`´rewqewqeq"
   ]
  },
  {
   "cell_type": "markdown",
   "metadata": {},
   "source": [
    "## Exercici 3\n",
    "\n",
    "+ Escriu un algorisme de dividir i conquerir, en la seva versió recursiva, karatsuba, que calculi la multiplicació pel mètode de Karatsuba (https://es.wikipedia.org/wiki/Algoritmo_de_Karatsuba). Calcula'n la complexitat. En què es basa aquest algorisme per dividir cada nombre en dos termes?"
   ]
  },
  {
   "cell_type": "code",
   "execution_count": 19,
   "metadata": {
    "collapsed": true
   },
   "outputs": [],
   "source": [
    "# Substitueix la comanda pass per la teva solució\n",
    "import math\n",
    "def karatsuba(x,y):  \n",
    "    \"\"\"\n",
    "    Aquesta funció realitza la multiplicació de x,y de karatsuba en base 10\n",
    "    :param x,y nombres a multiplicar\n",
    "    :return el seu producte\n",
    "    \"\"\"\n",
    "    \n",
    "    if (len(str(x)) or (y<10)):\n",
    "        return x*y\n",
    "    else:\n",
    "        if x>y:\n",
    "            divisio = pow(10,len(str(x)) /2)\n",
    "        else:\n",
    "            divisio = pow(10,len(str(y)) /2)\n",
    "    a = x // divisio\n",
    "    b = x % divisio\n",
    "    c = y // divisio\n",
    "    d = y % divisio\n",
    "    ac= karatsuba(a,c)\n",
    "    bd = karatsuba(b,d)\n",
    "   \n",
    "    prod= (ac*pow(divisio,2 + bd +(ef-bd-ac)*divider))\n",
    "            \n",
    "\n",
    "    \n",
    "    return prod\n",
    "assert(karatsuba(123,4578)==563094)"
   ]
  },
  {
   "cell_type": "markdown",
   "metadata": {},
   "source": [
    "#### Calcula la seva complexitat\n"
   ]
  },
  {
   "cell_type": "markdown",
   "metadata": {},
   "source": [
    "## Exercici 4: Patró binari"
   ]
  },
  {
   "cell_type": "markdown",
   "metadata": {},
   "source": [
    "Donat un patró binari amb alguns dígits com ?, trobeu totes les possibles combinacions de nombres binaris que es poden obtenir reemplaçant el ? amb 0 o 1."
   ]
  },
  {
   "cell_type": "code",
   "execution_count": 39,
   "metadata": {
    "collapsed": true
   },
   "outputs": [],
   "source": [
    "def patroBinari(patro):\n",
    "    patroBinariRec(patro,0)\n",
    "\n",
    "def patroBinariRec(patro, posicio):\n",
    "    \"\"\"\n",
    "    Aquesta funció genera totes les combinacions de nombres binaris a partir del\n",
    "    patró donat reemplaçant el ? amb 0 i 1\n",
    "    :param patro el nombre binari original amb algunes posicions amb ?\n",
    "    :return no retorna res, mostra per pantalla les combinacions generades\n",
    "    \"\"\"\n",
    "    pass"
   ]
  },
  {
   "cell_type": "code",
   "execution_count": 43,
   "metadata": {
    "collapsed": true
   },
   "outputs": [],
   "source": [
    "patroBinari(['1','?','1','?','?'])"
   ]
  },
  {
   "cell_type": "code",
   "execution_count": null,
   "metadata": {
    "collapsed": true
   },
   "outputs": [],
   "source": []
  }
 ],
 "metadata": {
  "kernelspec": {
   "display_name": "Python 3",
   "language": "python",
   "name": "python3"
  },
  "language_info": {
   "codemirror_mode": {
    "name": "ipython",
    "version": 3
   },
   "file_extension": ".py",
   "mimetype": "text/x-python",
   "name": "python",
   "nbconvert_exporter": "python",
   "pygments_lexer": "ipython3",
   "version": "3.6.3"
  }
 },
 "nbformat": 4,
 "nbformat_minor": 1
}
