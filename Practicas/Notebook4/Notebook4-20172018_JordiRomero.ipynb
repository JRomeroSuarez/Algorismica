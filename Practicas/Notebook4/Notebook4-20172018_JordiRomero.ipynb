{
 "cells": [
  {
   "cell_type": "markdown",
   "metadata": {},
   "source": [
    "# Notebook 4: Algorismes per text"
   ]
  },
  {
   "cell_type": "markdown",
   "metadata": {},
   "source": [
    "\n",
    "<div class=\"alert alert-error\">\n",
    "<p><strong><center>Aquesta pràctica és avaluable</center></strong></p>\n",
    "<p>L'has de lliurar amb UN ÚNIC FITXER (Notebook4.ipynb),amb el  Notebook COMPLETAT AMB EL CONJUNT DE FUNCIONS QUE S’HAN D'IMPLEMENTAR a les cel·les que s'indica, i l'execució dels tests inclosos en l'enunciat.</p>  \n",
    "<p>ATENCIÓ: No es poden usar funcions de Python implementades en llibreries externes que resolguin el *quid* de l'exercici.</p>"
   ]
  },
  {
   "cell_type": "code",
   "execution_count": 62,
   "metadata": {},
   "outputs": [
    {
     "data": {
      "text/plain": [
       "6"
      ]
     },
     "execution_count": 62,
     "metadata": {},
     "output_type": "execute_result"
    }
   ],
   "source": [
    "def factorial(n):\n",
    "    if n == 1:\n",
    "        return n\n",
    "    return n * factorial(n-1)\n",
    "factorial(3)"
   ]
  },
  {
   "cell_type": "markdown",
   "metadata": {},
   "source": [
    "## Exercici 1 (3 punts)\n",
    "\n",
    "Donades dues cadenes de caràcters identificar la longitud de la subseqüència compartida més llarga. Una subseqüència és una seqüència de caràcters en el mateix ordre que a la cadena original però no necessàriament consecutius.</p>\n",
    "\n",
    "Per exemple de la paraula ACBA, podem treure'n les subseqüències AC,AB,AA, ACB, ACA, ACBA, CB, CA, CBA, BA"
   ]
  },
  {
   "cell_type": "markdown",
   "metadata": {},
   "source": [
    "**Pregunta 1**: Proposa algunes parelles de cadenes i digues quina és la subseqüència comú més llarga"
   ]
  },
  {
   "cell_type": "markdown",
   "metadata": {},
   "source": [
    "Indica aquí les teves respostes"
   ]
  },
  {
   "cell_type": "code",
   "execution_count": 88,
   "metadata": {
    "collapsed": true
   },
   "outputs": [],
   "source": [
    "# Substitueix la comanda pass pel teu codi\n",
    "# Aplica les directrius d'estil PEP8 i inclou comentaris inicials i entre línies\n",
    "\n",
    "def subSComu(cadena1, cadena2):\n",
    "    if cadena1 == \"\" or cadena2 == \"\": #condició on si les dues cadenes no tenen elements dins retorni 0 \n",
    "        return 0\n",
    "    \n",
    "   \n",
    "    elif cadena1[-1] == cadena2[-1]: # si l'ultim valor de la cadena 1 i 2 son iguals:\n",
    "        return 1 + subSComu(cadena1[:-1],cadena2[:-1]) # es cridara a una funcio recursiva agafant els valor menys l'ultim el cual ja s'ha agafat abans\n",
    "\n",
    "    longSubSequencia = max(subSComu(cadena1[:-1],cadena2[:]),subSComu(cadena1[:], cadena2[:-1])) #agafara el valor maxim de la funcio recursiva\n",
    "        \n",
    "    return longSubSequencia"
   ]
  },
  {
   "cell_type": "code",
   "execution_count": 89,
   "metadata": {},
   "outputs": [
    {
     "data": {
      "text/plain": [
       "2"
      ]
     },
     "execution_count": 89,
     "metadata": {},
     "output_type": "execute_result"
    }
   ],
   "source": [
    "# Test de la funció\n",
    "subSComu(\"hola\",\"clase\")"
   ]
  },
  {
   "cell_type": "markdown",
   "metadata": {},
   "source": [
    "## Exercici 2 (3 punts)\n",
    "\n",
    "També podem construir la solució amb una taula que va guardant els valors de la subseqüència comú més llarga:\n",
    "\n",
    "\n",
    "|   |   | 0 | 1 | 2 | 3 | 4 | 5 | 6 | 7 | 8 |\n",
    "|---|---|---|---|---|---|---|---|---|---|---|\n",
    "|---|---| S | U | B | C | A | D | E | N | A |\n",
    "| 0 | A | 0 | 0 | 0 | 0 | 0 | 0 | 0 | 0 | 0 |\n",
    "| 1 | B | 0 | 0 | 1 | 1 | 1 | 1 | 1 | 1 | 1 |\n",
    "| 2 | E | 0 | 0 | 1 | 1 | 1 | 1 | 2 | 2 | 2 |\n",
    "| 3 | C | 0 | 0 | 1 | 2 | 2 | 2 | 2 | 2 | 2 |\n",
    "| 4 | E | 0 | 0 | 1 | 2 | 2 | 2 | 3 | 3 | 3 |\n",
    "| 5 | D | 0 | 0 | 1 | 2 | 2 | 3 | 3 | 3 | 3 |\n",
    "| 6 | A | 0 | 0 | 1 | 2 | 3 | 3 | 3 | 3 | 4 |\n",
    "| 7 | R | 0 | 0 | 1 | 2 | 3 | 3 | 3 | 3 | 4 |\n",
    "| 8 | I | 0 | 0 | 1 | 2 | 3 | 3 | 3 | 3 | 4 |\n",
    "\n",
    "\n",
    "La casella[i][j] guarda el valor de longitud de la subseqüència més llarga entre cadena1[0:j] i cadena2[0:i]\n",
    "\n",
    "Per ex. la casella[2][6] guarda la longitud de la subseqüència més llarga entre cadena1[0:6] i cadena2[0:2]. Efectivament 2 és la longitud de la subseqüència més llarga entre \"SUBCADE\" i \"ABE\", que es correspon a \"AE\"\n",
    "\n",
    "\n",
    "Crea doncs una nova funció subSComuTaula que generi aquesta taula i que retorni el resultat en base a la taula."
   ]
  },
  {
   "cell_type": "code",
   "execution_count": 87,
   "metadata": {},
   "outputs": [
    {
     "name": "stdout",
     "output_type": "stream",
     "text": [
      "[[0, 0, 0, 0, 0], [0, 0, 0, 0, 0], [0, 1, 1, 1, 1], [1, 1, 2, 2, 2]]\n"
     ]
    },
    {
     "data": {
      "text/plain": [
       "2"
      ]
     },
     "execution_count": 87,
     "metadata": {},
     "output_type": "execute_result"
    }
   ],
   "source": [
    "# Substitueix la comanda pass pel teu codi\n",
    "# Aplica les directrius d'estil PEP8 i inclou comentaris inicials i entre línies\n",
    "\n",
    "def subSComuTaula(cadena1, cadena2):\n",
    "    longa = len(cadena1)\n",
    "    longb = len(cadena2)\n",
    "    mateix = 0 #inicialitza un valor a 0\n",
    "    if cadena1 == \"\" or cadena2 == \"\": #condició on si les dues cadenes no tenen elements dins retorni 0 \n",
    "        return 0 \n",
    "    taula = [[0]*longb for j in range(longa)] #creas la taula segons la longitud de la cadena 2 y 1\n",
    "    for i in range(0,longa): #vas recorreguent la longitud de la llista 1\n",
    "        for j in range(0,len(cadena2)):  #vas recorreguent la longitud de la llista 1\n",
    "            if cadena1[i] == cadena2[j]: #si el valor de la cadena 1 i de la cadena 2 son iguales\n",
    "                mateix = 1 +taula[i-1][j-1] #la variable mateix valdra 1 mes la taula restant-li 1 als valors de i y j\n",
    "            taula[i][j] = max(taula[i-1][j],taula[i][j-1],mateix) #a la variable taula s'agafaran els valors de i y j respectivament juntament amb el valor de mateix\n",
    "    print(taula) #s'imprimeix la taula amb els valors posats\n",
    "    longSubSequencia = taula[-1][-1]\n",
    "    return longSubSequencia\n",
    "subSComuTaula(\"hola\",\"clase\")"
   ]
  },
  {
   "cell_type": "code",
   "execution_count": null,
   "metadata": {
    "collapsed": true
   },
   "outputs": [],
   "source": [
    "import numpy as np\n",
    "n=5\n",
    "A = np.zeros((n,n))\n",
    "print(A)\n",
    "print(\"----------\")\n",
    "\n",
    "m = []\n",
    "for i in range(n):\n",
    "    m.append([0 for i in range(n)])\n",
    "print(m)\n",
    "print(\"-------\")\n",
    "n= [[0]*n for j in range(n)]\n",
    "n"
   ]
  },
  {
   "cell_type": "markdown",
   "metadata": {},
   "source": [
    "## Exercici 3 (4 punts)\n",
    "\n",
    "Proposar una solució al mateix exercici, basant-te en els resultats de la taula anterior, que optimitzi l'espai que ocupa la solució, és a dir, guardant només aquells valors imprescindibles per a la solució."
   ]
  },
  {
   "cell_type": "code",
   "execution_count": 90,
   "metadata": {},
   "outputs": [
    {
     "data": {
      "text/plain": [
       "4"
      ]
     },
     "execution_count": 90,
     "metadata": {},
     "output_type": "execute_result"
    }
   ],
   "source": [
    "# Substitueix la comanda pass pel teu codi\n",
    "# Aplica les directrius d'estil PEP8 i inclou comentaris inicials i entre línies\n",
    "def subSComuOpt(cadena1, cadena2):\n",
    "    if len(cadena1) > len(cadena2): # si la longitud de la cadena 1 es mayor a la dos es cambiara de posicio les cadenes\n",
    "        cadena1, cadena2 = cadena2, cadena1\n",
    "    if cadena1 == \"\" or cadena2 == \"\": #condició on si les dues cadenes no tenen elements dins retorni 0 \n",
    "        return 0\n",
    "    \n",
    "    longa = len(cadena1) +1 #variable on a la longitud de la cadena 1 es sumara 1\n",
    "    longb = len(cadena2) +1 #variable on a la longitud de la cadena 2 es sumara 1\n",
    "    taula = [[0]*longb for x in range (longa)] #creas la taula segons la longitud de la cadena 2 y 1\n",
    "    for i in range(longa): \n",
    "        taula[i][0] = i\n",
    "    for j in range(longb): \n",
    "        taula[0][j] = j           \n",
    "    for i in range(1,longa):\n",
    "        for j in range(1, longb):\n",
    "            insercio = taula[i][j-1] + 1 #es creen noves variables per eliminar inserir o substituir la lletra\n",
    "            substitucio = taula[i-1][j-1]\n",
    "            eliminacio = taula[i-1][j] + 1 \n",
    "            if cadena1[i-1] != cadena2[j-1]: #si el valor de la cadena 1 es diferent al de la cadena 2\n",
    "                substitucio += 1 #al valor subsituir es sumara un \n",
    "            taula[i][j] = min(insercio,eliminacio, substitucio) # i finalment s'agafaran el minim de les tres variables\n",
    "    \n",
    "    return taula[longa-1][longb-1]\n",
    "subSComuOpt(\"hola\",\"clase\")"
   ]
  },
  {
   "cell_type": "code",
   "execution_count": null,
   "metadata": {
    "collapsed": true
   },
   "outputs": [],
   "source": []
  }
 ],
 "metadata": {
  "kernelspec": {
   "display_name": "Python 3",
   "language": "python",
   "name": "python3"
  },
  "language_info": {
   "codemirror_mode": {
    "name": "ipython",
    "version": 3
   },
   "file_extension": ".py",
   "mimetype": "text/x-python",
   "name": "python",
   "nbconvert_exporter": "python",
   "pygments_lexer": "ipython3",
   "version": "3.6.3"
  }
 },
 "nbformat": 4,
 "nbformat_minor": 1
}
