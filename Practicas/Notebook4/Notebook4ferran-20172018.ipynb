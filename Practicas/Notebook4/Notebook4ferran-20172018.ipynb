{
 "cells": [
  {
   "cell_type": "markdown",
   "metadata": {},
   "source": [
    "# Notebook 4: Algorismes per text"
   ]
  },
  {
   "cell_type": "markdown",
   "metadata": {},
   "source": [
    "\n",
    "<div class=\"alert alert-error\">\n",
    "<p><strong><center>Aquesta pràctica és avaluable</center></strong></p>\n",
    "<p>L'has de lliurar amb UN ÚNIC FITXER (Notebook4.ipynb),amb el  Notebook COMPLETAT AMB EL CONJUNT DE FUNCIONS QUE S’HAN D'IMPLEMENTAR a les cel·les que s'indica, i l'execució dels tests inclosos en l'enunciat.</p>  \n",
    "<p>ATENCIÓ: No es poden usar funcions de Python implementades en llibreries externes que resolguin el *quid* de l'exercici.</p>"
   ]
  },
  {
   "cell_type": "markdown",
   "metadata": {},
   "source": [
    "## Exercici 1 (3 punts)\n",
    "\n",
    "Donades dues cadenes de caràcters identificar la longitud de la subseqüència compartida més llarga. Una subseqüència és una seqüència de caràcters en el mateix ordre que a la cadena original però no necessàriament consecutius.</p>\n",
    "\n",
    "Per exemple de la paraula ACBA, podem treure'n les subseqüències AC,AB,AA, ACB, ACA, ACBA, CB, CA, CBA, BA"
   ]
  },
  {
   "cell_type": "markdown",
   "metadata": {},
   "source": [
    "**Pregunta 1**: Proposa algunes parelles de cadenes i digues quina és la subseqüència comú més llarga"
   ]
  },
  {
   "cell_type": "markdown",
   "metadata": {},
   "source": [
    "Indica aquí les teves respostes"
   ]
  },
  {
   "cell_type": "code",
   "execution_count": 1,
   "metadata": {
    "collapsed": true
   },
   "outputs": [],
   "source": [
    "# Substitueix la comanda pass pel teu codi \n",
    "# Aplica les directrius d'estil PEP8 i inclou comentaris inicials i entre línies\n",
    "\n",
    "def subSComu(cadena1, cadena2):\n",
    "    #Funcion recursiva\n",
    "    if cadena1==\"\" or cadena2==\"\":\n",
    "        return 0\n",
    "    elif cadena1[-1]==cadena2[-1]:\n",
    "        return 1+subSComu(cadena1[:-1],cadena2[:-1])\n",
    "    longSubSequencia=max(subSComu(cadena1[:-1],cadena2[:]),subSComu(cadena1[:],cadena2[:-1]))\n",
    "    \n",
    "    \n",
    "    return longSubSequencia"
   ]
  },
  {
   "cell_type": "code",
   "execution_count": 11,
   "metadata": {},
   "outputs": [
    {
     "data": {
      "text/plain": [
       "3"
      ]
     },
     "execution_count": 11,
     "metadata": {},
     "output_type": "execute_result"
    }
   ],
   "source": [
    "# Test de la funció\n",
    "subSComu(\"ABCD\",\"ACBDF\")"
   ]
  },
  {
   "cell_type": "markdown",
   "metadata": {},
   "source": [
    "## Exercici 2 (3 punts)\n",
    "\n",
    "També podem construir la solució amb una taula que va guardant els valors de la subseqüència comú més llarga:\n",
    "\n",
    "\n",
    "|   |   | 0 | 1 | 2 | 3 | 4 | 5 | 6 | 7 | 8 |\n",
    "|---|---|---|---|---|---|---|---|---|---|---|\n",
    "|---|---| S | U | B | C | A | D | E | N | A |\n",
    "| 0 | A | 0 | 0 | 0 | 0 | 0 | 0 | 0 | 0 | 0 |\n",
    "| 1 | B | 0 | 0 | 1 | 1 | 1 | 1 | 1 | 1 | 1 |\n",
    "| 2 | E | 0 | 0 | 1 | 1 | 1 | 1 | 2 | 2 | 2 |\n",
    "| 3 | C | 0 | 0 | 1 | 2 | 2 | 2 | 2 | 2 | 2 |\n",
    "| 4 | E | 0 | 0 | 1 | 2 | 2 | 2 | 3 | 3 | 3 |\n",
    "| 5 | D | 0 | 0 | 1 | 2 | 2 | 3 | 3 | 3 | 3 |\n",
    "| 6 | A | 0 | 0 | 1 | 2 | 3 | 3 | 3 | 3 | 4 |\n",
    "| 7 | R | 0 | 0 | 1 | 2 | 3 | 3 | 3 | 3 | 4 |\n",
    "| 8 | I | 0 | 0 | 1 | 2 | 3 | 3 | 3 | 3 | 4 |\n",
    "\n",
    "\n",
    "La casella[i][j] guarda el valor de longitud de la subseqüència més llarga entre cadena1[0:j] i cadena2[0:i]\n",
    "\n",
    "Per ex. la casella[2][6] guarda la longitud de la subseqüència més llarga entre cadena1[0:6] i cadena2[0:2]. Efectivament 2 és la longitud de la subseqüència més llarga entre \"SUBCADE\" i \"ABE\", que es correspon a \"AE\"\n",
    "\n",
    "\n",
    "Crea doncs una nova funció subSComuTaula que generi aquesta taula i que retorni el resultat en base a la taula."
   ]
  },
  {
   "cell_type": "code",
   "execution_count": 12,
   "metadata": {},
   "outputs": [
    {
     "name": "stdout",
     "output_type": "stream",
     "text": [
      "[[0, 0, 0, 0], [0, 0, 0, 1], [0, 0, 0, 1], [0, 0, 0, 1]]\n"
     ]
    },
    {
     "data": {
      "text/plain": [
       "1"
      ]
     },
     "execution_count": 12,
     "metadata": {},
     "output_type": "execute_result"
    }
   ],
   "source": [
    "# Substitueix la comanda pass pel teu codi\n",
    "# Aplica les directrius d'estil PEP8 i inclou comentaris inicials i entre línies\n",
    "\n",
    "def subSComuTaula(cadena1, cadena2):\n",
    "    taulaSolucions=[[0]*(len(cadena2)) for i in range(len(cadena1))]\n",
    "    \n",
    "    \n",
    "    for f in range(0,len(cadena1)):\n",
    "        for c in range(0,len(cadena2)):\n",
    "            iguals=0\n",
    "            if cadena2[c]==cadena1[f]:\n",
    "                iguals=1+taulaSolucions[f-1][c-1]\n",
    "            taulaSolucions[f][c]=max(taulaSolucions[f-1][c],taulaSolucions[f][c-1],iguals)\n",
    "                \n",
    "                \n",
    "    print(taulaSolucions)\n",
    "    longSubSequencia=taulaSolucions[-1][-1]\n",
    "    return longSubSequencia\n",
    "subSComuTaula(\"hola\",\"pipo\")"
   ]
  },
  {
   "cell_type": "markdown",
   "metadata": {},
   "source": [
    "## Exercici 3 (4 punts)\n",
    "\n",
    "Proposar una solució al mateix exercici, basant-te en els resultats de la taula anterior, que optimitzi l'espai que ocupa la solució, és a dir, guardant només aquells valors imprescindibles per a la solució."
   ]
  },
  {
   "cell_type": "code",
   "execution_count": 6,
   "metadata": {},
   "outputs": [
    {
     "name": "stdout",
     "output_type": "stream",
     "text": [
      "A\n",
      "1 1\n",
      "A\n",
      "2 2\n",
      "A\n",
      "3 3\n"
     ]
    },
    {
     "data": {
      "text/plain": [
       "3"
      ]
     },
     "execution_count": 6,
     "metadata": {},
     "output_type": "execute_result"
    }
   ],
   "source": [
    "# Substitueix la comanda pass pel teu codi\n",
    "# Aplica les directrius d'estil PEP8 i inclou comentaris inicials i entre línies\n",
    "\n",
    "def subSComuOpt(cadena1, cadena2):\n",
    "    temp1=0\n",
    "    temp2=0\n",
    "    longSubSequencia=0\n",
    "    while temp1<(len(cadena1)-1) and (temp2<len(cadena2)-1):\n",
    "        if cadena1[temp1+1]==cadena2[temp2+1]:\n",
    "            print(\"A\")\n",
    "            \n",
    "            temp1+=1\n",
    "            temp2+=1\n",
    "            longSubSequencia+=1\n",
    "        elif cadena1[temp1+1]==cadena2[temp2]:\n",
    "            print(\"B\")\n",
    "            \n",
    "            temp1+=1\n",
    "            longSubSequencia+=1\n",
    "        elif cadena1[temp1]==cadena2[temp2+1]:\n",
    "            print(\"C\")\n",
    "            \n",
    "            temp2+=1\n",
    "            longSubSequencia+=1\n",
    "        elif temp1<temp2:\n",
    "            temp1+=1\n",
    "        elif temp1>temp2:\n",
    "            temp2+=1\n",
    "        else:\n",
    "            temp1+=1\n",
    "            temp2+=1\n",
    "        print(temp1,temp2)\n",
    "           \n",
    "    return longSubSequencia\n",
    "subSComuOpt(\"ABCD\",\"ABCD\")"
   ]
  },
  {
   "cell_type": "code",
   "execution_count": null,
   "metadata": {
    "collapsed": true
   },
   "outputs": [],
   "source": []
  }
 ],
 "metadata": {
  "kernelspec": {
   "display_name": "Python 3",
   "language": "python",
   "name": "python3"
  },
  "language_info": {
   "codemirror_mode": {
    "name": "ipython",
    "version": 3
   },
   "file_extension": ".py",
   "mimetype": "text/x-python",
   "name": "python",
   "nbconvert_exporter": "python",
   "pygments_lexer": "ipython3",
   "version": "3.6.3"
  }
 },
 "nbformat": 4,
 "nbformat_minor": 1
}
