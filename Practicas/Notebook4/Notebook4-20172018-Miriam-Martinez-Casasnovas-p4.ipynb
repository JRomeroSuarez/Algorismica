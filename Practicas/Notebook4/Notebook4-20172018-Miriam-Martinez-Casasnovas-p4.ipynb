{
 "cells": [
  {
   "cell_type": "markdown",
   "metadata": {},
   "source": [
    "# Notebook 4: Algorismes per text"
   ]
  },
  {
   "cell_type": "markdown",
   "metadata": {},
   "source": [
    "\n",
    "<div class=\"alert alert-error\">\n",
    "<p><strong><center>Aquesta pràctica és avaluable</center></strong></p>\n",
    "<p>L'has de lliurar amb UN ÚNIC FITXER (Notebook4.ipynb),amb el  Notebook COMPLETAT AMB EL CONJUNT DE FUNCIONS QUE S’HAN D'IMPLEMENTAR a les cel·les que s'indica, i l'execució dels tests inclosos en l'enunciat.</p>  \n",
    "<p>ATENCIÓ: No es poden usar funcions de Python implementades en llibreries externes que resolguin el *quid* de l'exercici.</p>"
   ]
  },
  {
   "cell_type": "markdown",
   "metadata": {},
   "source": [
    "## Exercici 1 (3 punts)\n",
    "\n",
    "Donades dues cadenes de caràcters identificar la longitud de la subseqüència compartida més llarga. Una subseqüència és una seqüència de caràcters en el mateix ordre que a la cadena original però no necessàriament consecutius.</p>\n",
    "\n",
    "Per exemple de la paraula ACBA, podem treure'n les subseqüències AC,AB,AA, ACB, ACA, ACBA, CB, CA, CBA, BA"
   ]
  },
  {
   "cell_type": "markdown",
   "metadata": {},
   "source": [
    "**Pregunta 1**: Proposa algunes parelles de cadenes i digues quina és la subseqüència comú més llarga"
   ]
  },
  {
   "cell_type": "markdown",
   "metadata": {},
   "source": [
    "Indica aquí les teves respostes"
   ]
  },
  {
   "cell_type": "code",
   "execution_count": 76,
   "metadata": {
    "collapsed": true
   },
   "outputs": [],
   "source": [
    "# Substitueix la comanda pass pel teu codi\n",
    "# Aplica les directrius d'estil PEP8 i inclou comentaris inicials i entre línies\n",
    "''' aquest codi compara 2 cadenes i ens torna el que tenen en comu'''\n",
    "def subSComu(cadena1, cadena2):\n",
    "    if len(cadena1)==0 or len(cadena2)==0:\n",
    "        return 0 #si una de les 2 cadenes esta buida la longsubsequencia sera 0 no hi haura res amb que comparar\n",
    "    elif cadena1[-1]==cadena2[-1]:\n",
    "        #funció recursiva:\n",
    "        return 1+subSComu(cadena1[:-1],cadena2[:-1])#cadenes senseres menys la ultima posició\n",
    "    longSubSequencia=max(subSComu(cadena1[:-1],cadena2[:]),subSComu(cadena1[:],cadena2[:-1]))\n",
    "    '''ens diu el maxim entre la comparacó de la primera cadena sense la seva ultima posicio i la segona completa i al la inversa'''\n",
    "    \n",
    "    \n",
    "    return longSubSequencia"
   ]
  },
  {
   "cell_type": "code",
   "execution_count": 77,
   "metadata": {},
   "outputs": [
    {
     "data": {
      "text/plain": [
       "2"
      ]
     },
     "execution_count": 77,
     "metadata": {},
     "output_type": "execute_result"
    }
   ],
   "source": [
    "# Test de la funció\n",
    "subSComu('abc','acd')"
   ]
  },
  {
   "cell_type": "markdown",
   "metadata": {},
   "source": [
    " Exercici 2 (3 punts)\n",
    "\n",
    "També podem construir la solució amb una taula que va guardant els valors de la subseqüència comú més llarga:\n",
    "\n",
    "\n",
    "|   |   | 0 | 1 | 2 | 3 | 4 | 5 | 6 | 7 | 8 |\n",
    "|---|---|---|---|---|---|---|---|---|---|---|\n",
    "|---|---| S | U | B | C | A | D | E | N | A |\n",
    "| 0 | A | 0 | 0 | 0 | 0 | 0 | 0 | 0 | 0 | 0 |\n",
    "| 1 | B | 0 | 0 | 1 | 1 | 1 | 1 | 1 | 1 | 1 |\n",
    "| 2 | E | 0 | 0 | 1 | 1 | 1 | 1 | 2 | 2 | 2 |\n",
    "| 3 | C | 0 | 0 | 1 | 2 | 2 | 2 | 2 | 2 | 2 |\n",
    "| 4 | E | 0 | 0 | 1 | 2 | 2 | 2 | 3 | 3 | 3 |\n",
    "| 5 | D | 0 | 0 | 1 | 2 | 2 | 3 | 3 | 3 | 3 |\n",
    "| 6 | A | 0 | 0 | 1 | 2 | 3 | 3 | 3 | 3 | 4 |\n",
    "| 7 | R | 0 | 0 | 1 | 2 | 3 | 3 | 3 | 3 | 4 |\n",
    "| 8 | I | 0 | 0 | 1 | 2 | 3 | 3 | 3 | 3 | 4 |\n",
    "\n",
    "\n",
    "La casella[i][j] guarda el valor de longitud de la subseqüència més llarga entre cadena1[0:j] i cadena2[0:i]\n",
    "\n",
    "Per ex. la casella[2][6] guarda la longitud de la subseqüència més llarga entre cadena1[0:6] i cadena2[0:2]. Efectivament 2 és la longitud de la subseqüència més llarga entre \"SUBCADE\" i \"ABE\", que es correspon a \"AE\"\n",
    "\n",
    "\n",
    "Crea doncs una nova funció subSComuTaula que generi aquesta taula i que retorni el resultat en base a la taula."
   ]
  },
  {
   "cell_type": "code",
   "execution_count": 20,
   "metadata": {},
   "outputs": [
    {
     "name": "stdout",
     "output_type": "stream",
     "text": [
      "[[1, 1, 1, 1, 1, 1, 1, 1], [1, 1, 1, 1, 1, 1, 1, 1], [2, 2, 2, 2, 2, 2, 2, 2], [2, 2, 2, 2, 2, 3, 3, 3], [2, 2, 2, 2, 2, 3, 4, 4], [2, 2, 2, 3, 3, 3, 4, 4]]\n"
     ]
    },
    {
     "data": {
      "text/plain": [
       "4"
      ]
     },
     "execution_count": 20,
     "metadata": {},
     "output_type": "execute_result"
    }
   ],
   "source": [
    "# Substitueix la comanda pass pel teu codi\n",
    "# Aplica les directrius d'estil PEP8 i inclou comentaris inicials i entre línies\n",
    "\n",
    "def subSComuTaula(cadena1, cadena2):\n",
    "    taulaSolucions=[[0]*(len(cadena2)) for i in range(len(cadena1))]#creo la matriz\n",
    "    for a in range(len(cadena1)):#se crea una lista con el numero de caracteres de la cadena1 i se le asigna el nombre de la variable a\n",
    "        for b in range(len(cadena2)):#se crea una lista con el numero de caracteres de la cadena2 i se le asigna el nombre de la variable b\n",
    "            sicoinciden=0#defino variables\n",
    "            if cadena1[a]==cadena2[b]:#si es compleix la condició que un caracter de la cadena 1 es igual a la cadena 2\n",
    "                sicoinciden=1+taulaSolucions[a-1][b-1]#vale 1 más la matriz quitandole la ultima posición a las variables i,j\n",
    "            taulaSolucions[a][b]=max(taulaSolucions[a-1][b],taulaSolucions[a][b-1],sicoinciden)#coje el maximo\n",
    "                \n",
    "                \n",
    "    print(taulaSolucions)#imprimeix la matriu\n",
    "    longSubSequencia=taulaSolucions[-1][-1]#la longitud de la sequencia es el nombre que hi hagi en la ultima posició de la matriu \n",
    "    return longSubSequencia\n",
    "subSComuTaula('pepito','palomita')"
   ]
  },
  {
   "cell_type": "markdown",
   "metadata": {},
   "source": [
    "## Exercici 3 (4 punts)\n",
    "\n",
    "Proposar una solució al mateix exercici, basant-te en els resultats de la taula anterior, que optimitzi l'espai que ocupa la solució, és a dir, guardant només aquells valors imprescindibles per a la solució."
   ]
  },
  {
   "cell_type": "code",
   "execution_count": 34,
   "metadata": {},
   "outputs": [
    {
     "name": "stdout",
     "output_type": "stream",
     "text": [
      "[[1, 1, 1, 1, 1, 1, 1, 1], [1, 1, 1, 1, 1, 1, 1, 1], [2, 2, 2, 2, 2, 2, 2, 2], [2, 2, 2, 2, 2, 3, 3, 3], [2, 2, 2, 2, 2, 3, 4, 4], [2, 2, 2, 3, 3, 3, 4, 4]]\n"
     ]
    },
    {
     "data": {
      "text/plain": [
       "4"
      ]
     },
     "execution_count": 34,
     "metadata": {},
     "output_type": "execute_result"
    }
   ],
   "source": [
    "# Substitueix la comanda pass pel teu codi\n",
    "# Aplica les directrius d'estil PEP8 i inclou comentaris inicials i entre línies\n",
    "\n",
    "def subSComuOpt(cadena1, cadena2):\n",
    "    taulaSolucions=[[0]*(len(cadena2)) for i in range(len(cadena1))]#creo la matriz\n",
    "    for a in range(len(cadena1)):#se crea una lista con el numero de caracteres de la cadena1 i se le asigna el nombre de la variable a\n",
    "        for b in range(len(cadena2)):#se crea una lista con el numero de caracteres de la cadena2 i se le asigna el nombre de la variable b\n",
    "            sicoinciden=0#defino variables\n",
    "            if cadena1[a]==cadena2[b]:#si es compleix la condició que un caracter de la cadena 1 es igual a la cadena 2\n",
    "                sicoinciden=1+taulaSolucions[a-1][b-1]#vale 1 más la matriz quitandole la ultima posición a las variables i,j\n",
    "            taulaSolucions[a][b]=max(taulaSolucions[a-1][b],taulaSolucions[a][b-1],sicoinciden)#coje el maximo\n",
    "\n",
    "    longSubSequencia=taulaSolucions[-1][-1]#la longitud de la sequencia es el nombre que hi hagi en la ultima posició de la matriu \n",
    "    return longSubSequencia\n",
    "subSComuTaula('pepito','palomita')"
   ]
  },
  {
   "cell_type": "code",
   "execution_count": null,
   "metadata": {
    "collapsed": true
   },
   "outputs": [],
   "source": []
  },
  {
   "cell_type": "code",
   "execution_count": null,
   "metadata": {
    "collapsed": true
   },
   "outputs": [],
   "source": []
  }
 ],
 "metadata": {
  "kernelspec": {
   "display_name": "Python 3",
   "language": "python",
   "name": "python3"
  },
  "language_info": {
   "codemirror_mode": {
    "name": "ipython",
    "version": 3
   },
   "file_extension": ".py",
   "mimetype": "text/x-python",
   "name": "python",
   "nbconvert_exporter": "python",
   "pygments_lexer": "ipython3",
   "version": "3.6.3"
  }
 },
 "nbformat": 4,
 "nbformat_minor": 1
}
