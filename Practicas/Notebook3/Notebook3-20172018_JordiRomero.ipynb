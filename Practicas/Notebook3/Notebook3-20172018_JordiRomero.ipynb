{
 "cells": [
  {
   "cell_type": "markdown",
   "metadata": {},
   "source": [
    "# Notebook 3: Algorismes numèrics"
   ]
  },
  {
   "cell_type": "markdown",
   "metadata": {},
   "source": [
    "<div class=\"alert alert-error\"><strong><center>Aquesta pràctica és avaluable.</center></strong> \n",
    "<p>\n",
    "<p>L'has de lliurar amb UN ÚNIC FITXER (Notebook3.ipynb),amb el  Notebook COMPLETAT AMB EL CONJUNT DE FUNCIONS QUE S’HAN D'IMPLEMENTAR a les cel·les que s'indica, i l'execució dels tests inclosos en l'enunciat.</p> \n",
    "<p>ATENCIÓ: No es poden usar funcions de Python implementades en llibreries externes que resolguin el *quid* de l'exercici.</p></div>"
   ]
  },
  {
   "cell_type": "markdown",
   "metadata": {},
   "source": [
    "## Documentació de suport a la pràctica\n",
    "\n",
    "- [Estructures de control](..\\conceptes\\control.ipynb)\n",
    "- [Paràmetres](..\\conceptes\\parametres.ipynb)"
   ]
  },
  {
   "cell_type": "markdown",
   "metadata": {},
   "source": [
    "Els objectius d'aquesta pràctica són:\n",
    "\n",
    "- Practicar amb els algorismes numèrics\n",
    "- Dominar les estructures de control"
   ]
  },
  {
   "cell_type": "markdown",
   "metadata": {},
   "source": [
    "### Mesura empírica del cost computacional\n",
    "timeit és un mòdul python que ens permet mesurar de forma aproximada el temps de procés d'unes linies de codi:\n"
   ]
  },
  {
   "cell_type": "code",
   "execution_count": 132,
   "metadata": {},
   "outputs": [
    {
     "ename": "NameError",
     "evalue": "name 'func1' is not defined",
     "output_type": "error",
     "traceback": [
      "\u001b[1;31m---------------------------------------------------------------------------\u001b[0m",
      "\u001b[1;31mNameError\u001b[0m                                 Traceback (most recent call last)",
      "\u001b[1;32m<ipython-input-132-13d2aa300fa5>\u001b[0m in \u001b[0;36m<module>\u001b[1;34m()\u001b[0m\n\u001b[0;32m      1\u001b[0m \u001b[1;32mimport\u001b[0m \u001b[0mtimeit\u001b[0m\u001b[1;33m\u001b[0m\u001b[0m\n\u001b[0;32m      2\u001b[0m \u001b[0mstart_time\u001b[0m \u001b[1;33m=\u001b[0m \u001b[0mtimeit\u001b[0m\u001b[1;33m.\u001b[0m\u001b[0mdefault_timer\u001b[0m\u001b[1;33m(\u001b[0m\u001b[1;33m)\u001b[0m\u001b[1;33m\u001b[0m\u001b[0m\n\u001b[1;32m----> 3\u001b[1;33m \u001b[0mfunc1\u001b[0m\u001b[1;33m(\u001b[0m\u001b[1;33m)\u001b[0m\u001b[1;33m;\u001b[0m\u001b[1;33m\u001b[0m\u001b[0m\n\u001b[0m\u001b[0;32m      4\u001b[0m \u001b[0mprint\u001b[0m\u001b[1;33m(\u001b[0m\u001b[0mtimeit\u001b[0m\u001b[1;33m.\u001b[0m\u001b[0mdefault_timer\u001b[0m\u001b[1;33m(\u001b[0m\u001b[1;33m)\u001b[0m \u001b[1;33m-\u001b[0m \u001b[0mstart_time\u001b[0m\u001b[1;33m)\u001b[0m\u001b[1;33m\u001b[0m\u001b[0m\n\u001b[0;32m      5\u001b[0m \u001b[1;33m\u001b[0m\u001b[0m\n",
      "\u001b[1;31mNameError\u001b[0m: name 'func1' is not defined"
     ]
    }
   ],
   "source": [
    "import timeit\n",
    "start_time = timeit.default_timer()\n",
    "func1();\n",
    "print(timeit.default_timer() - start_time)\n",
    "\n",
    "start_time = timeit.default_timer()\n",
    "func2()\n",
    "print(timeit.default_timer() - start_time)"
   ]
  },
  {
   "cell_type": "markdown",
   "metadata": {},
   "source": [
    "## Exercici 1\n",
    "\n",
    "### Màxim Comú Divisor (MCD)\n",
    "\n",
    "El Màxim Comú Divisor (MCD) de dos valors es pot calcular amb l’algorisme d’Euclides. Començant amb els valors $m$ i $n$, apliquem repetidament la fórmula ``n,m=m,n%m`` fins que $m$ és $0$. Llavors, $n$ és el MCD de $m$ i $n$. \n",
    "\n",
    "+ Escriu una funció, ``mcd``, que calculi el MCD de dos nombres enters "
   ]
  },
  {
   "cell_type": "code",
   "execution_count": 133,
   "metadata": {
    "collapsed": true
   },
   "outputs": [],
   "source": [
    "# Substitueix la comanda pass pel teu codi\n",
    "\n",
    "def mcd(x,y):\n",
    "    maxComDiv = 0 # inicialitzem la variable resta\n",
    "    while(y > 0): #sempre que la y sigui major que y farem el següent.\n",
    "        maxComDiv = y #el valor de y sera el de resta\n",
    "        y = x % y # i el valor de y sera el residu del valor x i y\n",
    "    \n",
    "    return maxComDiv"
   ]
  },
  {
   "cell_type": "code",
   "execution_count": 134,
   "metadata": {},
   "outputs": [
    {
     "data": {
      "text/plain": [
       "4"
      ]
     },
     "execution_count": 134,
     "metadata": {},
     "output_type": "execute_result"
    }
   ],
   "source": [
    "# Test de la funció\n",
    "\n",
    "mcd(12,8) #aquest exemple hauria de retornar (4)"
   ]
  },
  {
   "cell_type": "markdown",
   "metadata": {},
   "source": [
    "Escriu una funció ``mcdTemps`` que calculi el mcd i a més mostri per pantalla quan temps ha trigat a fer-ho."
   ]
  },
  {
   "cell_type": "code",
   "execution_count": 135,
   "metadata": {
    "collapsed": true
   },
   "outputs": [],
   "source": [
    "# Substitueix la comanda pass pel teu codi\n",
    "import time\n",
    "def mcdTemps(x,y):\n",
    "    start_time = timeit.default_timer() #inicialitza el temps \n",
    "    MCD = mcd(x,y) #crida a la funcio creada a l'exercici anterior\n",
    "    temps =timeit.default_timer()-start_time #defineix la funcio temps que sera el temps que ha trigat el programa a fer-ho.\n",
    "    print(\"El calcul ha tardat\", temps, \"segons\") #imprimeix el r\n",
    "    return MCD"
   ]
  },
  {
   "cell_type": "code",
   "execution_count": 136,
   "metadata": {},
   "outputs": [
    {
     "name": "stdout",
     "output_type": "stream",
     "text": [
      "El calcul ha tardat 1.4104680303717032e-06 segons\n"
     ]
    },
    {
     "data": {
      "text/plain": [
       "4"
      ]
     },
     "execution_count": 136,
     "metadata": {},
     "output_type": "execute_result"
    }
   ],
   "source": [
    "# Test de la funció\n",
    "\n",
    "mcdTemps(12,8) #aquest exemple hauria de retornar (4) \n",
    "# i per pantalla hauria de mostrar els segons"
   ]
  },
  {
   "cell_type": "markdown",
   "metadata": {},
   "source": [
    "## Exercici 2\n",
    "\n",
    "### El sedàs d'Eratòstenes.\n",
    "\n",
    "El sedàs d'Eratòstenes és un algorisme antic per cercar tots els nombres primers fins a un determinat enter. Va ser creat per Eratòstenes (276-194 aC), un matemàtic de l'Antiga Grècia. Referència: http://ca.wikipedia.org/wiki/Sedàs_d'Eratòstenes.\n",
    "\n",
    "Algorisme:\n",
    "\n",
    "1. Escriu una llista $llista1$ amb els números del $2$ fins a l'enter més gran $N$ que vulguis calcular.\n",
    "2. El primer nombre de la llista és un nombre primer. Anota'l en una llista de nombres primers, $B$.\n",
    "3. Esborra de la llista $llista1$ el primer nombre i els seus múltiples.\n",
    "4. Si el primer nombre de la llista $llista1$ és més petit que l’arrel quadrada de $N$, torna al punt 2.\n",
    "5. Els nombres de la llista $llista2$ i els que queden a la llista $llista1$ són tots els nombres primers cercats.\n",
    "\n",
    "\n",
    "+ Escriu una funció, ``era1`` que, donat un nombre $n$ usi aquest algorisme per retornar tots els nombres primers menors o iguals que $n$ en una llista. "
   ]
  },
  {
   "cell_type": "code",
   "execution_count": 32,
   "metadata": {
    "collapsed": true
   },
   "outputs": [],
   "source": [
    "# Substitueix la comanda pass pel teu codi\n",
    "import math\n",
    "def era1(n): \n",
    "    llistaPrimers = [] # crea la llista on aniran els primers\n",
    "    llista1 =list(range(2,n+1)) #crea una llista des del dos fins l'infinit\n",
    "    while (llista1[0]<math.sqrt(n)):#sempre que el primer nombre sigui menor a l'arrel quadrada de n,\n",
    "        a=llista1[0]\n",
    "        llistaPrimers.append(a) #s'afegira el nombre a la llista de primers\n",
    "            \n",
    "        for nombre in llista1: #pels nombres de la llista1\n",
    "            if nombre%a==0: #es divideixen entre el primer nombre de la llista1, i si el residu es zero\n",
    "                 llista1.remove(nombre) #s'elimina de la llista\n",
    "\n",
    "    llistaPrimers += llista1 # es suma a la variable llistaPrimers \n",
    "    return llistaPrimers"
   ]
  },
  {
   "cell_type": "code",
   "execution_count": 33,
   "metadata": {},
   "outputs": [
    {
     "data": {
      "text/plain": [
       "[2, 3, 5, 7, 11]"
      ]
     },
     "execution_count": 33,
     "metadata": {},
     "output_type": "execute_result"
    }
   ],
   "source": [
    "# Test de la funció\n",
    "era1(11) #aquest exemple hauria de retornar [2, 3, 5, 7, 11] "
   ]
  },
  {
   "cell_type": "markdown",
   "metadata": {},
   "source": [
    "## Exercici 3\n",
    "\n",
    "+ Escriu una funció, ``era2``, que imprimeixi el temps que es triga a calcular mitjançant el sedàs d’Eratòstenes els nombres primers menors que $500.000$ i quants nombres primers hi ha. era2 ha d'aconseguir fer aquest càlcul en menys de 5 segons, i per fer-ho hauràs d'optimitzar el càlcul del sedàs. L'optimització pot suposar introduir petits canvis en l'algorisme sense alterar-ne l'essència però potser sí els passos i la manera de fer-los."
   ]
  },
  {
   "cell_type": "markdown",
   "metadata": {},
   "source": [
    "   + NOTA1: Comença per un nombre màxim més petit que 500.000 i ves pujant mica en mica.\n",
    "\n",
    "   + NOTA2: Si el càlcul fins a 500.000 triga més de 5 segons, digues fins a quin nombre arribes en 5 segons.\n",
    "   \n",
    "   + NOTA3: Revisa les comprehensions per fer l'algorisme més eficient\n",
    "   "
   ]
  },
  {
   "cell_type": "code",
   "execution_count": 129,
   "metadata": {
    "collapsed": true
   },
   "outputs": [],
   "source": [
    "# Substitueix la comanda pass pel teu codi\n",
    "import timeit\n",
    "def era2(n):\n",
    "    start_time = timeit.default_timer() #inicialitzes el temps\n",
    "    llistaNoPrimers=[] #creas una llista amb els nombres no primers\n",
    "    for i in range(2,int(n**0.5)): #executes un for amb uns valor determinats\n",
    "        for j in range(i*i,n+1,i): #exectues un altre for fins a arribar al final del primer for\n",
    "            llistaNoPrimers.append(j) # afegeixes tots els numeros no primers\n",
    "    llistaPrimers = len(llistaNoPrimers)-1 # per trobar la llista de primers li restes la llista dels no primers\n",
    "            \n",
    "    time = timeit.default_timer()-start_time # \n",
    "    return (llistaPrimers,time)"
   ]
  },
  {
   "cell_type": "code",
   "execution_count": 130,
   "metadata": {},
   "outputs": [
    {
     "data": {
      "text/plain": [
       "(2819576, 0.27083561065137474)"
      ]
     },
     "execution_count": 130,
     "metadata": {},
     "output_type": "execute_result"
    }
   ],
   "source": [
    "# Test de la funció\n",
    "era2(500000) "
   ]
  },
  {
   "cell_type": "markdown",
   "metadata": {},
   "source": [
    "\n",
    "## Exercici 4\n",
    "\n",
    "+ Escriu una funció ``factorp`` que comprovi si un determinat nombre $n$ és primer mitjançant la tècnica de la factorització i que imprimeixi quan temps ha trigat en calcular-ho (podeu usar el mètode explicat a http://www.purplemath.com/modules/factnumb.htm)."
   ]
  },
  {
   "cell_type": "code",
   "execution_count": 120,
   "metadata": {
    "collapsed": true
   },
   "outputs": [],
   "source": [
    "# Substitueix la comanda pass pel teu codi\n",
    "import timeit\n",
    "def factorp(n):\n",
    "    start_time = timeit.default_timer() #inicialitza valor del temps\n",
    "    if n<2:\n",
    "        return False, timeit.default_timer()-start_time\n",
    "    for i in range(2,n):\n",
    "        if n% i == 0:\n",
    "            return False, timeit.default_timer()-start_time\n",
    "    return True, timeit.default_timer()-start_time\n",
    "                       \n"
   ]
  },
  {
   "cell_type": "code",
   "execution_count": 126,
   "metadata": {},
   "outputs": [
    {
     "name": "stdout",
     "output_type": "stream",
     "text": [
      "(True, 2.8209360607434064e-06)\n",
      "(True, 1.7630845832172781e-06)\n"
     ]
    }
   ],
   "source": [
    "# Test de la funció\n",
    "print(factorp(7)) #aquest exemple hauria de retornar (True, 5.13e-06) \n",
    "# el temps pot sortir lleugerament diferent i amb més decimals\n",
    "print (factorp(3))#aquest exemple hauria de retornar (True, 4.7e-06) \n",
    "# el temps pot sortir lleugerament diferent i amb més decimals\n",
    "\n",
    "# he hagut de usar el print perque si no unicament s'imprimia un"
   ]
  },
  {
   "cell_type": "markdown",
   "metadata": {},
   "source": [
    "## Exercici 5\n",
    "\n",
    "+ Escriu una funció, ``fermatp``, que comprovi si un determinat nombre $n$ és primer mitjançant la tècnica de Fermat amb valors $a=2, 3,  5$ (veure apunts de teoria). La funció ha d’escriure al final del test si és un nombre primer i el temps invertit en el càlcul."
   ]
  },
  {
   "cell_type": "code",
   "execution_count": 57,
   "metadata": {
    "collapsed": true
   },
   "outputs": [],
   "source": [
    "# Substitueix la comanda pass pel teu codi\n",
    "import timeit\n",
    "def fermatp(n):\n",
    "    start_time = timeit.default_timer() #inicialitza el temps\n",
    "    if n == 2: # si el valor n es igual a 2\n",
    "        return True #el programa retornara true\n",
    "    if not (n or 1): # si no es el mateix nombre o 1\n",
    "        return False #retornara 1\n",
    "    a = [2,3,5]\n",
    "    for i in a:\n",
    "        esPrimer = pow(i,n-1, n) == 1 #i calculara aquesta operacio i mirar si es igual a 1 o no\n",
    "    temps= timeit.default_timer()-start_time\n",
    "    return (esPrimer,temps) #finalment retornara si es true o no amb el temps"
   ]
  },
  {
   "cell_type": "code",
   "execution_count": 59,
   "metadata": {},
   "outputs": [
    {
     "data": {
      "text/plain": [
       "(False, 6.69972314426559e-06)"
      ]
     },
     "execution_count": 59,
     "metadata": {},
     "output_type": "execute_result"
    }
   ],
   "source": [
    "# Test de la funció\n",
    "fermatp(19) #aquest exemple hauria de retornar (True, 1.49e-05)\n",
    "# el temps pot sortir lleugerament diferent i amb més decimals"
   ]
  },
  {
   "cell_type": "code",
   "execution_count": null,
   "metadata": {
    "collapsed": true
   },
   "outputs": [],
   "source": []
  }
 ],
 "metadata": {
  "kernelspec": {
   "display_name": "Python 3",
   "language": "python",
   "name": "python3"
  },
  "language_info": {
   "codemirror_mode": {
    "name": "ipython",
    "version": 3
   },
   "file_extension": ".py",
   "mimetype": "text/x-python",
   "name": "python",
   "nbconvert_exporter": "python",
   "pygments_lexer": "ipython3",
   "version": "3.6.3"
  }
 },
 "nbformat": 4,
 "nbformat_minor": 1
}
