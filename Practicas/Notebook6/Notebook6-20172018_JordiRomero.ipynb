{
 "cells": [
  {
   "cell_type": "markdown",
   "metadata": {},
   "source": [
    "# Notebook 6: Cerca i optimització"
   ]
  },
  {
   "cell_type": "markdown",
   "metadata": {},
   "source": [
    "<div class=\"alert alert-error\"><strong><center>Aquesta pràctica és avaluable.</center></strong> \n",
    "<p>L'has de lliurar amb UN ÚNIC FITXER (Notebook6.ipynb),amb el  Notebook COMPLETAT AMB EL CONJUNT DE FUNCIONS QUE S’HAN D'IMPLEMENTAR a les cel·les que s'indica, i l'execució dels tests inclosos en l'enunciat.</p> \n",
    "<p>ATENCIÓ: No es poden usar funcions de Python implementades en llibreries externes que resolguin el *quid* de l'exercici.</p></div>"
   ]
  },
  {
   "cell_type": "markdown",
   "metadata": {},
   "source": [
    "Els objectius d'aquesta pràctica són:\n",
    "\n",
    "- Valorar els beneficis de les estratègies de dividir i vèncer\n",
    "- Optimitzar la cerca\n",
    "- Saber fer cerca binària\n",
    "- Calcular ordres de complexitat i temps dels algorismes"
   ]
  },
  {
   "cell_type": "markdown",
   "metadata": {},
   "source": [
    "# Exercici 1. Cercar valor en una matriu quadrada\n",
    "\n",
    "Buscar un valor en una matriu quadrada usant força bruta i després trobar un algorisme optimitzat. Per comparar àmbdues estratègies calcularem la complexitat i també mesurarem el temps real amb la funció timeit que ja heu vist a problemes.\n",
    "\n",
    "Per ex. una possible matriu podria ser:\n",
    "\n",
    "|       | col0  | col1  | col2  | col3  | col4  |\n",
    "|-------|-------|-------|-------|-------|-------|\n",
    "| fil0  |    1  |    2  |    3  |    4  |    5  |\n",
    "| fil1  |   11  |   12  |   13  |   14  |   15  |\n",
    "| fil2  |   21  |   22  |   23  |   24  |   25  |\n",
    "| fil3  |   31  |   32  |   33  |   34  |   35  |\n",
    "| fil4  |   41  |   42  |   43  |   44  |   45  |\n",
    "   "
   ]
  },
  {
   "cell_type": "markdown",
   "metadata": {},
   "source": [
    "### Exercici 1.1 Força bruta"
   ]
  },
  {
   "cell_type": "markdown",
   "metadata": {},
   "source": [
    "Farem un algorisme bàsic, sense tenir en compte que la matriu està ordenada.\n",
    "El cost en el cas pitjor serà d'$O(n^2)$, on n és el nombre d'elements d'una fila."
   ]
  },
  {
   "cell_type": "code",
   "execution_count": 57,
   "metadata": {
    "collapsed": true
   },
   "outputs": [],
   "source": [
    "def buscarValor(squareMatrix,searchEle):\n",
    "    i = 0 #crea un valor inicial\n",
    "    for fila in squareMatrix: # va iterant sobre la les files de la matriu\n",
    "        j=0 #creant sempre que s'itera un valor a 0\n",
    "        for num in fila: #per cada num de la fila\n",
    "            if num == searchEle: #si el num que toca es el mateix que es busca\n",
    "                return i,j #retorna la posicio on es troba dins la matriu\n",
    "            j += 1 \n",
    "        i += 1\n",
    "    return (i,j)"
   ]
  },
  {
   "cell_type": "code",
   "execution_count": 58,
   "metadata": {},
   "outputs": [
    {
     "name": "stdout",
     "output_type": "stream",
     "text": [
      "1.69 µs ± 15.9 ns per loop (mean ± std. dev. of 7 runs, 1000000 loops each)\n"
     ]
    }
   ],
   "source": [
    "squareMatrix=[[1,2,3,4,5,6,7,8,9,10],[11,12,13,14,15,16,17,18,19,20],\n",
    "              [21,22,23,24,25,26,27,28,29,30],[31,32,33,34,35,36,37,38,39,40],\n",
    "              [41,42,43,44,45,46,47,48,49,50],[51,52,53,54,55,56,57,58,59,60],\n",
    "              [61,62,63,64,65,66,67,68,69,70],[71,72,73,74,75,76,77,78,79,80],\n",
    "              [81,82,83,84,85,86,87,88,89,90],[91,92,93,94,95,96,97,98,99,100]]\n",
    "searchEle=32\n",
    "buscarValor(squareMatrix,searchEle)\n",
    "import time\n",
    "%timeit(buscarValor(squareMatrix,searchEle))"
   ]
  },
  {
   "cell_type": "markdown",
   "metadata": {},
   "source": [
    "### Exercici 1.2: Optimització"
   ]
  },
  {
   "cell_type": "markdown",
   "metadata": {},
   "source": [
    "En aquest exercici repetirem l'algorisme anterior però aprofitarem el fet que la matriu està ordenada per buscar la solució d'una manera més eficient, fins aconseguir un algorisme d'O(n)."
   ]
  },
  {
   "cell_type": "code",
   "execution_count": 3,
   "metadata": {
    "collapsed": true
   },
   "outputs": [],
   "source": [
    "import time\n",
    "\n",
    "def buscarValorOpt(squareMatrix,searchEle):\n",
    "    i = 0 # es crea valor a 0\n",
    "    long = len(squareMatrix) # es crea un valor de la longitud de la matriu del nombre de la fila i l'element de la fila\n",
    "    while i<long: # mentre el valor \"i\" sigui menor a la longitud \n",
    "        if searchEle >squareMatrix[i][-1]: #si el numero demanat es major al de la fila i a l'ultim de la columna\n",
    "            i+=1 # es sumara 1 a la variable \"i\"\n",
    "        else: # si no\n",
    "            j = squareMatrix[i].index(searchEle) # a la variable j se li assigna el index de la posicio de la matriu \n",
    "            return (i,j)"
   ]
  },
  {
   "cell_type": "code",
   "execution_count": 4,
   "metadata": {},
   "outputs": [
    {
     "name": "stdout",
     "output_type": "stream",
     "text": [
      "(6, 5)\n",
      "The slowest run took 4.70 times longer than the fastest. This could mean that an intermediate result is being cached.\n",
      "1000000 loops, best of 3: 1.2 µs per loop\n"
     ]
    }
   ],
   "source": [
    "squareMatrix=[[1,2,3,4,5,6,7,8,9,10],[11,12,13,14,15,16,17,18,19,20],\n",
    "              [21,22,23,24,25,26,27,28,29,30],[31,32,33,34,35,36,37,38,39,40],\n",
    "              [41,42,43,44,45,46,47,48,49,50],[51,52,53,54,55,56,57,58,59,60],\n",
    "              [61,62,63,64,65,66,67,68,69,70],[71,72,73,74,75,76,77,78,79,80],\n",
    "              [81,82,83,84,85,86,87,88,89,90],[91,92,93,94,95,96,97,98,99,100]]\n",
    "searchEle=66\n",
    "print(buscarValorOpt(squareMatrix,searchEle))\n",
    "import time\n",
    "%timeit(buscarValorOpt(squareMatrix,searchEle))"
   ]
  },
  {
   "cell_type": "markdown",
   "metadata": {},
   "source": [
    "## Exercici 2: trobar el major i menor relatiu a un nombre en una llista ordenada de nombres naturals.\n",
    "\n",
    "El major i menor relatiu són el nombre previ més petit o igual a ell, i el nombre següent més gran o igual a ell, o -1 si no n'hi ha.\n",
    "\n",
    "Per ex:\n",
    "\n",
    "llista=[1,4,6,8,9]\n",
    "\n",
    "+ minMax(3) => El menor és 1, el major és 4\n",
    "+ minMax(4) => El menor és 4, el major és 4\n",
    "+ minMax(5) => El menor és 4, el major és 6\n",
    "+ minMax(10) => El menor és 9, el major és -1\n",
    "\n",
    "Trobeu una solució d'ordre O(log n) i demostreu que té aquest ordre."
   ]
  },
  {
   "cell_type": "code",
   "execution_count": 37,
   "metadata": {},
   "outputs": [],
   "source": [
    "def minMax(k,nums):\n",
    "    if k in nums: # si el numero demanat esta dins de la llista\n",
    "        return k,k #retorna el numero demanat \n",
    "    elif k<nums[0]: #si el numero demanat es menor al de la posicio 0 \n",
    "        return (-1,nums[0]) # retorna un -1 i el numero en la posicio 0\n",
    "    elif k>nums[-1]: # si el numero es major a l'ultim de la llista\n",
    "        return (nums[-1],-1) #retorna l'ultim numero de la llista i -1\n",
    "    else:\n",
    "        while len(nums)>2: #mentre la longitud de la llista sea major a 2\n",
    "            primeraPart = nums[:len(nums) //2][-1] #es creara una variables que sera l'ultim numero de la primera part\n",
    "            segonaPart = nums[len(nums) //2:][0] # i l'altra amb el primer valor de la segona part de la llista\n",
    "            if k > primeraPart and k < segonaPart: # si el numero demanat es major al de la primera part i menor al de la segona\n",
    "                return primeraPart, segonaPart #retornara aquests numeros\n",
    "            elif k < primeraPart: # si el numero demanat es menor al de la primera part\n",
    "                nums = nums[:len(nums)//2] #el valor nums fara la mitad de la primera part de la llista \n",
    "            else:\n",
    "                nums = nums[len(nums)// 2:] # si no fara la mitad de la segona part de la llista\n",
    "        numMaj = primeraPart #quan la longitud del la llista sigui menor a 2 els numeros resultants seran el major i el menor\n",
    "        numMen = segonaPart\n",
    "        return numMaj,numMen"
   ]
  },
  {
   "cell_type": "code",
   "execution_count": 40,
   "metadata": {},
   "outputs": [
    {
     "data": {
      "text/plain": [
       "(9, -1)"
      ]
     },
     "execution_count": 40,
     "metadata": {},
     "output_type": "execute_result"
    }
   ],
   "source": [
    "llista=[1,4,6,8,9]\n",
    "minMax(10,llista)"
   ]
  },
  {
   "cell_type": "markdown",
   "metadata": {},
   "source": [
    "## Exercici 3: Reemplaçar cada element d'una llista pel producte de la resta d'elements sense usar mai la divisió\n",
    "\n",
    "Per exemple:\n",
    "\n",
    "llista=[1, 2, 3, 4, 5] ha de retornar [120, 60, 40, 30, 24]\n",
    "\n",
    "i\n",
    "\n",
    "[5, 3, 2, 4, 2, 6, 8] ha de retornar [1152, 1920, 1440, 2880, 960, 720]\n",
    "\n",
    "Trobeu una solució d'ordre O(n) i demostreu que té aquest ordre."
   ]
  },
  {
   "cell_type": "code",
   "execution_count": 49,
   "metadata": {
    "collapsed": true
   },
   "outputs": [],
   "source": [
    "def producte(nums):\n",
    "    if len(nums) <2:\n",
    "        return -1\n",
    "    productes = [None]*len(nums)#creas una variable on es posaran els productes dels numeros\n",
    "    producteActual = 1 # creas una variable del producte que es fa\n",
    "    i = 0 # varaible per incialitzar\n",
    "    while i <len(nums): # mentre la i sigui menor a la longitud dels numeros \n",
    "        productes[i] = producteActual # es fara el producte actual i s'emmagatzemara dins de la llista dels productes\n",
    "        producteActual *= nums[i] # i es multiplicara pel numero del index que li pertoca\n",
    "        i += 1 #es sumara un per al següent bucle\n",
    "    producteActual = 1 # es torna a incialitzar \n",
    "    i = len(nums) -1 #en aquest cas s'agafa la longitud dels numeros menys 1\n",
    "    while i >= 0: #mentre la i sigui major o igual a 0\n",
    "        productes[i] *=producteActual  # es multiplica el producte del valor de l'index de i amb el producte actual\n",
    "        producteActual *= nums[i] # i el producte actual es multiplicara amb el numero que li toca de l'index\n",
    "        i-=1 # restant-li 1\n",
    "    return productes  "
   ]
  },
  {
   "cell_type": "code",
   "execution_count": 50,
   "metadata": {},
   "outputs": [
    {
     "data": {
      "text/plain": [
       "[1152, 1920, 2880, 1440, 960, 720]"
      ]
     },
     "execution_count": 50,
     "metadata": {},
     "output_type": "execute_result"
    }
   ],
   "source": [
    "nums=[5,3,2,4,6,8]\n",
    "producte(nums)"
   ]
  },
  {
   "cell_type": "markdown",
   "metadata": {},
   "source": [
    "## Exercici 4 (fet a classe): Levensthein"
   ]
  },
  {
   "cell_type": "markdown",
   "metadata": {},
   "source": [
    "+ Fes una funció, anomenada ``dna``, basada en l’algorisme de Levenshtein, que busqui dins de **cada una de les línies d'un fitxer donat** les següents seqüències genètiques i digui a quina línia les ha trobat amb mínima distància i quina és aquesta distància (si està a varies línies, que indiqui la primera línia en la que apareix a distància mínima):\n",
    "\n",
    "        AGATACATTAGAACAATAGAGATGTGGTC\n",
    "        GTCAGTCTGGCACTTGCCATTGGTGCCACCA\n",
    "        TACCGAGAAGCATGGATTACAGCATGTACCATCAT\n",
    "        \n",
    "Al fer-ho, has de tenir en compte que a les aplicacions bioinformàtiques, els costos de les operacions d’edició són lleugerament diferents de les que hem vist fins ara:\n",
    "\n",
    "+ Per un salt/inserció (al patró o al text): 2; \n",
    "+ Per una substitució: 1; \n",
    "+ Quan hi ha correspondència: 0.\n",
    "Com a entrada li passarem una llista de patrons i el nom del fitxer on bucar-los. Com a sortida ha de treure per cada patró:  el patró, la línia i distància mínimes dins el fitxer, i el temps de càlcul."
   ]
  },
  {
   "cell_type": "code",
   "execution_count": 1,
   "metadata": {
    "collapsed": true
   },
   "outputs": [],
   "source": [
    "import time\n",
    "\n",
    "def dna(llistaP, fitxer):\n",
    "    \n",
    "    #Iniciem el temps\n",
    "    t1 = time.clock()\n",
    "    \n",
    "    #Els costos d'edicio\n",
    "    dlt, insr, subs = 2, 2, 1\n",
    "    \n",
    "    #Index de patro\n",
    "    indp = 0\n",
    "\n",
    "    #Llista on guardarem els resultats\n",
    "    linia = [0]*(len(llistaP)+1)  # per comoditat treballarem amb índex d'1 a... i descartarem l'índex 0\n",
    "    distancia = [0]\n",
    "    \n",
    "    #Carreguem el fitxer\n",
    "    f = open(fitxer,\"r\")\n",
    "    textl = f.readlines()\n",
    "    f.close()\n",
    "\n",
    "    #Bucle per a cada patro\n",
    "    for patro in llistaP:\n",
    "        \n",
    "        #Sumem 1 al index del patro\n",
    "        indp += 1\n",
    "        \n",
    "        #Calculem la llargada del patro\n",
    "        patro_length = len(patro) + 1\n",
    "        \n",
    "        #Proposem una distancia maxima\n",
    "        distancia.append(patro_length)\n",
    "\n",
    "        #Index de linia\n",
    "        ind = 0\n",
    "        \n",
    "        #Per a cada linia\n",
    "        for line in textl:\n",
    "            #Sumem un al index de linia\n",
    "            ind += 1\n",
    "            #Eliminem els caracters sobrants \\n\n",
    "            text = line[0:-2]\n",
    "            #Mirem la llargada de la linia\n",
    "            text_length = len(text) + 1  \n",
    "            \n",
    "            #Apliquem levenshtein\n",
    "            \n",
    "            #inicialitzem la matriu\n",
    "            distance_matrix = [[0] * text_length for x in range(patro_length)]\n",
    "            for i in range(patro_length):distance_matrix[i][0] = i\n",
    "                \n",
    "            #avancem calculant distàncies    \n",
    "            for i in range(1, patro_length):\n",
    "                for j in range(1, text_length):\n",
    "                    deletion = distance_matrix[i-1][j] + dlt\n",
    "                    insertion = distance_matrix[i][j-1] + insr\n",
    "                    substitution = distance_matrix[i-1][j-1]\n",
    "                    if patro[i-1] != text[j-1]: \n",
    "                        substitution += subs\n",
    "                    distance_matrix[i][j] = min(insertion, deletion, substitution)\n",
    "            \n",
    "            # calculem la distància final        \n",
    "            distancia2=min(distance_matrix[patro_length-1]) \n",
    "\n",
    "            #Guardem la línia a minima distancia d'edicio \n",
    "            if distancia2 < distancia[indp]:\n",
    "                    distancia[indp] = distancia2\n",
    "                    linia[indp] = ind\n",
    "    \n",
    "    t2 = time.clock()\n",
    "    temps = t2 - t1\n",
    "    \n",
    "    return ([['AGATACATTAGACAATAGAGATGTGGTC',linia[1],distancia[1]],\n",
    "            ['GTCAGTCTGGCCTTGCCATTGGTGCCACCA',linia[2],distancia[2]],\n",
    "            ['TACCGAGAAGCTGGATTACAGCATGTACCATCAT',linia[3],distancia[3]],\n",
    "            temps])"
   ]
  },
  {
   "cell_type": "code",
   "execution_count": 2,
   "metadata": {},
   "outputs": [
    {
     "data": {
      "text/plain": [
       "[['AGATACATTAGACAATAGAGATGTGGTC', 32, 11],\n",
       " ['GTCAGTCTGGCCTTGCCATTGGTGCCACCA', 352, 11],\n",
       " ['TACCGAGAAGCTGGATTACAGCATGTACCATCAT', 233, 13],\n",
       " 4.441226967472809]"
      ]
     },
     "execution_count": 2,
     "metadata": {},
     "output_type": "execute_result"
    }
   ],
   "source": [
    "# Test de la funció\n",
    "dna(['AGATACATTAGACAATAGAGATGTGGTC','GTCAGTCTGGCCTTGCCATTGGTGCCACCA','TACCGAGAAGCTGGATTACAGCATGTACCATCAT'], \"HUMAN-DNA.txt\")"
   ]
  },
  {
   "cell_type": "markdown",
   "metadata": {},
   "source": [
    "*Recordatori de teoria: El càlcul de de la distancia d’un patró al substring més semblant d’un text es pot fer amb l’algorisme de Levenshtein. L’única diferència és que s’ha d’inicialitzar la primera fila amb zeros (=considerar que podem inserir tants espais en blanc al davant del patró com sigui necessari)  i que la distancia d’edició serà el valor mínim de l’última fila de la matriu de costos. També heu de tenir en compte els costos en la inicialització de la primera columna*"
   ]
  },
  {
   "cell_type": "markdown",
   "metadata": {},
   "source": [
    "Modifica la funció *dna* anterior de manera que donat el patró *GGCCTTGCCATTGG*, per cada una de les 10 primeres línies d'un fitxer donat indiqui:\n",
    "\n",
    "+ A quina distància d'edició està el substring més semblant d'aquella línia.\n",
    "+ El primer substring d'aquella línia que està a mínima distància d'edició.\n",
    "\n",
    "Per trobar el substring a mínima distància has de buscar els mínims de la darrera línia de la matriu, i recorrer el camí invers fins arribar a la primera fila o a la primera columna. Per exemple si la casella prové d'una substitució o d'una equivalència caldrà saltar a la casella en diagonal, si la casella prové d'una eliminació caldrà saltar a la casella directament superior i finalment si prové d'una inserció caldrà saltar a la casella esquerra. Un cop arribats al final el substring correspondrà a les lletres del text entre la columna inicial i la final.\n",
    "\n",
    "Es recomana fer proves amb textos senzills (no el fitxer que donem de mostra) per poder fer el seguiment de la funció.\n",
    "\n",
    "La funció com a entrada tindrà el patró i el nom del fitxer, i la sortida per cada línia ha d'indicar la distància i el primer substring a distància mínima."
   ]
  },
  {
   "cell_type": "code",
   "execution_count": 33,
   "metadata": {
    "collapsed": true
   },
   "outputs": [],
   "source": [
    "import time\n",
    "\n",
    "def dna2(patro, fitxer):\n",
    "    \n",
    "    #Iniciem el temps\n",
    "    t1 = time.clock()\n",
    "    \n",
    "    #On guardarem els resultats\n",
    "    distancia = [0]\n",
    "    substring = [\"\"]\n",
    "    \n",
    "    #Els costos d'edicio\n",
    "    dlt, insr, subs = 2, 2, 1\n",
    "    \n",
    "    #Calculem la llargada del patro\n",
    "    patro_length = len(patro) + 1\n",
    "    \n",
    "    #Proposem una distancia maxima\n",
    "    distancia.append(len(patro) + 1)\n",
    "\n",
    "    #Index de resultat\n",
    "    indp = 0\n",
    "    \n",
    "    #Carreguem el fitxer\n",
    "    f = open(fitxer,\"r\")\n",
    "    textl = f.readlines()\n",
    "    f.close()\n",
    "    \n",
    "    #Ens quedem amb les 10 primeres linies\n",
    "    textl = textl[:10]\n",
    "\n",
    "    #Bucle per a cada linia\n",
    "    for line in textl:\n",
    "        \n",
    "        #Sumem 1 al index de linia\n",
    "        indp += 1\n",
    "        \n",
    "        #\n",
    "        substring.append(\"\")\n",
    "        distancia.append(patro_length)\n",
    "        \n",
    "        #Eliminem els caracters sobrants\n",
    "        text = line[0:-2]\n",
    "        \n",
    "        #Calculem la llargada del text\n",
    "        text_length = len(text) + 1\n",
    "        \n",
    "        #Creem la matriu de distancia d'edicio i una matriu que guardara la llargada de la substring\n",
    "        distance_matrix = [[0] * text_length for x in range(patro_length)]\n",
    "        substring_matrix = [[0] * text_length for x in range(patro_length)]\n",
    "        \n",
    "        #Levenshtein\n",
    "        for i in range(patro_length):distance_matrix[i][0] = i\n",
    "        for i in range(1, patro_length):\n",
    "            for j in range(1, text_length):\n",
    "                deletion = distance_matrix[i-1][j] + dlt\n",
    "                insertion = distance_matrix[i][j-1] + insr\n",
    "                substitution = distance_matrix[i-1][j-1]\n",
    "                if patro[i-1] != text[j-1]: \n",
    "                    substitution += subs\n",
    "                \n",
    "                #Quan assignem la distancia tambe assignem a la matriu de la substring els desplaçaments de columna efectuats\n",
    "                if substitution < insertion and substitution < deletion:\n",
    "                    substring_matrix[i][j] = substring_matrix[i-1][j-1] + 1\n",
    "                    distance_matrix[i][j] = substitution\n",
    "                if insertion < deletion and insertion <= substitution:\n",
    "                    substring_matrix[i][j] = substring_matrix[i][j-1] + 1\n",
    "                    distance_matrix[i][j] = insertion\n",
    "                if deletion <= insertion and deletion <= substitution:\n",
    "                    substring_matrix[i][j] = substring_matrix[i-1][j] + 0\n",
    "                    distance_matrix[i][j] = deletion\n",
    "        \n",
    "        #Calculem la distancia minima i la llargada del substring associat\n",
    "        for i in range(text_length):\n",
    "            if distance_matrix[patro_length-1][i] < distancia[indp] :\n",
    "                distancia[indp] = distance_matrix[patro_length-1][i]\n",
    "                move = substring_matrix[patro_length-1][i]\n",
    "                #Posicio de la ultima lletra del patro\n",
    "                last = i\n",
    "        #Agafem el substring (que comença a 'move' lletres abans de l'ultima lletra del patro 'last')\n",
    "        substring[indp] = line[(last-move):last]\n",
    "        \n",
    "    #Calculem el temps tardat\n",
    "    t2 = time.clock()\n",
    "    temps = t2 - t1\n",
    "    \n",
    "    return ([[ 1,distancia[1],substring[1]],\n",
    "              [ 2,distancia[2],substring[2]],\n",
    "              [ 3,distancia[3],substring[3]],\n",
    "              [ 4,distancia[4],substring[4]],\n",
    "              [ 5,distancia[5],substring[5]],\n",
    "              [ 6,distancia[6],substring[6]],\n",
    "              [ 7,distancia[7],substring[7]],\n",
    "              [ 8,distancia[8],substring[8]],\n",
    "              [ 9,distancia[9],substring[9]],\n",
    "              [10,distancia[10],substring[10]],\n",
    "                temps])"
   ]
  },
  {
   "cell_type": "code",
   "execution_count": 34,
   "metadata": {},
   "outputs": [
    {
     "data": {
      "text/plain": [
       "[[1, 6, 'GGACTTGCCTCAC'],\n",
       " [2, 8, 'GGCTCTCCACACA'],\n",
       " [3, 6, 'GGAATTTCACTGG'],\n",
       " [4, 7, 'GGAAATTCAATTTA'],\n",
       " [5, 8, 'TGCTAAACAGTAG'],\n",
       " [6, 8, 'AGCTTTATTTGG'],\n",
       " [7, 7, 'GGTCATTCTAATAA'],\n",
       " [8, 7, 'ATCCATGTTTTTAG'],\n",
       " [9, 7, 'CGAGTTTCAAATGC'],\n",
       " [10, 8, 'TTCAATATAATTGC'],\n",
       " 0.01437924600304541]"
      ]
     },
     "execution_count": 34,
     "metadata": {},
     "output_type": "execute_result"
    }
   ],
   "source": [
    "# Test de la funció\n",
    "dna2('GGCCTTGCCATTGG', \"HUMAN-DNA.txt\")"
   ]
  }
 ],
 "metadata": {
  "kernelspec": {
   "display_name": "Python 3",
   "language": "python",
   "name": "python3"
  },
  "language_info": {
   "codemirror_mode": {
    "name": "ipython",
    "version": 3
   },
   "file_extension": ".py",
   "mimetype": "text/x-python",
   "name": "python",
   "nbconvert_exporter": "python",
   "pygments_lexer": "ipython3",
   "version": "3.6.3"
  }
 },
 "nbformat": 4,
 "nbformat_minor": 1
}
