{
 "cells": [
  {
   "cell_type": "markdown",
   "metadata": {},
   "source": [
    "# Notebook 1: Introducció als Notebooks i a Python"
   ]
  },
  {
   "cell_type": "markdown",
   "metadata": {},
   "source": [
    "<div class=\"alert alert-error\"><strong><center>Aquesta pràctica és avaluable.</center></strong> \n",
    "<p>L'has de lliurar amb UN ÚNIC FITXER (Notebook1.ipynb),amb el  Notebook COMPLETAT AMB EL CONJUNT DE FUNCIONS QUE S’HAN D'IMPLEMENTAR a les cel·les que s'indica, i l'execució dels tests inclosos en l'enunciat.</p> \n",
    "</div>"
   ]
  },
  {
   "cell_type": "markdown",
   "metadata": {},
   "source": [
    "## Documentació de suport a la pràctica\n",
    "\n",
    "- [Input](https://github.com/AlgorismicaUB/RecursosComuns/blob/master/input.ipynb) \n",
    "- [Output](https://github.com/AlgorismicaUB/RecursosComuns/blob/master/output.ipynb)\n",
    "- [Paràmetres](https://github.com/AlgorismicaUB/RecursosComuns/blob/master/parametres.ipynb)\n",
    "- [Estructures de control](https://github.com/AlgorismicaUB/RecursosComuns/blob/master/control.ipynb)"
   ]
  },
  {
   "cell_type": "markdown",
   "metadata": {},
   "source": [
    "Els objectius d'aquesta pràctica són:\n",
    "\n",
    "- Saber escriure una llista d'instruccions en una cel·la d'un Notebook i executar-les.\n",
    "- Saber escriure una llista d'instruccions en un fitxer, usant Spyder, i executar-les en una cel·la.\n",
    "- Conéixer els mecanismes d'entrada/sortida de Python a través de IPython.\n",
    "- Saber escriure cel·les de diferents tipus i entendre el menú del Notebook.\n",
    "- Saber escriure un programa bàsic amb la seva estructura\n",
    "- Saber demanar dades a l'usuari i recollir-les en variables\n",
    "- Saber mostrar dades a l'usuari en el format i ordre desitjats\n",
    "- Conèixer els operadors numèrics"
   ]
  },
  {
   "cell_type": "markdown",
   "metadata": {},
   "source": [
    "### El primer programa Python\n",
    "\n",
    "Si escrius la instrucció  ``print “Hola Mon!”`` a una cel·la i l'executes, l'intèrpret t'ha de contestar escrivint ``Hola Mon!``.\n",
    "\n",
    "Per executar la cel·la, (1) selecciona-la amb el ratolí, (2) executa-la fent servir la combinació de tecles ``Shift-Enter`` o prement el botó ``Run Cell`` a la barra de botons superior.\n",
    "Explora la resta de botons, que et permeten afegir una cel·la (botó +), eliminar una cel·la (botó tisores), copiar una cel·la (botó dos documents), canviar el format d'una cel·la, etc."
   ]
  },
  {
   "cell_type": "code",
   "execution_count": 2,
   "metadata": {},
   "outputs": [
    {
     "name": "stdout",
     "output_type": "stream",
     "text": [
      "Hola món\n",
      "Mi nombre es Jordi\n"
     ]
    }
   ],
   "source": [
    "print(\"Hola món\")"
   ]
  },
  {
   "cell_type": "markdown",
   "metadata": {},
   "source": [
    "D’aquesta manera has interactuat amb Python directament, sense escriure el programa en un fitxer, i has obtingut una resposta. Si el que escrius no és correcte, Python no ho entén i rebràs un missatge d’error:"
   ]
  },
  {
   "cell_type": "code",
   "execution_count": 3,
   "metadata": {},
   "outputs": [
    {
     "ename": "SyntaxError",
     "evalue": "Missing parentheses in call to 'print' (<ipython-input-3-bf333a095da6>, line 1)",
     "output_type": "error",
     "traceback": [
      "\u001b[1;36m  File \u001b[1;32m\"<ipython-input-3-bf333a095da6>\"\u001b[1;36m, line \u001b[1;32m1\u001b[0m\n\u001b[1;33m    print \"Hola\"\u001b[0m\n\u001b[1;37m               ^\u001b[0m\n\u001b[1;31mSyntaxError\u001b[0m\u001b[1;31m:\u001b[0m Missing parentheses in call to 'print'\n"
     ]
    }
   ],
   "source": [
    "print \"Hola\""
   ]
  },
  {
   "cell_type": "markdown",
   "metadata": {},
   "source": [
    "Imagina ara que vols escriure un programa més llarg. En aquest cas usarem l'estructura dels programes de Python. Sempre comencem per def seguit del nom del programa, un parèntesi i dos punts.\n",
    "\n",
    "Després hi van les instruccions a executar, una a cada línia, indentades 4 espais."
   ]
  },
  {
   "cell_type": "code",
   "execution_count": 16,
   "metadata": {
    "collapsed": true
   },
   "outputs": [],
   "source": [
    "\"\"\" El meu primer programa\n",
    "Aquest programa diu \"hola\" al món\n",
    "\"\"\"\n",
    "\n",
    "\n",
    "def primerPrograma():\n",
    "    print(\"Hola Món!\")"
   ]
  },
  {
   "cell_type": "markdown",
   "metadata": {},
   "source": [
    "Si el vols guardar en un fitxer IPython et proporciona una comanda per fer-ho: ``%%writefile nom.py``"
   ]
  },
  {
   "cell_type": "code",
   "execution_count": 4,
   "metadata": {},
   "outputs": [
    {
     "name": "stdout",
     "output_type": "stream",
     "text": [
      "Writing foo.py\n"
     ]
    }
   ],
   "source": [
    "%%writefile foo.py\n",
    "\n",
    "\"\"\" El meu primer programa\n",
    "Aquest programa diu \"hola\" al món\n",
    "\"\"\"\n",
    "\n",
    "\n",
    "def primerPrograma():\n",
    "    print(\"Hola Món!\")\n",
    "\n",
    "primerPrograma()"
   ]
  },
  {
   "cell_type": "markdown",
   "metadata": {},
   "source": [
    "Aquest fitxer es pot recuperar sempre que vulguis amb una altra comanda: %load 'nom.py'"
   ]
  },
  {
   "cell_type": "code",
   "execution_count": null,
   "metadata": {
    "collapsed": true
   },
   "outputs": [],
   "source": [
    "%load 'foo.py'"
   ]
  },
  {
   "cell_type": "markdown",
   "metadata": {},
   "source": [
    "## Practicant amb el Notebook\n",
    "\n",
    "Fes les següents accions a partir del menú:\n",
    "- Canvia el nom d'aquest document i salva'l. Comprova que s'ha guardat al directori de treball.\n",
    "- Guarda aquest document com un fitxer ``.py```\n",
    "- Elimina la cel·la següent.\n",
    "- Canvia l'ordre de dues cel·les qualsevols d'aquest document.\n",
    "- Re-inicia el kernel d'aquest document (aquesta acció re-inicia l'interpret Python i és necessàri executar-la de tant en tant, especialment quan algun programa cau en un error irrecuperable)."
   ]
  },
  {
   "cell_type": "markdown",
   "metadata": {},
   "source": [
    "## Entrada, sortida i control\n",
    "\n",
    "Els programes parteixen d'unes dades d'entrada, que es processen sovint usant diverses estructures de control, fins a obtenir unes dades de sortida.\n",
    "\n",
    "Mira't la documentació de suport a la pràctica i fes els exercicis següents per practicar amb les instruccions bàsiques de Python."
   ]
  },
  {
   "cell_type": "markdown",
   "metadata": {},
   "source": [
    "## Exercici 1\n",
    "\n",
    "La funció *convert* converteix els dòlars en euros:"
   ]
  },
  {
   "cell_type": "code",
   "execution_count": 6,
   "metadata": {},
   "outputs": [
    {
     "name": "stdout",
     "output_type": "stream",
     "text": [
      "Quants dolars vols convertir? 100\n",
      "Amb 100 $, pots obtenir  83.0 €\n"
     ]
    }
   ],
   "source": [
    "def convert():\n",
    "    dolars = int(input(\"Quants dolars vols convertir? \"))\n",
    "    euros = dolars * 0.83\n",
    "    print(\"Amb\", dolars, \"$, pots obtenir \",euros,\"€\")\n",
    "    \n",
    "convert()"
   ]
  },
  {
   "cell_type": "markdown",
   "metadata": {},
   "source": [
    "Perquè posem int(input... ? i no input directament. Prova-ho a veure què passa i raona la resposta.\n",
    "\n",
    "Què aconseguim amb la \",\" del print?"
   ]
  },
  {
   "cell_type": "code",
   "execution_count": null,
   "metadata": {
    "collapsed": true
   },
   "outputs": [],
   "source": [
    "# Inserint el int, obliga a que la resposta unicament siguin numeros sencers y son numeros diferents a un numero sencer donara error.\n",
    "# S'aconsegeuix que en aquest espai aparegui les variables de dolars i euros"
   ]
  },
  {
   "cell_type": "markdown",
   "metadata": {},
   "source": [
    "## Exercici 2\n",
    "\n",
    "Modifica la funció i escriu una funció ``convert2`` de manera que calculi i imprimeixi la conversió de 100, 200, 300 ... i fins a 1.000\\$ a euros. \n",
    "\n",
    "Atenció, en aquesta funció hauràs de fer servir l'estructura for, seguint el patró que mostrem a continuació:\n",
    "\n",
    "\n",
    "    for i in range(0, 10, 2):  \n",
    "         print(i)\n",
    "\n",
    "\n",
    "El patró del range és: (start, stop, step). 'i' començarà per valdre 0, arribarà fins al valor anterior a 10, saltant de 2 en 2"
   ]
  },
  {
   "cell_type": "code",
   "execution_count": 13,
   "metadata": {},
   "outputs": [
    {
     "name": "stdout",
     "output_type": "stream",
     "text": [
      "0\n",
      "2\n",
      "4\n",
      "6\n",
      "8\n"
     ]
    }
   ],
   "source": [
    "# Prova d'executar aquest codi abans d'escriure la teva funció\n",
    "# experimenta amb diferents valors en el rang i observa els resultats\n",
    "for i in range(0,10,2):\n",
    "    print(i)"
   ]
  },
  {
   "cell_type": "code",
   "execution_count": 17,
   "metadata": {
    "collapsed": true
   },
   "outputs": [],
   "source": [
    "# Substitueix la comanda pass per la teva solució\n",
    "def convert2():\n",
    "    for dolars in range (100, 1001, 100):\n",
    "        euros = dolars * 0.83\n",
    "        print(\"Amb\", dolars, \"$, pots obtenir \",euros,\"€\")\n",
    "         \n",
    "    \n",
    "    "
   ]
  },
  {
   "cell_type": "code",
   "execution_count": 18,
   "metadata": {},
   "outputs": [
    {
     "name": "stdout",
     "output_type": "stream",
     "text": [
      "Amb 100 $, pots obtenir  83.0 €\n",
      "Amb 200 $, pots obtenir  166.0 €\n",
      "Amb 300 $, pots obtenir  249.0 €\n",
      "Amb 400 $, pots obtenir  332.0 €\n",
      "Amb 500 $, pots obtenir  415.0 €\n",
      "Amb 600 $, pots obtenir  498.0 €\n",
      "Amb 700 $, pots obtenir  581.0 €\n",
      "Amb 800 $, pots obtenir  664.0 €\n",
      "Amb 900 $, pots obtenir  747.0 €\n",
      "Amb 1000 $, pots obtenir  830.0 €\n"
     ]
    }
   ],
   "source": [
    "# Test de la funció\n",
    "convert2()"
   ]
  },
  {
   "cell_type": "code",
   "execution_count": null,
   "metadata": {
    "collapsed": true
   },
   "outputs": [],
   "source": []
  },
  {
   "cell_type": "markdown",
   "metadata": {},
   "source": [
    "# Exercici 3\n",
    "\n",
    "+ Escriu una funció, *exp*, que calculi i imprimeixi el resultat de cada una d’aquestes expressions. Assegura't que el valor està en el tipus correcte.\n",
    "\n",
    "    - 4.0 / 7.0 + 3.5 * 3\n",
    "    - 10 % 3 + 6 / 5\n",
    "    - abs(1 - 16 / 4) ** 3\n",
    "    - sqrt(5.0 - 7.0) + 8 * 3\n",
    "    - 5/(3.2 + 1.6 - 4.8)\n",
    "    - 3 * 11 // 3 + 15 % 3\n",
    "    - 2L ** 3\n",
    "   \n",
    "+ Si hi ha alguna expressió que et dóna error en avaluar-la, explica perquè.\n",
    "+ Explica què fan els operands %, //, \\*\\* i què significa sqrt i 2L"
   ]
  },
  {
   "cell_type": "code",
   "execution_count": 7,
   "metadata": {
    "collapsed": true
   },
   "outputs": [],
   "source": [
    "# Substitueix la comanda pass per la teva solució\n",
    "import math\n",
    "def exp():\n",
    "    print (4.0 / 7.0 + 3.5 * 3) # es flotant perque es la suma de dos flotants\n",
    "    print(4.0 / 7.0)\n",
    "    print(3.5 * 3)\n",
    "    print(\"---------------------\")\n",
    "    print(10 % 3 + 6 / 5) #es flotant perque surt de la suma de un enter i un flotant\n",
    "    print(10 % 3)\n",
    "    print(6 / 5)\n",
    "    print(\"---------------------\")\n",
    "    print(abs(1 - 16 / 4) ** 3) # reslutat flotan per l'operació d'un nombre sencer i un flotant\n",
    "    print(16 / 4)\n",
    "    print(1 - 16 / 4)\n",
    "    print(abs(1 - 16 / 4))\n",
    "    print(\"--------------------\")\n",
    "    \"print(math.sqrt(5.0 - 7.0) + 8 * 3) aquesta dona error perque es una arrel negativa\"\n",
    "    print(5.0 - 7.0)\n",
    "    print(8 * 3)\n",
    "    \"print(math.sqrt(5.0 - 7.0)) també dona error perque es una arrel negativa\"\n",
    "    print(\"--------------------\")\n",
    "    print(5/(3.2 + 1.6 - 4.8)) # resultat flotant perque surt de operacions amb nombres flotants\n",
    "    print(3.2 + 1.6 - 4.8)\n",
    "    print(\"--------------------\")\n",
    "    print(3 * 11 // 3 + 15 % 3) # el resultat es sencer perque prove d'operacions de nombres sencers\n",
    "    print(3 * 11)\n",
    "    print(15 % 3)\n",
    "    print(3 * 11 // 3)\n",
    "    print(\"--------------------\")\n",
    "    \"print(2L ** 3) dona error perque sembla que es una funció de la versió antiga de python\"\n",
    "    \n",
    "    \n",
    "    "
   ]
  },
  {
   "cell_type": "code",
   "execution_count": 8,
   "metadata": {},
   "outputs": [
    {
     "name": "stdout",
     "output_type": "stream",
     "text": [
      "11.071428571428571\n",
      "0.5714285714285714\n",
      "10.5\n",
      "---------------------\n",
      "2.2\n",
      "1\n",
      "1.2\n",
      "---------------------\n",
      "27.0\n",
      "4.0\n",
      "-3.0\n",
      "3.0\n",
      "--------------------\n",
      "-2.0\n",
      "24\n",
      "--------------------\n",
      "5629499534213120.0\n",
      "8.881784197001252e-16\n",
      "--------------------\n",
      "11\n",
      "33\n",
      "0\n",
      "11\n",
      "--------------------\n"
     ]
    }
   ],
   "source": [
    "# Test de la funció\n",
    "exp()"
   ]
  },
  {
   "cell_type": "code",
   "execution_count": 49,
   "metadata": {
    "collapsed": true
   },
   "outputs": [],
   "source": [
    "#Insereix aquí les respostes a les preguntes"
   ]
  },
  {
   "cell_type": "code",
   "execution_count": 29,
   "metadata": {},
   "outputs": [
    {
     "data": {
      "text/plain": [
       "2.0"
      ]
     },
     "execution_count": 29,
     "metadata": {},
     "output_type": "execute_result"
    }
   ],
   "source": [
    "import math\n",
    "math.sqrt(4)"
   ]
  },
  {
   "cell_type": "code",
   "execution_count": 4,
   "metadata": {},
   "outputs": [
    {
     "data": {
      "text/plain": [
       "float"
      ]
     },
     "execution_count": 4,
     "metadata": {},
     "output_type": "execute_result"
    }
   ],
   "source": [
    "import math as m\n",
    "m.sqrt(4)\n",
    "type(1.2)"
   ]
  },
  {
   "cell_type": "markdown",
   "metadata": {},
   "source": [
    "## Exercici 4\n",
    "\n",
    "+ Escriu una funció, ``magnitude``, que accepti dos punts i calculi la distància euclidiana entre ells, $d= \\sqrt{(x_2-x_1)^2+(y_2-y_1)^2}$ "
   ]
  },
  {
   "cell_type": "code",
   "execution_count": 31,
   "metadata": {
    "collapsed": true
   },
   "outputs": [],
   "source": [
    "# Substitueix la comanda pass per la teva solució\n",
    "import math\n",
    "def magnitude(x1,y1,x2,y2):\n",
    "    a = (x2-x1) ** 2\n",
    "    b = (y2-y1) ** 2\n",
    "    c = math.sqrt (a + b)\n",
    "    print (c)"
   ]
  },
  {
   "cell_type": "code",
   "execution_count": 32,
   "metadata": {},
   "outputs": [
    {
     "name": "stdout",
     "output_type": "stream",
     "text": [
      "1.8384776310850237\n"
     ]
    }
   ],
   "source": [
    "# Test de la funció\n",
    "\n",
    "magnitude(0,0,1.3,1.3)"
   ]
  },
  {
   "cell_type": "markdown",
   "metadata": {},
   "source": [
    "## Exercici 5\n",
    "\n",
    "+ Fes una funció, ``suma``, que sumi tots els nombres naturals menors que 10000  múltiples de 4."
   ]
  },
  {
   "cell_type": "code",
   "execution_count": 35,
   "metadata": {
    "collapsed": true
   },
   "outputs": [],
   "source": [
    "# Substitueix la comanda pass per la teva solució\n",
    "\n",
    "def suma():\n",
    "    valor_total = 0\n",
    "    for valor in range (0, 10001, 4):\n",
    "        valor_total = valor_total + valor\n",
    "        # suma += valor\n",
    "    print (valor_total)\n",
    "        "
   ]
  },
  {
   "cell_type": "code",
   "execution_count": 36,
   "metadata": {},
   "outputs": [
    {
     "name": "stdout",
     "output_type": "stream",
     "text": [
      "12505000\n"
     ]
    }
   ],
   "source": [
    "# Test de la funció\n",
    "suma()"
   ]
  },
  {
   "cell_type": "code",
   "execution_count": null,
   "metadata": {
    "collapsed": true
   },
   "outputs": [],
   "source": []
  }
 ],
 "metadata": {
  "kernelspec": {
   "display_name": "Python 3",
   "language": "python",
   "name": "python3"
  },
  "language_info": {
   "codemirror_mode": {
    "name": "ipython",
    "version": 3
   },
   "file_extension": ".py",
   "mimetype": "text/x-python",
   "name": "python",
   "nbconvert_exporter": "python",
   "pygments_lexer": "ipython3",
   "version": "3.6.3"
  }
 },
 "nbformat": 4,
 "nbformat_minor": 1
}
