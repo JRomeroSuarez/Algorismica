{
 "cells": [
  {
   "cell_type": "markdown",
   "metadata": {},
   "source": [
    "# Eficiència i comptador d'operacions"
   ]
  },
  {
   "cell_type": "markdown",
   "metadata": {},
   "source": [
    "Volem analitzar la complexitat del conjunt següent de funcions. Ja hem comentat els principals conceptes a classe però us deixo alguna explicació complementària.<br>\n",
    "Podem fer servir el notebook d'ajuda 'collections.ipynb' del github"
   ]
  },
  {
   "cell_type": "code",
   "execution_count": 1,
   "metadata": {},
   "outputs": [
    {
     "name": "stdout",
     "output_type": "stream",
     "text": [
      "0\n",
      "1\n",
      "2\n",
      "3\n",
      "4\n"
     ]
    }
   ],
   "source": [
    "def funcio1(n):\n",
    "    for i in range(n): # Executem un cop aquest for\n",
    "        print(i)       # Executem n vegades aquesta instrucció\n",
    "        \n",
    "funcio1(5) #O(n)"
   ]
  },
  {
   "cell_type": "markdown",
   "metadata": {},
   "source": [
    "<center>funcio1: $ O(n) $</center>"
   ]
  },
  {
   "cell_type": "code",
   "execution_count": 2,
   "metadata": {},
   "outputs": [
    {
     "name": "stdout",
     "output_type": "stream",
     "text": [
      " (1,9)  (1,8)  (1,7)  (1,6)  (1,5)  (1,4)  (1,3)  (1,2)  (1,1) \n",
      " (3,9)  (3,8)  (3,7)  (3,6)  (3,5)  (3,4)  (3,3)  (3,2)  (3,1) \n",
      " (5,9)  (5,8)  (5,7)  (5,6)  (5,5)  (5,4)  (5,3)  (5,2)  (5,1) \n",
      " (7,9)  (7,8)  (7,7)  (7,6)  (7,5)  (7,4)  (7,3)  (7,2)  (7,1) \n",
      " (9,9)  (9,8)  (9,7)  (9,6)  (9,5)  (9,4)  (9,3)  (9,2)  (9,1) \n",
      " (11,9)  (11,8)  (11,7)  (11,6)  (11,5)  (11,4)  (11,3)  (11,2)  (11,1) \n",
      " (13,9)  (13,8)  (13,7)  (13,6)  (13,5)  (13,4)  (13,3)  (13,2)  (13,1) \n",
      " (15,9)  (15,8)  (15,7)  (15,6)  (15,5)  (15,4)  (15,3)  (15,2)  (15,1) \n"
     ]
    }
   ],
   "source": [
    "def funcio2(n,m):\n",
    "    for i in range(1,n*n,2): # Aquest for s'executa de 1 fins a n*n amb passos de 2 en 2\n",
    "        for j in range(m*m, 0, -1): # Aquest s'executa m*m vegades\n",
    "                                    # Com que un depèn de l'altre, per a cada valor 'i' executem m*m operacions\n",
    "                                    # i, per tant, el total serà la multiplicació dels dos valors\n",
    "                    \n",
    "            print (f\" ({i},{j})\", end=\" \")\n",
    "        print()\n",
    "        \n",
    "funcio2(4,3)"
   ]
  },
  {
   "cell_type": "markdown",
   "metadata": {},
   "source": [
    "<center>funcio2: $ O(\\dfrac{n^2}{2}m^2)=O(n^2m^2) $</center>"
   ]
  },
  {
   "cell_type": "code",
   "execution_count": 3,
   "metadata": {},
   "outputs": [
    {
     "data": {
      "text/plain": [
       "[False, False, True, False, False, False, False, False, True, False, True]"
      ]
     },
     "execution_count": 3,
     "metadata": {},
     "output_type": "execute_result"
    }
   ],
   "source": [
    "# Aquest programa substitueix per True si hi ha coincidència amb el número donat o False en els atres casos\n",
    "\n",
    "def funcio3(llista, numero): # suposem n=len(llista)\n",
    "    \n",
    "    if numero in llista:              # n operacions\n",
    "        for it in range(len(llista)): # n operacions\n",
    "            if llista[it]==numero:    # Els accessos i assignacions són 1 sola operació\n",
    "                llista[it] = True\n",
    "            else:\n",
    "                llista[it] = False\n",
    "        return llista\n",
    "        \n",
    "    else:\n",
    "        return [False]*len(llista)    # n operacions\n",
    "\n",
    "# En aquest cas fem n+n operacions ja que, tot i estar una posició identat cap a la dreta, la comprovació\n",
    "# inicial només es fa un cop.\n",
    "\n",
    "# Tan si entra a la condició 'numero in llista' com si no hi entra, es faran n operacions més.\n",
    "    \n",
    "llista = [1,2,5,-6,3,-8,7,-9,5,8,5]\n",
    "funcio3(llista, 5)"
   ]
  },
  {
   "cell_type": "markdown",
   "metadata": {},
   "source": [
    "<center>funcio3: $ O(n+n)=O(2n)=O(n) $</center>"
   ]
  },
  {
   "cell_type": "code",
   "execution_count": 4,
   "metadata": {},
   "outputs": [
    {
     "name": "stdout",
     "output_type": "stream",
     "text": [
      "[0, 1, 2, 3, 4, 5, 6, 7, 8, 9, 10, 0, 0, 0, 0, 0, 0, 0, 0, 0] 100\n"
     ]
    }
   ],
   "source": [
    "def funcio4(num):                     # Per abreujar, n=num\n",
    "    llista = [0]*num                  # inicialitzar val n\n",
    "    suma = 0 \n",
    "    for i in range(1,len(llista)+1):  # Aquest for executarà la part interna n vegades \n",
    "        llista.insert(i,i)            # Insertar val n (veure collections.ipynb)\n",
    "        suma +=llista[i-1]+llista[i]  # 2 accessos i una suma = 3 operacions\n",
    "    \n",
    "    print(llista, suma)               # Imprimir una llista val n i imprimir un enter, 1\n",
    "        \n",
    "        \n",
    "# Notem que per a cada valor de 'i' fem un insert. Per tant es multiplicarà n*(n+3) \n",
    "# ja que n+3 és la part de dins del 'for'\n",
    "\n",
    "funcio4(10)\n",
    "    "
   ]
  },
  {
   "cell_type": "markdown",
   "metadata": {},
   "source": [
    "<center>funcio3: $ O\\Big(n + n(n+3)+(n+1)\\Big)=O(n+n^2 +n)=O(n^2 +2n) = O(n^2 +n) $ o també $O(n^2)$</center> "
   ]
  },
  {
   "cell_type": "markdown",
   "metadata": {},
   "source": [
    "# Algorismes numèrics"
   ]
  },
  {
   "cell_type": "markdown",
   "metadata": {},
   "source": [
    "No hem tingut massa temps per pensar un parell d'exercicis sobre els tipus de números que existeixen. La web que us he comentat que podeu mirar-vos i que hem comentat és la següent: "
   ]
  },
  {
   "cell_type": "markdown",
   "metadata": {},
   "source": [
    "https://www.gaussianos.com/tipos-de-numeros/"
   ]
  },
  {
   "cell_type": "markdown",
   "metadata": {},
   "source": [
    "Us recomano que intenteu fer-ne els que pogueu ja que gairebé en tots és necessari l'ús de $for$ o bé tractament de llistes."
   ]
  },
  {
   "cell_type": "markdown",
   "metadata": {},
   "source": [
    "# EXERCICIS (Resolts a classe)"
   ]
  },
  {
   "cell_type": "markdown",
   "metadata": {},
   "source": [
    "Comprovar que un número és __perfecte__:<br>\n",
    "Diem que un número és perfecte si és la suma dels seus divisors __positius__ i __menors a ell mateix___.<br><br>\n",
    "Exemples:<br><br>\n",
    "<center>$6 = 1 + 2 + 3\\ \\ \\ \\  \\Rightarrow\\ \\ \\ \\ $és perfecte </center>\n",
    "<center>$28 = 1 + 2 + 4 + 7 + 14\\ \\ \\ \\  \\Rightarrow\\ \\ \\ \\ $és perfecte </center>\n",
    "<center>$8 \\neq 1 + 2 + 4 = 7\\ \\ \\ \\  \\Rightarrow\\ \\ \\ \\ $__NO__ és perfecte </center>"
   ]
  },
  {
   "cell_type": "code",
   "execution_count": 6,
   "metadata": {},
   "outputs": [
    {
     "data": {
      "text/plain": [
       "True"
      ]
     },
     "execution_count": 6,
     "metadata": {},
     "output_type": "execute_result"
    }
   ],
   "source": [
    "def perfecte(num):\n",
    "    suma = 0\n",
    "    for i in range(1,num//2 + 1):\n",
    "        if num%i == 0:\n",
    "            suma+=i\n",
    "    return suma==num\n",
    "            \n",
    "perfecte(6)    # True\n",
    "perfecte(27)   # False\n",
    "perfecte(8128) # True"
   ]
  },
  {
   "cell_type": "markdown",
   "metadata": {},
   "source": [
    "# EXERCICIS (Extra!)\n",
    "Us deixo un parell extra d'exercicis __resolts__ per si voleu pensar-hi i comprovar."
   ]
  },
  {
   "cell_type": "markdown",
   "metadata": {},
   "source": [
    "Ara volem trobar parelles de nombres __amics__:<br>\n",
    "Dos nombres són amics si els divisors d'un sumen l'altre nombre i viceversa<br><br>\n",
    "Exemple:\n",
    "<center>Els divisors de 220 són 1, 2, 4, 5, 10, 11, 20, 22, 44, 55 i 110, que sumen 284</center><br>\n",
    "<center>Els divisors de 284 són 1, 2, 4, 71 i 142, que sumen 220</center><br>\n",
    "<center>Per tant __220__ i __284__ són amics</center>\n"
   ]
  },
  {
   "cell_type": "code",
   "execution_count": 11,
   "metadata": {},
   "outputs": [
    {
     "name": "stdout",
     "output_type": "stream",
     "text": [
      "True\n",
      "False\n",
      "True\n"
     ]
    }
   ],
   "source": [
    "def amics(num1, num2):\n",
    "    suma1= 0\n",
    "    for i in range(1, num1//2 +1):\n",
    "        if num1%i == 0:\n",
    "            suma1 +=i\n",
    "    \n",
    "    suma2=0\n",
    "    for i in range(1,num2//2+1):\n",
    "        if num2%i == 0:\n",
    "            suma2 +=i\n",
    "    \n",
    "    print(suma1==num2 and suma2==num1)\n",
    "    \n",
    "amics(220,284)          # True\n",
    "amics(200,230)          # False\n",
    "amics(9363584, 9437056) # True"
   ]
  },
  {
   "cell_type": "markdown",
   "metadata": {},
   "source": [
    "Per últim, volem trobar si un nombre és __ambiciós__:<br>\n",
    "Un nombre és ambiciós si la suma dels seus divisors (recursivament) és un nombre perfecte<br><br>\n",
    "Exemple:\n",
    "<center>95 és un nombre ambiciós ja que els seus divisors són: 1, 5, 19 que sumen 25</center>\n",
    "<center>Ara, els divisors de 25 són 1 i 5 que sumen 6 que és un nombre perfecte</center>"
   ]
  },
  {
   "cell_type": "code",
   "execution_count": 13,
   "metadata": {},
   "outputs": [
    {
     "name": "stdout",
     "output_type": "stream",
     "text": [
      "True\n",
      "False\n",
      "True\n"
     ]
    }
   ],
   "source": [
    "def ambicios(num):\n",
    "    while not perfecte(num):\n",
    "        suma=0\n",
    "        for i in range(1,num//2+1):\n",
    "            if num %i==0:\n",
    "                suma+=i\n",
    "        num=suma\n",
    "    print(perfecte(num) and num!=0)\n",
    "\n",
    "ambicios(25) # True\n",
    "ambicios(30) # False\n",
    "ambicios(95) # True"
   ]
  },
  {
   "cell_type": "markdown",
   "metadata": {},
   "source": [
    "||<br>\n",
    "||<br>\n",
    "||<br>\n",
    "||<br>\n",
    "||<br>\n",
    "||<br>\n",
    "||<br>\n",
    "||<br>\n",
    "||<br>\n",
    "||<br>\n",
    "||<br>\n",
    "||<br>\n",
    "||<br>\n",
    "||<br>\n",
    "||<br>\n",
    "||<br>\n",
    "||<br>\n",
    "||<br>\n",
    "||<br>\n",
    "||<br>\n",
    "||<br>\n",
    "||<br>\n",
    "||<br>\n",
    "||<br>\n",
    "V"
   ]
  },
  {
   "cell_type": "markdown",
   "metadata": {},
   "source": [
    "# SOLUCIONS"
   ]
  },
  {
   "cell_type": "code",
   "execution_count": 8,
   "metadata": {},
   "outputs": [
    {
     "name": "stdout",
     "output_type": "stream",
     "text": [
      "True\n",
      "False\n",
      "True\n"
     ]
    }
   ],
   "source": [
    "def perfecte(num):\n",
    "    suma = 0\n",
    "    for i in range(1, num//2 +1):\n",
    "        if num%i==0:\n",
    "            suma+=i\n",
    "    return suma==num\n",
    "    \n",
    "print(perfecte(6))\n",
    "print(perfecte(27))\n",
    "print(perfecte(8128))"
   ]
  },
  {
   "cell_type": "code",
   "execution_count": 9,
   "metadata": {},
   "outputs": [
    {
     "name": "stdout",
     "output_type": "stream",
     "text": [
      "True\n",
      "False\n",
      "True\n"
     ]
    }
   ],
   "source": [
    "def amics(num1, num2):\n",
    "    suma1 = 0\n",
    "    for i in range(1, num1//2 +1):\n",
    "        if num1%i==0:\n",
    "            suma1+=i\n",
    "    \n",
    "    suma2 = 0\n",
    "    for i in range(1, num2//2 +1):\n",
    "        if num2%i==0:\n",
    "            suma2+=i\n",
    "    \n",
    "    print(suma1==num2 and suma2==num1)\n",
    "    \n",
    "amics(220,284) \n",
    "amics(200,230) \n",
    "amics(9363584, 9437056)"
   ]
  },
  {
   "cell_type": "code",
   "execution_count": 14,
   "metadata": {},
   "outputs": [
    {
     "name": "stdout",
     "output_type": "stream",
     "text": [
      "True\n",
      "False\n",
      "True\n"
     ]
    }
   ],
   "source": [
    "def ambicios(num):\n",
    "    while not perfecte(num):\n",
    "        suma = 0\n",
    "        for i in range(1, num//2 +1):\n",
    "            if num%i==0:\n",
    "                suma+=i\n",
    "        num = suma        \n",
    "    print(perfecte(num) and num!=0)\n",
    "\n",
    "ambicios(25)  # True\n",
    "ambicios(100) # False\n",
    "ambicios(143) # True"
   ]
  },
  {
   "cell_type": "markdown",
   "metadata": {},
   "source": [
    "<center>__Com a curiositat, encara no se sap si el nombre $276$ és un nombre ambiciós!__</center>"
   ]
  }
 ],
 "metadata": {
  "anaconda-cloud": {},
  "kernelspec": {
   "display_name": "Python 3",
   "language": "python",
   "name": "python3"
  },
  "language_info": {
   "codemirror_mode": {
    "name": "ipython",
    "version": 3
   },
   "file_extension": ".py",
   "mimetype": "text/x-python",
   "name": "python",
   "nbconvert_exporter": "python",
   "pygments_lexer": "ipython3",
   "version": "3.6.3"
  }
 },
 "nbformat": 4,
 "nbformat_minor": 1
}
