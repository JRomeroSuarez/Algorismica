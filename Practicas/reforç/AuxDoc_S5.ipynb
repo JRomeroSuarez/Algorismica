{
 "cells": [
  {
   "cell_type": "markdown",
   "metadata": {},
   "source": [
    "# SOLUCIONS (Problemes plantejats l'últim dia)"
   ]
  },
  {
   "cell_type": "markdown",
   "metadata": {},
   "source": [
    "Donem la solució del problema plantejat l'últim dia on es demanava concatenar paraules seguides:<br>\n",
    "Accedim per posició per tal d'agafar la paraula actual i la següent.<br>\n",
    "Iterem fins a una posició menys del final de la llista ja que sino, al fer $i+1$, accederíem a una posició errònia.<br>\n",
    "Per concatenar dos strings, simplement els sumem."
   ]
  },
  {
   "cell_type": "code",
   "execution_count": 1,
   "metadata": {},
   "outputs": [
    {
     "name": "stdout",
     "output_type": "stream",
     "text": [
      "Holaa\n",
      "atots\n",
      "totsels\n",
      "elsestudiants\n",
      "estudiantsde\n",
      "dela\n",
      "laclasse\n",
      "classed'Algorísmica\n"
     ]
    }
   ],
   "source": [
    "paraules = [\"Hola\", \"a\", \"tots\", \"els\", \"estudiants\", \"de\", \"la\", \"classe\", \"d'Algorísmica\"]\n",
    "\n",
    "def concatena(llista):\n",
    "    for i in range(len(llista)-1):\n",
    "        print (llista[i]+llista[i+1])\n",
    "\n",
    "concatena(paraules)\n",
    "\n",
    "# En aquest cas, ens hauria d'imprimir:\n",
    "\n",
    "# Holaa\n",
    "# atots\n",
    "# totsels\n",
    "# elsestudiants\n",
    "# ..."
   ]
  },
  {
   "cell_type": "markdown",
   "metadata": {},
   "source": [
    "# COST DE LES OPERACIONS"
   ]
  },
  {
   "cell_type": "markdown",
   "metadata": {},
   "source": [
    "Com hem vist a classe, les operacions tenen un cost. Aquí podeu veure operacions que fan gairebé el mateix però que en canvi tenen un cost molt diferent.<br>\n",
    "Si a més s'afegeixen noves operacions a l'interior d'aquestes iteracions, el temps se'ns pot disparar."
   ]
  },
  {
   "cell_type": "markdown",
   "metadata": {},
   "source": [
    "Fins ara, el mètode més usat era aquest:"
   ]
  },
  {
   "cell_type": "code",
   "execution_count": 6,
   "metadata": {},
   "outputs": [
    {
     "name": "stdout",
     "output_type": "stream",
     "text": [
      "0.817433321639534\n"
     ]
    }
   ],
   "source": [
    "import time\n",
    "\n",
    "t1 = time.clock()\n",
    "\n",
    "llista = []\n",
    "for i in range(5000000):\n",
    "    llista.append(i)\n",
    "\n",
    "t2 = time.clock()\n",
    "\n",
    "print(t2-t1)"
   ]
  },
  {
   "cell_type": "markdown",
   "metadata": {},
   "source": [
    "Avui veurem que aquesta instrucció fa exectament el mateix i, en aquest cas, tarda 4 cops menys: "
   ]
  },
  {
   "cell_type": "code",
   "execution_count": 7,
   "metadata": {},
   "outputs": [
    {
     "name": "stdout",
     "output_type": "stream",
     "text": [
      "0.2815673325811332\n"
     ]
    }
   ],
   "source": [
    "t1 = time.clock()\n",
    "\n",
    "llista2 = [i for i in range(5000000)]\n",
    "\n",
    "t2 = time.clock()\n",
    "\n",
    "print(t2-t1)"
   ]
  },
  {
   "cell_type": "markdown",
   "metadata": {},
   "source": [
    "Si volem inicialtzar tot a un mateix element, podem millorar els temps anteriors:"
   ]
  },
  {
   "cell_type": "code",
   "execution_count": 8,
   "metadata": {},
   "outputs": [
    {
     "name": "stdout",
     "output_type": "stream",
     "text": [
      "0.018057043617872637\n"
     ]
    }
   ],
   "source": [
    "t1 = time.clock()\n",
    "\n",
    "llista3 = [0]*5000000\n",
    "\n",
    "t2 = time.clock()\n",
    "\n",
    "print(t2-t1)"
   ]
  },
  {
   "cell_type": "markdown",
   "metadata": {},
   "source": [
    "# LIST COMPREHENSION\n",
    "\n",
    "Com ja hem vist, les __list comprehension__ ens permeten inicialitzar llistes de forma molt eficients.<br> Veurem tres exemples on s'utilitza:<br><br>\n",
    "_Observació_: Com hem comprovat a classe, no hi ha una única forma correcta de resoldre el problema. Molts heu presentat solucions altrenatives."
   ]
  },
  {
   "cell_type": "code",
   "execution_count": 17,
   "metadata": {
    "collapsed": true
   },
   "outputs": [],
   "source": [
    "# Afegim tots els numeros fins a 10\n",
    "llista1 = [a for a in range(10)]\n",
    "\n",
    "# Afegim tots els numeros fins a 10 múltiples de 2\n",
    "llista2 = [num for num in range(10) if num%2 == 0]\n",
    "\n",
    "# Afegim totes les parelles (i,j) amb i de 0 a 2 i j de 0 a 3\n",
    "llista3 = [(i,j) for i in range(3) for j in range(4)]"
   ]
  },
  {
   "cell_type": "code",
   "execution_count": 18,
   "metadata": {},
   "outputs": [
    {
     "name": "stdout",
     "output_type": "stream",
     "text": [
      "[0, 1, 2, 3, 4, 5, 6, 7, 8, 9]\n",
      "[0, 2, 4, 6, 8]\n",
      "[(0, 0), (0, 1), (0, 2), (0, 3), (1, 0), (1, 1), (1, 2), (1, 3), (2, 0), (2, 1), (2, 2), (2, 3)]\n"
     ]
    }
   ],
   "source": [
    "print(llista1)\n",
    "print(llista2)\n",
    "print(llista3)"
   ]
  },
  {
   "cell_type": "markdown",
   "metadata": {},
   "source": [
    "# EXERCICIS (Resolts a classe)"
   ]
  },
  {
   "cell_type": "markdown",
   "metadata": {},
   "source": [
    "1. Fer una llista amb tots els números divisibles per 3 menors a 20\n",
    "2. Fer una llista amb tots els números __anteriors__ als divisibles per 3 menors a 20\n",
    "3. Fer una llista amb tots els numeros positius menors a 20 que sumin 18\n",
    "4. Fer una llista amb les __sumes__ dels primers nombres positius: [0,1,3,6,10,15,...] ja que: <br>\n",
    "1=0+1<br>\n",
    "3=0+1+2<br>\n",
    "6=0+1+2+3<br>\n",
    "10=0+1+2+3+4<br>\n",
    "...<br><br>\n",
    "_Hint_: <code> sum([1,2,3,4]) = 10</code>\n"
   ]
  },
  {
   "cell_type": "markdown",
   "metadata": {},
   "source": [
    "||<br>\n",
    "||<br>\n",
    "||<br>\n",
    "||<br>\n",
    "||<br>\n",
    "||<br>\n",
    "||<br>\n",
    "||<br>\n",
    "||<br>\n",
    "||<br>\n",
    "||<br>\n",
    "||<br>\n",
    "||<br>\n",
    "||<br>\n",
    "||<br>\n",
    "||<br>\n",
    "||<br>\n",
    "||<br>\n",
    "||<br>\n",
    "||<br>\n",
    "||<br>\n",
    "||<br>\n",
    "||<br>\n",
    "V"
   ]
  },
  {
   "cell_type": "markdown",
   "metadata": {},
   "source": [
    "# SOLUCIONS"
   ]
  },
  {
   "cell_type": "markdown",
   "metadata": {},
   "source": [
    "A continuació, les solucions que hem comentat a classe amb detall així com dues variants del segon exercici que hem trobat interessants"
   ]
  },
  {
   "cell_type": "code",
   "execution_count": 39,
   "metadata": {
    "collapsed": true
   },
   "outputs": [],
   "source": [
    "llista1 = [a for a in range(11)]\n",
    "\n",
    "llista2 = [a for a in range(15) if (a+1)%3==0]\n",
    "llista2v2 = [a-1 for a in range(1,16) if a%3==0]\n",
    "llista2v3 = [a for a in range(15) if a%3==2]\n",
    "\n",
    "llista3 = [(i,j) for i in range(20) for j in range(i+1) if i+j==18]\n",
    "\n",
    "llista4 = [sum([a for a in range(i)]) for i in range(11) if i>0]"
   ]
  },
  {
   "cell_type": "code",
   "execution_count": 40,
   "metadata": {},
   "outputs": [
    {
     "name": "stdout",
     "output_type": "stream",
     "text": [
      "1.   [0, 1, 2, 3, 4, 5, 6, 7, 8, 9, 10]\n",
      "2.   [2, 5, 8, 11, 14]\n",
      "2v2. [2, 5, 8, 11, 14]\n",
      "2v3. [2, 5, 8, 11, 14]\n",
      "3.   [(9, 9), (10, 8), (11, 7), (12, 6), (13, 5), (14, 4), (15, 3), (16, 2), (17, 1), (18, 0)]\n",
      "4.   [0, 1, 3, 6, 10, 15, 21, 28, 36, 45]\n"
     ]
    }
   ],
   "source": [
    "print(\"1.  \",llista1)\n",
    "print(\"2.  \",llista2)\n",
    "print(\"2v2.\",llista2v2)\n",
    "print(\"2v3.\",llista2v2)\n",
    "print(\"3.  \",llista3)\n",
    "print(\"4.  \",llista4)"
   ]
  }
 ],
 "metadata": {
  "anaconda-cloud": {},
  "kernelspec": {
   "display_name": "Python 3",
   "language": "python",
   "name": "python3"
  },
  "language_info": {
   "codemirror_mode": {
    "name": "ipython",
    "version": 3
   },
   "file_extension": ".py",
   "mimetype": "text/x-python",
   "name": "python",
   "nbconvert_exporter": "python",
   "pygments_lexer": "ipython3",
   "version": "3.6.3"
  }
 },
 "nbformat": 4,
 "nbformat_minor": 1
}
