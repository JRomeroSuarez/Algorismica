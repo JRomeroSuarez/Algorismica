{
 "cells": [
  {
   "cell_type": "markdown",
   "metadata": {
    "collapsed": true
   },
   "source": [
    "# upper, split i len\n",
    "\n",
    "En les properes funcions, veurem el funcionament bàsic d'aquestes funcions "
   ]
  },
  {
   "cell_type": "markdown",
   "metadata": {},
   "source": [
    "__Nota__: Les variables de les funcions poden tenir qualsevol nom. El que sí que us recomanem és que useu noms que sapigueu identificar. Per exemple en les seguents funcions usem _st_ per _string_ o bé _sep_ per a la variable que actua com a separador."
   ]
  },
  {
   "cell_type": "markdown",
   "metadata": {},
   "source": [
    "La funció _uper()_ ens permet transformar un string a majúscules."
   ]
  },
  {
   "cell_type": "code",
   "execution_count": 3,
   "metadata": {
    "collapsed": true
   },
   "outputs": [],
   "source": [
    "def conv_majus(st):\n",
    "    print(st.upper())"
   ]
  },
  {
   "cell_type": "code",
   "execution_count": 4,
   "metadata": {},
   "outputs": [
    {
     "name": "stdout",
     "output_type": "stream",
     "text": [
      "UNA FRASE QUALSEVOL\n"
     ]
    }
   ],
   "source": [
    "conv_majus(\"Una frase qualsevol\")"
   ]
  },
  {
   "cell_type": "markdown",
   "metadata": {},
   "source": [
    "La funcio _split()_ ens permet separar un string qualsevol, definint un separador. En la següent funció introduim dos paràmetres. En primer lloc la variable string que volem separar i, en segon lloc, el separador que usem per separar."
   ]
  },
  {
   "cell_type": "code",
   "execution_count": 12,
   "metadata": {
    "collapsed": true
   },
   "outputs": [],
   "source": [
    "def separar(st, sep):\n",
    "    separat=st.split(sep)\n",
    "    print(separat)"
   ]
  },
  {
   "cell_type": "code",
   "execution_count": 13,
   "metadata": {},
   "outputs": [
    {
     "name": "stdout",
     "output_type": "stream",
     "text": [
      "['Una', 'frase', 'qualsevol']\n"
     ]
    }
   ],
   "source": [
    "separar(\"Una frase qualsevol\",\" \")"
   ]
  },
  {
   "cell_type": "markdown",
   "metadata": {},
   "source": [
    "Observeu bé els següents exemples. En aquest cas separem amb un separador diferent a l'espai. Com podeu veure, aquesta funció elimina el separador de la frase i ho converteix en una llista"
   ]
  },
  {
   "cell_type": "code",
   "execution_count": 14,
   "metadata": {},
   "outputs": [
    {
     "name": "stdout",
     "output_type": "stream",
     "text": [
      "['Una frase ', 'ualsevol']\n",
      "--------------------\n",
      "['Una fra', 'e qual', 'evol']\n"
     ]
    }
   ],
   "source": [
    "separar(\"Una frase qualsevol\",\"q\")\n",
    "print(\"--------------------\")\n",
    "separar(\"Una frase qualsevol\",\"s\")"
   ]
  },
  {
   "cell_type": "markdown",
   "metadata": {},
   "source": [
    "La funció _len_ ens permet comprovar la longitud d'una llista o bé d'un string. Proveu els següents dos exemples:"
   ]
  },
  {
   "cell_type": "code",
   "execution_count": 17,
   "metadata": {},
   "outputs": [
    {
     "name": "stdout",
     "output_type": "stream",
     "text": [
      "19\n",
      "3\n"
     ]
    }
   ],
   "source": [
    "def longitud(s):\n",
    "    print(len(s))\n",
    "\n",
    "\n",
    "longitud(\"Una frase qualsevol\")\n",
    "\n",
    "llista = ['Una', 'frase', 'qualsevol']\n",
    "longitud(llista)"
   ]
  },
  {
   "cell_type": "markdown",
   "metadata": {},
   "source": [
    "Com heu pogut comprovar, el primer exemple és un string amb 19 caràcters (els espais també compten)"
   ]
  },
  {
   "cell_type": "markdown",
   "metadata": {},
   "source": [
    "El segon exemple és una llista de 3 elements."
   ]
  },
  {
   "cell_type": "markdown",
   "metadata": {},
   "source": [
    "Quina longitud ens donaria al fer _longitud(llista[2])_? Penseu curosament la resposta i després, comproveu-ho"
   ]
  },
  {
   "cell_type": "code",
   "execution_count": 19,
   "metadata": {
    "collapsed": true
   },
   "outputs": [],
   "source": [
    "# llista = ['Una', 'frase', 'qualsevol']\n",
    "# longitud(llista[2])"
   ]
  },
  {
   "cell_type": "markdown",
   "metadata": {
    "collapsed": true
   },
   "source": [
    "# EXERCICIS (Resolts a classe)\n",
    "Volem fer un programa que, donat un string qualsevol, ens retorni les paraules en majúscules i amb el nombre de lletres, tal com s'indica a baix.<br> Canvieu la paraula _pass_ per la vostra solució."
   ]
  },
  {
   "cell_type": "code",
   "execution_count": 5,
   "metadata": {
    "collapsed": true
   },
   "outputs": [],
   "source": [
    "def long_sentence(st):\n",
    "    separat = st.split()\n",
    "    for w in separat:\n",
    "        print(w.upper(), \"-->\", len(w), \"lletres\")"
   ]
  },
  {
   "cell_type": "code",
   "execution_count": 6,
   "metadata": {},
   "outputs": [
    {
     "name": "stdout",
     "output_type": "stream",
     "text": [
      "UNA --> 3 lletres\n",
      "FRASE --> 5 lletres\n",
      "QUALSEVOL --> 9 lletres\n"
     ]
    }
   ],
   "source": [
    "long_sentence(\"Una frase qualsevol\")\n",
    "# Això hauria d'imprimir:\n",
    "\n",
    "# UNA --> 3 lletres\n",
    "# FRASE --> 5 lletres\n",
    "# QUALSEVOL --> 9 lletres"
   ]
  },
  {
   "cell_type": "markdown",
   "metadata": {},
   "source": [
    "Volem fer un programa que, donats dos números, comprovi quantes vegades es pot dividir el numero entre el divisor.<br>\n",
    "En cas que no es pugui, ha de dir-ho.<br>\n",
    "Canvieu la paraula _pass_ per la vostra solució"
   ]
  },
  {
   "cell_type": "code",
   "execution_count": 8,
   "metadata": {},
   "outputs": [
    {
     "name": "stdout",
     "output_type": "stream",
     "text": [
      "2 vegades\n",
      "17 no es pot dividir\n"
     ]
    }
   ],
   "source": [
    "def check_div(num, div):\n",
    "    i = 0\n",
    "    while num%div == 0:\n",
    "        num/=div\n",
    "        i+=1\n",
    "    print(str(i)+\" vegades\" if i>0 else str(num)+ \" no es pot dividir\")\n",
    "\n",
    "check_div(25,5)\n",
    "# Hauria de dir que es pot dividir 2 cops\n",
    "\n",
    "check_div(17,2)\n",
    "# Hauria de dir que no es pot dividir"
   ]
  },
  {
   "cell_type": "markdown",
   "metadata": {},
   "source": [
    "# EXERCISI (Per a la propera sessió)\n",
    "Volem fer un programa que, donats dos nombres start i stop, imprimeixi de forma alternada linies amb '=' i linies amb '*' com s'indica a l'exemple de més avall. Fixeu-vos que volem que imprimeixi línies amb tots els números: En el cas de 5 a 8: 5,6,7 i 8"
   ]
  },
  {
   "cell_type": "code",
   "execution_count": 18,
   "metadata": {
    "collapsed": true
   },
   "outputs": [],
   "source": [
    "def print_numbers(start, stop):\n",
    "    for i in range(start, stop + 1):\n",
    "        for j in range (i):\n",
    "            if i%2==0:\n",
    "                print(\"*\",end= \"\")\n",
    "            else:\n",
    "                print(\"=\", end=\"\")\n",
    "        print()"
   ]
  },
  {
   "cell_type": "code",
   "execution_count": 19,
   "metadata": {},
   "outputs": [
    {
     "name": "stdout",
     "output_type": "stream",
     "text": [
      "=====\n",
      "******\n",
      "=======\n",
      "********\n"
     ]
    }
   ],
   "source": [
    "print_numbers(5,8)\n",
    "\n",
    "#Aquest exemple, hauria d'imprimir:\n",
    "\n",
    "# =====\n",
    "# ******\n",
    "# =======\n",
    "# ********"
   ]
  },
  {
   "cell_type": "markdown",
   "metadata": {},
   "source": [
    "Volem fer un programa que, donat un número, ens crei un arbre com el que pots veure a l'exemple. Podeu suposar que el número entrat és sempre imparell."
   ]
  },
  {
   "cell_type": "code",
   "execution_count": 25,
   "metadata": {},
   "outputs": [
    {
     "ename": "IndentationError",
     "evalue": "expected an indented block (<ipython-input-25-f701980694fc>, line 3)",
     "output_type": "error",
     "traceback": [
      "\u001b[1;36m  File \u001b[1;32m\"<ipython-input-25-f701980694fc>\"\u001b[1;36m, line \u001b[1;32m3\u001b[0m\n\u001b[1;33m    print(i*\"*\"):\u001b[0m\n\u001b[1;37m        ^\u001b[0m\n\u001b[1;31mIndentationError\u001b[0m\u001b[1;31m:\u001b[0m expected an indented block\n"
     ]
    }
   ],
   "source": [
    "def tree(stop):\n",
    "    for i in range(1,x+1,2):\n",
    "    print (x //2-)\n",
    "    print(i*\"*\")"
   ]
  },
  {
   "cell_type": "code",
   "execution_count": 26,
   "metadata": {},
   "outputs": [
    {
     "ename": "NameError",
     "evalue": "name 'tree' is not defined",
     "output_type": "error",
     "traceback": [
      "\u001b[1;31m---------------------------------------------------------------------------\u001b[0m",
      "\u001b[1;31mNameError\u001b[0m                                 Traceback (most recent call last)",
      "\u001b[1;32m<ipython-input-26-93234cf96dcd>\u001b[0m in \u001b[0;36m<module>\u001b[1;34m()\u001b[0m\n\u001b[1;32m----> 1\u001b[1;33m \u001b[0mtree\u001b[0m\u001b[1;33m(\u001b[0m\u001b[1;36m15\u001b[0m\u001b[1;33m)\u001b[0m\u001b[1;33m\u001b[0m\u001b[0m\n\u001b[0m\u001b[0;32m      2\u001b[0m \u001b[1;31m# Això hauria de retornar:\u001b[0m\u001b[1;33m\u001b[0m\u001b[1;33m\u001b[0m\u001b[0m\n\u001b[0;32m      3\u001b[0m \u001b[1;33m\u001b[0m\u001b[0m\n\u001b[0;32m      4\u001b[0m \u001b[1;31m#        *\u001b[0m\u001b[1;33m\u001b[0m\u001b[1;33m\u001b[0m\u001b[0m\n\u001b[0;32m      5\u001b[0m \u001b[1;31m#       ***\u001b[0m\u001b[1;33m\u001b[0m\u001b[1;33m\u001b[0m\u001b[0m\n",
      "\u001b[1;31mNameError\u001b[0m: name 'tree' is not defined"
     ]
    }
   ],
   "source": [
    "tree(15)\n",
    "# Això hauria de retornar:\n",
    "\n",
    "#        *\n",
    "#       ***\n",
    "#      *****\n",
    "#     *******\n",
    "#    *********\n",
    "#   ***********\n",
    "#  *************\n",
    "# ***************\n"
   ]
  },
  {
   "cell_type": "markdown",
   "metadata": {
    "collapsed": true
   },
   "source": [
    "## SOLUCIONS"
   ]
  },
  {
   "cell_type": "code",
   "execution_count": 24,
   "metadata": {},
   "outputs": [
    {
     "name": "stdout",
     "output_type": "stream",
     "text": [
      "UNA --> 3 lletres\n",
      "FRASE --> 5 lletres\n",
      "QUALSEVOL --> 9 lletres\n"
     ]
    }
   ],
   "source": [
    "def long_sentence(st):\n",
    "    separat = st.split()\n",
    "    for w in separat:\n",
    "        print(w.upper(), \"-->\", len(w), \"lletres\")\n",
    "\n",
    "long_sentence(\"Una frase qualsevol\")"
   ]
  },
  {
   "cell_type": "code",
   "execution_count": 46,
   "metadata": {},
   "outputs": [
    {
     "name": "stdout",
     "output_type": "stream",
     "text": [
      "5 vegades\n"
     ]
    }
   ],
   "source": [
    "def check_div(num,div):\n",
    "    i=0\n",
    "    while num%div == 0:        \n",
    "        num/=div\n",
    "        i+=1\n",
    "    print(str(i)+\" vegades\" if i>0 else str(num)+\" no es pot dividir entre \"+str(div))\n",
    "\n",
    "check_div(32,2)"
   ]
  }
 ],
 "metadata": {
  "anaconda-cloud": {},
  "kernelspec": {
   "display_name": "Python 3",
   "language": "python",
   "name": "python3"
  },
  "language_info": {
   "codemirror_mode": {
    "name": "ipython",
    "version": 3
   },
   "file_extension": ".py",
   "mimetype": "text/x-python",
   "name": "python",
   "nbconvert_exporter": "python",
   "pygments_lexer": "ipython3",
   "version": "3.6.3"
  }
 },
 "nbformat": 4,
 "nbformat_minor": 1
}
