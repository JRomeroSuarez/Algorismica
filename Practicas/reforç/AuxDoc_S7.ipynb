{
 "cells": [
  {
   "cell_type": "markdown",
   "metadata": {},
   "source": [
    "# Solució exercici 4 examen parcial"
   ]
  },
  {
   "cell_type": "markdown",
   "metadata": {},
   "source": [
    "A continuació detallaré diferents formes per arribar a la solució. Intentarem que cada versió suposi una millora de l'anterior. Començarem primer desenvolupant la part de la funció __anagrama()__ i, més tard, veurem algunes optimitzacions per obtenir els nombres primers."
   ]
  },
  {
   "cell_type": "markdown",
   "metadata": {},
   "source": [
    "<br><br>"
   ]
  },
  {
   "cell_type": "markdown",
   "metadata": {},
   "source": [
    "## Funció anagrama (Versió 1)"
   ]
  },
  {
   "cell_type": "markdown",
   "metadata": {},
   "source": [
    "Suposem que el nostre programa ja ens retorna uns llista de primers. (De fet, això ja ho havíeu de tenir fet per un laboratori anterior). Veurem l'algorisme per assignar a cada lletra, un primer."
   ]
  },
  {
   "cell_type": "markdown",
   "metadata": {},
   "source": [
    "Esquema de l'algorisme:\n",
    "1. Recollim la llista de primers generada per la funcio primers()\n",
    "2. Llegim la primera lletra de la primera paraula\n",
    "3. Busquem la posició d'aquesta lletra dins el nostre string de l'enunciat\n",
    "4. Agafem el primer corresponent de la llista de primers del pas 1\n",
    "5. Multipliquem pel primer obtingut\n",
    "6. Tornem al pas 2 amb la següent lletra si no hem arribat al final"
   ]
  },
  {
   "cell_type": "code",
   "execution_count": 1,
   "metadata": {
    "collapsed": true
   },
   "outputs": [],
   "source": [
    "def primers1(n):      \n",
    "    return [2,3,5,7,11,13,17,19,23,29,31,37,41,43,47,53,59,61,67,71,73,83,89,97,101,103]\n",
    "    \n",
    "    \n",
    "def anagrama1(a,b):\n",
    "    \n",
    "    prod_A = 1\n",
    "    prod_B = 1\n",
    "    llista = primers1(100)[:27]\n",
    "    abc = \"abcdefghijklmnopqrstuvwxyz\"    \n",
    "    \n",
    "    for lletra in b:\n",
    "        i=0\n",
    "        for x in abc:\n",
    "            if x==lletra:                                \n",
    "                prod_A = prod_A * llista[i]\n",
    "            i=i+1\n",
    "        \n",
    "    for lletra in a:\n",
    "        i=0\n",
    "        for x in abc:\n",
    "            if x==lletra:                                \n",
    "                prod_B = prod_B * llista[i]\n",
    "            i=i+1\n",
    "            \n",
    "    print(prod_A, prod_B)\n",
    "    return prod_A==prod_B\n",
    "        "
   ]
  },
  {
   "cell_type": "code",
   "execution_count": 2,
   "metadata": {},
   "outputs": [
    {
     "name": "stdout",
     "output_type": "stream",
     "text": [
      "210 210\n",
      "235094 235094\n",
      "402743 66082\n"
     ]
    }
   ],
   "source": [
    "assert anagrama1(\"abcd\",\"cbda\")==True\n",
    "assert anagrama1(\"mora\", \"roma\")==True\n",
    "assert anagrama1(\"hola\",\"home\")==False"
   ]
  },
  {
   "cell_type": "markdown",
   "metadata": {},
   "source": [
    "<br><br>"
   ]
  },
  {
   "cell_type": "markdown",
   "metadata": {
    "collapsed": true
   },
   "source": [
    "## Funció anagrama (Versió 2)"
   ]
  },
  {
   "cell_type": "markdown",
   "metadata": {},
   "source": [
    "Amb l'ajuda d'un diccionari on la clau és la lletra i el valor és el nombre primer, agilitzem molt la feina:"
   ]
  },
  {
   "cell_type": "markdown",
   "metadata": {},
   "source": [
    "__Observació:__ Per crear diccionaris ràpidament, també podem usar la tècnica del listcomprehensions!"
   ]
  },
  {
   "cell_type": "code",
   "execution_count": 3,
   "metadata": {},
   "outputs": [
    {
     "name": "stdout",
     "output_type": "stream",
     "text": [
      "{'a': 0, 'b': 0, 'c': 0, 'd': 0, 'e': 0, 'f': 0}\n"
     ]
    }
   ],
   "source": [
    "dic={i:0 for i in \"abcdef\"}\n",
    "print(dic)"
   ]
  },
  {
   "cell_type": "code",
   "execution_count": 4,
   "metadata": {},
   "outputs": [
    {
     "name": "stdout",
     "output_type": "stream",
     "text": [
      "{'a': 2, 'b': 3, 'c': 5, 'd': 7, 'e': 11, 'f': 13, 'g': 17, 'h': 19, 'i': 23, 'j': 29, 'k': 31, 'l': 37, 'm': 41, 'n': 43, 'o': 47, 'p': 53, 'q': 59, 'r': 61, 's': 67, 't': 71, 'u': 73, 'v': 83, 'w': 89, 'x': 97, 'y': 101, 'z': 103}\n"
     ]
    }
   ],
   "source": [
    "primers = [2,3,5,7,11,13,17,19,23,29,31,37,41,43,47,53,59,61,67,71,73,83,89,97,101,103]\n",
    "abc = \"abcdefghijklmnopqrstuvwxyz\"\n",
    "\n",
    "dic={abc[i]: primers[i] for i in range(len(abc))}\n",
    "print(dic)"
   ]
  },
  {
   "cell_type": "markdown",
   "metadata": {},
   "source": [
    "<br><br>"
   ]
  },
  {
   "cell_type": "markdown",
   "metadata": {},
   "source": [
    "També podem fer-ho com heu vist ja a classe i obtenim el mateix resultat:"
   ]
  },
  {
   "cell_type": "code",
   "execution_count": 5,
   "metadata": {},
   "outputs": [
    {
     "name": "stdout",
     "output_type": "stream",
     "text": [
      "{'a': 2, 'b': 3, 'c': 5, 'd': 7, 'e': 11, 'f': 13, 'g': 17, 'h': 19, 'i': 23, 'j': 29, 'k': 31, 'l': 37, 'm': 41, 'n': 43, 'o': 47, 'p': 53, 'q': 59, 'r': 61, 's': 67, 't': 71, 'u': 73, 'v': 83, 'w': 89, 'x': 97, 'y': 101, 'z': 103}\n"
     ]
    }
   ],
   "source": [
    "dic={}\n",
    "for i in range(len(abc)):\n",
    "    dic[abc[i]] = primers[i]\n",
    "print(dic)"
   ]
  },
  {
   "cell_type": "markdown",
   "metadata": {},
   "source": [
    "<br><br>"
   ]
  },
  {
   "cell_type": "markdown",
   "metadata": {},
   "source": [
    "Així doncs, la solució 2 d'aquest problema podria ser:"
   ]
  },
  {
   "cell_type": "code",
   "execution_count": 6,
   "metadata": {
    "collapsed": true
   },
   "outputs": [],
   "source": [
    "def primers2(n):      \n",
    "    return [2,3,5,7,11,13,17,19,23,29,31,37,41,43,47,53,59,61,67,71,73,83,89,97,101,103]\n",
    "    \n",
    "    \n",
    "def anagrama2(a,b):\n",
    "    \n",
    "    prod_A = 1\n",
    "    prod_B = 1\n",
    "    llista = primers2(120)[:27]\n",
    "    abc = \"abcdefghijklmnopqrstuvwxyz\"    \n",
    "    \n",
    "    dic={abc[i]: llista[i] for i in range(len(abc))}\n",
    "    \n",
    "    for lletra in b:                               \n",
    "        prod_A = prod_A * dic[lletra]\n",
    "        \n",
    "    for lletra in a:                           \n",
    "        prod_B = prod_B * dic[lletra]\n",
    "            \n",
    "    print(prod_A, prod_B)\n",
    "    return prod_A==prod_B"
   ]
  },
  {
   "cell_type": "code",
   "execution_count": 7,
   "metadata": {},
   "outputs": [
    {
     "name": "stdout",
     "output_type": "stream",
     "text": [
      "210 210\n",
      "235094 235094\n",
      "402743 66082\n"
     ]
    }
   ],
   "source": [
    "assert anagrama2(\"abcd\",\"cbda\")==True\n",
    "assert anagrama2(\"mora\", \"roma\")==True\n",
    "assert anagrama2(\"hola\",\"home\")==False"
   ]
  },
  {
   "cell_type": "markdown",
   "metadata": {},
   "source": [
    "<br><br>"
   ]
  },
  {
   "cell_type": "markdown",
   "metadata": {},
   "source": [
    "## Funció primers (Versió 1)"
   ]
  },
  {
   "cell_type": "markdown",
   "metadata": {},
   "source": [
    "Ara que ja tenim una versió força optimitzada de la funció anagrama, anem a desenvolupar la funció que ens retorna els primers:<br><br>\n",
    "una primera aproximació __gens eficient ni recomanable__ seria comprovar, per a cada nombre, si els seus anteriors el divideixen."
   ]
  },
  {
   "cell_type": "code",
   "execution_count": 8,
   "metadata": {},
   "outputs": [
    {
     "name": "stdout",
     "output_type": "stream",
     "text": [
      "[2, 3, 5, 7, 11, 13, 17, 19, 23, 29, 31, 37, 41, 43, 47, 53, 59, 61, 67, 71, 73, 79, 83, 89, 97, 101, 103]\n"
     ]
    }
   ],
   "source": [
    "def primers3(n):\n",
    "    primers = []\n",
    "    for p in range(2,n):\n",
    "        esPrimer = True\n",
    "        for i in range(2,p):\n",
    "            if p%i==0:\n",
    "                esPrimer = False\n",
    "                break\n",
    "                \n",
    "        if esPrimer:\n",
    "            primers.append(p)\n",
    "    return(primers)\n",
    "\n",
    "print(primers3(120)[:27])"
   ]
  },
  {
   "cell_type": "markdown",
   "metadata": {},
   "source": [
    "<br>"
   ]
  },
  {
   "cell_type": "markdown",
   "metadata": {},
   "source": [
    "Hem vist però, que això és molt lent. <br><br>\n",
    "Què podem millorar? <br><br>"
   ]
  },
  {
   "cell_type": "markdown",
   "metadata": {},
   "source": [
    "## Funció primers (Versió 2)\n",
    "1. Doncs podem usar la tècnica del sedàs d'Eratòstenes. És a dir, no comprovem els múltiples d'un primer que ja hem detectat.\n",
    "2. Comprovar només fins a l'arrel quadrada del nombre. Per exemple el nombre 51238795 =  5 \\* 29 \\* 97 \\* 3643 té arrel quadrada 7158.12 així que no tindrà cap divisor major que aquest nombre"
   ]
  },
  {
   "cell_type": "code",
   "execution_count": 9,
   "metadata": {},
   "outputs": [
    {
     "name": "stdout",
     "output_type": "stream",
     "text": [
      "[2, 3, 5, 7, 11, 13, 17, 19, 23, 29, 31, 37, 41, 43, 47, 53, 59, 61, 67, 71, 73, 79, 83, 89, 97, 101, 103]\n"
     ]
    }
   ],
   "source": [
    "def primers4(n):\n",
    "        \n",
    "    # Inicialitem una llista de booleans de longitud n-1 ja que podem obviar el nombre 1 que sabem que no és primer.\n",
    "    # D'aquesta forma podem anar marcant, per cada posició, si és o no primer. \n",
    "    # Suposarem d'entrada que ho són tots i, mitjançant la tècnica del sedàs d'Eratòstenes, anirem\n",
    "    # eliminant-ne els múltiples.\n",
    "    \n",
    "    p_bool = [True] * (n-1)\n",
    "    \n",
    "    # Com hem dit, només comprovare fins l'arrel quadrada del nombre \n",
    "    # Ara, per cada nombre, \"i\" eliminem els seus múltiples:\n",
    "    # p.ex: en i=6, comencem eliminant el 12, 18,... per això el step és justament \"i\"\n",
    "        \n",
    "    for i in range(2, int(n**0.5 + 1)):\n",
    "        for j in range(2*i, n+1 , i):\n",
    "            \n",
    "            # Assignem en la posició j-2 ja que el primer valor que entra, és el número 2 i el guardem en primera posició (0)\n",
    "            p_bool[j-2] = False\n",
    "            \n",
    "    # Ara ja tenim una llista de booleans on, en les posicions dels primers apareix True. En la resta, False\n",
    "    # Usem una list comprehension per recuperar aquestes posicions:\n",
    "    # Com abans, accedim a la posició \n",
    "    primers = [p for p in range(2, n+1) if p_bool[p-2]]\n",
    "    \n",
    "    return primers\n",
    "\n",
    "print(primers4(120)[:27])"
   ]
  },
  {
   "cell_type": "markdown",
   "metadata": {},
   "source": [
    "__EXTRA__: Encara es podria millorar més començant en $i^2$ en comptes de $2i$, veieu perquè?"
   ]
  },
  {
   "cell_type": "markdown",
   "metadata": {},
   "source": [
    "<br><br>"
   ]
  },
  {
   "cell_type": "markdown",
   "metadata": {},
   "source": [
    "# Versió final"
   ]
  },
  {
   "cell_type": "markdown",
   "metadata": {},
   "source": [
    "Així doncs, una molt bona implementació d'aquest problema és ajuntar les dues versions millors prèviament descrites:"
   ]
  },
  {
   "cell_type": "code",
   "execution_count": 12,
   "metadata": {},
   "outputs": [],
   "source": [
    "def primers(n):\n",
    "        \n",
    "    p_bool = [True] * (n-1)        \n",
    "    for i in range(2, int(n**0.5 + 1)):\n",
    "        for j in range(i**2, n+1 , i):\n",
    "            p_bool[j-2] = False\n",
    "            \n",
    "    prim = [p for p in range(2, n+1) if p_bool[p-2]]\n",
    "    return prim\n",
    "\n",
    "\n",
    "def anagrama(a,b):\n",
    "    \n",
    "    prod_A = 1\n",
    "    prod_B = 1\n",
    "    llista = primers(120)[:27]\n",
    "    abc = \"abcdefghijklmnopqrstuvwxyz\"    \n",
    "    \n",
    "    dic={abc[i]: llista[i] for i in range(len(abc))}\n",
    "    \n",
    "    for lletra in b:                               \n",
    "        prod_A = prod_A * dic[lletra]\n",
    "        \n",
    "    for lletra in a:                           \n",
    "        prod_B = prod_B * dic[lletra]\n",
    "            \n",
    "    return prod_A==prod_B\n",
    "\n",
    "assert anagrama(\"abcd\",\"cbda\")==True\n",
    "assert anagrama(\"mora\", \"roma\")==True\n",
    "assert anagrama(\"hola\",\"home\")==False"
   ]
  },
  {
   "cell_type": "markdown",
   "metadata": {},
   "source": [
    "<br><br>"
   ]
  },
  {
   "cell_type": "markdown",
   "metadata": {},
   "source": [
    "# (EXTRA) Funcions interessants\n",
    "<br>\n",
    "Algunes funcions que he trobat interessants mencionar i que segurament us pot ajudar en molts aspectes són les següents:"
   ]
  },
  {
   "cell_type": "markdown",
   "metadata": {},
   "source": [
    "## enumerate()\n",
    "Aquesta funció ens simplifica la iteració de les llistes si volem tenir el __valor de la iteració__ en el que ens trobem i el __contingut de la posició__. Veiem-ho millor en un exemple:"
   ]
  },
  {
   "cell_type": "code",
   "execution_count": 22,
   "metadata": {},
   "outputs": [
    {
     "name": "stdout",
     "output_type": "stream",
     "text": [
      "1.  patates\n",
      "2.  pomes\n",
      "3.  sucre\n",
      "4.  llet\n"
     ]
    }
   ],
   "source": [
    "def llista_de_la_compra(llista):\n",
    "    for it, prod in enumerate(llista):\n",
    "        print(str(it+1)+\". \", prod)\n",
    "        \n",
    "llista_de_la_compra([\"patates\",\"pomes\",\"sucre\",\"llet\"])"
   ]
  },
  {
   "cell_type": "markdown",
   "metadata": {},
   "source": [
    "Fins i tot la funció ens permet començar en una posició específica:"
   ]
  },
  {
   "cell_type": "code",
   "execution_count": 23,
   "metadata": {},
   "outputs": [
    {
     "name": "stdout",
     "output_type": "stream",
     "text": [
      "5.  patates\n",
      "6.  pomes\n",
      "7.  sucre\n",
      "8.  llet\n"
     ]
    }
   ],
   "source": [
    "def llista_de_la_compra(llista):\n",
    "    for it, prod in enumerate(llista,5):\n",
    "        print(str(it)+\". \", prod)\n",
    "        \n",
    "llista_de_la_compra([\"patates\",\"pomes\",\"sucre\",\"llet\"])"
   ]
  },
  {
   "cell_type": "markdown",
   "metadata": {},
   "source": [
    "També podem fer coses com ara:"
   ]
  },
  {
   "cell_type": "code",
   "execution_count": 28,
   "metadata": {},
   "outputs": [
    {
     "name": "stdout",
     "output_type": "stream",
     "text": [
      "List comprehension: [(0, 'patates'), (1, 'pomes'), (2, 'sucre'), (3, 'llet')]\n",
      "Dict comprehension: {0: 'patates', 1: 'pomes', 2: 'sucre', 3: 'llet'}\n"
     ]
    }
   ],
   "source": [
    "lst = [(i,j) for i, j in enumerate([\"patates\",\"pomes\",\"sucre\",\"llet\"])]\n",
    "print(\"List comprehension:\", lst)\n",
    "\n",
    "dic = dict({i:j for i, j in enumerate([\"patates\",\"pomes\",\"sucre\",\"llet\"])})\n",
    "print(\"Dict comprehension:\", dic)"
   ]
  },
  {
   "cell_type": "markdown",
   "metadata": {},
   "source": [
    "<br><br>"
   ]
  },
  {
   "cell_type": "markdown",
   "metadata": {},
   "source": [
    "## zip()"
   ]
  },
  {
   "cell_type": "markdown",
   "metadata": {},
   "source": [
    "Imaginem ara que tenim dues llistes i que volem agafar el primer element d'una llista i ajunta-lo amb el primer de l'altre. Ho podem fer amb un _for_ i anar prenent la mateixa posició de cada un, o bé, podem usar la funció __zip()__:<br><br>\n",
    "__Alerta!:__ El que ens retorna és un tipus de dades especial. Si volem utilitzar-lo o mostrar-lo, el podem convertir en una llista, un diccionari..."
   ]
  },
  {
   "cell_type": "code",
   "execution_count": 32,
   "metadata": {},
   "outputs": [
    {
     "name": "stdout",
     "output_type": "stream",
     "text": [
      "<zip object at 0x0000017CCE3D0A48>\n",
      "\n",
      "[('Anna', 3.47), ('Miquel', 5.25), ('Martí', 9.82), ('Júlia', 7.3), ('Clàudia', 6.5), ('Pol', 1.25)]\n",
      "\n",
      "{'Anna': 3.47, 'Miquel': 5.25, 'Martí': 9.82, 'Júlia': 7.3, 'Clàudia': 6.5, 'Pol': 1.25}\n"
     ]
    }
   ],
   "source": [
    "llista1 = [\"Anna\",\"Miquel\",\"Martí\",\"Júlia\",\"Clàudia\",\"Pol\"]\n",
    "llista2 = [3.47, 5.25, 9.82, 7.3, 6.5, 1.25]\n",
    "\n",
    "print(zip(llista1,llista2))\n",
    "print()\n",
    "print(list(zip(llista1,llista2)))\n",
    "print()\n",
    "print(dict(zip(llista1,llista2)))"
   ]
  },
  {
   "cell_type": "markdown",
   "metadata": {},
   "source": [
    "<br><br>\n",
    "Fins i tot, hem trobat una forma millor de crear el diccionari de primers!"
   ]
  },
  {
   "cell_type": "code",
   "execution_count": 34,
   "metadata": {},
   "outputs": [
    {
     "name": "stdout",
     "output_type": "stream",
     "text": [
      "{'a': 2, 'b': 3, 'c': 5, 'd': 7, 'e': 11, 'f': 13, 'g': 17, 'h': 19, 'i': 23, 'j': 29, 'k': 31, 'l': 37, 'm': 41, 'n': 43, 'o': 47, 'p': 53, 'q': 59, 'r': 61, 's': 67, 't': 71, 'u': 73, 'v': 83, 'w': 89, 'x': 97, 'y': 101, 'z': 103}\n"
     ]
    }
   ],
   "source": [
    "primers = [2,3,5,7,11,13,17,19,23,29,31,37,41,43,47,53,59,61,67,71,73,83,89,97,101,103]\n",
    "abc = \"abcdefghijklmnopqrstuvwxyz\"\n",
    "\n",
    "print(dict(zip(abc,primers)))"
   ]
  }
 ],
 "metadata": {
  "anaconda-cloud": {},
  "kernelspec": {
   "display_name": "Python 3",
   "language": "python",
   "name": "python3"
  },
  "language_info": {
   "codemirror_mode": {
    "name": "ipython",
    "version": 3
   },
   "file_extension": ".py",
   "mimetype": "text/x-python",
   "name": "python",
   "nbconvert_exporter": "python",
   "pygments_lexer": "ipython3",
   "version": "3.6.3"
  }
 },
 "nbformat": 4,
 "nbformat_minor": 1
}
