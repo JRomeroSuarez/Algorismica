{
 "cells": [
  {
   "cell_type": "markdown",
   "metadata": {},
   "source": [
    "# Regular expressions"
   ]
  },
  {
   "cell_type": "markdown",
   "metadata": {},
   "source": [
    "Veurem alguns patrons importants(escriurem el text dins de \"pattern\"):\n",
    "<center><code>pattern =r\"some_pattern_here\"</code></center>"
   ]
  },
  {
   "cell_type": "markdown",
   "metadata": {},
   "source": [
    "La r del davant indica que és una expressió regular, abreviat: __regex__"
   ]
  },
  {
   "cell_type": "code",
   "execution_count": 2,
   "metadata": {
    "collapsed": true
   },
   "outputs": [],
   "source": [
    "import re"
   ]
  },
  {
   "cell_type": "code",
   "execution_count": 3,
   "metadata": {
    "collapsed": false
   },
   "outputs": [],
   "source": [
    "def check_expression(pattern, text):\n",
    "    ip = re.compile(pattern)\n",
    "\n",
    "    if ip.search(text):\n",
    "        print(\"Yeah!\")\n",
    "    else:\n",
    "        print(\"Noup!\")"
   ]
  },
  {
   "cell_type": "markdown",
   "metadata": {},
   "source": [
    "<br>\n",
    "Per buscar text exacte, simplement fem:\n",
    "<center><code>pattern =r\"abc\"\n",
    "</code></center>\n",
    "Si volem que contingui un caràcter \"reservat\", afegim una barra davant:"
   ]
  },
  {
   "cell_type": "code",
   "execution_count": 4,
   "metadata": {
    "collapsed": false
   },
   "outputs": [
    {
     "name": "stdout",
     "output_type": "stream",
     "text": [
      "Yeah!\n",
      "Noup!\n",
      "Yeah!\n",
      "Noup!\n"
     ]
    }
   ],
   "source": [
    "check_expression(r\"ase\", \"Una frase qualsevol\")\n",
    "\n",
    "check_expression(r\"abc\", \"Una frase qualsevol\")\n",
    "\n",
    "check_expression(r\"ase\\.\", \"Una frase. Una altra frase\")\n",
    "\n",
    "check_expression(r\"altra\\.\", \"Una frase. Una altra frase\")"
   ]
  },
  {
   "cell_type": "markdown",
   "metadata": {},
   "source": [
    "<br>\n",
    "Per buscar text que comenci o acabi per un cert string, afegim els caràcters __^__ i __$__:"
   ]
  },
  {
   "cell_type": "code",
   "execution_count": 5,
   "metadata": {
    "collapsed": false
   },
   "outputs": [
    {
     "name": "stdout",
     "output_type": "stream",
     "text": [
      "Yeah!\n",
      "Noup!\n",
      "\n",
      "Yeah!\n",
      "Noup!\n"
     ]
    }
   ],
   "source": [
    "check_expression(r\"^Una\", \"Una frase qualsevol\")\n",
    "\n",
    "check_expression(r\"^frase\", \"Una frase qualsevol\")\n",
    "\n",
    "print()\n",
    "\n",
    "check_expression(r\"vol$\", \"Una frase qualsevol\")\n",
    "\n",
    "check_expression(r\"frase$\", \"Una frase qualsevol\")"
   ]
  },
  {
   "cell_type": "markdown",
   "metadata": {},
   "source": [
    "<br>\n",
    "Per buscar en un rang, usem  __[ ]__ on: __\\d__ és [0-9], __\\w__ és [a-zA-Z0-9]:"
   ]
  },
  {
   "cell_type": "code",
   "execution_count": 6,
   "metadata": {
    "collapsed": false
   },
   "outputs": [
    {
     "name": "stdout",
     "output_type": "stream",
     "text": [
      "Yeah!\n",
      "Noup!\n",
      "Noup!\n",
      "Yeah!\n"
     ]
    }
   ],
   "source": [
    "check_expression(r\"2[0-5]\", \"25-32-67\")\n",
    "\n",
    "check_expression(r\"[3-7][4-6]\", \"25-32-67\")\n",
    "\n",
    "check_expression(r\"\\d-\\d-\\d\", \"25-32-67\")\n",
    "\n",
    "check_expression(r\"\\w-\\d\", \"aaaa-9999-aaaa-9999\")"
   ]
  },
  {
   "cell_type": "markdown",
   "metadata": {},
   "source": [
    "<br>\n",
    "Alguns caràcters importants:\n",
    "1. Per indicar __un caràcter qualsevol__, un punt: __.__ \n",
    "2. Per indicar __qualsevol nombre de repeticions__ d'un caràcter (pot ser 0), asterisc: __*__\n",
    "3. Per indicar __com a mínim una repetició__ d'un caràcter, suma: __+__\n",
    "4. Per indicar que un caràcter __pot no aparèixer__, interrogant: __?__\n",
    "\n",
    "Podem aplicar-ho també a una expressió sencera, que posarem entre parèntesis"
   ]
  },
  {
   "cell_type": "code",
   "execution_count": 8,
   "metadata": {
    "collapsed": false
   },
   "outputs": [
    {
     "name": "stdout",
     "output_type": "stream",
     "text": [
      "Yeah!\n",
      "Noup!\n",
      "\n",
      "Yeah!\n",
      "\n",
      "Noup!\n",
      "Yeah!\n",
      "\n",
      "Yeah!\n"
     ]
    }
   ],
   "source": [
    "check_expression(r\"2.-\", \"25-32-67\")\n",
    "check_expression(r\"7.\", \"25-32-67\")\n",
    "print()\n",
    "check_expression(r\"abb*\", \"abaaab\")\n",
    "print()\n",
    "check_expression(r\"abb+\", \"abaaab\")\n",
    "check_expression(r\"(ab)+\", \"abaaab\")\n",
    "print()\n",
    "check_expression(r\"abb?a\", \"abaaab\")"
   ]
  },
  {
   "cell_type": "markdown",
   "metadata": {},
   "source": [
    "<br>\n",
    "Com hem vist, els parèntesis ens marquen que __tot__ ha de complir. Podem usar un _or_ lògic: __|__:"
   ]
  },
  {
   "cell_type": "code",
   "execution_count": 7,
   "metadata": {
    "collapsed": false
   },
   "outputs": [
    {
     "name": "stdout",
     "output_type": "stream",
     "text": [
      "Yeah!\n"
     ]
    }
   ],
   "source": [
    "check_expression(r\"(una)|(Una)\", \"Una frase qualsevol\")"
   ]
  },
  {
   "cell_type": "markdown",
   "metadata": {},
   "source": [
    "<br>\n",
    "Les claus __{ }__ les usem per indicar que alguna expressió es __repeteix__:"
   ]
  },
  {
   "cell_type": "code",
   "execution_count": 8,
   "metadata": {
    "collapsed": false
   },
   "outputs": [
    {
     "name": "stdout",
     "output_type": "stream",
     "text": [
      "Yeah!\n"
     ]
    }
   ],
   "source": [
    "check_expression(r\"(\\w{3}-){5}\\w{3}\", \"123-456-789-aaa-bbb-ccc\")"
   ]
  },
  {
   "cell_type": "markdown",
   "metadata": {},
   "source": [
    "També podem marcar que es repeteixi en un \"rang de cops\" fent __{min, max}__"
   ]
  },
  {
   "cell_type": "code",
   "execution_count": 9,
   "metadata": {
    "collapsed": false
   },
   "outputs": [
    {
     "name": "stdout",
     "output_type": "stream",
     "text": [
      "Yeah!\n",
      "Noup!\n",
      "Yeah!\n"
     ]
    }
   ],
   "source": [
    "check_expression(r\"(\\w{3}-){5,7}\", \"123-456-789-aaa-bbb-ccc\")\n",
    "check_expression(r\"(\\w{3}-){5,7}\", \"123-456\")\n",
    "\n",
    "# Compte aquest últim! Pot semblar que sigui fals ja que es repeteix 8 cops\n",
    "# Però li hem dit que com a mínim n'hi hagin 5,6 o 7 (que si que hi són)\n",
    "check_expression(r\"(\\w{3}-){5,7}\", \"123-456-789-aaa-bbb-ccc-ddd-888\")"
   ]
  },
  {
   "cell_type": "markdown",
   "metadata": {},
   "source": [
    "<br><br>\n",
    "## Exercici (EXTRA)"
   ]
  },
  {
   "cell_type": "markdown",
   "metadata": {},
   "source": [
    "Comprovarem si un nom d'usuari és correcte, ha de tenir:"
   ]
  },
  {
   "cell_type": "markdown",
   "metadata": {},
   "source": [
    "1. Un string de mes de 5 lletres que no contingui numeros\n",
    "2. Seguit de un número d'una sola xifra\n",
    "3. Seguit del signe _@_\n",
    "4. Seguit d'una de les paraules: _alumnes, alumni, docent, admin_\n",
    "6. Seguit d'un punt: .\n",
    "7. Seguit de la paraula: _ub.edu_\n",
    "\n",
    "Per exemple:<br><br>\n",
    "mpiclup7@alumnes.ub.edu<br>"
   ]
  },
  {
   "cell_type": "code",
   "execution_count": 10,
   "metadata": {
    "collapsed": false
   },
   "outputs": [
    {
     "name": "stdout",
     "output_type": "stream",
     "text": [
      "Noup!\n",
      "Noup!\n",
      "Noup!\n",
      "Noup!\n",
      "Noup!\n",
      "Noup!\n",
      "Noup!\n",
      "Noup!\n",
      "Noup!\n",
      "Noup!\n"
     ]
    }
   ],
   "source": [
    "# Escriure aquí el patró\n",
    "regex =r\" write your pattern here \"\n",
    "\n",
    "texts=[\"mpiclup7@alumnes.ub.edu\",        # Yeah!\n",
    "       \"mp7@alumnes.ub.edu\",             # Noup!\n",
    "       \"mpiclup74@alumnes.ub.edu\",       # Noup!\n",
    "       \"mpiclup7@docent.ub.edu\",         # Yeah!\n",
    "       \"m78picl7@alumnes.ub.edu\",        # Noup!\n",
    "       \"mpiclup7@alumni.ub.edu\",         # Yeah!\n",
    "       \"mpiclup7@alumnes.ub.edu.ub.edu\", # Noup!\n",
    "       \"mpiclup7@admin.ub.edu\",          # Yeah!\n",
    "       \"mpiclup7admin.ub.edu\",           # Noup!\n",
    "       \"mpiclup7@admin.ub.ub.edu\"]       # Noup!\n",
    "\n",
    "for t in texts:\n",
    "    check_expression(regex,t)"
   ]
  },
  {
   "cell_type": "markdown",
   "metadata": {},
   "source": [
    "__Solució__:<font color='white'>\n",
    "\n",
    "regex =r\"[a-zA-Z]{6}\\d@((alumn((es)|i))|(docent)|(admin))(\\.ub\\.edu)$\"\n",
    "\n",
    "</font>\n",
    "\n",
    "Doble click per veure'm"
   ]
  },
  {
   "cell_type": "code",
   "execution_count": null,
   "metadata": {
    "collapsed": true
   },
   "outputs": [],
   "source": []
  }
 ],
 "metadata": {
  "anaconda-cloud": {},
  "kernelspec": {
   "display_name": "Python [python3]",
   "language": "python",
   "name": "Python [python3]"
  },
  "language_info": {
   "codemirror_mode": {
    "name": "ipython",
    "version": 3
   },
   "file_extension": ".py",
   "mimetype": "text/x-python",
   "name": "python",
   "nbconvert_exporter": "python",
   "pygments_lexer": "ipython3",
   "version": "3.6.1"
  }
 },
 "nbformat": 4,
 "nbformat_minor": 0
}
