{
 "cells": [
  {
   "cell_type": "code",
   "execution_count": 1,
   "metadata": {},
   "outputs": [],
   "source": [
    "list1= [ 0,1,2,3,4,5]\n",
    "list2= [\"a\",\"b\",\"c\"]\n",
    "list3= \"una frase qualsevol\".split()\n",
    "list4= [0]*10 #[0, 0, 0, 0, 0, 0, 0, 0, 0, 0]\n",
    "list5 = [\"a\"]*5 #['a', 'a', 'a', 'a', 'a']\n",
    "list6 = [i for i in range(5)] #[0, 1, 2, 3, 4]\n",
    "list7 = [i*i for i in range(11)] # va del 1 al 11 multiplicandose a si mismo (hacer el cuadrado)\n",
    "list8 = []\n",
    "list9 = []\n",
    "list10 = list9[:]"
   ]
  },
  {
   "cell_type": "code",
   "execution_count": 2,
   "metadata": {},
   "outputs": [
    {
     "name": "stdout",
     "output_type": "stream",
     "text": [
      "[]\n"
     ]
    }
   ],
   "source": [
    "print(list9)"
   ]
  },
  {
   "cell_type": "code",
   "execution_count": 3,
   "metadata": {},
   "outputs": [
    {
     "name": "stdout",
     "output_type": "stream",
     "text": [
      "[0, 1, 4, 9, 16, 25, 36, 49, 64, 81, 100]\n"
     ]
    }
   ],
   "source": [
    "for i in range(11):\n",
    "    list9.append(i*i)\n",
    "print(list9)"
   ]
  },
  {
   "cell_type": "code",
   "execution_count": 4,
   "metadata": {},
   "outputs": [
    {
     "name": "stdout",
     "output_type": "stream",
     "text": [
      "[]\n"
     ]
    }
   ],
   "source": [
    "print(list8)"
   ]
  },
  {
   "cell_type": "code",
   "execution_count": 5,
   "metadata": {},
   "outputs": [
    {
     "name": "stdout",
     "output_type": "stream",
     "text": [
      "[]\n"
     ]
    }
   ],
   "source": [
    "print (list10)"
   ]
  },
  {
   "cell_type": "code",
   "execution_count": 6,
   "metadata": {},
   "outputs": [
    {
     "name": "stdout",
     "output_type": "stream",
     "text": [
      "[0, 1, 4, 9, 16, 25, 36, 49, 64, 81, 100]\n",
      "9\n",
      "81\n",
      "[0, 1, 4, 9, 16]\n",
      "[25, 36, 49, 64, 81, 100]\n",
      "[64, 36, 16]\n"
     ]
    }
   ],
   "source": [
    "print(list7)\n",
    "print(list7[3])\n",
    "print(list7[-2])\n",
    "print(list7[:5]) # 5 primers nums\n",
    "print(list7[5:]) # 5 ultims elements de la llista\n",
    "print(list7[8:3:-2]) # igual que el range"
   ]
  },
  {
   "cell_type": "code",
   "execution_count": 7,
   "metadata": {},
   "outputs": [
    {
     "name": "stdout",
     "output_type": "stream",
     "text": [
      "(1, 2, 'a', 'b', 4)\n",
      "1\n",
      "2\n",
      "a\n",
      "b\n",
      "4\n"
     ]
    }
   ],
   "source": [
    "new_list = (1,2,\"a\",\"b\",4)\n",
    "print (new_list)\n",
    "for elm in new_list:\n",
    "    print(elm)"
   ]
  },
  {
   "cell_type": "code",
   "execution_count": 8,
   "metadata": {},
   "outputs": [
    {
     "name": "stdout",
     "output_type": "stream",
     "text": [
      "[0, 1, 4, 9, 16, 25, 36, 49, 64, 81, 100]\n",
      "385\n"
     ]
    }
   ],
   "source": [
    "# suma dels elements d'una llista\n",
    "print (list7)\n",
    "suma = 0\n",
    "for i in list7:\n",
    "    suma = suma + i\n",
    "    #si lo imprimo dentro se imprimira como lista\n",
    "print(suma) #se imprime el resultado total\n",
    "    \n",
    "    "
   ]
  },
  {
   "cell_type": "code",
   "execution_count": 9,
   "metadata": {},
   "outputs": [
    {
     "name": "stdout",
     "output_type": "stream",
     "text": [
      "(0, 1, -5, 8, -6, 7, 5, -2)\n",
      "21\n"
     ]
    }
   ],
   "source": [
    "llista = (0,1,-5,8,-6,7,5,-2)\n",
    "suma = 0\n",
    "print (llista)\n",
    "for i in llista:\n",
    "    if i > 0:\n",
    "        suma = suma+i\n",
    "print (suma)"
   ]
  },
  {
   "cell_type": "code",
   "execution_count": 10,
   "metadata": {},
   "outputs": [
    {
     "name": "stdout",
     "output_type": "stream",
     "text": [
      "(0, 1, -5, 8, -6, 7, 5, -2)\n",
      "21\n"
     ]
    }
   ],
   "source": [
    "l = (0,1,-5,8,-6,7,5,-2)\n",
    "def suma_positius(llista):\n",
    "    suma = 0\n",
    "    print (llista)\n",
    "    for i in llista:\n",
    "        if i > 0:\n",
    "            suma = suma+i\n",
    "    print (suma)\n",
    "suma_positius(l)"
   ]
  },
  {
   "cell_type": "code",
   "execution_count": 11,
   "metadata": {},
   "outputs": [
    {
     "name": "stdout",
     "output_type": "stream",
     "text": [
      "5\n"
     ]
    }
   ],
   "source": [
    "def funcio (x):\n",
    "    print (x)\n",
    "funcio (5)\n",
    "    "
   ]
  },
  {
   "cell_type": "code",
   "execution_count": 12,
   "metadata": {},
   "outputs": [
    {
     "name": "stdout",
     "output_type": "stream",
     "text": [
      "0\n",
      "8\n",
      "-6\n",
      "-2\n"
     ]
    }
   ],
   "source": [
    "#buscar nombres que son divisibles  per un cert nombre\n",
    "def div(llista, num):\n",
    "    for i in llista:\n",
    "        if i%num == 0:\n",
    "            print(i)\n",
    "        \n",
    "div(l,2)"
   ]
  },
  {
   "cell_type": "code",
   "execution_count": 27,
   "metadata": {},
   "outputs": [
    {
     "name": "stdout",
     "output_type": "stream",
     "text": [
      "0\n",
      "1\n",
      "3\n",
      "4\n"
     ]
    }
   ],
   "source": [
    "#funcio que donats una llista donats uns numeros imprimeixi els numeros que estan entre el aquests dos\n",
    "l = (0,1,-5,3,4,8,-6,7,5,-2)\n",
    "def filtrar(llista,num1,num2):\n",
    "    for i in l:\n",
    "        if i>num1 and i<num2:\n",
    "            print(i)\n",
    "filtrar(l,-1,5)"
   ]
  },
  {
   "cell_type": "code",
   "execution_count": 29,
   "metadata": {},
   "outputs": [
    {
     "ename": "SyntaxError",
     "evalue": "invalid syntax (<ipython-input-29-acd2afe36353>, line 4)",
     "output_type": "error",
     "traceback": [
      "\u001b[1;36m  File \u001b[1;32m\"<ipython-input-29-acd2afe36353>\"\u001b[1;36m, line \u001b[1;32m4\u001b[0m\n\u001b[1;33m    for i in range llista:\u001b[0m\n\u001b[1;37m                        ^\u001b[0m\n\u001b[1;31mSyntaxError\u001b[0m\u001b[1;31m:\u001b[0m invalid syntax\n"
     ]
    }
   ],
   "source": [
    "#donat una llista de paraules, generar tots el strings mes el seguents\n",
    "llista = [\"Hola\",\"a\",\"tots\",\"els\",\"estudiants\",\"de\",\"la\",\"classe\"]\n",
    "print(\"Hola\"+\"aaaa\")\n",
    "for i in range llista:\n",
    "    llista = llista +i"
   ]
  },
  {
   "cell_type": "code",
   "execution_count": null,
   "metadata": {
    "collapsed": true
   },
   "outputs": [],
   "source": []
  }
 ],
 "metadata": {
  "kernelspec": {
   "display_name": "Python 3",
   "language": "python",
   "name": "python3"
  },
  "language_info": {
   "codemirror_mode": {
    "name": "ipython",
    "version": 3
   },
   "file_extension": ".py",
   "mimetype": "text/x-python",
   "name": "python",
   "nbconvert_exporter": "python",
   "pygments_lexer": "ipython3",
   "version": "3.6.1"
  }
 },
 "nbformat": 4,
 "nbformat_minor": 2
}
