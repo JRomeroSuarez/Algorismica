{
 "cells": [
  {
   "cell_type": "markdown",
   "metadata": {},
   "source": [
    "# Correcció exercici 3 \n",
    "<br>\n",
    "Volem el nombre $n$ __més gran__ que compleix:<br><br>\n",
    "1. $n<10.000$\n",
    "2. $n=m^2$ per un cert $m$\n",
    "3. $n=k!+1$ per un cert $k$ "
   ]
  },
  {
   "cell_type": "markdown",
   "metadata": {},
   "source": [
    "Primer ens construïm una llista amb els nombres factorials<br>\n",
    "El paquet __math__ ja ens permet calcular-ho:"
   ]
  },
  {
   "cell_type": "code",
   "execution_count": 1,
   "metadata": {
    "collapsed": true
   },
   "outputs": [],
   "source": [
    "import math"
   ]
  },
  {
   "cell_type": "markdown",
   "metadata": {},
   "source": [
    "__Important!__: Si després d'__executar__ l'_import_ anteior fem escrivim: math. (important el . final) i premem la tecla tabulador, veureu com es despleguen les funcions que conté aquesta llibreria."
   ]
  },
  {
   "cell_type": "code",
   "execution_count": null,
   "metadata": {},
   "outputs": [],
   "source": [
    "# Fem el range fins a 8 ja que el següent passa de 10.000\n",
    "lst = [math.factorial(f)+1 for f in range(8)]\n",
    "print(lst)"
   ]
  },
  {
   "cell_type": "markdown",
   "metadata": {},
   "source": [
    "Tot i que sempre ens podem fer una funció que multipliqui tots els nombres anteriors a un de donat:"
   ]
  },
  {
   "cell_type": "code",
   "execution_count": null,
   "metadata": {},
   "outputs": [],
   "source": [
    "lst = []\n",
    "for num in range(9):\n",
    "    p = 1\n",
    "    for i in range(2,num+1):\n",
    "        p*=i\n",
    "    lst.append(p+1)\n",
    "print(lst)"
   ]
  },
  {
   "cell_type": "markdown",
   "metadata": {},
   "source": [
    "Com hem implementat a classe, ens quedaria:"
   ]
  },
  {
   "cell_type": "code",
   "execution_count": 4,
   "metadata": {},
   "outputs": [
    {
     "data": {
      "text/plain": [
       "5041"
      ]
     },
     "execution_count": 4,
     "metadata": {},
     "output_type": "execute_result"
    }
   ],
   "source": [
    "import math\n",
    "def quadrat():\n",
    "    lst = [math.factorial(f)+1 for f in range(8)]\n",
    "    \n",
    "    # Comencem amb el nombre 100 ja que 100*2 = 10.000 \n",
    "    num=100\n",
    "    \n",
    "    # Si el nombre no està a la llista, anem restant 1\n",
    "    while num**2 not in lst:\n",
    "        num-=1\n",
    "    \n",
    "    # Finalment retornem la primera coincidència\n",
    "    return num**2\n",
    "\n",
    "quadrat()"
   ]
  },
  {
   "cell_type": "markdown",
   "metadata": {},
   "source": [
    "Com també hem comentat, podriem pensar-ho també començant des del principi:"
   ]
  },
  {
   "cell_type": "code",
   "execution_count": 3,
   "metadata": {},
   "outputs": [
    {
     "data": {
      "text/plain": [
       "([25, 121, 5041], 5041)"
      ]
     },
     "execution_count": 3,
     "metadata": {},
     "output_type": "execute_result"
    }
   ],
   "source": [
    "import math\n",
    "def quadrat():\n",
    "    lst = [math.factorial(f)+1 for f in range(8)]\n",
    "    res = []\n",
    "    \n",
    "    # Comprovarem fins l'arrel quadrada del màxim número, 10.000\n",
    "    for i in range(101):\n",
    "        \n",
    "        # Comprovem si el quadrat està a la llista de factorials\n",
    "        if i**2 in lst:\n",
    "            res.append(i**2)\n",
    "            \n",
    "    return res, res[-1]\n",
    "\n",
    "quadrat()"
   ]
  },
  {
   "cell_type": "markdown",
   "metadata": {},
   "source": [
    "<br><br>"
   ]
  },
  {
   "cell_type": "markdown",
   "metadata": {},
   "source": [
    "# Exercicis similars per practicar"
   ]
  },
  {
   "cell_type": "markdown",
   "metadata": {},
   "source": [
    "Com ja us vam comentar en el Notebook 6, en l'enllaç següent: https://www.gaussianos.com/tipos-de-numeros/ podem trobar diferents tipus de números. La mentalitat per crear-ne llistes o comprovar si un número és d'un cert tipus, és del mateix nivell que se us demanava a l'examen.<br><br>\n",
    "En veurem alguns exemples:"
   ]
  },
  {
   "cell_type": "markdown",
   "metadata": {},
   "source": [
    "### Número Apocalíptic\n",
    "Un número, _x_, es diu __apocalíptic__ si es compleix que $2^x$ conté la seqüència 666. Es demana: <br>\n",
    "1. Quins dels següents números són apocalíptics?: 157, 180, 192<br>\n",
    "2. Dóna una llista amb tots els nombres apocalíptics entre 100 i 300 <br>\n",
    "3. Quants números apocalíptics hi ha menors a 5.000?"
   ]
  },
  {
   "cell_type": "code",
   "execution_count": 6,
   "metadata": {},
   "outputs": [
    {
     "name": "stdout",
     "output_type": "stream",
     "text": [
      "True\n",
      "False\n",
      "True\n"
     ]
    }
   ],
   "source": [
    "def apocaliptic(num):\n",
    "    st = str(2**num)\n",
    "    return \"666\" in st\n",
    "\n",
    "print(apocaliptic(157))\n",
    "print(apocaliptic(180))\n",
    "print(apocaliptic(192))"
   ]
  },
  {
   "cell_type": "code",
   "execution_count": 7,
   "metadata": {},
   "outputs": [
    {
     "name": "stdout",
     "output_type": "stream",
     "text": [
      "[157, 192, 218, 220, 222, 224, 226, 243, 245, 247, 251, 278, 285, 286, 287]\n",
      "2253\n"
     ]
    }
   ],
   "source": [
    "def lst_apocaliptics(mi,ma):\n",
    "    return [num for num in range(mi,ma+1) if apocaliptic(num)]\n",
    "\n",
    "print(lst_apocaliptics(100,300))\n",
    "print(len(lst_apocaliptics(0,5000)))\n"
   ]
  },
  {
   "cell_type": "markdown",
   "metadata": {},
   "source": [
    "<br>\n",
    "### Número Feliç\n",
    "Un número, _x_, es diu __feliç__ si la suma dels quadrats dels seus dígits (fins que només quedi una xifra), és 1<br>\n",
    "Exemple: <br>\n",
    "<center>203: $2^2+0^2+3^2 = 13$</center> <center>13: $1^2 +3^2 = 10$</center> <center>10: $1^2 +0^2 = 1$ </center>\n",
    "<br>Així doncs 203 és un nombre feliç. (En particular, també ho són el 13 i el 10)<br><br>\n",
    "Seguint el mateix esquema que l'exercici anterior:\n",
    "1. Comproveu si els nombres: 921, 717, 2039, són nombres feliços\n",
    "2. Quants nombres feliços hi ha fins a 3.000?\n",
    "3. Si el primer nombre feliç és l'1, quin és el nombre feliç número 1234? (Fer servir _while_)\n",
    "4. Hi ha algun número feliç que sigui apocalíptic menor a 1000? Quants? Quins són?"
   ]
  },
  {
   "cell_type": "code",
   "execution_count": 9,
   "metadata": {},
   "outputs": [
    {
     "name": "stdout",
     "output_type": "stream",
     "text": [
      "True\n",
      "False\n",
      "True\n"
     ]
    }
   ],
   "source": [
    "def feliç(num):\n",
    "    ini = num\n",
    "    while len(str(num))!=1:\n",
    "        suma = 0\n",
    "        for elm in str(num):              \n",
    "            suma+=int(elm)**2            \n",
    "        num = suma\n",
    "    return num==1\n",
    "    \n",
    "print(feliç(921))\n",
    "print(feliç(717))\n",
    "print(feliç(2039))"
   ]
  },
  {
   "cell_type": "markdown",
   "metadata": {},
   "source": [
    "# Exercics (propera sessió)"
   ]
  },
  {
   "cell_type": "markdown",
   "metadata": {},
   "source": [
    "Implementar els punts 2, 3 i 4 de l'exercici anterior."
   ]
  }
 ],
 "metadata": {
  "anaconda-cloud": {},
  "kernelspec": {
   "display_name": "Python 3",
   "language": "python",
   "name": "python3"
  },
  "language_info": {
   "codemirror_mode": {
    "name": "ipython",
    "version": 3
   },
   "file_extension": ".py",
   "mimetype": "text/x-python",
   "name": "python",
   "nbconvert_exporter": "python",
   "pygments_lexer": "ipython3",
   "version": "3.6.3"
  }
 },
 "nbformat": 4,
 "nbformat_minor": 1
}
