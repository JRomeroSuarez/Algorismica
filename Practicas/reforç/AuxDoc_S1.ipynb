{
 "cells": [
  {
   "cell_type": "markdown",
   "metadata": {},
   "source": [
    "## FUNCIONS\n",
    "\n",
    "Hem vist que el codi s'estructura en funcions. Són un tros de codi que no s'executa\n",
    "fins que no en fem la crida específicament."
   ]
  },
  {
   "cell_type": "code",
   "execution_count": 1,
   "metadata": {
    "collapsed": true
   },
   "outputs": [],
   "source": [
    "def funcio1():\n",
    "    print(\"hola\")\n",
    "    \n",
    "def funcio2():\n",
    "    print(\"a\")"
   ]
  },
  {
   "cell_type": "code",
   "execution_count": 2,
   "metadata": {},
   "outputs": [
    {
     "name": "stdout",
     "output_type": "stream",
     "text": [
      "hola\n",
      "a\n",
      "hola\n"
     ]
    }
   ],
   "source": [
    "funcio1()\n",
    "funcio2()\n",
    "funcio1()"
   ]
  },
  {
   "cell_type": "markdown",
   "metadata": {},
   "source": [
    "## ÚS DE PARÀMETRES\n",
    "Tot seguit veurem un exemple d'una funció sense paràmetres i d'una funció amb paràmetres.\n",
    "En la primera: _suma()_ podem veure que els únics nombres que podem sumar són el 3 i el 5."
   ]
  },
  {
   "cell_type": "code",
   "execution_count": 3,
   "metadata": {
    "collapsed": true
   },
   "outputs": [],
   "source": [
    "def suma():\n",
    "    var1=5\n",
    "    var2=3\n",
    "    suma_nombres=var1+var2\n",
    "    print(suma_nombres)"
   ]
  },
  {
   "cell_type": "code",
   "execution_count": 4,
   "metadata": {},
   "outputs": [
    {
     "name": "stdout",
     "output_type": "stream",
     "text": [
      "8\n"
     ]
    }
   ],
   "source": [
    "suma()"
   ]
  },
  {
   "cell_type": "markdown",
   "metadata": {},
   "source": [
    "En canvi, en aquest segon exemple podem sumar 3 i 5 com ho feiem abans o qualsevol altres dos nombres ja que no estan com a variables dins a la funció."
   ]
  },
  {
   "cell_type": "code",
   "execution_count": 5,
   "metadata": {
    "collapsed": true
   },
   "outputs": [],
   "source": [
    "def suma_parametres (var1,var2):\n",
    "    print(var1+var2)"
   ]
  },
  {
   "cell_type": "code",
   "execution_count": 6,
   "metadata": {},
   "outputs": [
    {
     "name": "stdout",
     "output_type": "stream",
     "text": [
      "8\n",
      "3\n"
     ]
    }
   ],
   "source": [
    "suma_parametres(3,5)\n",
    "suma_parametres(1,2)"
   ]
  },
  {
   "cell_type": "markdown",
   "metadata": {},
   "source": [
    "## STRING\n",
    "Aquí veiem l'accés als strings. Hem de tenir en compte que la primera posició sempre és la 0, així doncs si comptem, la posició 3 correspon al caràcter _o_."
   ]
  },
  {
   "cell_type": "markdown",
   "metadata": {},
   "source": [
    "També podem dir-li que ens retorni totes les posicions fins a la posició 2 (_Ex2_). Això es pot escriure de vàries formes. Sempre usarem _[start : stop : step]_ tot i que, si no posem res sempre serà _start=0_ i _step=1_"
   ]
  },
  {
   "cell_type": "markdown",
   "metadata": {},
   "source": [
    "També podem començar des del final usant nombres negatius. En Ex4 podem demanar les posicions des de la -2 fins al final."
   ]
  },
  {
   "cell_type": "code",
   "execution_count": 7,
   "metadata": {},
   "outputs": [
    {
     "name": "stdout",
     "output_type": "stream",
     "text": [
      "Ex1:  o\n",
      "Ex2:  al al al\n",
      "Ex3:  grsi\n",
      "Ex4:  ca\n"
     ]
    }
   ],
   "source": [
    "s1 = \"algorismica\"\n",
    "print (\"Ex1: \",s1[3])\n",
    "print(\"Ex2: \",s1[:2],s1[0:2],s1[0:2:1])\n",
    "print(\"Ex3: \",s1[2:9:2])\n",
    "print(\"Ex4: \",s1[-2:])"
   ]
  },
  {
   "cell_type": "markdown",
   "metadata": {},
   "source": [
    "## BOOLEANS\n",
    "Les expressions booleanes són aquelles que poden resutar certes (_True_) o falses (_False_)."
   ]
  },
  {
   "cell_type": "code",
   "execution_count": 8,
   "metadata": {},
   "outputs": [
    {
     "name": "stdout",
     "output_type": "stream",
     "text": [
      "False\n"
     ]
    }
   ],
   "source": [
    "print(8<5)"
   ]
  },
  {
   "cell_type": "markdown",
   "metadata": {},
   "source": [
    "Usarem el comparadors: <, >, ==, <=, >=, així com altres comandes com _and_ i _or_ que veurem més endavant."
   ]
  },
  {
   "cell_type": "code",
   "execution_count": 9,
   "metadata": {
    "collapsed": true
   },
   "outputs": [],
   "source": [
    "def compara(var1,var2):\n",
    "    print(var1<var2)"
   ]
  },
  {
   "cell_type": "code",
   "execution_count": 10,
   "metadata": {},
   "outputs": [
    {
     "name": "stdout",
     "output_type": "stream",
     "text": [
      "False\n",
      "True\n"
     ]
    }
   ],
   "source": [
    "compara(5,4)\n",
    "compara(1,3)"
   ]
  },
  {
   "cell_type": "markdown",
   "metadata": {},
   "source": [
    "## CONDICIONALS\n",
    "En la mateixa línia del que hem vist en la funció _compara()_ anterior, podem usar el resultat de la comparació per executar una part de codi o bé una altra."
   ]
  },
  {
   "cell_type": "markdown",
   "metadata": {},
   "source": [
    "Per fer-ho, usarem les instruccions _if, elif, else_. L'estructura més simple és _if-else_ que podem veure a continuació."
   ]
  },
  {
   "cell_type": "code",
   "execution_count": 11,
   "metadata": {},
   "outputs": [],
   "source": [
    "def condicional(var1,var2):\n",
    "    if var1>var2 :\n",
    "        print(\"El nombre es major\")\n",
    "    else:\n",
    "        print(\"El nombre és menor\")\n",
    "        "
   ]
  },
  {
   "cell_type": "code",
   "execution_count": 12,
   "metadata": {},
   "outputs": [
    {
     "name": "stdout",
     "output_type": "stream",
     "text": [
      "El nombre es major\n",
      "El nombre és menor\n"
     ]
    }
   ],
   "source": [
    "condicional(4,3)\n",
    "condicional(1,5)"
   ]
  },
  {
   "cell_type": "markdown",
   "metadata": {},
   "source": [
    "## EXERCICI (Resolt a classe)"
   ]
  },
  {
   "cell_type": "markdown",
   "metadata": {},
   "source": [
    "Es demana, donats quatre nombres, comprovar si la suma dels dos primers és més gran que la suma dels dos darrers. Hem de tenir en compte també el cas que siguin iguals!"
   ]
  },
  {
   "cell_type": "markdown",
   "metadata": {},
   "source": [
    "Feu doble clic a sobre de la paraula HINT que vulguis per veure informació addicional per si no us surt"
   ]
  },
  {
   "cell_type": "markdown",
   "metadata": {},
   "source": [
    "HINT1: <Pensa bé quants paràmetres ha de tenir la funció i, en primer lloc, pots provar de mostrar les dues sumes.>"
   ]
  },
  {
   "cell_type": "markdown",
   "metadata": {},
   "source": [
    "HINT2: <Tingues en compte que hauras de fer servir booleans>"
   ]
  },
  {
   "cell_type": "markdown",
   "metadata": {},
   "source": [
    "HINT3: <Per fer les comparacions, utilitza les estructures de control if-elif-else>"
   ]
  },
  {
   "cell_type": "code",
   "execution_count": 4,
   "metadata": {},
   "outputs": [],
   "source": [
    "def comprova(a,b,c,d):\n",
    "    if a+b > c+d:\n",
    "        print(a,\"+\",b,\"es major\")\n",
    "    elif a+b == c+d:\n",
    "        print(\"Son iguals \")\n",
    "    else:\n",
    "        print(c,\"+\",d,\"es major\")\n",
    "        \n",
    "\n",
    "\n",
    "# Fes aquí la teva funció\n",
    "# Com a últim recurs, la tens implementada al final de tot d'aquest notebook"
   ]
  },
  {
   "cell_type": "code",
   "execution_count": 6,
   "metadata": {},
   "outputs": [
    {
     "name": "stdout",
     "output_type": "stream",
     "text": [
      "4 + 5 es major\n",
      "4 + 5 es major\n",
      "Son iguals \n"
     ]
    }
   ],
   "source": [
    "# Comprova aquí el seu funcionament. Genera tres casos tal que:\n",
    "comprova(4,5,2,3)# 1. El nombre més gran sigui la suma dels dos primers\n",
    "comprova(2,3,4,5)# 2. El nombre més gran sigui la suma dels dos darrers\n",
    "comprova(2,1,1,2)# 3. Els dos primers i els dos darrers sumin el mateix"
   ]
  },
  {
   "cell_type": "markdown",
   "metadata": {},
   "source": [
    "<br>||<br>||<br>||<br>||<br>||<br>||<br>||<br>||<br>||<br>||<br>||<br>||<br>||<br>||<br>||<br>V"
   ]
  },
  {
   "cell_type": "markdown",
   "metadata": {},
   "source": [
    "# SOLUCIÓ"
   ]
  },
  {
   "cell_type": "code",
   "execution_count": 15,
   "metadata": {
    "collapsed": true
   },
   "outputs": [],
   "source": [
    "def comprova(a, b, c, d):\n",
    "    if a+b > c+d:\n",
    "        print(a,\"+\",b,\"és més gran\")\n",
    "    elif a+b == c+d:\n",
    "        print(\"Són iguals\")\n",
    "    else:\n",
    "        print(c,\"+\",d,\"és més gran\")"
   ]
  },
  {
   "cell_type": "code",
   "execution_count": 16,
   "metadata": {},
   "outputs": [
    {
     "name": "stdout",
     "output_type": "stream",
     "text": [
      "4 + 3 és més gran\n",
      "5 + 4 és més gran\n",
      "Són iguals\n"
     ]
    }
   ],
   "source": [
    "comprova(4,3,1,4)\n",
    "comprova(1,2,5,4)\n",
    "comprova(1,7,3,5)"
   ]
  }
 ],
 "metadata": {
  "anaconda-cloud": {},
  "kernelspec": {
   "display_name": "Python 3",
   "language": "python",
   "name": "python3"
  },
  "language_info": {
   "codemirror_mode": {
    "name": "ipython",
    "version": 3
   },
   "file_extension": ".py",
   "mimetype": "text/x-python",
   "name": "python",
   "nbconvert_exporter": "python",
   "pygments_lexer": "ipython3",
   "version": "3.6.1"
  }
 },
 "nbformat": 4,
 "nbformat_minor": 1
}
