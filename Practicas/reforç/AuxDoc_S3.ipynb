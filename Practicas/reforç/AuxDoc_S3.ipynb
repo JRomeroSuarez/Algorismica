{
 "cells": [
  {
   "cell_type": "markdown",
   "metadata": {},
   "source": [
    "## SOLUCIONS (Problemes plantejats l'últim dia)\n",
    "\n",
    "Dues solucions diferents del mateix problema plantejat l'últim dia<br>\n",
    "Com hem comentat a classe, aquest problema no era senzill però era un petit repte per a que penséssiu amb l'algorisme més que amb el codi.<br><br>\n",
    "Remarquem les coses més importants que hem comentat:\n",
    "<br>\n",
    "1. Com que volem incloure l'últim nombre (en aquest exemple, el 8), ens cal posar +1 a la condició de parada (Recordeu que el for mai pren l'últim element)<br>\n",
    "2. No només hem d'escriure un caràcter a cada fila, per tant, ens cal recórrer-la 'horitzontalment'. Per fer això, podem utitlitzar un altre for com a la funció _print_numbers()_ o bé utilitzar la repetició de caràcters com en la funció _print_numbers2()_\n",
    "3. Per últim, cal pensar també quan imprimir cada símbol. Com que es van alternant, en les línies parelles imprimirem el caràcter '*' i en les senars, el caràcter '='"
   ]
  },
  {
   "cell_type": "code",
   "execution_count": 1,
   "metadata": {
    "collapsed": true
   },
   "outputs": [],
   "source": [
    "def print_numbers(start, stop):\n",
    "    for i in range(start, stop+1):        \n",
    "        for j in range(i):\n",
    "            if i%2==0:\n",
    "                print(\"*\", end=\"\")\n",
    "            else:\n",
    "                print(\"=\", end=\"\")\n",
    "        print()"
   ]
  },
  {
   "cell_type": "code",
   "execution_count": 2,
   "metadata": {},
   "outputs": [
    {
     "name": "stdout",
     "output_type": "stream",
     "text": [
      "=====\n",
      "******\n",
      "=======\n",
      "********\n"
     ]
    }
   ],
   "source": [
    "print_numbers(5,8)"
   ]
  },
  {
   "cell_type": "code",
   "execution_count": 12,
   "metadata": {
    "collapsed": true
   },
   "outputs": [],
   "source": [
    "def print_numbers2(st, op):\n",
    "    for i in range(st, op+1):\n",
    "        if i%2==0:\n",
    "            print(i*\"*\")\n",
    "        else:\n",
    "            print(i*\"=\")\n"
   ]
  },
  {
   "cell_type": "code",
   "execution_count": 13,
   "metadata": {},
   "outputs": [
    {
     "name": "stdout",
     "output_type": "stream",
     "text": [
      "=====\n",
      "******\n",
      "=======\n",
      "********\n"
     ]
    }
   ],
   "source": [
    "print_numbers2(5,8)"
   ]
  },
  {
   "cell_type": "markdown",
   "metadata": {},
   "source": [
    "Hem estat comentant com fer el programa de l'arbre, és a dir que, donat un nombre ens imprimeixi una cosa com ara: <br>\n",
    "<center>\\*<br>\\*\\*\\*<br>\\*\\*\\*\\*\\*<br></center><br>\n",
    "Hem arribat a la següent aproximació (de dues formes diferents) però hem deixat com a exercici per al proper dia, acabar-ho:"
   ]
  },
  {
   "cell_type": "code",
   "execution_count": 44,
   "metadata": {
    "collapsed": true
   },
   "outputs": [],
   "source": [
    "def tree_aprox(x):\n",
    "    for i in range(1,x+1,2):\n",
    "        print(i*\"*\")"
   ]
  },
  {
   "cell_type": "code",
   "execution_count": 49,
   "metadata": {},
   "outputs": [
    {
     "name": "stdout",
     "output_type": "stream",
     "text": [
      "*\n",
      "***\n",
      "*****\n",
      "*******\n"
     ]
    }
   ],
   "source": [
    "tree_aprox(7)"
   ]
  },
  {
   "cell_type": "code",
   "execution_count": 46,
   "metadata": {
    "collapsed": true
   },
   "outputs": [],
   "source": [
    "def tree_aprox2(x):\n",
    "    for i in range(1,x+1,2):\n",
    "        for j in range(i):\n",
    "            print(\"*\", end=\"\")\n",
    "        print()"
   ]
  },
  {
   "cell_type": "code",
   "execution_count": 48,
   "metadata": {},
   "outputs": [
    {
     "name": "stdout",
     "output_type": "stream",
     "text": [
      "*\n",
      "***\n",
      "*****\n",
      "*******\n"
     ]
    }
   ],
   "source": [
    "tree_aprox2(7)"
   ]
  },
  {
   "cell_type": "markdown",
   "metadata": {},
   "source": [
    "__Pista__: Hem dit que, d'alguna forma, hem de trobar la relació entre el nombre d'espais que hem de mostrar, el nombre x que entrem i el número de línia a la que ens trobem."
   ]
  },
  {
   "cell_type": "markdown",
   "metadata": {},
   "source": [
    "# EXERCICIS (Per a la propera sessió)\n",
    "1. Acabar l'exercici de l'arbre en primer lloc\n",
    "2. Fer un programa que, donat un nombre, ens permeti saber quantes xifres en binari tindria (No es poden fer servir logaritmes, feu-ho simplement amb les funcions que heu après)"
   ]
  },
  {
   "cell_type": "code",
   "execution_count": 51,
   "metadata": {
    "collapsed": true
   },
   "outputs": [],
   "source": [
    "def len_binarize(num):\n",
    "    pass\n",
    "\n",
    "\n",
    "len_binarize(5)\n",
    "# En binari 5 te 3 xifres\n",
    "\n",
    "len_binarize(25)\n",
    "# En binari 25 te 5 xifres"
   ]
  },
  {
   "cell_type": "markdown",
   "metadata": {},
   "source": [
    "Hem donat les següents pistes:\n",
    "1. Pensar en els primers nombres: \n",
    "<center><br>2 = 10, 3 = 11, 4 = 100, 5 = 101, ...</center><br>\n",
    "2. Pensar que el primer nombre amb x xifres, és $2^x$:\n",
    "<center><br>$2^1$ = 2 = 10, $2^2$ = 4 = 100, $2^3$ = 8 = 1000, $2^4 = 16 = 10000$, ...</center><br>"
   ]
  }
 ],
 "metadata": {
  "anaconda-cloud": {},
  "kernelspec": {
   "display_name": "Python 3",
   "language": "python",
   "name": "python3"
  },
  "language_info": {
   "codemirror_mode": {
    "name": "ipython",
    "version": 3
   },
   "file_extension": ".py",
   "mimetype": "text/x-python",
   "name": "python",
   "nbconvert_exporter": "python",
   "pygments_lexer": "ipython3",
   "version": "3.6.3"
  }
 },
 "nbformat": 4,
 "nbformat_minor": 1
}
