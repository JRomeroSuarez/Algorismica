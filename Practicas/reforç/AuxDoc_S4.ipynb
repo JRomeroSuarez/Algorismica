{
 "cells": [
  {
   "cell_type": "markdown",
   "metadata": {},
   "source": [
    "## SOLUCIONS (Problemes plantejats lúltim dia)"
   ]
  },
  {
   "cell_type": "markdown",
   "metadata": {},
   "source": [
    "Aquest problema no l'hem pogut comentar a classe:<br>\n",
    "El que es demanava era fer un programa per saber quantes xifres tindria un cert nombre en binari.<br><br>\n",
    "Ja vam donar moltes pistes sobre el nombre:\n",
    "$$2^{x-1} \\text{és el primer amb } x \\text{ xifres}$$<br>\n",
    "Així que simplement hem d'anar multiplicant per dos fins a sobrepassar el nombre que busquem. També ens guardem quantes iteracions fem en una altra variable."
   ]
  },
  {
   "cell_type": "code",
   "execution_count": 5,
   "metadata": {
    "collapsed": true
   },
   "outputs": [],
   "source": [
    "def len_binarize(num):\n",
    "    i=1\n",
    "    cont=0\n",
    "    while i<num:\n",
    "        i*=2     # Això és el mateix que i = i*2\n",
    "        cont+=1  # Això és el mateix que cont = cont+1\n",
    "        \n",
    "    print(\"En binari\",num,\"te\",cont,\"xifres\")"
   ]
  },
  {
   "cell_type": "code",
   "execution_count": 7,
   "metadata": {},
   "outputs": [
    {
     "name": "stdout",
     "output_type": "stream",
     "text": [
      "En binari 8 te 3 xifres\n"
     ]
    }
   ],
   "source": [
    "len_binarize(25)"
   ]
  },
  {
   "cell_type": "markdown",
   "metadata": {
    "collapsed": true
   },
   "source": [
    " Aquest programa era molt més complicat però ens serveix per entendre a fons l'us del comptador del 'for'. Mireu-lo amb calma i podem comentar-ne les coses que no s'acabin d'entendre.<br>\n",
    " 1. Fem un for iterant des del 1 fins al nombre 'stop'. Com que volem incloure aquest últim, prenem stop+1. Com que cada nivell de l'arbre només té un nombre imparell de signes, incrementem de dos en dos. \n",
    " \n",
    " 2. Al fer i \\* \"\\*\" el que fem és repetir el caràcter \\*, i vegades\n",
    " \n",
    " 3. Abans però, hem d'imprimir uns quants espais. Per saber quants, ens fixem que, com a màxim n'imprimirem la meitat del nombre total stop. Com que aquest és un valor senar, la meitat és stop//2. <br> A cada iteració en voldrem imprimir un de menys però hem de tenir en compte que el comptador de iteracions, la \"i\", va de dos en dos, així que la dividim també per 2"
   ]
  },
  {
   "cell_type": "code",
   "execution_count": 38,
   "metadata": {
    "collapsed": true
   },
   "outputs": [],
   "source": [
    "def tree(stop):\n",
    "    for i in range(1,stop+1,2):\n",
    "        print((stop//2-i//2) * \" \", end=\"\")\n",
    "        print(i*\"*\")"
   ]
  },
  {
   "cell_type": "code",
   "execution_count": 39,
   "metadata": {},
   "outputs": [
    {
     "name": "stdout",
     "output_type": "stream",
     "text": [
      "   *\n",
      "  ***\n",
      " *****\n",
      "*******\n"
     ]
    }
   ],
   "source": [
    "tree(7)"
   ]
  },
  {
   "cell_type": "markdown",
   "metadata": {
    "collapsed": true
   },
   "source": [
    "## LLISTES"
   ]
  },
  {
   "cell_type": "markdown",
   "metadata": {},
   "source": [
    "Aquí podeu veure les diferents inicialitzacions de les llistes que hem vist a classe"
   ]
  },
  {
   "cell_type": "code",
   "execution_count": 40,
   "metadata": {
    "collapsed": true
   },
   "outputs": [],
   "source": [
    "list1 = [0,1,2,3,4]\n",
    "list2 = [\"a\",\"b\",\"c\",\"d\"]\n",
    "list3 = \"Una frase qualsevol\".split(\" \")\n",
    "list4 = [0]*10\n",
    "list5 = [\"a\"]*5\n",
    "list6 = [i for i in range(0,21,2)]\n",
    "list7 = [i*i for i in range(11)]\n",
    "list8 = []\n",
    "list9 = []\n",
    "list10 = list9"
   ]
  },
  {
   "cell_type": "markdown",
   "metadata": {},
   "source": [
    "Podem afegir els elements a una llista de dues formes diferents:"
   ]
  },
  {
   "cell_type": "code",
   "execution_count": 41,
   "metadata": {
    "collapsed": true
   },
   "outputs": [],
   "source": [
    "for elm in list7:\n",
    "    list8.append(elm)\n",
    "    \n",
    "for i in range(len(list7)):\n",
    "    list9.append(list7[i])"
   ]
  },
  {
   "cell_type": "markdown",
   "metadata": {},
   "source": [
    "En els dos casos fem el mateix tot i que en el primer afegim a la list8 i en el segon, a la list9.<br>\n",
    "Aquí podem veure el valor de les llistes:"
   ]
  },
  {
   "cell_type": "code",
   "execution_count": 42,
   "metadata": {},
   "outputs": [
    {
     "name": "stdout",
     "output_type": "stream",
     "text": [
      "1.  [0, 1, 2, 3, 4]\n",
      "2.  ['a', 'b', 'c', 'd']\n",
      "3.  ['Una', 'frase', 'qualsevol']\n",
      "4.  [0, 0, 0, 0, 0, 0, 0, 0, 0, 0]\n",
      "5.  ['a', 'a', 'a', 'a', 'a']\n",
      "6.  [0, 2, 4, 6, 8, 10, 12, 14, 16, 18, 20]\n",
      "7.  [0, 1, 4, 9, 16, 25, 36, 49, 64, 81, 100]\n",
      "8.  [0, 1, 4, 9, 16, 25, 36, 49, 64, 81, 100]\n",
      "9.  [0, 1, 4, 9, 16, 25, 36, 49, 64, 81, 100]\n",
      "10. [0, 1, 4, 9, 16, 25, 36, 49, 64, 81, 100]\n"
     ]
    }
   ],
   "source": [
    "print(\"1. \",list1)\n",
    "print(\"2. \",list2)\n",
    "print(\"3. \",list3)\n",
    "print(\"4. \",list4)\n",
    "print(\"5. \",list5)\n",
    "print(\"6. \",list6)\n",
    "print(\"7. \",list7)\n",
    "print(\"8. \",list8)\n",
    "print(\"9. \",list9)\n",
    "print(\"10.\",list10)"
   ]
  },
  {
   "cell_type": "markdown",
   "metadata": {},
   "source": [
    "Com podeu veure, la list9 i la list10 les hem iniialitzat ambdues buides i, tot i modificar només la list9, la 10 també s'ha vist afectada. Això és degut com hem comentat que les dues variables, internament, apunten al mateix lloc.<br><br>\n",
    "Podeu veure la diferència en copiar la referència o el contingut en el següent exemple:"
   ]
  },
  {
   "cell_type": "code",
   "execution_count": 43,
   "metadata": {},
   "outputs": [
    {
     "name": "stdout",
     "output_type": "stream",
     "text": [
      "1.  [0, 1, 2, 3, 4, 5, 6, 7, 8, 9]\n",
      "2.  [0, 1, 2, 3, 4, 5, 6, 7, 8, 9]\n",
      "3.  []\n"
     ]
    }
   ],
   "source": [
    "list1 = []\n",
    "list2 = list1\n",
    "list3 = list1[:] # Usant [:] només copiem el contingut. Per tant si modifiquem la list3, la list1\n",
    "                 # no es veurà afectada.\n",
    "\n",
    "for i in range(10):\n",
    "    list1.append(i)\n",
    "    \n",
    "print(\"1. \",list1)\n",
    "print(\"2. \",list2)\n",
    "print(\"3. \",list3)"
   ]
  },
  {
   "cell_type": "markdown",
   "metadata": {},
   "source": [
    "També hem vist com funcionava l'accés als elements d'una llista. Hem comentat també que el seu funcionament és idèntic al range:<br><br>\n",
    "<center>range(start,stop,step) __VS__     llista[start:stop:step]</center><br>"
   ]
  },
  {
   "cell_type": "code",
   "execution_count": 44,
   "metadata": {},
   "outputs": [
    {
     "name": "stdout",
     "output_type": "stream",
     "text": [
      "a\n",
      "2\n",
      "b\n",
      "4\n",
      "c\n",
      "6\n",
      "d\n",
      "---\n",
      "1.  6\n",
      "2.  ['a', 2, 'b']\n",
      "3.  [6, 'd']\n",
      "4.  ['b', 'c']\n",
      "5.  [6, 4]\n"
     ]
    }
   ],
   "source": [
    "new_list = [\"a\",2,\"b\",4,\"c\",6,\"d\"]\n",
    "\n",
    "for num in new_list: # Aquesta funció agafa cada cop la variable num com un element de la new_list\n",
    "    print(num)\n",
    "    \n",
    "print(\"---\")\n",
    "\n",
    "print(\"1. \",new_list[5])      # Prenem el 5è element (començant per 0)\n",
    "print(\"2. \",new_list[:3])     # Hem comentat que és el mateix que new_list[0:3:1]\n",
    "print(\"3. \",new_list[5:])     # Prenem tots els elements des del 5è\n",
    "print(\"4. \",new_list[2:6:2])  # Prenem els elements entre el 2n i el 6è, de dos en dos\n",
    "print(\"5. \",new_list[5:1:-2]) # El mateix que l'anterior però en sentit invers"
   ]
  },
  {
   "cell_type": "markdown",
   "metadata": {
    "collapsed": true
   },
   "source": [
    "# EXERCICIS (Resolts a classe)\n",
    "\n",
    "Es demana fer un programa que, sumi tots els elements d'una llista"
   ]
  },
  {
   "cell_type": "code",
   "execution_count": 12,
   "metadata": {
    "collapsed": true
   },
   "outputs": [],
   "source": [
    "some_list = [1,5,7,-5,6,-1,4,7,6,-2,-1,5]"
   ]
  },
  {
   "cell_type": "code",
   "execution_count": 14,
   "metadata": {},
   "outputs": [
    {
     "name": "stdout",
     "output_type": "stream",
     "text": [
      "32\n"
     ]
    }
   ],
   "source": [
    "def sumatori(llista):\n",
    "    suma = 0;\n",
    "    for i in llista:\n",
    "        suma = suma + i\n",
    "    print (suma)\n",
    "\n",
    "sumatori(some_list)"
   ]
  },
  {
   "cell_type": "markdown",
   "metadata": {},
   "source": [
    "Es demana fer un programa que busqui tots els nombres positius i que els sumi"
   ]
  },
  {
   "cell_type": "code",
   "execution_count": 16,
   "metadata": {},
   "outputs": [
    {
     "name": "stdout",
     "output_type": "stream",
     "text": [
      "41\n"
     ]
    }
   ],
   "source": [
    "def sumatori_positius(llista):\n",
    "    suma = 0;\n",
    "    for i in llista:\n",
    "        if i > 0:\n",
    "            suma = suma +i\n",
    "    print (suma)\n",
    "\n",
    "sumatori_positius(some_list)"
   ]
  },
  {
   "cell_type": "markdown",
   "metadata": {},
   "source": [
    "Es demana fer una funció que permeti trobar tots els numeros divisibles per un altre"
   ]
  },
  {
   "cell_type": "code",
   "execution_count": 22,
   "metadata": {},
   "outputs": [
    {
     "name": "stdout",
     "output_type": "stream",
     "text": [
      "6\n",
      "4\n",
      "6\n",
      "-2\n"
     ]
    }
   ],
   "source": [
    "def div (llista, num):\n",
    "    for i in llista:\n",
    "        if i%num == 0:\n",
    "            print (i)\n",
    "            \n",
    "div(some_list, 2)"
   ]
  },
  {
   "cell_type": "markdown",
   "metadata": {},
   "source": [
    "Es demana fer una funció per trobar tots els nombres d'una llista compresos entre dos altres nombres"
   ]
  },
  {
   "cell_type": "code",
   "execution_count": 23,
   "metadata": {},
   "outputs": [
    {
     "name": "stdout",
     "output_type": "stream",
     "text": [
      "1\n",
      "-1\n",
      "4\n",
      "-1\n",
      "0\n"
     ]
    }
   ],
   "source": [
    "def filtrar(llista, num1, num2):\n",
    "    suma = 0;\n",
    "    for i in llista:\n",
    "        if num1<i and i<num2:\n",
    "            print (i)\n",
    "    print(suma)\n",
    "\n",
    "filtrar(some_list, -2,5)"
   ]
  },
  {
   "cell_type": "markdown",
   "metadata": {},
   "source": [
    "# EXERCICIS (Per a la propera sessió)"
   ]
  },
  {
   "cell_type": "markdown",
   "metadata": {},
   "source": [
    "Generar les paraules concatenant d'una llista d'elements<br>"
   ]
  },
  {
   "cell_type": "code",
   "execution_count": 50,
   "metadata": {
    "collapsed": true
   },
   "outputs": [],
   "source": [
    "paraules = [\"Hola\", \"a\", \"tots\", \"els\", \"estudiants\", \"de\", \"la\", \"classe\", \"d'Algorísmica\"]\n",
    "\n",
    "def concatena(llista):\n",
    "    for i in llista():\n",
    "        \n",
    "\n",
    "concatena(paraules)\n",
    "\n",
    "# En aquest cas, ens hauria d'imprimir:\n",
    "\n",
    "# Holaa\n",
    "# atots\n",
    "# totsels\n",
    "# elsestudiants\n",
    "# ..."
   ]
  },
  {
   "cell_type": "markdown",
   "metadata": {},
   "source": [
    "Si feu doble clic sobre les paraules HINT1, HINT2 podreu veure pistes sobre la resolució del problema. <br>Com sempre, intenteu-ho fer vosaltres sols, això només hauria de servir d'ajuda per si no sabeu per on agafar-ho."
   ]
  },
  {
   "cell_type": "markdown",
   "metadata": {},
   "source": [
    "HINT1: <Penseu què passa si fem: for elem in llista>\n",
    "        <Com podríem agafar el següent element?>        \n",
    "        <Pot ser que aquesta opció, doncs, no sigui una bona idea>"
   ]
  },
  {
   "cell_type": "markdown",
   "metadata": {},
   "source": [
    "HINT2: <Així només podrem fer un: for i in range(...)>\n",
    "        <Ara, seguiu vosaltres.>"
   ]
  },
  {
   "cell_type": "markdown",
   "metadata": {},
   "source": [
    "||<br>\n",
    "||<br>\n",
    "||<br>\n",
    "||<br>\n",
    "||<br>\n",
    "||<br>\n",
    "||<br>\n",
    "||<br>\n",
    "||<br>\n",
    "||<br>\n",
    "||<br>\n",
    "||<br>\n",
    "||<br>\n",
    "||<br>\n",
    "V"
   ]
  },
  {
   "cell_type": "markdown",
   "metadata": {
    "collapsed": true
   },
   "source": [
    "# SOLUCIONS"
   ]
  },
  {
   "cell_type": "code",
   "execution_count": 51,
   "metadata": {
    "collapsed": true
   },
   "outputs": [],
   "source": [
    "some_list = [1,5,7,-5,6,-1,4,7,6,-2,-1,5]"
   ]
  },
  {
   "cell_type": "code",
   "execution_count": 52,
   "metadata": {},
   "outputs": [
    {
     "name": "stdout",
     "output_type": "stream",
     "text": [
      "32\n"
     ]
    }
   ],
   "source": [
    "def sumatori(llista):\n",
    "    suma = 0\n",
    "    for elm in llista:\n",
    "        suma = suma + elm\n",
    "\n",
    "    print(suma)\n",
    "\n",
    "sumatori(some_list)"
   ]
  },
  {
   "cell_type": "code",
   "execution_count": 53,
   "metadata": {},
   "outputs": [
    {
     "name": "stdout",
     "output_type": "stream",
     "text": [
      "41\n"
     ]
    }
   ],
   "source": [
    "def sumatori_positius(llista):\n",
    "    suma = 0\n",
    "    for elm in llista:\n",
    "        if elm>0:\n",
    "            suma = suma + elm\n",
    "\n",
    "    print(suma)\n",
    "\n",
    "sumatori_positius(some_list)"
   ]
  },
  {
   "cell_type": "code",
   "execution_count": 54,
   "metadata": {},
   "outputs": [
    {
     "name": "stdout",
     "output_type": "stream",
     "text": [
      "6\n",
      "4\n",
      "6\n",
      "-2\n"
     ]
    }
   ],
   "source": [
    "def div (llista, num):\n",
    "    for elm in llista:\n",
    "        if elm%num==0:\n",
    "            print(elm)\n",
    "            \n",
    "div(some_list, 2)"
   ]
  },
  {
   "cell_type": "code",
   "execution_count": 55,
   "metadata": {},
   "outputs": [
    {
     "name": "stdout",
     "output_type": "stream",
     "text": [
      "1\n",
      "-1\n",
      "4\n",
      "-1\n",
      "0\n"
     ]
    }
   ],
   "source": [
    "def filtrar(llista, num1, num2):\n",
    "    suma = 0\n",
    "    for elm in llista:\n",
    "        if elm>num1 and elm<num2:\n",
    "            print (elm)\n",
    "\n",
    "    print(suma)\n",
    "\n",
    "filtrar(some_list, -2,5)"
   ]
  },
  {
   "cell_type": "code",
   "execution_count": null,
   "metadata": {
    "collapsed": true
   },
   "outputs": [],
   "source": []
  }
 ],
 "metadata": {
  "anaconda-cloud": {},
  "kernelspec": {
   "display_name": "Python 3",
   "language": "python",
   "name": "python3"
  },
  "language_info": {
   "codemirror_mode": {
    "name": "ipython",
    "version": 3
   },
   "file_extension": ".py",
   "mimetype": "text/x-python",
   "name": "python",
   "nbconvert_exporter": "python",
   "pygments_lexer": "ipython3",
   "version": "3.6.3"
  }
 },
 "nbformat": 4,
 "nbformat_minor": 1
}
