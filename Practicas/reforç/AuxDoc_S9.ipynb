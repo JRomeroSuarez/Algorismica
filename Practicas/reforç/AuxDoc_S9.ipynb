{
 "cells": [
  {
   "cell_type": "markdown",
   "metadata": {},
   "source": [
    "# Solucions exercicis (Sessió anterior)\n",
    "<br><br>\n",
    "Ja havíem vist les funcions per determinar si un nombre era apocalíptic:"
   ]
  },
  {
   "cell_type": "code",
   "execution_count": 1,
   "metadata": {},
   "outputs": [
    {
     "name": "stdout",
     "output_type": "stream",
     "text": [
      "True\n",
      "False\n",
      "True\n"
     ]
    }
   ],
   "source": [
    "def apocaliptic(num):\n",
    "    st = str(2**num)\n",
    "    return \"666\" in st\n",
    "\n",
    "print(apocaliptic(157))\n",
    "print(apocaliptic(180))\n",
    "print(apocaliptic(192))"
   ]
  },
  {
   "cell_type": "markdown",
   "metadata": {},
   "source": [
    "<br>\n",
    "### Número Feliç\n",
    "Un número, _x_, es diu __feliç__ si la suma dels quadrats dels seus dígits (fins que només quedi una xifra), és 1<br>\n",
    "Exemple: <br>\n",
    "<center>203: $2^2+0^2+3^2 = 13$</center> <center>13: $1^2 +3^2 = 10$</center> <center>10: $1^2 +0^2 = 1$ </center>\n",
    "<br>Així doncs 203 és un nombre feliç. (En particular, també ho són el 13 i el 10)<br><br>\n",
    "Seguint el mateix esquema que l'exercici anterior:\n",
    "1. Comproveu si els nombres: 921, 717, 2039, són nombres feliços\n",
    "2. Quants nombres feliços hi ha fins a 3.000?\n",
    "3. Si el primer nombre feliç és l'1, quin és el nombre feliç número 1234? (Fer servir _while_)\n",
    "4. Hi ha algun número feliç que sigui apocalíptic menor a 1000? Quants? Quins són?"
   ]
  },
  {
   "cell_type": "markdown",
   "metadata": {},
   "source": [
    "<br> Ja havíem vist la funció per comprovar si un nombre era feliç:"
   ]
  },
  {
   "cell_type": "code",
   "execution_count": 2,
   "metadata": {},
   "outputs": [
    {
     "name": "stdout",
     "output_type": "stream",
     "text": [
      "True\n",
      "False\n",
      "True\n"
     ]
    }
   ],
   "source": [
    "def feliç(num):\n",
    "    ini = num\n",
    "    while len(str(num))!=1:\n",
    "        suma = 0\n",
    "        for elm in str(num):              \n",
    "            suma+=int(elm)**2            \n",
    "        num = suma\n",
    "    return num==1\n",
    "    \n",
    "print(feliç(921))\n",
    "print(feliç(717))\n",
    "print(feliç(2039))"
   ]
  },
  {
   "cell_type": "markdown",
   "metadata": {},
   "source": [
    "<br> Avui hem resolt els punts 2, 3 i 4 de l'exercici proposat:"
   ]
  },
  {
   "cell_type": "code",
   "execution_count": 3,
   "metadata": {},
   "outputs": [
    {
     "data": {
      "text/plain": [
       "437"
      ]
     },
     "execution_count": 3,
     "metadata": {},
     "output_type": "execute_result"
    }
   ],
   "source": [
    "def lst_feliços(n):\n",
    "    lst = [i for i in range(n+1) if feliç(i)]\n",
    "    return len(lst)\n",
    "lst_feliços(3000)"
   ]
  },
  {
   "cell_type": "code",
   "execution_count": 4,
   "metadata": {},
   "outputs": [
    {
     "name": "stdout",
     "output_type": "stream",
     "text": [
      "8487\n"
     ]
    }
   ],
   "source": [
    "def while_feliç(n):\n",
    "    \n",
    "    num=1 # Ens servirar per guardar el número que comprovem\n",
    "    cont=0 # Ens servirà per comptar quants nombres feliços hem detectat\n",
    "    f = 1 # Aquí anirem quardant quin és el nombre feliç\n",
    "    \n",
    "    while(cont<n):\n",
    "        if feliç(num):\n",
    "            f=num\n",
    "            cont+=1\n",
    "        num+=1\n",
    "            \n",
    "    return f\n",
    "\n",
    "print(while_feliç(1234))"
   ]
  },
  {
   "cell_type": "code",
   "execution_count": 5,
   "metadata": {},
   "outputs": [
    {
     "data": {
      "text/plain": [
       "(13, [192, 226, 478, 635, 649, 671, 700, 748, 820, 836, 931, 937, 970])"
      ]
     },
     "execution_count": 5,
     "metadata": {},
     "output_type": "execute_result"
    }
   ],
   "source": [
    "def ambicios_feliç(n):\n",
    "    ambfe = [i for i in range(n) if feliç(i) and apocaliptic(i)]    \n",
    "    return len(ambfe), ambfe\n",
    "ambicios_feliç(1000)"
   ]
  },
  {
   "cell_type": "markdown",
   "metadata": {},
   "source": [
    "<br><br>\n",
    "# Recursivitat"
   ]
  },
  {
   "cell_type": "markdown",
   "metadata": {},
   "source": [
    "Els __algorismes recursius__ utilitzen crides a si mateixos per realitzar, en cada pas, una operació sobre un conjunt més petit.<br>\n",
    "Tot algorisme recursiu ha de tenir dos parts clarament diferenciades:<br>\n",
    "1. __Casos base__ (o casos límit) que corresponen al cas més elemental de tots del qual en coneixem la resposta\n",
    "2. __Casos genèrics__ que generen les crides a la mateixa funció"
   ]
  },
  {
   "cell_type": "markdown",
   "metadata": {},
   "source": [
    "Veiem dos exemples ben senzills:"
   ]
  },
  {
   "cell_type": "markdown",
   "metadata": {},
   "source": [
    "## Exemples"
   ]
  },
  {
   "cell_type": "markdown",
   "metadata": {},
   "source": [
    "* Donat un string, implementar una funció recursiva que en calculi la longitud"
   ]
  },
  {
   "cell_type": "code",
   "execution_count": 1,
   "metadata": {},
   "outputs": [
    {
     "name": "stdout",
     "output_type": "stream",
     "text": [
      "aeroport\n",
      "aeropor\n",
      "aeropo\n",
      "aerop\n",
      "aero\n",
      "aer\n",
      "ae\n",
      "a\n"
     ]
    },
    {
     "data": {
      "text/plain": [
       "8"
      ]
     },
     "execution_count": 1,
     "metadata": {},
     "output_type": "execute_result"
    }
   ],
   "source": [
    "def long_recursiva(string):\n",
    "    \n",
    "    # Cas base, només entrem aquí si no tenim cap string\n",
    "    if string==\"\":\n",
    "        return 0\n",
    "    \n",
    "    print(string)\n",
    "    \n",
    "    # Cas genèric, a cada pas escurça en una posició.\n",
    "    return 1+long_recursiva(string[:-1])\n",
    "\n",
    "long_recursiva(\"aeroport\") # Observerm que es produeixen 8 crides (9 comptant la crida inicial)."
   ]
  },
  {
   "cell_type": "markdown",
   "metadata": {},
   "source": [
    "* Donada una llista, implementar una funció recursiva que permeti sumar els elements parells de la llista"
   ]
  },
  {
   "cell_type": "code",
   "execution_count": 14,
   "metadata": {},
   "outputs": [
    {
     "data": {
      "text/plain": [
       "6"
      ]
     },
     "execution_count": 14,
     "metadata": {},
     "output_type": "execute_result"
    }
   ],
   "source": [
    "def suma_recursiva(llista):\n",
    "    \n",
    "    # Cas base, retornem 0 si la llista és buida\n",
    "    if llista==[]:\n",
    "        return 0\n",
    "    \n",
    "    # Dos casos, un per si el nombre és parell\n",
    "    elif llista[0]%2==0:\n",
    "        return llista[0]+suma_recursiva(llista[1:])\n",
    "    \n",
    "    # L'altre cas per si el nombre no és parell\n",
    "    return(suma_recursiva(llista[1:]))\n",
    "    \n",
    "suma_recursiva([1,2,3,4])"
   ]
  },
  {
   "cell_type": "markdown",
   "metadata": {},
   "source": [
    "<br><br>\n",
    "## Exercicis"
   ]
  },
  {
   "cell_type": "markdown",
   "metadata": {},
   "source": [
    "* Donat un string, implentar una funció recursiva per invertir-lo:<br><br>\n",
    "Per exemple:<br>\n",
    "<center>\n",
    "Entrada: CASA    <br>\n",
    "Sortida: ASAC\n",
    "</center><br>"
   ]
  },
  {
   "cell_type": "code",
   "execution_count": 8,
   "metadata": {},
   "outputs": [],
   "source": [
    "def invertir_recursiu(string):\n",
    "    if string==\"\":\n",
    "        return \"\"\n",
    "    \n",
    "    return string[-1]+invertir_recursiu(string[:-1])\n",
    "\n",
    "assert invertir_recursiu(\"CASA\")==\"ASAC\""
   ]
  },
  {
   "cell_type": "markdown",
   "metadata": {},
   "source": [
    "<br>\n",
    "* Donat un text, implemetar una funció que comprovi si les lletres apareixen __en el mateix ordre que al patró__. Com podeu veure en els exemples, poden no estar seguides."
   ]
  },
  {
   "cell_type": "markdown",
   "metadata": {},
   "source": [
    "<code>buscar_recursiu(\"abecedari\", \"bd\")</code> Ha de retornar __True__ ja que en aquest string, primer ens trobem la lletra __b__ i al cap d'unes quantes lletres, la __d__.<br>\n",
    "<code>buscar_recursiu(\"abecedari\", \"ra\")</code> Ha de retornar __False__ ja que en aquest string, primer ens trobem la lletra __r__ però després ja no apareix la lletra __a__."
   ]
  },
  {
   "cell_type": "code",
   "execution_count": 3,
   "metadata": {},
   "outputs": [],
   "source": [
    "def buscar_recursiu(text, patro):\n",
    "    \n",
    "    ### Casos Base\n",
    "    \n",
    "    if patro==\"\":\n",
    "        return True\n",
    "    \n",
    "    elif text==\"\":\n",
    "        return False\n",
    "    \n",
    "    \n",
    "    ### Casos genèrics\n",
    "    \n",
    "    elif text[0]==patro[0]:\n",
    "        return buscar_recursiu(text[1:],patro[1:])\n",
    "    \n",
    "    else:\n",
    "        return buscar_recursiu(text[1:],patro)\n",
    "    \n",
    "    \n",
    "assert buscar_recursiu(\"abecedari\", \"bd\") == True\n",
    "assert buscar_recursiu(\"abecedari\", \"ri\") == False"
   ]
  },
  {
   "cell_type": "markdown",
   "metadata": {},
   "source": [
    "Com hem comentat, l'algorisme consisteix en \"anar llegint\" del text i, si trobem una coincidència amb la primera lletra del patró, l'eliminem. Quan esgotem el patró, les haurem trobat totes.<br>"
   ]
  },
  {
   "cell_type": "markdown",
   "metadata": {},
   "source": [
    "Observeu també que en els casos base, aquest ordre és important. Si ho féssim al revés, si el patró coincidís amb les últimes lletres del text, retornaria Faalse igualment."
   ]
  },
  {
   "cell_type": "markdown",
   "metadata": {},
   "source": [
    "<br>\n",
    "# Exercicis per a la propera sessió"
   ]
  },
  {
   "cell_type": "markdown",
   "metadata": {},
   "source": [
    "* Donada una matriu, implementar una funció recursiva per sumar-ne tots els elements"
   ]
  },
  {
   "cell_type": "code",
   "execution_count": 4,
   "metadata": {},
   "outputs": [
    {
     "ename": "AssertionError",
     "evalue": "",
     "output_type": "error",
     "traceback": [
      "\u001b[1;31m---------------------------------------------------------------------------\u001b[0m",
      "\u001b[1;31mAssertionError\u001b[0m                            Traceback (most recent call last)",
      "\u001b[1;32m<ipython-input-4-317d1512c5ad>\u001b[0m in \u001b[0;36m<module>\u001b[1;34m()\u001b[0m\n\u001b[0;32m      1\u001b[0m \u001b[1;32mdef\u001b[0m \u001b[0mmatriu_recursiva\u001b[0m\u001b[1;33m(\u001b[0m\u001b[0mmat\u001b[0m\u001b[1;33m)\u001b[0m\u001b[1;33m:\u001b[0m\u001b[1;33m\u001b[0m\u001b[0m\n\u001b[0;32m      2\u001b[0m     \u001b[1;32mpass\u001b[0m\u001b[1;33m\u001b[0m\u001b[0m\n\u001b[1;32m----> 3\u001b[1;33m \u001b[1;32massert\u001b[0m \u001b[0mmatriu_recursiva\u001b[0m\u001b[1;33m(\u001b[0m\u001b[1;33m[\u001b[0m\u001b[1;33m[\u001b[0m\u001b[1;36m1\u001b[0m\u001b[1;33m,\u001b[0m\u001b[1;36m2\u001b[0m\u001b[1;33m]\u001b[0m\u001b[1;33m,\u001b[0m\u001b[1;33m[\u001b[0m\u001b[1;36m3\u001b[0m\u001b[1;33m,\u001b[0m\u001b[1;36m4\u001b[0m\u001b[1;33m]\u001b[0m\u001b[1;33m]\u001b[0m\u001b[1;33m)\u001b[0m\u001b[1;33m==\u001b[0m\u001b[1;36m10\u001b[0m\u001b[1;33m\u001b[0m\u001b[0m\n\u001b[0m",
      "\u001b[1;31mAssertionError\u001b[0m: "
     ]
    }
   ],
   "source": [
    "def matriu_recursiva(mat):\n",
    "    pass\n",
    "assert matriu_recursiva([[1,2],[3,4]])==10"
   ]
  },
  {
   "cell_type": "markdown",
   "metadata": {},
   "source": [
    "* Implementar la funció per determinar si un nombre es feliç usant __dues__ funcions recursives. En aquest cas usarem una funció extra per a calcular la suma de quadrats."
   ]
  },
  {
   "cell_type": "code",
   "execution_count": 6,
   "metadata": {},
   "outputs": [
    {
     "ename": "AssertionError",
     "evalue": "",
     "output_type": "error",
     "traceback": [
      "\u001b[1;31m---------------------------------------------------------------------------\u001b[0m",
      "\u001b[1;31mAssertionError\u001b[0m                            Traceback (most recent call last)",
      "\u001b[1;32m<ipython-input-6-aa15072ad0bc>\u001b[0m in \u001b[0;36m<module>\u001b[1;34m()\u001b[0m\n\u001b[0;32m      5\u001b[0m     \u001b[1;32mpass\u001b[0m\u001b[1;33m\u001b[0m\u001b[0m\n\u001b[0;32m      6\u001b[0m \u001b[1;33m\u001b[0m\u001b[0m\n\u001b[1;32m----> 7\u001b[1;33m \u001b[1;32massert\u001b[0m \u001b[0mfeliç_recursiu\u001b[0m\u001b[1;33m(\u001b[0m\u001b[1;36m921\u001b[0m\u001b[1;33m)\u001b[0m\u001b[1;33m==\u001b[0m\u001b[1;32mTrue\u001b[0m\u001b[1;33m\u001b[0m\u001b[0m\n\u001b[0m\u001b[0;32m      8\u001b[0m \u001b[1;32massert\u001b[0m \u001b[0mfeliç_recursiu\u001b[0m\u001b[1;33m(\u001b[0m\u001b[1;36m717\u001b[0m\u001b[1;33m)\u001b[0m\u001b[1;33m==\u001b[0m\u001b[1;32mFalse\u001b[0m\u001b[1;33m\u001b[0m\u001b[0m\n\u001b[0;32m      9\u001b[0m \u001b[1;32massert\u001b[0m \u001b[0mfeliç_recursiu\u001b[0m\u001b[1;33m(\u001b[0m\u001b[1;36m2039\u001b[0m\u001b[1;33m)\u001b[0m\u001b[1;33m==\u001b[0m\u001b[1;32mTrue\u001b[0m\u001b[1;33m\u001b[0m\u001b[0m\n",
      "\u001b[1;31mAssertionError\u001b[0m: "
     ]
    }
   ],
   "source": [
    "def feliç_suma_rec(num):\n",
    "    pass\n",
    "\n",
    "def feliç_recursiu(num):\n",
    "    pass\n",
    "    \n",
    "assert feliç_recursiu(921)==True\n",
    "assert feliç_recursiu(717)==False\n",
    "assert feliç_recursiu(2039)==True"
   ]
  }
 ],
 "metadata": {
  "anaconda-cloud": {},
  "kernelspec": {
   "display_name": "Python 3",
   "language": "python",
   "name": "python3"
  },
  "language_info": {
   "codemirror_mode": {
    "name": "ipython",
    "version": 3
   },
   "file_extension": ".py",
   "mimetype": "text/x-python",
   "name": "python",
   "nbconvert_exporter": "python",
   "pygments_lexer": "ipython3",
   "version": "3.6.3"
  }
 },
 "nbformat": 4,
 "nbformat_minor": 1
}
