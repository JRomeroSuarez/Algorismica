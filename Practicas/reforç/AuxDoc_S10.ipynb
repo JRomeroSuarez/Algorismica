{
 "cells": [
  {
   "cell_type": "markdown",
   "metadata": {},
   "source": [
    "# Exercicis de la sessió anterior\n",
    "\n",
    "Avui a classe hem resolt tots resolt tots els exercicis que vénen a continuació excepte aquest primer.<br>\n",
    "Us recomano que, abans de llegir la solució (que trobareu al final d'aquest notebook) intenteu fer-ho vosaltres mateixos.<br><br>\n",
    "Per si us serveix d'inspiració, l'esquema a seguir és el mateix que vam fer per sumar tots els elements d'una sola llista."
   ]
  },
  {
   "cell_type": "markdown",
   "metadata": {},
   "source": [
    "* Donada una matriu (o una llista de llistes), implementar una funció recursiva per sumar-ne tots els elements"
   ]
  },
  {
   "cell_type": "code",
   "execution_count": 7,
   "metadata": {
    "collapsed": false
   },
   "outputs": [],
   "source": [
    "def matriu_recursiva(mat):\n",
    "    pass\n",
    "\n",
    "matriu_recursiva([[1,2],[3,4]])"
   ]
  },
  {
   "cell_type": "markdown",
   "metadata": {},
   "source": [
    "* Implementar la funció per determinar si un nombre es feliç usant __dues__ funcions recursives. En aquest cas usarem una funció extra per a calcular la suma de quadrats."
   ]
  },
  {
   "cell_type": "code",
   "execution_count": 8,
   "metadata": {
    "collapsed": false
   },
   "outputs": [],
   "source": [
    "def feliç_suma_rec(num):\n",
    "    if num==\"\":\n",
    "        return 0\n",
    "    \n",
    "    return int(num[0])**2 + feliç_suma_rec(num[1:])\n",
    "\n",
    "\n",
    "def feliç_recursiu(num):\n",
    "    if num==1:\n",
    "        return True\n",
    "    if num<10:\n",
    "        return False\n",
    "    \n",
    "    return feliç_recursiu(feliç_suma_rec(str(num)))\n",
    "    \n",
    "assert feliç_recursiu(921)==True\n",
    "assert feliç_recursiu(717)==False\n",
    "assert feliç_recursiu(2039)==True"
   ]
  },
  {
   "cell_type": "markdown",
   "metadata": {},
   "source": [
    "<br>\n",
    "# Dividir i vèncer"
   ]
  },
  {
   "cell_type": "markdown",
   "metadata": {},
   "source": [
    "Aquest tipus d'algorismes són molt semblants als algorismes recursius que hem vist fins ara però tenen una característica afegida. <br>\n",
    "Hem d'aconseguir __separar el problema principal en dos (o més) subproblemes equivalents, però més petits__.<br><br>\n",
    "Per exemple:"
   ]
  },
  {
   "cell_type": "code",
   "execution_count": 9,
   "metadata": {
    "collapsed": false
   },
   "outputs": [],
   "source": [
    "def suma_llista(llista):\n",
    "    if len(llista)==1:\n",
    "        return llista[0]\n",
    "    \n",
    "    return suma_llista(llista[:len(llista)//2])+suma_llista(llista[len(llista)//2:])\n",
    "\n",
    "lst = [10, 6, 7, 20, 20, 17, 11, 7, 1, 15, 11, 11, 7, 10, 7, 15, 11, 3, 13, 10, 8, 17, 8, 18, 14, 16, 11, 11, 15, 1]\n",
    "\n",
    "assert(suma_llista(lst) == sum(lst))"
   ]
  },
  {
   "cell_type": "markdown",
   "metadata": {},
   "source": [
    "<br><br>\n",
    "## Exercicis"
   ]
  },
  {
   "cell_type": "markdown",
   "metadata": {},
   "source": [
    "* Invertir una llista o un string usant la tècnica de dividir i vèncer"
   ]
  },
  {
   "cell_type": "code",
   "execution_count": 10,
   "metadata": {
    "collapsed": false
   },
   "outputs": [
    {
     "name": "stdout",
     "output_type": "stream",
     "text": [
      "?uetse moc ,aloH\n"
     ]
    }
   ],
   "source": [
    "def inv(lst):\n",
    "    if len(lst)==1:\n",
    "        return lst\n",
    "    \n",
    "    return(inv(lst[len(lst)//2:])+inv(lst[:len(lst)//2]))\n",
    "\n",
    "assert(inv(\"hola\") == \"aloh\")\n",
    "assert(inv([1,2,\"b\",4]) == [4,\"b\",2,1])\n",
    "\n",
    "print(inv(\"Hola, com esteu?\"))"
   ]
  },
  {
   "cell_type": "markdown",
   "metadata": {},
   "source": [
    "<br>\n",
    "* Fer un programa que ens busqui un patro dins d'un text i ens retorni cert o fals usant l'estratègia de dividir i vèncer."
   ]
  },
  {
   "cell_type": "code",
   "execution_count": 11,
   "metadata": {
    "collapsed": false
   },
   "outputs": [],
   "source": [
    "def busca(text, patro):\n",
    "    # En el cas que tinguin la mateixa longitud, comprovem si són el mateix\n",
    "    if len(text)==len(patro):\n",
    "        return text==patro\n",
    "    \n",
    "    # Si podem, seguim dividint el problema per la meitat\n",
    "    elif len(text)//2 >len(patro):\n",
    "        \n",
    "        # Compte que cal afegir la longitud del patro per no dividir-lo per la meitat\n",
    "        return (busca(text[:len(text)//2], patro) or busca(text[len(text)//2-len(patro):], patro))\n",
    "    \n",
    "    # En els casos finals eliminem de les puntes del text\n",
    "    return (busca(text[:-1], patro) or busca(text[1:], patro))\n",
    "\n",
    "text = \"\"\"Lorem ipsum dolor sit amet, consectetur adipiscing elit\n",
    "sed do eiusmod tempor incididunt ut labore et dolore magna aliqua.\n",
    "Ut enim ad minim veniam, quis nostrud exercitation ullamco laboris nisi ut aliquip ex ea commodo consequat.\n",
    "Duis aute irure dolor in reprehenderit in voluptate velit esse cillum dolore eu fugiat nulla pariatur.\n",
    "Excepteur sint occaecat cupidatat non proident, sunt in culpa qui officia deserunt mollit anim id est laborum\"\"\"\n",
    "\n",
    "assert(busca(text, \"roide\")==True)\n",
    "assert(busca(text, \"fugat\")==False)"
   ]
  },
  {
   "cell_type": "markdown",
   "metadata": {},
   "source": [
    "<br><br>\n",
    "## Solucions"
   ]
  },
  {
   "cell_type": "code",
   "execution_count": 13,
   "metadata": {
    "collapsed": true
   },
   "outputs": [],
   "source": [
    "def matriu_recursiva(mat):\n",
    "    if mat == []:\n",
    "        return 0\n",
    "    \n",
    "    elif mat[0][1:]==[]:\n",
    "        return mat[0][0] + matriu_recursiva(mat[1:])\n",
    "    \n",
    "    ind = mat[0][0]\n",
    "    mat[0]=mat[0][1:]\n",
    "    return ind + matriu_recursiva(mat)\n",
    "\n",
    "assert(matriu_recursiva([[1,2,3],[4,12],[24,25],[7,8,9,5]])==100)"
   ]
  }
 ],
 "metadata": {
  "anaconda-cloud": {},
  "kernelspec": {
   "display_name": "Python [python3]",
   "language": "python",
   "name": "Python [python3]"
  },
  "language_info": {
   "codemirror_mode": {
    "name": "ipython",
    "version": 3
   },
   "file_extension": ".py",
   "mimetype": "text/x-python",
   "name": "python",
   "nbconvert_exporter": "python",
   "pygments_lexer": "ipython3",
   "version": "3.6.1"
  }
 },
 "nbformat": 4,
 "nbformat_minor": 0
}
