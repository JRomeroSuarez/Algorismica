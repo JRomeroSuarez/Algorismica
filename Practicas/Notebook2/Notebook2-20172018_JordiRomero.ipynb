{
 "cells": [
  {
   "cell_type": "markdown",
   "metadata": {},
   "source": [
    "# Notebook 2: Estructures de control i col.leccions. Instruccions bàsiques amb nombres i text."
   ]
  },
  {
   "cell_type": "markdown",
   "metadata": {},
   "source": [
    "<div class=\"alert alert-error\"><strong><center>Aquesta pràctica és avaluable.</center></strong> \n",
    "<p>L'has de lliurar amb UN ÚNIC FITXER (Notebook2.ipynb),amb el  Notebook COMPLETAT AMB EL CONJUNT DE FUNCIONS QUE S’HAN D'IMPLEMENTAR a les cel·les que s'indica, i l'execució dels tests inclosos en l'enunciat.</p> \n",
    "<p>ATENCIÓ: No es poden usar funcions de Python implementades en llibreries externes que resolguin el *quid* de l'exercici.</p></div>"
   ]
  },
  {
   "cell_type": "markdown",
   "metadata": {},
   "source": [
    "## Documentació de suport a la pràctica\n",
    "\n",
    "- [Estructures de control](..\\conceptes\\control.ipynb)\n",
    "- [Col·leccions](..\\conceptes\\collecions.ipynb) \n",
    "- [Strings](..\\conceptes\\strings.ipynb)\n"
   ]
  },
  {
   "cell_type": "markdown",
   "metadata": {},
   "source": [
    "Els objectius d'aquesta pràctica són:\n",
    "\n",
    "- Saber fer condicionals if else\n",
    "- Saber fer bucles for i while\n",
    "- Saber operar sobre llistes i strings"
   ]
  },
  {
   "cell_type": "markdown",
   "metadata": {},
   "source": [
    "## Exercici 1\n",
    "\n",
    "+ Escriu, fent servir la instrucció ``while``, una funció, ``mentre``,  que calculi el següents valors:\n",
    "\n",
    "    +\tEl nombre de vegades que un nombre n pot ser dividir per $7$ abans d’arribar a $10$.\n",
    "    +\tLa multiplicació de tots els nombres enters positius dins **llista** fins a trobar un nombre negatiu. "
   ]
  },
  {
   "cell_type": "code",
   "execution_count": 5,
   "metadata": {
    "collapsed": true
   },
   "outputs": [],
   "source": [
    "# Substitueix la comanda pass per la teva solució\n",
    "\n",
    "def mentre(n,llista):\n",
    "    i = 0 #iniciem la variable com 0 i més tard l'usarem per contador.\n",
    "    multLlista = 1  #en aquesta variable l'iniciem com 1.\n",
    "    quantesDivisions = 0 #el mateix que amb la variable i.\n",
    "    while (n>10): #amb l'us del while farem que sempre que la n sigui major a 10 es dividira entre 7\n",
    "        n= n/7\n",
    "        quantesDivisions +=1 #cada vegada que es realitzi aquest proces s'hi sumara 1 al comptador de quantesDivisions s'han fet.\n",
    "        \n",
    "    while (llista[i] > 0): #amb l'us del while mentre el numero 0 de la llista sigui major a 0,\n",
    "        multLlista = multLlista* llista[i] # el valor multLlista s'anira multiplicant pel numero que hi toqui dins la llista\n",
    "        i = i + 1 #cada vegada que es faci es sumara una posicio de la llista\n",
    "        if len(llista)<i: #quan la longitud de la llista sigui menor al valor i, s'aturara.\n",
    "            return multLlista\n",
    "            \n",
    "    return (quantesDivisions,multLlista)"
   ]
  },
  {
   "cell_type": "code",
   "execution_count": 6,
   "metadata": {},
   "outputs": [
    {
     "data": {
      "text/plain": [
       "(2, 10)"
      ]
     },
     "execution_count": 6,
     "metadata": {},
     "output_type": "execute_result"
    }
   ],
   "source": [
    "# Test de la funció\n",
    "\n",
    "mentre(490,[1,2,5,1,-3,2])\n",
    "# aquest exemple hauria de retornar (2, 10)"
   ]
  },
  {
   "cell_type": "markdown",
   "metadata": {},
   "source": [
    "## Exercici 2\n",
    "\n",
    "+ Escriu, fent servir la instrucció ``for``, una funció, ``per``,  que calculi el següents valors:\n",
    "    +\tLa suma dels n primers nombres parells sense incloure el 0\n",
    "    +   Una llista amb els n primers nombres senars\n",
    "\n",
    "Atenció: el problema s'ha de resoldre amb iteracions"
   ]
  },
  {
   "cell_type": "code",
   "execution_count": 59,
   "metadata": {
    "collapsed": true
   },
   "outputs": [],
   "source": [
    "# Substitueix la comanda pass per la teva solució\n",
    "\n",
    "def per(n): \n",
    "    suma = 0 #valor inicial de la suma\n",
    "    for n in range(0,11,2): # estructura repetitiva començant per 0 fins arribar el numero 11 saltant cada dos numeros\n",
    "        suma=suma+n #cada vegada a suma se l'afegira el valor propi que te + el numero que toqui a l'estructura for\n",
    "    \n",
    "    \n",
    "    llista = [] #valor inicial de la llista\n",
    "    for n in range(1,10,2):# estructura repetitiva començant per 1 fins arribar al numero 10 saltant cada dos numeros.\n",
    "        llista.append(n) # a la llista s'anirà afegint el numero n, en aquest cas cada dos numeros comneçant per l'1.\n",
    "    \n",
    "    return (suma,llista)"
   ]
  },
  {
   "cell_type": "code",
   "execution_count": 60,
   "metadata": {},
   "outputs": [
    {
     "data": {
      "text/plain": [
       "(30, [1, 3, 5, 7, 9])"
      ]
     },
     "execution_count": 60,
     "metadata": {},
     "output_type": "execute_result"
    }
   ],
   "source": [
    "# Test de la funció\n",
    "\n",
    "per(5)\n",
    "# aquest exemple hauria de retornar (30,[1,3,5,7,9])"
   ]
  },
  {
   "cell_type": "markdown",
   "metadata": {},
   "source": [
    "## Exercici 3\n",
    "\n",
    "+ Escriu una funció, ``inversio``, que usant el ``while`` calculi quan triga una inversió a triplicar el seu valor, donat un interès fix durant tot el període. L’entrada serà l’interès anual, i la sortida el nombre d’anys que trigarà una inversió a triplicar-se. Fixeu-vos que aquest període no depen de l'import de la inversió inicial.\n",
    "\n",
    "Atenció: cal tenir en compte que l'interès s'aplica al total acumulat, i que aquest va variant al llarg dels anys. Per exemple, si el primer any tenim 100€ i l'interès és del 10% anual, el segon any tindrem 110€ i el tercer 121..."
   ]
  },
  {
   "cell_type": "code",
   "execution_count": null,
   "metadata": {
    "collapsed": true
   },
   "outputs": [],
   "source": [
    "# Substitueix la comanda pass per la teva solució\n",
    "\n",
    "def inversio(interesfix):\n",
    "    valor = 1 # valor inicial de la inversió\n",
    "    triple = valor *3 # triplica el valor del valor inicial\n",
    "    anys = 0 #els anys que trigara començant per 0.\n",
    "    while (valor < triple):\n",
    "        valor += valor * interesfix #sempre que el valor sigui menor que el triple es sumara el valor multiplicat per l'interesfix\n",
    "        anys += 1 # i també s'afegira un any.\n",
    "    return anys"
   ]
  },
  {
   "cell_type": "code",
   "execution_count": null,
   "metadata": {
    "collapsed": true
   },
   "outputs": [],
   "source": [
    "# Test de la funció\n",
    "inversio(0.10)\n",
    "# aquest exemple hauria de retornar 12"
   ]
  },
  {
   "cell_type": "markdown",
   "metadata": {},
   "source": [
    "## Exercici 4\n",
    "\n",
    "Un **acrònim** és una paraula formada al prendre les primeres lletres de les paraules d’una expressió (per exemple, l’acrònim ``RAM`` correspon a l'expressió ``random access memory``). \n",
    "\n",
    "+ Escriu una funció, ``acro``, que a partir d'una frase n'imprimeixi l’acrònim corresponent. Recorda que els acrònims, independentment de com l’usuari hagi entrat l'expressió, sempre són en majúscules.\n",
    "\n",
    "+ Pots suposar que l'usuari no entra ni signes de puntuació ni nombres"
   ]
  },
  {
   "cell_type": "code",
   "execution_count": 7,
   "metadata": {
    "collapsed": true
   },
   "outputs": [],
   "source": [
    "# Substitueix la comanda pass per la teva solució\n",
    "\n",
    "def acro(frase):\n",
    "    acronim = \"\" #s'inicia la variable acronim\n",
    "    paraula = frase.split(' ') #s'introdueixen les paraules en una llista\n",
    "    for paraules in range(0,len(paraula),1): #amb aquesta repetició anira llegint paraula per paraula.\n",
    "        acronim = acronim + paraula[paraules][0].upper(); #escriura la primera lletra de cada paraula en majuscula\n",
    "    return acronim"
   ]
  },
  {
   "cell_type": "code",
   "execution_count": 8,
   "metadata": {},
   "outputs": [
    {
     "name": "stdout",
     "output_type": "stream",
     "text": [
      "HQT\n"
     ]
    }
   ],
   "source": [
    "# Test de la funció\n",
    "\n",
    "print(acro(\"Hola que tal\"))  # Això hauria de retornar HQT"
   ]
  },
  {
   "cell_type": "markdown",
   "metadata": {},
   "source": [
    "## Exercici 5\n",
    "\n",
    "+\tEscriu una funció, `` dígits``, que compti quants dígits té una xifra determinada."
   ]
  },
  {
   "cell_type": "code",
   "execution_count": 41,
   "metadata": {
    "collapsed": true
   },
   "outputs": [],
   "source": [
    "# Substitueix la comanda pass per la teva solució\n",
    "\n",
    "def digits(xifra):\n",
    "    nombretotal = xifra.split('.')#separem les xifres en una llista\n",
    "    quantsDigits = 0 #se l'asigna un valor inicial \n",
    "    for digits in nombretotal: #pels digits que estiguin dins dels nombres totals\n",
    "        for numeros in digits: #i els numeros que estiguin dins dels digits  \n",
    "            quantsDigits = quantsDigits+1; #s'aniran sumant un al recompte de quants digits mostrara el programa.\n",
    "       \n",
    "        \n",
    "    return quantsDigits"
   ]
  },
  {
   "cell_type": "code",
   "execution_count": 42,
   "metadata": {},
   "outputs": [
    {
     "name": "stdout",
     "output_type": "stream",
     "text": [
      "9\n"
     ]
    }
   ],
   "source": [
    "# Test de la funció\n",
    "\n",
    "print(digits(\"123.456.789\"))   # Hauria de retornar 9"
   ]
  },
  {
   "cell_type": "markdown",
   "metadata": {},
   "source": [
    "## Exercici 6\n",
    "\n",
    "+ Escriu una funció, ``nota``,  que, donat un nombre amb la qualificació numèrica d’un examen, proporcioni la qualificació qualitativa corresponent al nombre donat: \n",
    "     + Suspès = nota menor que 5; \n",
    "     + Aprovat = nota igual o més gran que 5 i menor que 7; \n",
    "     + Notable = nota més gran o igual que 7 i menor que 9; \n",
    "     + Excel.lent = nota més gran o igual que 9 i menor que 10; \n",
    "     + Matrícula d'honor = 10."
   ]
  },
  {
   "cell_type": "code",
   "execution_count": 9,
   "metadata": {
    "collapsed": true
   },
   "outputs": [],
   "source": [
    "# Substitueix la comanda pass per la teva solució\n",
    "\n",
    "def nota(num):\n",
    "    if(num < 5):\n",
    "        nota_qual = (\"Suspes\") # si la nota es menor a 5 imprimira suspes\n",
    "    elif(5 <= num < 7):\n",
    "        nota_qual = (\"Aprovat\") # si la nota esta entre 5 y 7 imprimira aprovat\n",
    "    elif(7 <= num < 9):\n",
    "        nota_qual = (\"Notable\") # si la nota esta entre 7 i 9 imprimira notable\n",
    "    elif(9 <= num < 10):\n",
    "        nota_qual = (\"Excel·lent\") #si la nota esta entre 9 i 10 imprimira excel·lent\n",
    "    elif(num == 10):\n",
    "        nota_qual = (\"Matricula d'honor\") #si la nota es un 10 imprimira matricula d'honor\n",
    "        \n",
    "    return nota_qual"
   ]
  },
  {
   "cell_type": "code",
   "execution_count": 10,
   "metadata": {},
   "outputs": [
    {
     "data": {
      "text/plain": [
       "'Notable'"
      ]
     },
     "execution_count": 10,
     "metadata": {},
     "output_type": "execute_result"
    }
   ],
   "source": [
    "# Test de la funció\n",
    "\n",
    "nota(7.5)\n",
    "# aquest exemple hauria de retornar 'Notable'"
   ]
  },
  {
   "cell_type": "markdown",
   "metadata": {},
   "source": [
    "## Exercici 7\n",
    "\n",
    "+ Fes una funció, ``suma``, que sumi tots els nombres naturals parells menors que 10000. La funció ha de retornar el sumatori"
   ]
  },
  {
   "cell_type": "code",
   "execution_count": 15,
   "metadata": {
    "collapsed": true
   },
   "outputs": [],
   "source": [
    "# Substitueix la comanda pass per la teva solució\n",
    "\n",
    "def suma():\n",
    "    sumatori = 0 #s'asigna els valors sumatoris i els numeros \n",
    "    num = 0\n",
    "    while (num<10000): #mentre el valor de num siguin menors de 10000\n",
    "        sumatori = sumatori + num #es sumara al valor sumatori el num que li toca\n",
    "        num=num + 2#i s'anira sumant dos numeros als valors num\n",
    "        \n",
    "        \n",
    "    return sumatori"
   ]
  },
  {
   "cell_type": "code",
   "execution_count": 16,
   "metadata": {},
   "outputs": [
    {
     "data": {
      "text/plain": [
       "24995000"
      ]
     },
     "execution_count": 16,
     "metadata": {},
     "output_type": "execute_result"
    }
   ],
   "source": [
    "# Test de la funció\n",
    "\n",
    "suma()"
   ]
  },
  {
   "cell_type": "markdown",
   "metadata": {},
   "source": [
    "## Exercici 8\n",
    "\n",
    "+ Fes una funció, ``suma2``, que sumi tots els nombres naturals parells fins a un valor tal que la suma sigui just més gran que 10000. La funció ha de retornar el nombre parell més gran inclòs a la suma."
   ]
  },
  {
   "cell_type": "code",
   "execution_count": 17,
   "metadata": {
    "collapsed": true
   },
   "outputs": [],
   "source": [
    "# Substitueix la comanda pass per la teva solució\n",
    "\n",
    "def suma2():\n",
    "    suma = 0 #valor inicial de la suma dels parells\n",
    "    nombreParellMajor = 0 #valor inicial del nombre que sortira\n",
    "    while (suma < 10001):\n",
    "        nombreParellMajor = nombreParellMajor + 2 #mentre la suma sigui menor a 10001 el nombreParellMajor anira sumant dos y la suma afegira el numero que tingui el nombreParellMajor en aquest moment.\n",
    "        suma = suma + nombreParellMajor # al valor suma se li sumara el nombreParellMajor que estigui en el moment.\n",
    "    return nombreParellMajor\n"
   ]
  },
  {
   "cell_type": "code",
   "execution_count": 18,
   "metadata": {},
   "outputs": [
    {
     "data": {
      "text/plain": [
       "200"
      ]
     },
     "execution_count": 18,
     "metadata": {},
     "output_type": "execute_result"
    }
   ],
   "source": [
    "# Test de la funció\n",
    "\n",
    "suma2()"
   ]
  },
  {
   "cell_type": "code",
   "execution_count": null,
   "metadata": {
    "collapsed": true
   },
   "outputs": [],
   "source": []
  }
 ],
 "metadata": {
  "kernelspec": {
   "display_name": "Python 3",
   "language": "python",
   "name": "python3"
  },
  "language_info": {
   "codemirror_mode": {
    "name": "ipython",
    "version": 3
   },
   "file_extension": ".py",
   "mimetype": "text/x-python",
   "name": "python",
   "nbconvert_exporter": "python",
   "pygments_lexer": "ipython3",
   "version": "3.6.3"
  }
 },
 "nbformat": 4,
 "nbformat_minor": 1
}
